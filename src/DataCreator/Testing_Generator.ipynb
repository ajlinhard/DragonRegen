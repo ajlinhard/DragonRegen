{
 "cells": [
  {
   "cell_type": "code",
   "execution_count": 1,
   "metadata": {},
   "outputs": [
    {
     "name": "stdout",
     "output_type": "stream",
     "text": [
      "c:\\Users\\dalej\\Documents\\_Coding\\DragonRegen\\src\n"
     ]
    }
   ],
   "source": [
    "import os\n",
    "import sys\n",
    "\n",
    "notebook_dir = os.getcwd()\n",
    "project_root = os.path.abspath(os.path.join(notebook_dir, \"..\"))\n",
    "print(project_root)\n",
    "sys.path.insert(0, project_root)"
   ]
  },
  {
   "cell_type": "code",
   "execution_count": null,
   "metadata": {},
   "outputs": [],
   "source": [
    "from DataCreator.DataSets.DataSetGenStandard import DataSetGenStandard\n",
    "from pyspark.sql import SparkSession\n",
    "from pyspark.sql.types import *\n",
    "\n",
    "spark = SparkSession.builder \\\n",
    "    .appName(\"Test Data Set Generation\") \\\n",
    "    .enableHiveSupport() \\\n",
    "    .getOrCreate()\n"
   ]
  },
  {
   "cell_type": "markdown",
   "metadata": {},
   "source": [
    "# Test Base Generation"
   ]
  },
  {
   "cell_type": "code",
   "execution_count": 3,
   "metadata": {},
   "outputs": [
    {
     "name": "stdout",
     "output_type": "stream",
     "text": [
      "Generating Rows: 100, with Columns: 4\n",
      "<class 'pyspark.sql.dataframe.DataFrame'>\n",
      "+---+--------------------+---+-------------------+\n",
      "|id |name                |age|city               |\n",
      "+---+--------------------+---+-------------------+\n",
      "|59 |dtZeVeDQzmYBDvWwbr8 |51 |MEw                |\n",
      "|92 |aqjpCQ1rdOGsU8DNTUbi|30 |XDDPIiNMI93l       |\n",
      "|2  |XJsleGFx6y1HECMr5   |51 |fql6OFU6MyhHd248qI |\n",
      "|38 |KadZdRwGL86x        |83 |KzbDwUq            |\n",
      "|94 |Fnu6KOJuS6GIWLLxuZqV|34 |Ca9UqC9            |\n",
      "|74 |mtk2YEPy            |49 |TEQt2AXtSRZvkikUSvw|\n",
      "|24 |v2                  |45 |bYZssr             |\n",
      "|69 |uTg5S4              |47 |Ilwf6v1VCUVTw      |\n",
      "|21 |hM79kvvE            |9  |F1                 |\n",
      "|96 |HFYp4GFTzg          |81 |DXWIl2Qe9rYr2A5x5  |\n",
      "+---+--------------------+---+-------------------+\n",
      "only showing top 10 rows\n",
      "\n"
     ]
    }
   ],
   "source": [
    "# Create a DataSetGenStandard object\n",
    "testSchema = StructType([\n",
    "    StructField(\"id\", IntegerType(), True),\n",
    "    StructField(\"name\", StringType(), True),\n",
    "    StructField(\"age\", IntegerType(), True),\n",
    "    StructField(\"city\", StringType(), True)\n",
    "])\n",
    "\n",
    "data_gen = DataSetGenStandard(spark, testSchema, 100)\n",
    "# Generate the DataFrame\n",
    "df = data_gen.generate_data()\n",
    "print(type(df))\n",
    "df.show(10, truncate=False)"
   ]
  },
  {
   "cell_type": "markdown",
   "metadata": {},
   "source": [
    "# Test All major data types"
   ]
  },
  {
   "cell_type": "code",
   "execution_count": 4,
   "metadata": {},
   "outputs": [
    {
     "name": "stdout",
     "output_type": "stream",
     "text": [
      "Generating Rows: 1755, with Columns: 8\n",
      "The DataFrame count is: 1755\n",
      "+---+--------------------+---+------------------+---------+----------------+-------------------+-------------------+\n",
      "|id |name                |age|city              |salary   |transaction_date|insert_datetime    |update_datetime    |\n",
      "+---+--------------------+---+------------------+---------+----------------+-------------------+-------------------+\n",
      "|64 |ina4fwtlApEGhdXa    |75 |eq2wQrFMoGX8NZ6HTv|64.64829 |2023-11-21      |2022-08-03 19:45:21|2023-03-16 23:52:15|\n",
      "|30 |IHz                 |30 |11Vzj             |87.80684 |2021-02-24      |2022-06-04 19:33:58|2023-09-03 01:57:53|\n",
      "|46 |PKYz                |41 |RJUWm             |80.58904 |2022-01-18      |2023-07-04 22:06:36|2023-01-15 12:45:09|\n",
      "|51 |0briSy9UtY          |36 |XGapB3cuS9B       |24.221617|2021-03-25      |2022-03-13 10:41:58|2021-09-13 05:51:24|\n",
      "|10 |JmOaEQKTizvaxNy     |82 |I7Df9Jx73KhuxQS   |77.777504|2020-08-14      |2020-01-07 16:41:48|2020-01-30 07:54:23|\n",
      "|72 |eE4fs4PDdlr         |71 |XSo4kBN           |54.169518|2022-05-31      |2021-01-24 18:38:41|2023-03-02 13:35:24|\n",
      "|69 |M7i                 |28 |DutcSFrEH21FmHoB  |66.37854 |2022-07-21      |2022-03-27 09:41:47|2020-01-10 14:55:49|\n",
      "|18 |6IXlGANBfT4NVWzKTHRz|73 |8I9acB1rfnbI      |47.144905|2023-04-02      |2022-07-17 11:46:30|2023-05-06 13:06:06|\n",
      "|55 |7Qyorss6HtCduUM     |49 |rG4viC            |92.70449 |2023-09-19      |2023-03-10 19:19:30|2022-11-19 05:05:47|\n",
      "|55 |pqbW4Kdil           |58 |bXuRvlbf          |62.022358|2021-02-18      |2022-10-17 21:25:44|2021-07-01 08:51:35|\n",
      "+---+--------------------+---+------------------+---------+----------------+-------------------+-------------------+\n",
      "only showing top 10 rows\n",
      "\n"
     ]
    }
   ],
   "source": [
    "# Create a DataSetGenStandard object\n",
    "testSchema = StructType([\n",
    "    StructField(\"id\", IntegerType(), True),\n",
    "    StructField(\"name\", StringType(), True),\n",
    "    StructField(\"age\", IntegerType(), True),\n",
    "    StructField(\"city\", StringType(), True),\n",
    "    StructField(\"salary\", FloatType(), True),\n",
    "    StructField(\"transaction_date\", DateType(), True),\n",
    "    StructField(\"insert_datetime\", TimestampNTZType(), True),\n",
    "    StructField(\"update_datetime\", TimestampNTZType(), True),\n",
    "])\n",
    "\n",
    "data_gen_all_types = DataSetGenStandard(spark, testSchema, 1755)\n",
    "# Generate the DataFrame\n",
    "df_all_types = data_gen_all_types.generate_data()\n",
    "print('The DataFrame count is:', end=' ')\n",
    "print(df_all_types.count())\n",
    "df_all_types.show(10, truncate=False)"
   ]
  },
  {
   "cell_type": "code",
   "execution_count": 14,
   "metadata": {},
   "outputs": [
    {
     "name": "stdout",
     "output_type": "stream",
     "text": [
      "[('id', 'int'), ('name', 'string'), ('age', 'int'), ('city', 'string'), ('salary', 'float'), ('transaction_date', 'date'), ('insert_datetime', 'timestamp_ntz'), ('update_datetime', 'timestamp_ntz')]\n",
      "('id', 'int')\n",
      "<class 'list'>\n",
      "<class 'tuple'>\n"
     ]
    }
   ],
   "source": [
    "print(df_all_types.dtypes)\n",
    "print(df_all_types.dtypes[0])\n",
    "print(type(df_all_types.dtypes))\n",
    "print(type(df_all_types.dtypes[0]))\n"
   ]
  },
  {
   "cell_type": "markdown",
   "metadata": {},
   "source": [
    "# Test Replication Class Method"
   ]
  },
  {
   "cell_type": "code",
   "execution_count": null,
   "metadata": {},
   "outputs": [
    {
     "name": "stdout",
     "output_type": "stream",
     "text": [
      "<class 'DataCreator.DataSets.DataSetGenStandard.DataSetGenStandard'>\n",
      "<class 'pyspark.sql.types.StructType'>\n",
      "StructType([StructField('id', IntegerType(), True), StructField('name', StringType(), True), StructField('age', IntegerType(), True), StructField('city', StringType(), True), StructField('salary', FloatType(), True), StructField('transaction_date', DateType(), True), StructField('insert_datetime', TimestampNTZType(), True), StructField('update_datetime', TimestampNTZType(), True)])\n"
     ]
    }
   ],
   "source": [
    "ds_replicate = DataSetGenStandard.replicate_data(spark, df_all_types)\n",
    "print(type(ds_replicate))\n",
    "print(type(ds_replicate.schema))\n",
    "print(ds_replicate.schema)"
   ]
  },
  {
   "cell_type": "code",
   "execution_count": null,
   "metadata": {},
   "outputs": [
    {
     "name": "stdout",
     "output_type": "stream",
     "text": [
      "Generating Rows: 1000, with Columns: 8\n",
      "+---+------------------+---+------------------+---------+----------------+-------------------+-------------------+\n",
      "|id |name              |age|city              |salary   |transaction_date|insert_datetime    |update_datetime    |\n",
      "+---+------------------+---+------------------+---------+----------------+-------------------+-------------------+\n",
      "|33 |p7Bt11olw0        |96 |uApwxdUGersC1m    |61.674034|2020-12-28      |2020-08-01 02:56:09|2021-04-22 21:49:30|\n",
      "|70 |oBeo7fwuu         |6  |TXE17             |26.416477|2022-06-09      |2021-05-16 21:19:23|2022-11-02 02:24:04|\n",
      "|17 |FzXhamsqv8RXS     |59 |bVdgKpgxTMfivJWTuT|62.96358 |2023-05-23      |2023-02-05 15:46:37|2023-06-21 14:46:52|\n",
      "|92 |zzIJyXDDF9gGWBgicx|16 |EDdMMnR           |33.541084|2021-04-01      |2023-08-30 04:12:37|2023-02-24 13:08:22|\n",
      "|20 |MoZYfxEp2JRUvwEAB |91 |0xJeIul           |31.65818 |2023-04-21      |2021-01-16 17:52:41|2021-09-14 23:47:12|\n",
      "|65 |PYz6tLNJHsimvoqpg |62 |eWc               |67.09343 |2022-07-24      |2021-01-30 04:02:36|2022-09-17 18:16:35|\n",
      "|30 |gAGc              |74 |sPqvm             |81.74553 |2023-01-27      |2022-08-23 06:54:46|2020-12-09 11:19:01|\n",
      "|84 |UoouAHE9NNEffeD   |29 |HHhvc             |16.42443 |2021-06-20      |2020-09-11 08:00:38|2022-02-20 16:38:49|\n",
      "|4  |Nc7T              |79 |Zm7K2PS           |86.663795|2023-07-21      |2023-08-15 23:09:30|2023-07-10 12:12:53|\n",
      "|56 |QR                |42 |NGF6pdSjpyyyB     |73.73573 |2021-05-10      |2023-10-12 23:23:01|2021-04-14 13:51:28|\n",
      "+---+------------------+---+------------------+---------+----------------+-------------------+-------------------+\n",
      "only showing top 10 rows\n",
      "\n"
     ]
    }
   ],
   "source": [
    "df_rep = ds_replicate.generate_data()\n",
    "df_rep.show(10, truncate=False)"
   ]
  }
 ],
 "metadata": {
  "kernelspec": {
   "display_name": "PySpark",
   "language": "python",
   "name": "python3"
  },
  "language_info": {
   "codemirror_mode": {
    "name": "ipython",
    "version": 3
   },
   "file_extension": ".py",
   "mimetype": "text/x-python",
   "name": "python",
   "nbconvert_exporter": "python",
   "pygments_lexer": "ipython3",
   "version": "3.8.0"
  }
 },
 "nbformat": 4,
 "nbformat_minor": 2
}
