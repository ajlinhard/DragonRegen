{
 "cells": [
  {
   "cell_type": "code",
   "execution_count": 1,
   "metadata": {},
   "outputs": [
    {
     "name": "stdout",
     "output_type": "stream",
     "text": [
      "c:\\Users\\dalej\\Documents\\_Coding\\DragonRegen\\src\n"
     ]
    }
   ],
   "source": [
    "import os\n",
    "import sys\n",
    "\n",
    "notebook_dir = os.getcwd()\n",
    "project_root = os.path.abspath(os.path.join(notebook_dir, \"..\"))\n",
    "print(project_root)\n",
    "sys.path.insert(0, project_root)"
   ]
  },
  {
   "cell_type": "code",
   "execution_count": 2,
   "metadata": {},
   "outputs": [],
   "source": [
    "from DataCreator.DataSets.DataSetGenStandard import DataSetGenStandard\n",
    "from pyspark.sql import SparkSession\n",
    "from pyspark.sql.types import *\n",
    "\n",
    "spark = SparkSession.builder \\\n",
    "    .appName(\"Test Data Set Generation\") \\\n",
    "    .enableHiveSupport() \\\n",
    "    .getOrCreate()\n"
   ]
  },
  {
   "cell_type": "code",
   "execution_count": 3,
   "metadata": {},
   "outputs": [
    {
     "name": "stdout",
     "output_type": "stream",
     "text": [
      "Generating Rows: 100, with Columns: 4\n"
     ]
    }
   ],
   "source": [
    "# Create a DataSetGenStandard object\n",
    "testSchema = StructType([\n",
    "    StructField(\"id\", IntegerType(), True),\n",
    "    StructField(\"name\", StringType(), True),\n",
    "    StructField(\"age\", IntegerType(), True),\n",
    "    StructField(\"city\", StringType(), True)\n",
    "])\n",
    "\n",
    "data_gen = DataSetGenStandard(spark, testSchema, 100)\n",
    "# Generate the DataFrame\n",
    "df = data_gen.generate_data()"
   ]
  },
  {
   "cell_type": "code",
   "execution_count": 4,
   "metadata": {},
   "outputs": [
    {
     "name": "stdout",
     "output_type": "stream",
     "text": [
      "<class 'pyspark.sql.dataframe.DataFrame'>\n",
      "+---+-------------------+---+-------------------+\n",
      "|id |name               |age|city               |\n",
      "+---+-------------------+---+-------------------+\n",
      "|20 |rk13HUN            |94 |2eNpObsF4ptBphfutkQ|\n",
      "|41 |BLyzgGjyHxPM       |32 |aYBkMP7jFRs447     |\n",
      "|5  |B2qhbxjjWVNYTJEcXfV|96 |Em6K               |\n",
      "|57 |W4394EuYIKMKwan    |7  |YuzK3KaSgJuavLbp0j |\n",
      "|26 |3U2ncn0V           |21 |tCYch1CRNBs        |\n",
      "|62 |VG                 |26 |QtIHd9uqA3c        |\n",
      "|19 |ZRywGOtTf          |82 |AJw5FGQ3lt7e       |\n",
      "|83 |BdY1AqTT9hwWx0     |60 |m5ie1l8Ghm9Vbkojdp |\n",
      "|32 |Tv                 |23 |W7bQVry29r45jlCNWLQ|\n",
      "|18 |e                  |72 |sEBMXZyCSOJNdCdXz9J|\n",
      "+---+-------------------+---+-------------------+\n",
      "only showing top 10 rows\n",
      "\n"
     ]
    }
   ],
   "source": [
    "print(type(df))\n",
    "df.show(10, truncate=False)"
   ]
  },
  {
   "cell_type": "code",
   "execution_count": 10,
   "metadata": {},
   "outputs": [
    {
     "name": "stdout",
     "output_type": "stream",
     "text": [
      "Generating Rows: 1755, with Columns: 8\n",
      "The DataFrame count is: 1755\n",
      "+---+-------------------+---+--------------------+---------+----------------+-------------------+-------------------+\n",
      "|id |name               |age|city                |salary   |transaction_date|insert_datetime    |update_datetime    |\n",
      "+---+-------------------+---+--------------------+---------+----------------+-------------------+-------------------+\n",
      "|58 |thotKapd56YX3NbCIoo|89 |T5evF6414HLLu       |85.20343 |2021-05-02      |2022-08-06 00:24:42|2022-04-14 11:34:50|\n",
      "|26 |zvgacXhkqp0xZOQ    |31 |R6Fu7zIlFJDi9uDRUqtg|39.68527 |2021-10-24      |2022-05-31 14:53:41|2022-08-10 04:36:48|\n",
      "|86 |bA                 |60 |AwBpZm4M1YTQJj6     |56.33326 |2023-12-06      |2023-04-30 06:18:55|2023-11-26 10:49:36|\n",
      "|87 |9iehVk6            |45 |6LgCko              |37.88243 |2021-09-12      |2021-08-06 17:47:25|2021-03-31 16:58:49|\n",
      "|76 |nmW5c29WzG         |69 |oYGN8               |28.530523|2020-05-03      |2022-11-15 10:57:47|2021-06-22 21:56:04|\n",
      "|42 |zjmHZTRrd          |62 |fXJnBC86TFymXDNWZSej|34.668854|2021-01-14      |2020-11-28 18:54:43|2023-11-30 20:09:23|\n",
      "|3  |f5QhXerkjZy5AR     |4  |xtEo37MzAUm         |9.845269 |2023-03-17      |2020-06-18 07:54:24|2020-12-10 04:39:53|\n",
      "|31 |w6VgcOk2jzyIY6AECj |15 |ugagH               |22.996181|2022-08-09      |2023-12-23 22:16:41|2022-12-02 17:13:53|\n",
      "|23 |BO0uZ7hkdEwKxcOWB  |73 |v1A6JB              |34.70043 |2022-03-13      |2021-07-18 19:21:36|2020-07-27 10:20:10|\n",
      "|54 |acB15C5Al          |19 |wpV6EAex0WhF        |95.11517 |2023-12-10      |2020-03-18 15:57:53|2023-03-25 19:16:25|\n",
      "+---+-------------------+---+--------------------+---------+----------------+-------------------+-------------------+\n",
      "only showing top 10 rows\n",
      "\n"
     ]
    }
   ],
   "source": [
    "# Create a DataSetGenStandard object\n",
    "testSchema = StructType([\n",
    "    StructField(\"id\", IntegerType(), True),\n",
    "    StructField(\"name\", StringType(), True),\n",
    "    StructField(\"age\", IntegerType(), True),\n",
    "    StructField(\"city\", StringType(), True),\n",
    "    StructField(\"salary\", FloatType(), True),\n",
    "    StructField(\"transaction_date\", DateType(), True),\n",
    "    StructField(\"insert_datetime\", TimestampNTZType(), True),\n",
    "    StructField(\"update_datetime\", TimestampNTZType(), True),\n",
    "])\n",
    "\n",
    "data_gen_all_types = DataSetGenStandard(spark, testSchema, 1755)\n",
    "# Generate the DataFrame\n",
    "df_all_types = data_gen_all_types.generate_data()\n",
    "print('The DataFrame count is:', end=' ')\n",
    "print(df_all_types.count())\n",
    "df_all_types.show(10, truncate=False)"
   ]
  }
 ],
 "metadata": {
  "kernelspec": {
   "display_name": "PySpark",
   "language": "python",
   "name": "python3"
  },
  "language_info": {
   "codemirror_mode": {
    "name": "ipython",
    "version": 3
   },
   "file_extension": ".py",
   "mimetype": "text/x-python",
   "name": "python",
   "nbconvert_exporter": "python",
   "pygments_lexer": "ipython3",
   "version": "3.8.0"
  }
 },
 "nbformat": 4,
 "nbformat_minor": 2
}
