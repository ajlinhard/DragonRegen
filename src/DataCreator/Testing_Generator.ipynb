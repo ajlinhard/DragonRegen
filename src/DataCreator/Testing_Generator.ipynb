{
 "cells": [
  {
   "cell_type": "code",
   "execution_count": 1,
   "metadata": {},
   "outputs": [
    {
     "name": "stdout",
     "output_type": "stream",
     "text": [
      "c:\\Users\\dalej\\Documents\\_Coding\\DragonRegen\\src\n"
     ]
    }
   ],
   "source": [
    "import os\n",
    "import sys\n",
    "\n",
    "notebook_dir = os.getcwd()\n",
    "project_root = os.path.abspath(os.path.join(notebook_dir, \"..\"))\n",
    "print(project_root)\n",
    "sys.path.insert(0, project_root)"
   ]
  },
  {
   "cell_type": "code",
   "execution_count": 2,
   "metadata": {},
   "outputs": [],
   "source": [
    "from DataCreator.DataSets.DataSetGenStandard import DataSetGenStandard\n",
    "from pyspark.sql import SparkSession\n",
    "from pyspark.sql.types import *\n",
    "\n",
    "spark = SparkSession.builder \\\n",
    "    .appName(\"Test Data Set Generation\") \\\n",
    "    .enableHiveSupport() \\\n",
    "    .getOrCreate()\n"
   ]
  },
  {
   "cell_type": "code",
   "execution_count": 3,
   "metadata": {},
   "outputs": [
    {
     "name": "stdout",
     "output_type": "stream",
     "text": [
      "Generating Rows: 100, with Columns: 4\n"
     ]
    }
   ],
   "source": [
    "# Create a DataSetGenStandard object\n",
    "testSchema = StructType([\n",
    "    StructField(\"id\", IntegerType(), True),\n",
    "    StructField(\"name\", StringType(), True),\n",
    "    StructField(\"age\", IntegerType(), True),\n",
    "    StructField(\"city\", StringType(), True)\n",
    "])\n",
    "\n",
    "data_gen = DataSetGenStandard(spark, testSchema, 100)\n",
    "# Generate the DataFrame\n",
    "df = data_gen.generate_data()"
   ]
  },
  {
   "cell_type": "code",
   "execution_count": 5,
   "metadata": {},
   "outputs": [
    {
     "name": "stdout",
     "output_type": "stream",
     "text": [
      "<class 'pyspark.sql.dataframe.DataFrame'>\n",
      "+---+-------------------+---+--------------------+\n",
      "|id |name               |age|city                |\n",
      "+---+-------------------+---+--------------------+\n",
      "|32 |YfmJ               |46 |QnETeTbPz           |\n",
      "|70 |8U34LT             |52 |Eg1Kfgh             |\n",
      "|88 |QHIwcqKBqyn5lhTidP |5  |WOAwqqSpq4LE53MOK   |\n",
      "|50 |RfH5188v           |4  |7EWwG2              |\n",
      "|25 |iP                 |51 |YVwO                |\n",
      "|77 |ptoAssXTiRRQMEJKGS |97 |q1s4wobqo4ks        |\n",
      "|37 |hRnSkr             |74 |miQg1               |\n",
      "|39 |paX                |53 |BSnN1DYOF5QIq       |\n",
      "|85 |F1GR499            |47 |3fjhO               |\n",
      "|63 |qb7                |57 |ncd2q1D             |\n",
      "|23 |pA8OcPim6CMbHcCvBO |82 |Fk1t2dzU3JlRcBnMgusy|\n",
      "|45 |lPdUwRslYcOf       |57 |sT2Lj6bzljfyQBvS    |\n",
      "|93 |o                  |22 |CKF8uk5RA           |\n",
      "|13 |pLCFC0XiJMTGYJE9UU8|41 |XR                  |\n",
      "|53 |uPKvFD7ycbiG       |30 |5sMH97M2GOiS3B      |\n",
      "|48 |UjYYsSctE          |97 |EOf3oLdf4UP         |\n",
      "|79 |sky3H5LnU          |54 |DgeYM2jwZmeXidpQpUm |\n",
      "|68 |jI92e9E2ZMsiyZ     |53 |bfLl                |\n",
      "|35 |e3a403E            |58 |NUz0zsXPOdAx3AV9n8  |\n",
      "|68 |6lhVjQAs           |97 |BYeqQnA8KVgcBL3h    |\n",
      "+---+-------------------+---+--------------------+\n",
      "only showing top 20 rows\n",
      "\n"
     ]
    }
   ],
   "source": [
    "print(type(df))\n",
    "df.show(truncate=False)"
   ]
  }
 ],
 "metadata": {
  "kernelspec": {
   "display_name": "PySpark",
   "language": "python",
   "name": "python3"
  },
  "language_info": {
   "codemirror_mode": {
    "name": "ipython",
    "version": 3
   },
   "file_extension": ".py",
   "mimetype": "text/x-python",
   "name": "python",
   "nbconvert_exporter": "python",
   "pygments_lexer": "ipython3",
   "version": "3.8.0"
  }
 },
 "nbformat": 4,
 "nbformat_minor": 2
}
