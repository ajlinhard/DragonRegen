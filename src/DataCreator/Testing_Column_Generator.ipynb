{
 "cells": [
  {
   "cell_type": "code",
   "execution_count": 1,
   "metadata": {},
   "outputs": [
    {
     "name": "stdout",
     "output_type": "stream",
     "text": [
      "c:\\Users\\dalej\\Documents\\_Coding\\DragonRegen\\src\n"
     ]
    }
   ],
   "source": [
    "import os\n",
    "import sys\n",
    "\n",
    "notebook_dir = os.getcwd()\n",
    "project_root = os.path.abspath(os.path.join(notebook_dir, \"..\"))\n",
    "print(project_root)\n",
    "sys.path.insert(0, project_root)"
   ]
  },
  {
   "cell_type": "code",
   "execution_count": 2,
   "metadata": {},
   "outputs": [],
   "source": [
    "from DataCreator.DataSets.DataSetGenStandard import DataSetGenStandard\n",
    "from DataCreator.ColGenerators import *\n",
    "from pyspark.sql import SparkSession\n",
    "from pyspark.sql.types import *\n",
    "\n",
    "spark = SparkSession.builder \\\n",
    "    .appName(\"Test Data Set Generation\") \\\n",
    "    .enableHiveSupport() \\\n",
    "    .getOrCreate()\n"
   ]
  },
  {
   "cell_type": "code",
   "execution_count": 4,
   "metadata": {},
   "outputs": [
    {
     "ename": "TypeError",
     "evalue": "'>' not supported between instances of 'NoneType' and 'list'",
     "output_type": "error",
     "traceback": [
      "\u001b[1;31m---------------------------------------------------------------------------\u001b[0m",
      "\u001b[1;31mTypeError\u001b[0m                                 Traceback (most recent call last)",
      "Cell \u001b[1;32mIn[4], line 1\u001b[0m\n\u001b[1;32m----> 1\u001b[0m colString_meta \u001b[38;5;241m=\u001b[39m \u001b[43mStringBasic\u001b[49m\u001b[38;5;241;43m.\u001b[39;49m\u001b[43mcreate\u001b[49m\u001b[43m(\u001b[49m\u001b[38;5;124;43m'\u001b[39;49m\u001b[38;5;124;43mtest_str\u001b[39;49m\u001b[38;5;124;43m'\u001b[39;49m\u001b[43m,\u001b[49m\u001b[43m \u001b[49m\u001b[43mStringType\u001b[49m\u001b[43m(\u001b[49m\u001b[43m)\u001b[49m\u001b[43m,\u001b[49m\u001b[43mmetadata\u001b[49m\u001b[38;5;241;43m=\u001b[39;49m\u001b[43m{\u001b[49m\u001b[38;5;124;43m\"\u001b[39;49m\u001b[38;5;124;43mdescription\u001b[39;49m\u001b[38;5;124;43m\"\u001b[39;49m\u001b[43m:\u001b[49m\u001b[43m \u001b[49m\u001b[38;5;124;43m\"\u001b[39;49m\u001b[38;5;124;43mID of the user\u001b[39;49m\u001b[38;5;124;43m\"\u001b[39;49m\u001b[43m,\u001b[49m\u001b[43m \u001b[49m\u001b[38;5;124;43m\"\u001b[39;49m\u001b[38;5;124;43mstats\u001b[39;49m\u001b[38;5;124;43m\"\u001b[39;49m\u001b[43m:\u001b[49m\u001b[43m{\u001b[49m\u001b[38;5;124;43m\"\u001b[39;49m\u001b[38;5;124;43msource\u001b[39;49m\u001b[38;5;124;43m\"\u001b[39;49m\u001b[43m:\u001b[49m\u001b[43m \u001b[49m\u001b[38;5;124;43m\"\u001b[39;49m\u001b[38;5;124;43mgenerated\u001b[39;49m\u001b[38;5;124;43m\"\u001b[39;49m\u001b[43m,\u001b[49m\u001b[43m \u001b[49m\u001b[38;5;124;43m\"\u001b[39;49m\u001b[38;5;124;43munique\u001b[39;49m\u001b[38;5;124;43m\"\u001b[39;49m\u001b[43m:\u001b[49m\u001b[43m \u001b[49m\u001b[38;5;28;43;01mTrue\u001b[39;49;00m\u001b[43m,\u001b[49m\u001b[43m \u001b[49m\u001b[38;5;124;43m\"\u001b[39;49m\u001b[38;5;124;43mmin\u001b[39;49m\u001b[38;5;124;43m\"\u001b[39;49m\u001b[43m:\u001b[49m\u001b[43m \u001b[49m\u001b[38;5;241;43m1\u001b[39;49m\u001b[43m,\u001b[49m\u001b[43m \u001b[49m\u001b[38;5;124;43m\"\u001b[39;49m\u001b[38;5;124;43mmax\u001b[39;49m\u001b[38;5;124;43m\"\u001b[39;49m\u001b[43m:\u001b[49m\u001b[43m \u001b[49m\u001b[38;5;28;43;01mNone\u001b[39;49;00m\u001b[43m}\u001b[49m\u001b[43m}\u001b[49m\u001b[43m,\u001b[49m\u001b[43m \u001b[49m\u001b[43mcolumn_values\u001b[49m\u001b[38;5;241;43m=\u001b[39;49m\u001b[43m[\u001b[49m\u001b[38;5;124;43m'\u001b[39;49m\u001b[38;5;124;43mA\u001b[39;49m\u001b[38;5;124;43m'\u001b[39;49m\u001b[43m,\u001b[49m\u001b[43m \u001b[49m\u001b[38;5;124;43m'\u001b[39;49m\u001b[38;5;124;43mB\u001b[39;49m\u001b[38;5;124;43m'\u001b[39;49m\u001b[43m,\u001b[49m\u001b[43m \u001b[49m\u001b[38;5;124;43m'\u001b[39;49m\u001b[38;5;124;43mC\u001b[39;49m\u001b[38;5;124;43m'\u001b[39;49m\u001b[43m,\u001b[49m\u001b[43m \u001b[49m\u001b[38;5;124;43m'\u001b[39;49m\u001b[38;5;124;43mD\u001b[39;49m\u001b[38;5;124;43m'\u001b[39;49m\u001b[43m,\u001b[49m\u001b[43m \u001b[49m\u001b[38;5;124;43m'\u001b[39;49m\u001b[38;5;124;43mE\u001b[39;49m\u001b[38;5;124;43m'\u001b[39;49m\u001b[43m]\u001b[49m\u001b[43m)\u001b[49m\n\u001b[0;32m      2\u001b[0m \u001b[38;5;28mprint\u001b[39m(\u001b[38;5;28mtype\u001b[39m(colString_meta))\n",
      "File \u001b[1;32mc:\\Users\\dalej\\Documents\\_Coding\\DragonRegen\\src\\DataCreator\\ColGenerators\\StringBasic.py:38\u001b[0m, in \u001b[0;36mStringBasic.create\u001b[1;34m(cls, name, dataType, nullalbe, metadata, **kwargs)\u001b[0m\n\u001b[0;32m     36\u001b[0m \u001b[38;5;28;01mfor\u001b[39;00m subclass \u001b[38;5;129;01min\u001b[39;00m subclasses:\n\u001b[0;32m     37\u001b[0m     \u001b[38;5;28;01mif\u001b[39;00m \u001b[38;5;28mhasattr\u001b[39m(subclass, \u001b[38;5;124m'\u001b[39m\u001b[38;5;124msupports_requirements\u001b[39m\u001b[38;5;124m'\u001b[39m) \u001b[38;5;129;01mand\u001b[39;00m subclass\u001b[38;5;241m.\u001b[39msupports_requirements(dataType, nullalbe, metadata, \u001b[38;5;241m*\u001b[39m\u001b[38;5;241m*\u001b[39mkwargs):\n\u001b[1;32m---> 38\u001b[0m         \u001b[38;5;28;01mreturn\u001b[39;00m \u001b[43msubclass\u001b[49m\u001b[43m(\u001b[49m\u001b[43mname\u001b[49m\u001b[43m,\u001b[49m\u001b[43m \u001b[49m\u001b[43mdataType\u001b[49m\u001b[43m,\u001b[49m\u001b[43m \u001b[49m\u001b[43mnullalbe\u001b[49m\u001b[43m,\u001b[49m\u001b[43m \u001b[49m\u001b[43mmetadata\u001b[49m\u001b[43m,\u001b[49m\u001b[43m \u001b[49m\u001b[38;5;241;43m*\u001b[39;49m\u001b[38;5;241;43m*\u001b[39;49m\u001b[43mkwargs\u001b[49m\u001b[43m)\u001b[49m\n\u001b[0;32m     39\u001b[0m \u001b[38;5;66;03m# If no subclass supports the requirements, return the base class\u001b[39;00m\n\u001b[0;32m     40\u001b[0m \u001b[38;5;28;01mreturn\u001b[39;00m \u001b[38;5;28mcls\u001b[39m(name, dataType, nullalbe, metadata)\n",
      "File \u001b[1;32mc:\\Users\\dalej\\Documents\\_Coding\\DragonRegen\\src\\DataCreator\\ColGenerators\\StringCategorical.py:17\u001b[0m, in \u001b[0;36mStringCategorical.__init__\u001b[1;34m(self, name, dataType, nullalbe, metadata, column_values)\u001b[0m\n\u001b[0;32m     11\u001b[0m \u001b[38;5;250m\u001b[39m\u001b[38;5;124;03m\"\"\"\u001b[39;00m\n\u001b[0;32m     12\u001b[0m \u001b[38;5;124;03mInitialize the column generator.\u001b[39;00m\n\u001b[0;32m     13\u001b[0m \n\u001b[0;32m     14\u001b[0m \u001b[38;5;124;03mParameters:\u001b[39;00m\n\u001b[0;32m     15\u001b[0m \u001b[38;5;124;03m\"\"\"\u001b[39;00m\n\u001b[0;32m     16\u001b[0m \u001b[38;5;28msuper\u001b[39m()\u001b[38;5;241m.\u001b[39m\u001b[38;5;21m__init__\u001b[39m(name, dataType, nullalbe, metadata)\n\u001b[1;32m---> 17\u001b[0m \u001b[38;5;28mself\u001b[39m\u001b[38;5;241m.\u001b[39mcolumn_values \u001b[38;5;241m=\u001b[39m \u001b[38;5;28;43mmax\u001b[39;49m\u001b[43m(\u001b[49m\u001b[43mcolumn_values\u001b[49m\u001b[43m,\u001b[49m\u001b[43m \u001b[49m\u001b[43mmetadata\u001b[49m\u001b[38;5;241;43m.\u001b[39;49m\u001b[43mget\u001b[49m\u001b[43m(\u001b[49m\u001b[38;5;124;43m'\u001b[39;49m\u001b[38;5;124;43mcolumn_values\u001b[39;49m\u001b[38;5;124;43m'\u001b[39;49m\u001b[43m,\u001b[49m\u001b[43m \u001b[49m\u001b[38;5;28;43;01mNone\u001b[39;49;00m\u001b[43m)\u001b[49m\u001b[43m)\u001b[49m\n\u001b[0;32m     18\u001b[0m \u001b[38;5;28;01mif\u001b[39;00m \u001b[38;5;28mself\u001b[39m\u001b[38;5;241m.\u001b[39mcolumn_values \u001b[38;5;129;01mis\u001b[39;00m \u001b[38;5;28;01mNone\u001b[39;00m:\n\u001b[0;32m     19\u001b[0m     \u001b[38;5;28;01mraise\u001b[39;00m \u001b[38;5;167;01mValueError\u001b[39;00m(\u001b[38;5;124m\"\u001b[39m\u001b[38;5;124mFor Categorical columns the column_values must be provided in metadata or as an argument column_values\u001b[39m\u001b[38;5;124m\"\u001b[39m)\n",
      "\u001b[1;31mTypeError\u001b[0m: '>' not supported between instances of 'NoneType' and 'list'"
     ]
    }
   ],
   "source": [
    "colString_meta = StringBasic.create('test_str', StringType(),metadata={\"description\": \"ID of the user\", \"stats\":{\"source\": \"generated\", \"unique\": True, \"min\": 1, \"max\": None}}, column_values=['A', 'B', 'C', 'D', 'E'])\n",
    "print(type(colString_meta))\n"
   ]
  },
  {
   "cell_type": "code",
   "execution_count": 3,
   "metadata": {},
   "outputs": [
    {
     "name": "stdout",
     "output_type": "stream",
     "text": [
      "Checking subclass: StringBasic and requirements: True\n",
      "<class 'DataCreator.ColGenerators.StringBasic.StringBasic'>\n",
      "['eqi', '2jJSG8vVvUYRLw1IjR', 'OVJHoN9u', 'dRWIF', 'hIX857Jk6']\n"
     ]
    }
   ],
   "source": [
    "colString_meta = ColGenerator.create('test_str', StringType())\n",
    "print(type(colString_meta))\n",
    "ls_str_basic = colString_meta.generate_column(100)\n",
    "print(ls_str_basic[1:10:2])"
   ]
  },
  {
   "cell_type": "code",
   "execution_count": 4,
   "metadata": {},
   "outputs": [
    {
     "name": "stdout",
     "output_type": "stream",
     "text": [
      "[<class 'DataCreator.ColGenerators.ColBasic.ColBasic'>, <class 'DataCreator.ColGenerators.StringBasic.StringBasic'>]\n",
      "[<class 'DataCreator.ColGenerators.StringCategorical.StringCategorical'>]\n",
      "[]\n"
     ]
    }
   ],
   "source": [
    "print(ColGenerator.__subclasses__())\n",
    "print(StringBasic.__subclasses__())\n",
    "print(StringCategorical.__subclasses__())"
   ]
  },
  {
   "cell_type": "code",
   "execution_count": 4,
   "metadata": {},
   "outputs": [
    {
     "name": "stdout",
     "output_type": "stream",
     "text": [
      "<class 'DataCreator.ColGenerators.StringBasic.StringBasic'>\n",
      "['CvJ4yLpVhIxva', 'TZR2InCduE65KRzyi9', 'KZLFbzhfSVGri8zX', 'pfk1', 'MZtU']\n"
     ]
    }
   ],
   "source": [
    "\n",
    "colString_meta = StringBasic.create('test_str', StringType(),metadata={\"description\": \"ID of the user\", \"stats\":{\"source\": \"generated\", \"unique\": True, \"min\": 1, \"max\": None}})\n",
    "print(type(colString_meta))\n",
    "ls_str_basic = colString_meta.generate_column(100)\n",
    "print(ls_str_basic[1:10:2])\n"
   ]
  },
  {
   "cell_type": "markdown",
   "metadata": {},
   "source": [
    "# Test Base Generation"
   ]
  },
  {
   "cell_type": "code",
   "execution_count": 8,
   "metadata": {},
   "outputs": [
    {
     "name": "stdout",
     "output_type": "stream",
     "text": [
      "['A', 'cPxzK', 'mN', '3HNfa2', 'MB1Fz6zJWCMJW', 'tTsIqeAitwW64WiYc', 'NaM8VWKD', '7FbStzYOcOoigHBUf', 'yZG1D9ePa1E7U']\n"
     ]
    }
   ],
   "source": [
    "col1 = ColBasic('test_col', StringType())\n",
    "ls_col1 = col1.generate_column(100)\n",
    "# Print the first 10 values of the generated column\n",
    "print(ls_col1[1:10])\n"
   ]
  },
  {
   "cell_type": "code",
   "execution_count": 9,
   "metadata": {},
   "outputs": [
    {
     "name": "stdout",
     "output_type": "stream",
     "text": [
      "[68, 79, 37, 61, 89, 92, 44, 33, 58]\n"
     ]
    }
   ],
   "source": [
    "# Create a DataSetGenStandard object\n",
    "test_IntType = StructField(\"id\", IntegerType(), True)\n",
    "test_IntCol = ColBasic.replicate(test_IntType)\n",
    "ls_int = test_IntCol.generate_column(100)\n",
    "print(ls_int[1:10])\n"
   ]
  },
  {
   "cell_type": "code",
   "execution_count": 10,
   "metadata": {},
   "outputs": [
    {
     "name": "stdout",
     "output_type": "stream",
     "text": [
      "['n0WAv', 'g', 'ZGjpWHb', 'equnctt32NCaVCjN', '2DYoeIJFJa1DE7SmW8', '4', 'Q410lvKmi7lOt8KG', 'JDMj5R9O', 'dRWc7']\n"
     ]
    }
   ],
   "source": [
    "test_StringType = StructField(\"name\", StringType(), True)\n",
    "test_StrinCol = ColBasic.replicate(test_StringType)\n",
    "ls_str = test_StrinCol.generate_column(100)\n",
    "print(ls_str[1:10])\n"
   ]
  },
  {
   "cell_type": "markdown",
   "metadata": {},
   "source": [
    "# Adding Metadata"
   ]
  },
  {
   "cell_type": "code",
   "execution_count": 11,
   "metadata": {},
   "outputs": [
    {
     "name": "stdout",
     "output_type": "stream",
     "text": [
      "{'description': 'ID of the user', 'stats': {'source': 'generated', 'unique': True, 'min': 1, 'max': None}}\n",
      "['K5sZfPOuW1', 'a6Osl46OTQ8jl', 'dOlEv7', 'yeglN', 'uRjKu2Y3OQRxqG', 'N8B59aARKPkBx', 'Ibp8', 'Jln81YUGlFKm', 'B75DBj']\n"
     ]
    }
   ],
   "source": [
    "col1_meta = ColBasic('test_col', StringType(),metadata={\"description\": \"ID of the user\", \"stats\":{\"source\": \"generated\", \"unique\": True, \"min\": 1, \"max\": None}})\n",
    "print(col1_meta.metadata)\n",
    "ls_col1_meta = col1_meta.generate_column(100)\n",
    "# Print the first 10 values of the generated column\n",
    "print(ls_col1_meta[1:10])\n",
    "\n"
   ]
  },
  {
   "cell_type": "code",
   "execution_count": null,
   "metadata": {},
   "outputs": [
    {
     "name": "stdout",
     "output_type": "stream",
     "text": [
      "{'description': 'ID of the user', 'stats': {'source': 'generated', 'unique': True, 'min': 1, 'max': None}}\n",
      "[51, 64, 31, 67, 84, 78, 55, 77, 38]\n",
      "None\n"
     ]
    }
   ],
   "source": [
    "test_IntMeta = StructField(\"id\", IntegerType(), True, metadata={\"description\": \"ID of the user\", \"stats\":{\"source\": \"generated\", \"unique\": True, \"min\": 1, \"max\": None}})\n",
    "print(test_IntMeta.metadata)\n",
    "test_IntMetaCol = ColBasic.replicate(test_IntMeta)\n",
    "ls_int_meta = test_IntMetaCol.generate_column(100)\n",
    "print(ls_int_meta[1:10])\n",
    "print(test_IntMetaCol.metadata)"
   ]
  },
  {
   "cell_type": "markdown",
   "metadata": {},
   "source": [
    "# Using Class method\n"
   ]
  }
 ],
 "metadata": {
  "kernelspec": {
   "display_name": "PySpark",
   "language": "python",
   "name": "python3"
  },
  "language_info": {
   "codemirror_mode": {
    "name": "ipython",
    "version": 3
   },
   "file_extension": ".py",
   "mimetype": "text/x-python",
   "name": "python",
   "nbconvert_exporter": "python",
   "pygments_lexer": "ipython3",
   "version": "3.8.0"
  }
 },
 "nbformat": 4,
 "nbformat_minor": 2
}
