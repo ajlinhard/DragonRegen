{
 "cells": [
  {
   "cell_type": "code",
   "execution_count": 1,
   "metadata": {},
   "outputs": [
    {
     "name": "stdout",
     "output_type": "stream",
     "text": [
      "c:\\Users\\dalej\\Documents\\_Coding\\DragonRegen\\src\n"
     ]
    }
   ],
   "source": [
    "import os\n",
    "import sys\n",
    "\n",
    "notebook_dir = os.getcwd()\n",
    "project_root = os.path.abspath(os.path.join(notebook_dir, \"..\"))\n",
    "print(project_root)\n",
    "sys.path.insert(0, project_root)"
   ]
  },
  {
   "cell_type": "code",
   "execution_count": 2,
   "metadata": {},
   "outputs": [],
   "source": [
    "from DataCreator.DataSets.DataSetGenStandard import DataSetGenStandard\n",
    "from DataCreator.ColGenerators import *\n",
    "from pyspark.sql import SparkSession\n",
    "from pyspark.sql.types import *\n",
    "from pyspark.sql.functions import *\n",
    "\n",
    "\n",
    "spark = SparkSession.builder \\\n",
    "    .appName(\"Test Data Set Generation\") \\\n",
    "    .enableHiveSupport() \\\n",
    "    .getOrCreate()\n"
   ]
  },
  {
   "cell_type": "code",
   "execution_count": 3,
   "metadata": {},
   "outputs": [
    {
     "name": "stdout",
     "output_type": "stream",
     "text": [
      "<class 'DataCreator.ColGenerators.StringCategorical.StringCategorical'>\n"
     ]
    }
   ],
   "source": [
    "colString_meta = StringBasic.create('test_str', StringType(),metadata={\"description\": \"ID of the user\", \"stats\":{\"source\": \"generated\", \"unique\": True, \"min\": 1, \"max\": None}}, column_values=['A', 'B', 'C', 'D', 'E'])\n",
    "print(type(colString_meta))\n"
   ]
  },
  {
   "cell_type": "code",
   "execution_count": null,
   "metadata": {},
   "outputs": [
    {
     "name": "stdout",
     "output_type": "stream",
     "text": [
      "<class 'pyspark.sql.types.StructField'>\n",
      "StringType()\n"
     ]
    }
   ],
   "source": [
    "colStruct = colString_meta.ColField\n",
    "print(type(colStruct))\n",
    "print(colStruct.dataType)\n",
    "print(colStruct)"
   ]
  },
  {
   "cell_type": "code",
   "execution_count": 4,
   "metadata": {},
   "outputs": [
    {
     "name": "stdout",
     "output_type": "stream",
     "text": [
      "['B', 'B', 'A', 'A', 'E', 'A', 'A', 'C', 'E', 'A']\n"
     ]
    }
   ],
   "source": [
    "ls = colString_meta.generate_column(100)\n",
    "print(ls[0:10])"
   ]
  },
  {
   "cell_type": "code",
   "execution_count": 3,
   "metadata": {},
   "outputs": [
    {
     "name": "stdout",
     "output_type": "stream",
     "text": [
      "Checking subclass: StringBasic and requirements: True\n",
      "<class 'DataCreator.ColGenerators.StringBasic.StringBasic'>\n",
      "['eqi', '2jJSG8vVvUYRLw1IjR', 'OVJHoN9u', 'dRWIF', 'hIX857Jk6']\n"
     ]
    }
   ],
   "source": [
    "colString_meta = ColGenerator.create('test_str', StringType())\n",
    "print(type(colString_meta))\n",
    "ls_str_basic = colString_meta.generate_column(100)\n",
    "print(ls_str_basic[1:10:2])"
   ]
  },
  {
   "cell_type": "code",
   "execution_count": 4,
   "metadata": {},
   "outputs": [
    {
     "name": "stdout",
     "output_type": "stream",
     "text": [
      "[<class 'DataCreator.ColGenerators.ColBasic.ColBasic'>, <class 'DataCreator.ColGenerators.StringBasic.StringBasic'>]\n",
      "[<class 'DataCreator.ColGenerators.StringCategorical.StringCategorical'>]\n",
      "[]\n"
     ]
    }
   ],
   "source": [
    "print(ColGenerator.__subclasses__())\n",
    "print(StringBasic.__subclasses__())\n",
    "print(StringCategorical.__subclasses__())"
   ]
  },
  {
   "cell_type": "code",
   "execution_count": 4,
   "metadata": {},
   "outputs": [
    {
     "name": "stdout",
     "output_type": "stream",
     "text": [
      "<class 'DataCreator.ColGenerators.StringBasic.StringBasic'>\n",
      "['CvJ4yLpVhIxva', 'TZR2InCduE65KRzyi9', 'KZLFbzhfSVGri8zX', 'pfk1', 'MZtU']\n"
     ]
    }
   ],
   "source": [
    "\n",
    "colString_meta = StringBasic.create('test_str', StringType(),metadata={\"description\": \"ID of the user\", \"stats\":{\"source\": \"generated\", \"unique\": True, \"min\": 1, \"max\": None}})\n",
    "print(type(colString_meta))\n",
    "ls_str_basic = colString_meta.generate_column(100)\n",
    "print(ls_str_basic[1:10:2])\n"
   ]
  },
  {
   "cell_type": "markdown",
   "metadata": {},
   "source": [
    "# Test Base Generation"
   ]
  },
  {
   "cell_type": "code",
   "execution_count": 8,
   "metadata": {},
   "outputs": [
    {
     "name": "stdout",
     "output_type": "stream",
     "text": [
      "['A', 'cPxzK', 'mN', '3HNfa2', 'MB1Fz6zJWCMJW', 'tTsIqeAitwW64WiYc', 'NaM8VWKD', '7FbStzYOcOoigHBUf', 'yZG1D9ePa1E7U']\n"
     ]
    }
   ],
   "source": [
    "col1 = ColBasic('test_col', StringType())\n",
    "ls_col1 = col1.generate_column(100)\n",
    "# Print the first 10 values of the generated column\n",
    "print(ls_col1[1:10])\n"
   ]
  },
  {
   "cell_type": "code",
   "execution_count": 9,
   "metadata": {},
   "outputs": [
    {
     "name": "stdout",
     "output_type": "stream",
     "text": [
      "[68, 79, 37, 61, 89, 92, 44, 33, 58]\n"
     ]
    }
   ],
   "source": [
    "# Create a DataSetGenStandard object\n",
    "test_IntType = StructField(\"id\", IntegerType(), True)\n",
    "test_IntCol = ColBasic.replicate(test_IntType)\n",
    "ls_int = test_IntCol.generate_column(100)\n",
    "print(ls_int[1:10])\n"
   ]
  },
  {
   "cell_type": "code",
   "execution_count": 10,
   "metadata": {},
   "outputs": [
    {
     "name": "stdout",
     "output_type": "stream",
     "text": [
      "['n0WAv', 'g', 'ZGjpWHb', 'equnctt32NCaVCjN', '2DYoeIJFJa1DE7SmW8', '4', 'Q410lvKmi7lOt8KG', 'JDMj5R9O', 'dRWc7']\n"
     ]
    }
   ],
   "source": [
    "test_StringType = StructField(\"name\", StringType(), True)\n",
    "test_StrinCol = ColBasic.replicate(test_StringType)\n",
    "ls_str = test_StrinCol.generate_column(100)\n",
    "print(ls_str[1:10])\n"
   ]
  },
  {
   "cell_type": "markdown",
   "metadata": {},
   "source": [
    "# Adding Metadata"
   ]
  },
  {
   "cell_type": "code",
   "execution_count": 11,
   "metadata": {},
   "outputs": [
    {
     "name": "stdout",
     "output_type": "stream",
     "text": [
      "{'description': 'ID of the user', 'stats': {'source': 'generated', 'unique': True, 'min': 1, 'max': None}}\n",
      "['K5sZfPOuW1', 'a6Osl46OTQ8jl', 'dOlEv7', 'yeglN', 'uRjKu2Y3OQRxqG', 'N8B59aARKPkBx', 'Ibp8', 'Jln81YUGlFKm', 'B75DBj']\n"
     ]
    }
   ],
   "source": [
    "col1_meta = ColBasic('test_col', StringType(),metadata={\"description\": \"ID of the user\", \"stats\":{\"source\": \"generated\", \"unique\": True, \"min\": 1, \"max\": None}})\n",
    "print(col1_meta.metadata)\n",
    "ls_col1_meta = col1_meta.generate_column(100)\n",
    "# Print the first 10 values of the generated column\n",
    "print(ls_col1_meta[1:10])\n",
    "\n"
   ]
  },
  {
   "cell_type": "code",
   "execution_count": null,
   "metadata": {},
   "outputs": [
    {
     "name": "stdout",
     "output_type": "stream",
     "text": [
      "{'description': 'ID of the user', 'stats': {'source': 'generated', 'unique': True, 'min': 1, 'max': None}}\n",
      "[51, 64, 31, 67, 84, 78, 55, 77, 38]\n",
      "None\n"
     ]
    }
   ],
   "source": [
    "test_IntMeta = StructField(\"id\", IntegerType(), True, metadata={\"description\": \"ID of the user\", \"stats\":{\"source\": \"generated\", \"unique\": True, \"min\": 1, \"max\": None}})\n",
    "print(test_IntMeta.metadata)\n",
    "test_IntMetaCol = ColBasic.replicate(test_IntMeta)\n",
    "ls_int_meta = test_IntMetaCol.generate_column(100)\n",
    "print(ls_int_meta[1:10])\n",
    "print(test_IntMetaCol.metadata)"
   ]
  },
  {
   "cell_type": "markdown",
   "metadata": {},
   "source": [
    "# Using Class method\n"
   ]
  }
 ],
 "metadata": {
  "kernelspec": {
   "display_name": "PySpark",
   "language": "python",
   "name": "python3"
  },
  "language_info": {
   "codemirror_mode": {
    "name": "ipython",
    "version": 3
   },
   "file_extension": ".py",
   "mimetype": "text/x-python",
   "name": "python",
   "nbconvert_exporter": "python",
   "pygments_lexer": "ipython3",
   "version": "3.8.0"
  }
 },
 "nbformat": 4,
 "nbformat_minor": 2
}
