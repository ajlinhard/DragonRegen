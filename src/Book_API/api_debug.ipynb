{
 "cells": [
  {
   "cell_type": "code",
   "execution_count": 12,
   "metadata": {},
   "outputs": [
    {
     "name": "stdout",
     "output_type": "stream",
     "text": [
      "{'title': 'Dune', 'author': 'Frank Herbert', 'isbn': '9780441172719'}\n",
      "{\"title\": \"Dune\", \"author\": \"Frank Herbert\", \"isbn\": \"9780441172719\"}\n"
     ]
    }
   ],
   "source": [
    "import requests\n",
    "import json\n",
    "base_url='http://localhost:5000'\n",
    "\n",
    "new_book = {\n",
    "        \"title\": \"Dune\",\n",
    "        \"author\": \"Frank Herbert\",\n",
    "        \"isbn\": \"9780441172719\"\n",
    "    }\n",
    "\n",
    "print(new_book)\n",
    "print(json.dumps(new_book))\n"
   ]
  },
  {
   "cell_type": "code",
   "execution_count": 37,
   "metadata": {},
   "outputs": [],
   "source": [
    "response = requests.post(\n",
    "        f'{base_url}/books', \n",
    "        data='hello',\n",
    "        headers={'Content-Type': 'application/json'}\n",
    ")"
   ]
  },
  {
   "cell_type": "code",
   "execution_count": 53,
   "metadata": {},
   "outputs": [],
   "source": [
    "response = requests.post(\n",
    "        f'{base_url}/books', \n",
    "        json=new_book,\n",
    "        headers={'Content-Type': 'application/json'}\n",
    ")"
   ]
  },
  {
   "cell_type": "code",
   "execution_count": 61,
   "metadata": {},
   "outputs": [
    {
     "name": "stdout",
     "output_type": "stream",
     "text": [
      "201\n",
      "{\n",
      "    \"id\": 3,\n",
      "    \"title\": \"Dune\",\n",
      "    \"author\": \"Frank Herbert\",\n",
      "    \"isbn\": \"9780441172719\"\n",
      "}\n",
      "\n",
      "{'id': 3, 'title': 'Dune', 'author': 'Frank Herbert', 'isbn': '9780441172719'}\n",
      "{'Server': 'Werkzeug/3.1.3 Python/3.12.7', 'Date': 'Wed, 12 Mar 2025 19:14:01 GMT', 'Content-Type': 'application/json', 'Content-Length': '97', 'Access-Control-Allow-Origin': '*', 'Connection': 'close'}\n",
      "<class 'requests.models.Response'>\n",
      "3\n"
     ]
    }
   ],
   "source": [
    "print(response.status_code)\n",
    "print(response.text)\n",
    "print(response.json())\n",
    "print(response.headers)\n",
    "print(type(response))\n",
    "print(response.json()['id'])\n"
   ]
  },
  {
   "cell_type": "code",
   "execution_count": 15,
   "metadata": {},
   "outputs": [],
   "source": [
    "response2 = requests.post(\n",
    "        f'{base_url}/books', \n",
    "        json=new_book)\n"
   ]
  },
  {
   "cell_type": "code",
   "execution_count": 40,
   "metadata": {},
   "outputs": [
    {
     "name": "stdout",
     "output_type": "stream",
     "text": [
      "Sending data: {\"title\": \"Dune\", \"author\": \"Frank Herbert\", \"isbn\": \"9780441172719\"}\n",
      "Status code: 400\n",
      "Response: {\n",
      "    \"message\": \"Failed to decode JSON object: Expecting value: line 1 column 1 (char 0)\"\n",
      "}\n",
      "\n"
     ]
    }
   ],
   "source": [
    "import requests\n",
    "import json\n",
    "\n",
    "base_url = 'http://localhost:5000'\n",
    "\n",
    "new_book = {\n",
    "    \"title\": \"Dune\",\n",
    "    \"author\": \"Frank Herbert\",\n",
    "    \"isbn\": \"9780441172719\"\n",
    "}\n",
    "\n",
    "# For debugging, print what you're trying to send\n",
    "print(\"Sending data:\", json.dumps(new_book))\n",
    "\n",
    "# Try this explicit approach\n",
    "headers = {'Content-Type': 'application/json; charset=utf-8'}\n",
    "response = requests.post(\n",
    "    f'{base_url}/books',\n",
    "    data=new_book,  # Convert dict to JSON string\n",
    "    headers=headers\n",
    ")\n",
    "\n",
    "print(\"Status code:\", response.status_code)\n",
    "print(\"Response:\", response.text)"
   ]
  }
 ],
 "metadata": {
  "kernelspec": {
   "display_name": "Kafka_Spark",
   "language": "python",
   "name": "python3"
  },
  "language_info": {
   "codemirror_mode": {
    "name": "ipython",
    "version": 3
   },
   "file_extension": ".py",
   "mimetype": "text/x-python",
   "name": "python",
   "nbconvert_exporter": "python",
   "pygments_lexer": "ipython3",
   "version": "3.11.10"
  }
 },
 "nbformat": 4,
 "nbformat_minor": 2
}
