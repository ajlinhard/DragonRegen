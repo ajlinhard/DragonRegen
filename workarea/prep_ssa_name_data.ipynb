{
 "cells": [
  {
   "cell_type": "code",
   "execution_count": 1,
   "metadata": {},
   "outputs": [],
   "source": [
    "import os\n",
    "import sys\n",
    "\n",
    "notebook_dir = os.getcwd()\n",
    "project_root = os.path.abspath(os.path.join(notebook_dir, \"..\"))\n",
    "sys.path.insert(0, project_root)\n",
    "\n",
    "from pyspark.sql import SparkSession\n",
    "from pyspark.sql import functions as F\n",
    "from pyspark.sql.types import *\n",
    "from pyspark.sql.functions import *\n",
    "\n",
    "s_raw_root_path = r'F:\\DataSamples\\DataSets'\n",
    "s_spark_file_server_root = r'F:\\Spark_Data_Test'\n",
    "\n",
    "spark = SparkSession.builder \\\n",
    "    .appName('Prep Census Data') \\\n",
    "    .master(\"local[*]\") \\\n",
    "    .config(\"spark.sql.warehouse.dir\", s_spark_file_server_root) \\\n",
    "    .enableHiveSupport() \\\n",
    "    .getOrCreate()\n"
   ]
  },
  {
   "cell_type": "code",
   "execution_count": 24,
   "metadata": {},
   "outputs": [
    {
     "name": "stdout",
     "output_type": "stream",
     "text": [
      "+---------+------+-----+\n",
      "|FirstName|Gender|Count|\n",
      "+---------+------+-----+\n",
      "|Emma     |F     |18826|\n",
      "|Isabella |F     |18626|\n",
      "|Emily    |F     |17444|\n",
      "|Olivia   |F     |17087|\n",
      "|Ava      |F     |17049|\n",
      "|Madison  |F     |17046|\n",
      "|Sophia   |F     |16090|\n",
      "|Abigail  |F     |15085|\n",
      "|Elizabeth|F     |12025|\n",
      "|Chloe    |F     |11833|\n",
      "+---------+------+-----+\n",
      "only showing top 10 rows\n",
      "\n"
     ]
    }
   ],
   "source": [
    "schema = StructType([\n",
    "    StructField('FirstName', StringType(), False),\n",
    "    StructField('Gender', StringType(), True),\n",
    "    StructField('Count', IntegerType(), True)\n",
    "])\n",
    "\n",
    "# df_ssa_names = spark.read.options(delimiter=',', enforceSchema=True).schema(schema).load(os.path.join(s_raw_root_path, 'SSA_Names\\\\*.txt'), format='csv')\n",
    "df_ssa_names = spark.read.format('csv').options(delimiter=',', enforceSchema=True).schema(schema).load(os.path.join(s_raw_root_path, 'SSA_Names\\\\*.txt'))\n",
    "df_ssa_names.show(10, False)\n"
   ]
  },
  {
   "cell_type": "code",
   "execution_count": null,
   "metadata": {},
   "outputs": [
    {
     "name": "stdout",
     "output_type": "stream",
     "text": [
      "root\n",
      " |-- FirstName: string (nullable = true)\n",
      " |-- Gender: string (nullable = true)\n",
      " |-- Count: integer (nullable = true)\n",
      "\n"
     ]
    },
    {
     "data": {
      "text/plain": [
       "2117219"
      ]
     },
     "execution_count": 28,
     "metadata": {},
     "output_type": "execute_result"
    }
   ],
   "source": [
    "df_ssa_names.printSchema()\n",
    "# 2,117,219\n",
    "df_ssa_names.count()"
   ]
  },
  {
   "cell_type": "code",
   "execution_count": 38,
   "metadata": {},
   "outputs": [
    {
     "name": "stdout",
     "output_type": "stream",
     "text": [
      "+---------+------+-----+-----------------------------------------------------+----+\n",
      "|FirstName|Gender|Count|FileName                                             |YYYY|\n",
      "+---------+------+-----+-----------------------------------------------------+----+\n",
      "|Emma     |F     |18826|file:///F:/DataSamples/DataSets/SSA_Names/yob2008.txt|2008|\n",
      "|Isabella |F     |18626|file:///F:/DataSamples/DataSets/SSA_Names/yob2008.txt|2008|\n",
      "|Emily    |F     |17444|file:///F:/DataSamples/DataSets/SSA_Names/yob2008.txt|2008|\n",
      "|Olivia   |F     |17087|file:///F:/DataSamples/DataSets/SSA_Names/yob2008.txt|2008|\n",
      "|Ava      |F     |17049|file:///F:/DataSamples/DataSets/SSA_Names/yob2008.txt|2008|\n",
      "|Madison  |F     |17046|file:///F:/DataSamples/DataSets/SSA_Names/yob2008.txt|2008|\n",
      "|Sophia   |F     |16090|file:///F:/DataSamples/DataSets/SSA_Names/yob2008.txt|2008|\n",
      "|Abigail  |F     |15085|file:///F:/DataSamples/DataSets/SSA_Names/yob2008.txt|2008|\n",
      "|Elizabeth|F     |12025|file:///F:/DataSamples/DataSets/SSA_Names/yob2008.txt|2008|\n",
      "|Chloe    |F     |11833|file:///F:/DataSamples/DataSets/SSA_Names/yob2008.txt|2008|\n",
      "+---------+------+-----+-----------------------------------------------------+----+\n",
      "only showing top 10 rows\n",
      "\n"
     ]
    }
   ],
   "source": [
    "df_ssa_names_w_file = df_ssa_names.withColumn('FileName', input_file_name()) \\\n",
    "    .withColumn('YYYY', regexp_extract(col('FileName'), r'(\\d{4})', 1).cast(IntegerType())) \\\n",
    "\n",
    "df_ssa_names_w_file.show(10, False)"
   ]
  },
  {
   "cell_type": "code",
   "execution_count": 40,
   "metadata": {},
   "outputs": [
    {
     "name": "stdout",
     "output_type": "stream",
     "text": [
      "+---------+---------+--------------------+------------------------+----------------------+\n",
      "|min(YYYY)|max(YYYY)|count(DISTINCT YYYY)|count(DISTINCT FileName)|count(DISTINCT Gender)|\n",
      "+---------+---------+--------------------+------------------------+----------------------+\n",
      "|1880     |2023     |144                 |144                     |2                     |\n",
      "+---------+---------+--------------------+------------------------+----------------------+\n",
      "\n"
     ]
    }
   ],
   "source": [
    "df_ssa_names_w_file.select(min('YYYY'), max('YYYY')\n",
    "                           , countDistinct('YYYY') \n",
    "                           , countDistinct('FileName') \n",
    "                           , countDistinct('Gender')\n",
    "                           ).show(1, False)"
   ]
  },
  {
   "cell_type": "code",
   "execution_count": 43,
   "metadata": {},
   "outputs": [
    {
     "name": "stdout",
     "output_type": "stream",
     "text": [
      "+---------+----------+---------+\n",
      "|FirstName|TotalCount|YearCount|\n",
      "+---------+----------+---------+\n",
      "|Rosendo  |3989      |74       |\n",
      "|Shyana   |264       |24       |\n",
      "|Ritu     |341       |41       |\n",
      "|Irais    |611       |42       |\n",
      "|Jaliana  |85        |13       |\n",
      "|Sira     |232       |25       |\n",
      "|Zolie    |60        |9        |\n",
      "|Syris    |328       |25       |\n",
      "|Chandni  |400       |23       |\n",
      "|Annajulia|60        |10       |\n",
      "+---------+----------+---------+\n",
      "only showing top 10 rows\n",
      "\n"
     ]
    }
   ],
   "source": [
    "# Filter\n",
    "df_names_agg = df_ssa_names_w_file.filter(col('YYYY') >= 1950) \\\n",
    "    .groupBy('FirstName') \\\n",
    "        .agg(\n",
    "            sum('Count').alias('TotalCount'),\n",
    "            countDistinct('YYYY').alias('YearCount')\n",
    "    )\n",
    "\n",
    "df_names_agg.show(10, False)"
   ]
  },
  {
   "cell_type": "code",
   "execution_count": null,
   "metadata": {},
   "outputs": [
    {
     "name": "stdout",
     "output_type": "stream",
     "text": [
      "Total: 270,176,741\n"
     ]
    }
   ],
   "source": [
    "i_sum = df_names_agg.agg(sum('TotalCount')).collect()[0][0]\n",
    "# Total: 270,176,741\n",
    "print(f'Total: {i_sum:,}')\n"
   ]
  },
  {
   "cell_type": "code",
   "execution_count": 48,
   "metadata": {},
   "outputs": [
    {
     "name": "stdout",
     "output_type": "stream",
     "text": [
      "+-----------+----------+---------+---------------------+------------+---------------+--------------------+\n",
      "|FirstName  |TotalCount|YearCount|frequency            |overall_rank|freq_dense_rank|cum_freq            |\n",
      "+-----------+----------+---------+---------------------+------------+---------------+--------------------+\n",
      "|Michael    |3955521   |74       |0.014640494164521733 |1           |1              |0.014640494164521733|\n",
      "|James      |2938863   |74       |0.010877557369011272 |2           |2              |0.025518051533533006|\n",
      "|David      |2925435   |74       |0.010827856569637133 |3           |3              |0.036345908103170135|\n",
      "|John       |2781375   |74       |0.010294650049095085 |4           |4              |0.04664055815226522 |\n",
      "|Robert     |2601926   |74       |0.009630458900235235 |5           |5              |0.056271017052500455|\n",
      "|William    |2170891   |74       |0.008035077305192604 |6           |6              |0.06430609435769306 |\n",
      "|Christopher|2043593   |74       |0.007563911654408475 |7           |7              |0.07187000601210154 |\n",
      "|Joseph     |1736890   |74       |0.006428717711122291 |8           |8              |0.07829872372322383 |\n",
      "|Daniel     |1729309   |74       |0.006400658300930501 |9           |9              |0.08469938202415433 |\n",
      "|Matthew    |1612105   |74       |0.0059668533791367336|10          |10             |0.09066623540329107 |\n",
      "+-----------+----------+---------+---------------------+------------+---------------+--------------------+\n",
      "only showing top 10 rows\n",
      "\n"
     ]
    }
   ],
   "source": [
    "from pyspark.sql import Window\n",
    "df_names_agg_stats = df_names_agg.withColumn('frequency', col('TotalCount')/i_sum) \\\n",
    "    .withColumn('overall_rank', row_number().over(Window.orderBy(col('TotalCount').desc()))) \\\n",
    "    .withColumn('freq_dense_rank', dense_rank().over(Window.orderBy(col('TotalCount').desc()))) \\\n",
    "    .withColumn('cum_freq', sum('frequency').over(Window.orderBy(col('overall_rank').asc())))\n",
    "\n",
    "df_names_agg_stats.show(10, False)"
   ]
  },
  {
   "cell_type": "code",
   "execution_count": 59,
   "metadata": {},
   "outputs": [
    {
     "name": "stdout",
     "output_type": "stream",
     "text": [
      "+-----------+-----------+---------------------+------------+--------------------+--------------------+\n",
      "|first_name |total_count|frequency            |overall_rank|profile_lower_bound |profile_upper_bound |\n",
      "+-----------+-----------+---------------------+------------+--------------------+--------------------+\n",
      "|Michael    |3955521    |0.014640494164521733 |1           |0.014640494164521733|0.025518051533533006|\n",
      "|James      |2938863    |0.010877557369011272 |2           |0.025518051533533006|0.036345908103170135|\n",
      "|David      |2925435    |0.010827856569637133 |3           |0.036345908103170135|0.04664055815226522 |\n",
      "|John       |2781375    |0.010294650049095085 |4           |0.04664055815226522 |0.056271017052500455|\n",
      "|Robert     |2601926    |0.009630458900235235 |5           |0.056271017052500455|0.06430609435769306 |\n",
      "|William    |2170891    |0.008035077305192604 |6           |0.06430609435769306 |0.07187000601210154 |\n",
      "|Christopher|2043593    |0.007563911654408475 |7           |0.07187000601210154 |0.07829872372322383 |\n",
      "|Joseph     |1736890    |0.006428717711122291 |8           |0.07829872372322383 |0.08469938202415433 |\n",
      "|Daniel     |1729309    |0.006400658300930501 |9           |0.08469938202415433 |0.09066623540329107 |\n",
      "|Matthew    |1612105    |0.0059668533791367336|10          |0.09066623540329107 |0.09620291851843753 |\n",
      "+-----------+-----------+---------------------+------------+--------------------+--------------------+\n",
      "only showing top 10 rows\n",
      "\n",
      "+----------+-----------+---------------------+------------+-------------------+-------------------+\n",
      "|first_name|total_count|frequency            |overall_rank|profile_lower_bound|profile_upper_bound|\n",
      "+----------+-----------+---------------------+------------+-------------------+-------------------+\n",
      "|Marinus   |5          |1.8506404294809374E-8|97588       |0.9999999999997452 |1.0                |\n",
      "|Ellean    |5          |1.8506404294809374E-8|97587       |0.9999999814933409 |0.9999999999997452 |\n",
      "|Clerance  |5          |1.8506404294809374E-8|97586       |0.9999999629869366 |0.9999999814933409 |\n",
      "|Wilnette  |5          |1.8506404294809374E-8|97585       |0.9999999444805323 |0.9999999629869366 |\n",
      "|Verdel    |5          |1.8506404294809374E-8|97584       |0.999999925974128  |0.9999999444805323 |\n",
      "|Gonzella  |5          |1.8506404294809374E-8|97583       |0.9999999074677237 |0.999999925974128  |\n",
      "|Linnis    |5          |1.8506404294809374E-8|97582       |0.9999998889613194 |0.9999999074677237 |\n",
      "|Ruford    |5          |1.8506404294809374E-8|97581       |0.9999998704549151 |0.9999998889613194 |\n",
      "|Helma     |5          |1.8506404294809374E-8|97580       |0.9999998519485108 |0.9999998704549151 |\n",
      "|Stann     |5          |1.8506404294809374E-8|97579       |0.9999998334421065 |0.9999998519485108 |\n",
      "+----------+-----------+---------------------+------------+-------------------+-------------------+\n",
      "only showing top 10 rows\n",
      "\n"
     ]
    },
    {
     "data": {
      "text/plain": [
       "97588"
      ]
     },
     "execution_count": 59,
     "metadata": {},
     "output_type": "execute_result"
    }
   ],
   "source": [
    "df_a = df_names_agg_stats\n",
    "df_b = df_names_agg_stats\n",
    "df_comb = df_a.alias('a').join(df_b.alias('b'), on = col('a.overall_rank') == col('b.overall_rank') - 1, how='left') \\\n",
    "    .select(col('a.FirstName').alias('first_name'),\n",
    "            col('a.TotalCount').alias('total_count'),\n",
    "            col('a.frequency'),\n",
    "            col('a.overall_rank'),\n",
    "            col('a.cum_freq').alias('profile_lower_bound'),\n",
    "            coalesce(col('b.cum_freq'), lit(1.0)).alias('profile_upper_bound'),\n",
    "    )\n",
    "\n",
    "df_comb.show(10, False)\n",
    "df_comb.orderBy('overall_rank', ascending=False).show(10, False)\n",
    "df_comb.count()\n"
   ]
  },
  {
   "cell_type": "code",
   "execution_count": 63,
   "metadata": {},
   "outputs": [],
   "source": [
    "# Export and trim the column values down for I/O efficency during generation of data.\n",
    "df_fnl = df_comb.select('first_name', 'overall_rank', 'profile_lower_bound', 'profile_upper_bound')\n",
    "df_fnl.write.parquet(os.path.join(s_spark_file_server_root, 'SSA_FirstNames_Stats'), mode='overwrite')"
   ]
  }
 ],
 "metadata": {
  "kernelspec": {
   "display_name": "PySpark",
   "language": "python",
   "name": "python3"
  },
  "language_info": {
   "codemirror_mode": {
    "name": "ipython",
    "version": 3
   },
   "file_extension": ".py",
   "mimetype": "text/x-python",
   "name": "python",
   "nbconvert_exporter": "python",
   "pygments_lexer": "ipython3",
   "version": "3.8.0"
  }
 },
 "nbformat": 4,
 "nbformat_minor": 2
}
