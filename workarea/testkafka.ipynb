{
 "cells": [
  {
   "cell_type": "code",
   "execution_count": 6,
   "metadata": {},
   "outputs": [
    {
     "name": "stdout",
     "output_type": "stream",
     "text": [
      "Success!\n"
     ]
    }
   ],
   "source": [
    "import a2a\n",
    "print('Success!')\n",
    "\n",
    "from a2a.types import (\n",
    "    AgentAuthentication,\n",
    "    AgentCapabilities,\n",
    "    AgentCard,\n",
    "    AgentSkill,\n",
    "    TaskState,\n",
    ")"
   ]
  },
  {
   "cell_type": "code",
   "execution_count": 17,
   "metadata": {},
   "outputs": [
    {
     "name": "stdout",
     "output_type": "stream",
     "text": [
      "TaskState is a dictionary\n"
     ]
    }
   ],
   "source": [
    "test = 'submitted'\n",
    "if test in TaskState.__members__.keys():\n",
    "    print('TaskState is a dictionary')"
   ]
  },
  {
   "cell_type": "code",
   "execution_count": 20,
   "metadata": {},
   "outputs": [
    {
     "ename": "ValueError",
     "evalue": "'dfsd' is not a valid TaskState",
     "output_type": "error",
     "traceback": [
      "\u001b[1;31m---------------------------------------------------------------------------\u001b[0m",
      "\u001b[1;31mValueError\u001b[0m                                Traceback (most recent call last)",
      "Cell \u001b[1;32mIn[20], line 2\u001b[0m\n\u001b[0;32m      1\u001b[0m TaskState(test)\n\u001b[1;32m----> 2\u001b[0m TaskState(\u001b[38;5;124m'\u001b[39m\u001b[38;5;124mdfsd\u001b[39m\u001b[38;5;124m'\u001b[39m)\n",
      "File \u001b[1;32mf:\\Python\\envs\\Kafka_Spark\\Lib\\enum.py:714\u001b[0m, in \u001b[0;36mEnumType.__call__\u001b[1;34m(cls, value, names, module, qualname, type, start, boundary)\u001b[0m\n\u001b[0;32m    689\u001b[0m \u001b[38;5;250m\u001b[39m\u001b[38;5;124;03m\"\"\"\u001b[39;00m\n\u001b[0;32m    690\u001b[0m \u001b[38;5;124;03mEither returns an existing member, or creates a new enum class.\u001b[39;00m\n\u001b[0;32m    691\u001b[0m \n\u001b[1;32m   (...)\u001b[0m\n\u001b[0;32m    711\u001b[0m \u001b[38;5;124;03m`type`, if set, will be mixed in as the first base class.\u001b[39;00m\n\u001b[0;32m    712\u001b[0m \u001b[38;5;124;03m\"\"\"\u001b[39;00m\n\u001b[0;32m    713\u001b[0m \u001b[38;5;28;01mif\u001b[39;00m names \u001b[38;5;129;01mis\u001b[39;00m \u001b[38;5;28;01mNone\u001b[39;00m:  \u001b[38;5;66;03m# simple value lookup\u001b[39;00m\n\u001b[1;32m--> 714\u001b[0m     \u001b[38;5;28;01mreturn\u001b[39;00m \u001b[38;5;28mcls\u001b[39m\u001b[38;5;241m.\u001b[39m\u001b[38;5;21m__new__\u001b[39m(\u001b[38;5;28mcls\u001b[39m, value)\n\u001b[0;32m    715\u001b[0m \u001b[38;5;66;03m# otherwise, functional API: we're creating a new Enum type\u001b[39;00m\n\u001b[0;32m    716\u001b[0m \u001b[38;5;28;01mreturn\u001b[39;00m \u001b[38;5;28mcls\u001b[39m\u001b[38;5;241m.\u001b[39m_create_(\n\u001b[0;32m    717\u001b[0m         value,\n\u001b[0;32m    718\u001b[0m         names,\n\u001b[1;32m   (...)\u001b[0m\n\u001b[0;32m    723\u001b[0m         boundary\u001b[38;5;241m=\u001b[39mboundary,\n\u001b[0;32m    724\u001b[0m         )\n",
      "File \u001b[1;32mf:\\Python\\envs\\Kafka_Spark\\Lib\\enum.py:1137\u001b[0m, in \u001b[0;36mEnum.__new__\u001b[1;34m(cls, value)\u001b[0m\n\u001b[0;32m   1135\u001b[0m ve_exc \u001b[38;5;241m=\u001b[39m \u001b[38;5;167;01mValueError\u001b[39;00m(\u001b[38;5;124m\"\u001b[39m\u001b[38;5;132;01m%r\u001b[39;00m\u001b[38;5;124m is not a valid \u001b[39m\u001b[38;5;132;01m%s\u001b[39;00m\u001b[38;5;124m\"\u001b[39m \u001b[38;5;241m%\u001b[39m (value, \u001b[38;5;28mcls\u001b[39m\u001b[38;5;241m.\u001b[39m\u001b[38;5;18m__qualname__\u001b[39m))\n\u001b[0;32m   1136\u001b[0m \u001b[38;5;28;01mif\u001b[39;00m result \u001b[38;5;129;01mis\u001b[39;00m \u001b[38;5;28;01mNone\u001b[39;00m \u001b[38;5;129;01mand\u001b[39;00m exc \u001b[38;5;129;01mis\u001b[39;00m \u001b[38;5;28;01mNone\u001b[39;00m:\n\u001b[1;32m-> 1137\u001b[0m     \u001b[38;5;28;01mraise\u001b[39;00m ve_exc\n\u001b[0;32m   1138\u001b[0m \u001b[38;5;28;01melif\u001b[39;00m exc \u001b[38;5;129;01mis\u001b[39;00m \u001b[38;5;28;01mNone\u001b[39;00m:\n\u001b[0;32m   1139\u001b[0m     exc \u001b[38;5;241m=\u001b[39m \u001b[38;5;167;01mTypeError\u001b[39;00m(\n\u001b[0;32m   1140\u001b[0m             \u001b[38;5;124m'\u001b[39m\u001b[38;5;124merror in \u001b[39m\u001b[38;5;132;01m%s\u001b[39;00m\u001b[38;5;124m._missing_: returned \u001b[39m\u001b[38;5;132;01m%r\u001b[39;00m\u001b[38;5;124m instead of None or a valid member\u001b[39m\u001b[38;5;124m'\u001b[39m\n\u001b[0;32m   1141\u001b[0m             \u001b[38;5;241m%\u001b[39m (\u001b[38;5;28mcls\u001b[39m\u001b[38;5;241m.\u001b[39m\u001b[38;5;18m__name__\u001b[39m, result)\n\u001b[0;32m   1142\u001b[0m             )\n",
      "\u001b[1;31mValueError\u001b[0m: 'dfsd' is not a valid TaskState"
     ]
    }
   ],
   "source": [
    "TaskState(test)\n",
    "TaskState('dfsd')"
   ]
  },
  {
   "cell_type": "code",
   "execution_count": 15,
   "metadata": {},
   "outputs": [
    {
     "name": "stdout",
     "output_type": "stream",
     "text": [
      "{'_generate_next_value_': <function Enum._generate_next_value_ at 0x0000025F641D7A60>, '__module__': 'a2a.types', '__doc__': '\\n    Represents the possible states of a Task.\\n    ', '_new_member_': <built-in method __new__ of type object at 0x00007FFF4539E320>, '_use_args_': False, '_member_names_': ['submitted', 'working', 'input_required', 'completed', 'canceled', 'failed', 'rejected', 'unknown'], '_member_map_': {'submitted': <TaskState.submitted: 'submitted'>, 'working': <TaskState.working: 'working'>, 'input_required': <TaskState.input_required: 'input-required'>, 'completed': <TaskState.completed: 'completed'>, 'canceled': <TaskState.canceled: 'canceled'>, 'failed': <TaskState.failed: 'failed'>, 'rejected': <TaskState.rejected: 'rejected'>, 'unknown': <TaskState.unknown: 'unknown'>}, '_value2member_map_': {'submitted': <TaskState.submitted: 'submitted'>, 'working': <TaskState.working: 'working'>, 'input-required': <TaskState.input_required: 'input-required'>, 'completed': <TaskState.completed: 'completed'>, 'canceled': <TaskState.canceled: 'canceled'>, 'failed': <TaskState.failed: 'failed'>, 'rejected': <TaskState.rejected: 'rejected'>, 'unknown': <TaskState.unknown: 'unknown'>}, '_unhashable_values_': [], '_member_type_': <class 'object'>, '_value_repr_': None, 'submitted': <TaskState.submitted: 'submitted'>, 'working': <TaskState.working: 'working'>, 'input_required': <TaskState.input_required: 'input-required'>, 'completed': <TaskState.completed: 'completed'>, 'canceled': <TaskState.canceled: 'canceled'>, 'failed': <TaskState.failed: 'failed'>, 'rejected': <TaskState.rejected: 'rejected'>, 'unknown': <TaskState.unknown: 'unknown'>, '__new__': <function Enum.__new__ at 0x0000025F641D7920>}\n",
      "submitted\n",
      "<class 'str'>\n",
      "TaskState.submitted\n",
      "working\n",
      "<class 'str'>\n",
      "TaskState.working\n",
      "input_required\n",
      "<class 'str'>\n",
      "TaskState.input_required\n",
      "completed\n",
      "<class 'str'>\n",
      "TaskState.completed\n",
      "canceled\n",
      "<class 'str'>\n",
      "TaskState.canceled\n",
      "failed\n",
      "<class 'str'>\n",
      "TaskState.failed\n",
      "rejected\n",
      "<class 'str'>\n",
      "TaskState.rejected\n",
      "unknown\n",
      "<class 'str'>\n",
      "TaskState.unknown\n",
      "submitted\n",
      "working\n",
      "input-required\n",
      "completed\n",
      "canceled\n",
      "failed\n",
      "rejected\n",
      "unknown\n"
     ]
    }
   ],
   "source": [
    "print(vars(TaskState))\n",
    "for name, value in TaskState.__members__.items():\n",
    "    print(name)\n",
    "    print(type(name))\n",
    "    print(value)\n",
    "\n",
    "for value in TaskState:\n",
    "    print(value.value)"
   ]
  },
  {
   "cell_type": "code",
   "execution_count": 5,
   "metadata": {},
   "outputs": [
    {
     "name": "stdout",
     "output_type": "stream",
     "text": [
      "<class 'a2a.types.AgentCard'>\n"
     ]
    }
   ],
   "source": [
    "skill = AgentSkill(\n",
    "        id='hello_world',\n",
    "        name='Returns hello world',\n",
    "        description='just returns hello world',\n",
    "        tags=['hello world'],\n",
    "        examples=['hi', 'hello world'],\n",
    "    )\n",
    "\n",
    "ac = AgentCard(\n",
    "    name='Hello World Agent',\n",
    "        description='Just a hello world agent',\n",
    "        url='http://localhost:9999/', # Agent will run here\n",
    "        version='1.0.0',\n",
    "        defaultInputModes=['text'],\n",
    "        defaultOutputModes=['text'],\n",
    "        capabilities=AgentCapabilities(), # Basic capabilities\n",
    "        skills=[skill], # Includes the skill defined above\n",
    "        authentication=AgentAuthentication(schemes=['public']), # No auth needed\n",
    ")\n",
    "print(type(ac))"
   ]
  },
  {
   "cell_type": "code",
   "execution_count": 1,
   "metadata": {},
   "outputs": [],
   "source": [
    "import uuid\n",
    "from datetime import datetime\n",
    "\n",
    "def get_data():\n",
    "    import requests\n",
    "\n",
    "    res = requests.get(\"https://randomuser.me/api/\")\n",
    "    res = res.json()\n",
    "    res = res['results'][0]\n",
    "\n",
    "    return res\n",
    "    # print(json.dumps(res, indent=3))\n",
    "\n",
    "def format_data(res):\n",
    "    data = {}\n",
    "    location = res['location']\n",
    "    data['id'] = uuid.uuid4().int\n",
    "    data['first_name'] = res['name']['first']\n",
    "    data['last_name'] = res['name']['last']\n",
    "    data['gender'] = res['gender']\n",
    "    data['address'] = f\"{str(location['street']['number'])} {location['street']['name']}, \" \\\n",
    "                      f\"{location['city']}, {location['state']}, {location['country']}\"\n",
    "    data['post_code'] = location['postcode']\n",
    "    data['email'] = res['email']\n",
    "    data['username'] = res['login']['username']\n",
    "    data['dob'] = res['dob']['date']\n",
    "    data['registered_date'] = res['registered']['date']\n",
    "    data['phone'] = res['phone']\n",
    "    data['picture'] = res['picture']['medium']\n",
    "    return data\n"
   ]
  },
  {
   "cell_type": "code",
   "execution_count": 6,
   "metadata": {},
   "outputs": [
    {
     "name": "stdout",
     "output_type": "stream",
     "text": [
      "{'id': 145907818603750359228993983483136831673, 'first_name': 'Begüm', 'last_name': 'Akay', 'gender': 'female', 'address': '3850 Anafartalar Cd, Sivas, Hakkâri, Turkey', 'post_code': 35985, 'email': 'begum.akay@example.com', 'username': 'lazyladybug635', 'dob': '1949-08-21T16:32:40.310Z', 'registered_date': '2009-12-31T00:00:23.603Z', 'phone': '(560)-633-8195', 'picture': 'https://randomuser.me/api/portraits/med/women/11.jpg'}\n"
     ]
    }
   ],
   "source": [
    "import json\n",
    "from kafka import KafkaProducer\n",
    "import time\n",
    "import logging\n",
    "\n",
    "# producer = KafkaProducer(bootstrap_servers=['broker:29092'], max_block_ms=5000)\n",
    "producer = KafkaProducer(bootstrap_servers=['localhost:9092'], max_block_ms=5000)\n",
    "curr_time = time.time()\n",
    "\n",
    "try:\n",
    "    res = get_data()\n",
    "    res = format_data(res)\n",
    "    print(res)\n",
    "\n",
    "    producer.send('users_created', json.dumps(res).encode('utf-8'))\n",
    "except Exception as e:\n",
    "        logging.error(f'An error occured: {e}')"
   ]
  },
  {
   "cell_type": "code",
   "execution_count": 7,
   "metadata": {},
   "outputs": [],
   "source": [
    "from kafka import KafkaConsumer\n",
    "import json\n",
    "import time\n",
    "\n",
    "consumer = KafkaConsumer(\n",
    "    'users_created',\n",
    "    bootstrap_servers=['localhost:9092'],\n",
    "    auto_offset_reset='earliest',\n",
    "    enable_auto_commit=True,\n",
    "    group_id='my-group',\n",
    "    value_deserializer=lambda x: json.loads(x.decode('utf-8'))\n",
    ")\n",
    "\n",
    "messages = consumer.poll(timeout_ms=1000)"
   ]
  },
  {
   "cell_type": "code",
   "execution_count": 9,
   "metadata": {},
   "outputs": [
    {
     "name": "stdout",
     "output_type": "stream",
     "text": [
      "Messages received:\n",
      "{TopicPartition(topic='users_created', partition=0): [ConsumerRecord(topic='users_created', partition=0, offset=1, timestamp=1747064770229, timestamp_type=0, key=None, value={'id': 190397088511188934512096305758284702733, 'first_name': 'Dirk', 'last_name': 'Klos', 'gender': 'male', 'address': '5380 Ahornweg, Calw, Hamburg, Germany', 'post_code': 15692, 'email': 'dirk.klos@example.com', 'username': 'ticklishbird312', 'dob': '1984-04-13T14:00:56.133Z', 'registered_date': '2011-04-03T00:05:06.641Z', 'phone': '0528-2737034', 'picture': 'https://randomuser.me/api/portraits/med/men/50.jpg'}, headers=[], checksum=None, serialized_key_size=-1, serialized_value_size=417, serialized_header_size=-1), ConsumerRecord(topic='users_created', partition=0, offset=2, timestamp=1747074970826, timestamp_type=0, key=None, value={'id': 145907818603750359228993983483136831673, 'first_name': 'Begüm', 'last_name': 'Akay', 'gender': 'female', 'address': '3850 Anafartalar Cd, Sivas, Hakkâri, Turkey', 'post_code': 35985, 'email': 'begum.akay@example.com', 'username': 'lazyladybug635', 'dob': '1949-08-21T16:32:40.310Z', 'registered_date': '2009-12-31T00:00:23.603Z', 'phone': '(560)-633-8195', 'picture': 'https://randomuser.me/api/portraits/med/women/11.jpg'}, headers=[], checksum=None, serialized_key_size=-1, serialized_value_size=440, serialized_header_size=-1)]}\n",
      "Topic: users_created, Partition: 0, Offset: 1, Key: None, Value: {'id': 190397088511188934512096305758284702733, 'first_name': 'Dirk', 'last_name': 'Klos', 'gender': 'male', 'address': '5380 Ahornweg, Calw, Hamburg, Germany', 'post_code': 15692, 'email': 'dirk.klos@example.com', 'username': 'ticklishbird312', 'dob': '1984-04-13T14:00:56.133Z', 'registered_date': '2011-04-03T00:05:06.641Z', 'phone': '0528-2737034', 'picture': 'https://randomuser.me/api/portraits/med/men/50.jpg'}\n",
      "Topic: users_created, Partition: 0, Offset: 2, Key: None, Value: {'id': 145907818603750359228993983483136831673, 'first_name': 'Begüm', 'last_name': 'Akay', 'gender': 'female', 'address': '3850 Anafartalar Cd, Sivas, Hakkâri, Turkey', 'post_code': 35985, 'email': 'begum.akay@example.com', 'username': 'lazyladybug635', 'dob': '1949-08-21T16:32:40.310Z', 'registered_date': '2009-12-31T00:00:23.603Z', 'phone': '(560)-633-8195', 'picture': 'https://randomuser.me/api/portraits/med/women/11.jpg'}\n"
     ]
    }
   ],
   "source": [
    "print(\"Messages received:\")\n",
    "print(messages)\n",
    "for topic_partition, messages in messages.items():\n",
    "    for message in messages:\n",
    "        print(f\"Topic: {topic_partition.topic}, Partition: {topic_partition.partition}, Offset: {message.offset}, Key: {message.key}, Value: {message.value}\")\n",
    "        # print(f\"Message: {message.value}\")\n",
    "        # print(f\"Key: {message.key}\")\n",
    "        # print(f\"Offset: {message.offset}\")\n",
    "        # print(f\"Timestamp: {datetime.fromtimestamp(message.timestamp / 1000)}\")"
   ]
  },
  {
   "cell_type": "code",
   "execution_count": 22,
   "metadata": {},
   "outputs": [],
   "source": [
    "from kafka import KafkaConsumer\n",
    "import json\n",
    "import time\n",
    "consumer_AI = KafkaConsumer(\n",
    "    'ai_tasks',\n",
    "    bootstrap_servers=['localhost:9092'],\n",
    "    auto_offset_reset='earliest',\n",
    "    enable_auto_commit=True,\n",
    "    group_id='my-group',\n",
    "    value_deserializer=lambda x: json.loads(x.decode('utf-8'))\n",
    ")"
   ]
  },
  {
   "cell_type": "code",
   "execution_count": null,
   "metadata": {},
   "outputs": [
    {
     "name": "stdout",
     "output_type": "stream",
     "text": [
      "Messages received:\n",
      "{TopicPartition(topic='ai_tasks', partition=0): [ConsumerRecord(topic='ai_tasks', partition=0, offset=0, timestamp=1747155865918, timestamp_type=0, key=None, value={'task_id': 248234137395907586427180757324977118128, 'task_name': 'TaskSayHello', 'task_version': '0.0.1', 'parent_task_id': None, 'group_task_id': None, 'description': 'The base Task class. This should be inherited by all Task classes.', 'sequence_number': 0, 'created_dt': '2025-05-13T13:04:25.793428', 'updated_dt': '2025-05-13T13:04:25.793428', 'input_artifacts': None}, headers=[], checksum=None, serialized_key_size=-1, serialized_value_size=373, serialized_header_size=-1), ConsumerRecord(topic='ai_tasks', partition=0, offset=1, timestamp=1747155992767, timestamp_type=0, key=None, value={'task_id': 248234137395907586427180757324977118128, 'task_name': 'TaskSayHello', 'task_version': '0.0.1', 'parent_task_id': None, 'group_task_id': None, 'description': 'The base Task class. This should be inherited by all Task classes.', 'sequence_number': 0, 'created_dt': '2025-05-13T13:06:32.766548', 'updated_dt': '2025-05-13T13:06:32.766548', 'input_artifacts': None}, headers=[], checksum=None, serialized_key_size=-1, serialized_value_size=373, serialized_header_size=-1)]}\n",
      "Topic: ai_tasks, Partition: 0, Offset: 0, Key: None, Value: {'task_id': 248234137395907586427180757324977118128, 'task_name': 'TaskSayHello', 'task_version': '0.0.1', 'parent_task_id': None, 'group_task_id': None, 'description': 'The base Task class. This should be inherited by all Task classes.', 'sequence_number': 0, 'created_dt': '2025-05-13T13:04:25.793428', 'updated_dt': '2025-05-13T13:04:25.793428', 'input_artifacts': None}\n",
      "Topic: ai_tasks, Partition: 0, Offset: 1, Key: None, Value: {'task_id': 248234137395907586427180757324977118128, 'task_name': 'TaskSayHello', 'task_version': '0.0.1', 'parent_task_id': None, 'group_task_id': None, 'description': 'The base Task class. This should be inherited by all Task classes.', 'sequence_number': 0, 'created_dt': '2025-05-13T13:06:32.766548', 'updated_dt': '2025-05-13T13:06:32.766548', 'input_artifacts': None}\n"
     ]
    }
   ],
   "source": [
    "messages = consumer_AI.poll(timeout_ms=1000)\n",
    "print(\"Messages received:\")\n",
    "for topic_partition, messages in messages.items():\n",
    "    for message in messages:\n",
    "        print(f\"Topic: {topic_partition.topic}, Partition: {topic_partition.partition}, Offset: {message.offset}, Key: {message.key}, Value: {message.value}\")\n",
    "        "
   ]
  }
 ],
 "metadata": {
  "kernelspec": {
   "display_name": "Kafka_Spark",
   "language": "python",
   "name": "python3"
  },
  "language_info": {
   "codemirror_mode": {
    "name": "ipython",
    "version": 3
   },
   "file_extension": ".py",
   "mimetype": "text/x-python",
   "name": "python",
   "nbconvert_exporter": "python",
   "pygments_lexer": "ipython3",
   "version": "3.11.10"
  }
 },
 "nbformat": 4,
 "nbformat_minor": 2
}
