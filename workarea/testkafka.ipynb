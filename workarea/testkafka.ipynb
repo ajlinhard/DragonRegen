{
 "cells": [
  {
   "cell_type": "code",
   "execution_count": 1,
   "metadata": {},
   "outputs": [
    {
     "name": "stdout",
     "output_type": "stream",
     "text": [
      "Success!\n"
     ]
    }
   ],
   "source": [
    "import a2a\n",
    "print('Success!')\n",
    "\n",
    "from a2a.types import (\n",
    "    AgentAuthentication,\n",
    "    AgentCapabilities,\n",
    "    AgentCard,\n",
    "    AgentSkill,\n",
    ")"
   ]
  },
  {
   "cell_type": "code",
   "execution_count": null,
   "metadata": {},
   "outputs": [
    {
     "ename": "NameError",
     "evalue": "name 'skill' is not defined",
     "output_type": "error",
     "traceback": [
      "\u001b[1;31m---------------------------------------------------------------------------\u001b[0m",
      "\u001b[1;31mNameError\u001b[0m                                 Traceback (most recent call last)",
      "Cell \u001b[1;32mIn[4], line 9\u001b[0m\n\u001b[0;32m      1\u001b[0m ac \u001b[38;5;241m=\u001b[39m AgentCard(\n\u001b[0;32m      2\u001b[0m     name\u001b[38;5;241m=\u001b[39m\u001b[38;5;124m'\u001b[39m\u001b[38;5;124mHello World Agent\u001b[39m\u001b[38;5;124m'\u001b[39m,\n\u001b[0;32m      3\u001b[0m         description\u001b[38;5;241m=\u001b[39m\u001b[38;5;124m'\u001b[39m\u001b[38;5;124mJust a hello world agent\u001b[39m\u001b[38;5;124m'\u001b[39m,\n\u001b[0;32m      4\u001b[0m         url\u001b[38;5;241m=\u001b[39m\u001b[38;5;124m'\u001b[39m\u001b[38;5;124mhttp://localhost:9999/\u001b[39m\u001b[38;5;124m'\u001b[39m, \u001b[38;5;66;03m# Agent will run here\u001b[39;00m\n\u001b[0;32m      5\u001b[0m         version\u001b[38;5;241m=\u001b[39m\u001b[38;5;124m'\u001b[39m\u001b[38;5;124m1.0.0\u001b[39m\u001b[38;5;124m'\u001b[39m,\n\u001b[0;32m      6\u001b[0m         defaultInputModes\u001b[38;5;241m=\u001b[39m[\u001b[38;5;124m'\u001b[39m\u001b[38;5;124mtext\u001b[39m\u001b[38;5;124m'\u001b[39m],\n\u001b[0;32m      7\u001b[0m         defaultOutputModes\u001b[38;5;241m=\u001b[39m[\u001b[38;5;124m'\u001b[39m\u001b[38;5;124mtext\u001b[39m\u001b[38;5;124m'\u001b[39m],\n\u001b[0;32m      8\u001b[0m         capabilities\u001b[38;5;241m=\u001b[39mAgentCapabilities(), \u001b[38;5;66;03m# Basic capabilities\u001b[39;00m\n\u001b[1;32m----> 9\u001b[0m         skills\u001b[38;5;241m=\u001b[39m[skill], \u001b[38;5;66;03m# Includes the skill defined above\u001b[39;00m\n\u001b[0;32m     10\u001b[0m         authentication\u001b[38;5;241m=\u001b[39mAgentAuthentication(schemes\u001b[38;5;241m=\u001b[39m[\u001b[38;5;124m'\u001b[39m\u001b[38;5;124mpublic\u001b[39m\u001b[38;5;124m'\u001b[39m]), \u001b[38;5;66;03m# No auth needed\u001b[39;00m\n\u001b[0;32m     11\u001b[0m )\n\u001b[0;32m     12\u001b[0m \u001b[38;5;28mprint\u001b[39m(\u001b[38;5;28mtype\u001b[39m(ac))\n",
      "\u001b[1;31mNameError\u001b[0m: name 'skill' is not defined"
     ]
    }
   ],
   "source": [
    "skill = AgentSkill(\n",
    "        id='hello_world',\n",
    "        name='Returns hello world',\n",
    "        description='just returns hello world',\n",
    "        tags=['hello world'],\n",
    "        examples=['hi', 'hello world'],\n",
    "    )\n",
    "\n",
    "ac = AgentCard(\n",
    "    name='Hello World Agent',\n",
    "        description='Just a hello world agent',\n",
    "        url='http://localhost:9999/', # Agent will run here\n",
    "        version='1.0.0',\n",
    "        defaultInputModes=['text'],\n",
    "        defaultOutputModes=['text'],\n",
    "        capabilities=AgentCapabilities(), # Basic capabilities\n",
    "        skills=[skill], # Includes the skill defined above\n",
    "        authentication=AgentAuthentication(schemes=['public']), # No auth needed\n",
    ")\n",
    "print(type(ac))"
   ]
  },
  {
   "cell_type": "code",
   "execution_count": 1,
   "metadata": {},
   "outputs": [],
   "source": [
    "import uuid\n",
    "from datetime import datetime\n",
    "\n",
    "def get_data():\n",
    "    import requests\n",
    "\n",
    "    res = requests.get(\"https://randomuser.me/api/\")\n",
    "    res = res.json()\n",
    "    res = res['results'][0]\n",
    "\n",
    "    return res\n",
    "    # print(json.dumps(res, indent=3))\n",
    "\n",
    "def format_data(res):\n",
    "    data = {}\n",
    "    location = res['location']\n",
    "    data['id'] = uuid.uuid4().int\n",
    "    data['first_name'] = res['name']['first']\n",
    "    data['last_name'] = res['name']['last']\n",
    "    data['gender'] = res['gender']\n",
    "    data['address'] = f\"{str(location['street']['number'])} {location['street']['name']}, \" \\\n",
    "                      f\"{location['city']}, {location['state']}, {location['country']}\"\n",
    "    data['post_code'] = location['postcode']\n",
    "    data['email'] = res['email']\n",
    "    data['username'] = res['login']['username']\n",
    "    data['dob'] = res['dob']['date']\n",
    "    data['registered_date'] = res['registered']['date']\n",
    "    data['phone'] = res['phone']\n",
    "    data['picture'] = res['picture']['medium']\n",
    "    return data\n"
   ]
  },
  {
   "cell_type": "code",
   "execution_count": 6,
   "metadata": {},
   "outputs": [
    {
     "name": "stdout",
     "output_type": "stream",
     "text": [
      "{'id': 145907818603750359228993983483136831673, 'first_name': 'Begüm', 'last_name': 'Akay', 'gender': 'female', 'address': '3850 Anafartalar Cd, Sivas, Hakkâri, Turkey', 'post_code': 35985, 'email': 'begum.akay@example.com', 'username': 'lazyladybug635', 'dob': '1949-08-21T16:32:40.310Z', 'registered_date': '2009-12-31T00:00:23.603Z', 'phone': '(560)-633-8195', 'picture': 'https://randomuser.me/api/portraits/med/women/11.jpg'}\n"
     ]
    }
   ],
   "source": [
    "import json\n",
    "from kafka import KafkaProducer\n",
    "import time\n",
    "import logging\n",
    "\n",
    "# producer = KafkaProducer(bootstrap_servers=['broker:29092'], max_block_ms=5000)\n",
    "producer = KafkaProducer(bootstrap_servers=['localhost:9092'], max_block_ms=5000)\n",
    "curr_time = time.time()\n",
    "\n",
    "try:\n",
    "    res = get_data()\n",
    "    res = format_data(res)\n",
    "    print(res)\n",
    "\n",
    "    producer.send('users_created', json.dumps(res).encode('utf-8'))\n",
    "except Exception as e:\n",
    "        logging.error(f'An error occured: {e}')"
   ]
  },
  {
   "cell_type": "code",
   "execution_count": 7,
   "metadata": {},
   "outputs": [],
   "source": [
    "from kafka import KafkaConsumer\n",
    "import json\n",
    "import time\n",
    "\n",
    "consumer = KafkaConsumer(\n",
    "    'users_created',\n",
    "    bootstrap_servers=['localhost:9092'],\n",
    "    auto_offset_reset='earliest',\n",
    "    enable_auto_commit=True,\n",
    "    group_id='my-group',\n",
    "    value_deserializer=lambda x: json.loads(x.decode('utf-8'))\n",
    ")\n",
    "\n",
    "messages = consumer.poll(timeout_ms=1000)"
   ]
  },
  {
   "cell_type": "code",
   "execution_count": 9,
   "metadata": {},
   "outputs": [
    {
     "name": "stdout",
     "output_type": "stream",
     "text": [
      "Messages received:\n",
      "{TopicPartition(topic='users_created', partition=0): [ConsumerRecord(topic='users_created', partition=0, offset=1, timestamp=1747064770229, timestamp_type=0, key=None, value={'id': 190397088511188934512096305758284702733, 'first_name': 'Dirk', 'last_name': 'Klos', 'gender': 'male', 'address': '5380 Ahornweg, Calw, Hamburg, Germany', 'post_code': 15692, 'email': 'dirk.klos@example.com', 'username': 'ticklishbird312', 'dob': '1984-04-13T14:00:56.133Z', 'registered_date': '2011-04-03T00:05:06.641Z', 'phone': '0528-2737034', 'picture': 'https://randomuser.me/api/portraits/med/men/50.jpg'}, headers=[], checksum=None, serialized_key_size=-1, serialized_value_size=417, serialized_header_size=-1), ConsumerRecord(topic='users_created', partition=0, offset=2, timestamp=1747074970826, timestamp_type=0, key=None, value={'id': 145907818603750359228993983483136831673, 'first_name': 'Begüm', 'last_name': 'Akay', 'gender': 'female', 'address': '3850 Anafartalar Cd, Sivas, Hakkâri, Turkey', 'post_code': 35985, 'email': 'begum.akay@example.com', 'username': 'lazyladybug635', 'dob': '1949-08-21T16:32:40.310Z', 'registered_date': '2009-12-31T00:00:23.603Z', 'phone': '(560)-633-8195', 'picture': 'https://randomuser.me/api/portraits/med/women/11.jpg'}, headers=[], checksum=None, serialized_key_size=-1, serialized_value_size=440, serialized_header_size=-1)]}\n",
      "Topic: users_created, Partition: 0, Offset: 1, Key: None, Value: {'id': 190397088511188934512096305758284702733, 'first_name': 'Dirk', 'last_name': 'Klos', 'gender': 'male', 'address': '5380 Ahornweg, Calw, Hamburg, Germany', 'post_code': 15692, 'email': 'dirk.klos@example.com', 'username': 'ticklishbird312', 'dob': '1984-04-13T14:00:56.133Z', 'registered_date': '2011-04-03T00:05:06.641Z', 'phone': '0528-2737034', 'picture': 'https://randomuser.me/api/portraits/med/men/50.jpg'}\n",
      "Topic: users_created, Partition: 0, Offset: 2, Key: None, Value: {'id': 145907818603750359228993983483136831673, 'first_name': 'Begüm', 'last_name': 'Akay', 'gender': 'female', 'address': '3850 Anafartalar Cd, Sivas, Hakkâri, Turkey', 'post_code': 35985, 'email': 'begum.akay@example.com', 'username': 'lazyladybug635', 'dob': '1949-08-21T16:32:40.310Z', 'registered_date': '2009-12-31T00:00:23.603Z', 'phone': '(560)-633-8195', 'picture': 'https://randomuser.me/api/portraits/med/women/11.jpg'}\n"
     ]
    }
   ],
   "source": [
    "print(\"Messages received:\")\n",
    "print(messages)\n",
    "for topic_partition, messages in messages.items():\n",
    "    for message in messages:\n",
    "        print(f\"Topic: {topic_partition.topic}, Partition: {topic_partition.partition}, Offset: {message.offset}, Key: {message.key}, Value: {message.value}\")\n",
    "        # print(f\"Message: {message.value}\")\n",
    "        # print(f\"Key: {message.key}\")\n",
    "        # print(f\"Offset: {message.offset}\")\n",
    "        # print(f\"Timestamp: {datetime.fromtimestamp(message.timestamp / 1000)}\")"
   ]
  }
 ],
 "metadata": {
  "kernelspec": {
   "display_name": "Kafka_Spark",
   "language": "python",
   "name": "python3"
  },
  "language_info": {
   "codemirror_mode": {
    "name": "ipython",
    "version": 3
   },
   "file_extension": ".py",
   "mimetype": "text/x-python",
   "name": "python",
   "nbconvert_exporter": "python",
   "pygments_lexer": "ipython3",
   "version": "3.11.10"
  }
 },
 "nbformat": 4,
 "nbformat_minor": 2
}
