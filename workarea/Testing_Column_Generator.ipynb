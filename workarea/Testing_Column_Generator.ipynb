{
 "cells": [
  {
   "cell_type": "code",
   "execution_count": 1,
   "metadata": {},
   "outputs": [
    {
     "name": "stdout",
     "output_type": "stream",
     "text": [
      "c:\\Users\\dalej\\Documents\\DragonRegen\n"
     ]
    }
   ],
   "source": [
    "import os\n",
    "import sys\n",
    "\n",
    "notebook_dir = os.getcwd()\n",
    "project_root = os.path.abspath(os.path.join(notebook_dir, \"..\"))\n",
    "print(project_root)\n",
    "sys.path.insert(0, project_root)\n",
    "\n",
    "from src.DataCreator.DataSets.DataSetGenStandard import DataSetGenStandard\n",
    "from src.DataCreator.ColGenerators import *\n",
    "from pyspark.sql import SparkSession\n",
    "from pyspark.sql.types import *\n",
    "from pyspark.sql.functions import *\n",
    "\n",
    "\n",
    "spark = SparkSession.builder \\\n",
    "    .appName(\"Test Data Set Generation\") \\\n",
    "    .enableHiveSupport() \\\n",
    "    .getOrCreate()\n"
   ]
  },
  {
   "cell_type": "code",
   "execution_count": 3,
   "metadata": {},
   "outputs": [
    {
     "name": "stdout",
     "output_type": "stream",
     "text": [
      "<class 'src.DataCreator.ColGenerators.Categorical.Categorical'>\n"
     ]
    }
   ],
   "source": [
    "s = Categorical.supports_requirements(StringType(), True, {'column_values': ['M', 'F'], 'column_values_ratio': [0.5, 0.5]})\n",
    "print(s)"
   ]
  },
  {
   "cell_type": "markdown",
   "metadata": {},
   "source": [
    "# Test Base Generation"
   ]
  },
  {
   "cell_type": "code",
   "execution_count": 5,
   "metadata": {},
   "outputs": [
    {
     "name": "stdout",
     "output_type": "stream",
     "text": [
      "['Tej', 'MWmJ4', 'k', 'N04wX9P', 'x6DRcmH', 'a0kB', 'hOyUl', 'fN76t2rq', 'xiX', 'tDfoO']\n"
     ]
    }
   ],
   "source": [
    "from src.DataCreator.DataGenerators.PyData import PyData\n",
    "\n",
    "print(PyData.random_strings(10, 1, 10, None, 0.0))"
   ]
  },
  {
   "cell_type": "code",
   "execution_count": 6,
   "metadata": {},
   "outputs": [
    {
     "name": "stdout",
     "output_type": "stream",
     "text": [
      "['nvVGGD1uxyMpMT4', 'XSedDvEbhzojEysrGU', 'oAPVfDwmsvnBBSgb7V', 'U5r3BTE98n', 'luSirN2pJDfmowS6', 'vycE', 'PGyEec', 'wB', 'Eav']\n"
     ]
    }
   ],
   "source": [
    "col1 = ColBasic('test_col', StringType())\n",
    "ls_col1 = col1.generate_column(100)\n",
    "# Print the first 10 values of the generated column\n",
    "print(ls_col1[1:10])\n"
   ]
  },
  {
   "cell_type": "code",
   "execution_count": 4,
   "metadata": {},
   "outputs": [
    {
     "name": "stdout",
     "output_type": "stream",
     "text": [
      "==> Column Name:gender\n",
      "Checking subclass: Categorical and requirements: None\n",
      "Checking subclass: StringBasic and requirements: <class 'src.DataCreator.ColGenerators.StringBasic.StringBasic'>\n"
     ]
    }
   ],
   "source": [
    "s = ColGenerator.create(\"gender\", StringType(), True, {'column_value': ['M', 'F'], 'value_ratio': [0.5, 0.5]})\n",
    "\n"
   ]
  },
  {
   "cell_type": "markdown",
   "metadata": {},
   "source": [
    "# Adding Metadata"
   ]
  },
  {
   "cell_type": "code",
   "execution_count": 11,
   "metadata": {},
   "outputs": [
    {
     "name": "stdout",
     "output_type": "stream",
     "text": [
      "{'description': 'ID of the user', 'stats': {'source': 'generated', 'unique': True, 'min': 1, 'max': None}}\n",
      "['K5sZfPOuW1', 'a6Osl46OTQ8jl', 'dOlEv7', 'yeglN', 'uRjKu2Y3OQRxqG', 'N8B59aARKPkBx', 'Ibp8', 'Jln81YUGlFKm', 'B75DBj']\n"
     ]
    }
   ],
   "source": [
    "col1_meta = ColBasic('test_col', StringType(),metadata={\"description\": \"ID of the user\", \"stats\":{\"source\": \"generated\", \"unique\": True, \"min\": 1, \"max\": None}})\n",
    "print(col1_meta.metadata)\n",
    "ls_col1_meta = col1_meta.generate_column(100)\n",
    "# Print the first 10 values of the generated column\n",
    "print(ls_col1_meta[1:10])\n",
    "\n"
   ]
  },
  {
   "cell_type": "code",
   "execution_count": null,
   "metadata": {},
   "outputs": [
    {
     "name": "stdout",
     "output_type": "stream",
     "text": [
      "{'description': 'ID of the user', 'stats': {'source': 'generated', 'unique': True, 'min': 1, 'max': None}}\n",
      "[51, 64, 31, 67, 84, 78, 55, 77, 38]\n",
      "None\n"
     ]
    }
   ],
   "source": [
    "test_IntMeta = StructField(\"id\", IntegerType(), True, metadata={\"description\": \"ID of the user\", \"stats\":{\"source\": \"generated\", \"unique\": True, \"min\": 1, \"max\": None}})\n",
    "print(test_IntMeta.metadata)\n",
    "test_IntMetaCol = ColBasic.replicate(test_IntMeta)\n",
    "ls_int_meta = test_IntMetaCol.generate_column(100)\n",
    "print(ls_int_meta[1:10])\n",
    "print(test_IntMetaCol.metadata)"
   ]
  }
 ],
 "metadata": {
  "kernelspec": {
   "display_name": "PySpark",
   "language": "python",
   "name": "python3"
  },
  "language_info": {
   "codemirror_mode": {
    "name": "ipython",
    "version": 3
   },
   "file_extension": ".py",
   "mimetype": "text/x-python",
   "name": "python",
   "nbconvert_exporter": "python",
   "pygments_lexer": "ipython3",
   "version": "3.11.0"
  }
 },
 "nbformat": 4,
 "nbformat_minor": 2
}
