{
 "cells": [
  {
   "cell_type": "code",
   "execution_count": 1,
   "metadata": {},
   "outputs": [],
   "source": [
    "import os\n",
    "import sys\n",
    "\n",
    "notebook_dir = os.getcwd()\n",
    "project_root = os.path.abspath(os.path.join(notebook_dir, \"..\"))\n",
    "sys.path.insert(0, project_root)"
   ]
  },
  {
   "cell_type": "code",
   "execution_count": null,
   "metadata": {},
   "outputs": [],
   "source": [
    "from pyspark.sql import SparkSession\n",
    "from pyspark.sql import functions as F\n",
    "from pyspark.sql.types import *\n",
    "from pyspark.sql.functions import col, lit\n",
    "\n",
    "s_raw_root_path = r'F:\\DataSamples\\DataSets'\n",
    "s_spark_file_server_root = r'F:\\Spark_Data_Test'\n",
    "\n",
    "spark = SparkSession.builder \\\n",
    "    .appName('Prep Census Data') \\\n",
    "    .master(\"local[*]\") \\\n",
    "    .config(\"spark.sql.warehouse.dir\", s_spark_file_server_root) \\\n",
    "    .enableHiveSupport() \\\n",
    "    .getOrCreate()\n"
   ]
  },
  {
   "cell_type": "code",
   "execution_count": 72,
   "metadata": {},
   "outputs": [
    {
     "name": "stdout",
     "output_type": "stream",
     "text": [
      "+---------+----+-------+--------+------------+--------+--------+------+-------+---------+-----------+\n",
      "|name     |rank|count  |prop100k|cum_prop100k|pctwhite|pctblack|pctapi|pctaian|pct2prace|pcthispanic|\n",
      "+---------+----+-------+--------+------------+--------+--------+------+-------+---------+-----------+\n",
      "|SMITH    |1   |2442977|828.19  |828.19      |70.9    |23.11   |0.5   |0.89   |2.19     |2.4        |\n",
      "|JOHNSON  |2   |1932812|655.24  |1483.42     |58.97   |34.63   |0.54  |0.94   |2.56     |2.36       |\n",
      "|WILLIAMS |3   |1625252|550.97  |2034.39     |45.75   |47.68   |0.46  |0.82   |2.81     |2.49       |\n",
      "|BROWN    |4   |1437026|487.16  |2521.56     |57.95   |35.6    |0.51  |0.87   |2.55     |2.52       |\n",
      "|JONES    |5   |1425470|483.24  |3004.8      |55.19   |38.48   |0.44  |1      |2.61     |2.29       |\n",
      "|GARCIA   |6   |1166120|395.32  |3400.12     |5.38    |0.45    |1.41  |0.47   |0.26     |92.03      |\n",
      "|MILLER   |7   |1161437|393.74  |3793.86     |84.11   |10.76   |0.54  |0.66   |1.77     |2.17       |\n",
      "|DAVIS    |8   |1116357|378.45  |4172.31     |62.2    |31.6    |0.49  |0.82   |2.45     |2.44       |\n",
      "|RODRIGUEZ|9   |1094924|371.19  |4543.5      |4.75    |0.54    |0.57  |0.18   |0.18     |93.77      |\n",
      "|MARTINEZ |10  |1060159|359.4   |4902.9      |5.28    |0.49    |0.6   |0.51   |0.22     |92.91      |\n",
      "+---------+----+-------+--------+------------+--------+--------+------+-------+---------+-----------+\n",
      "only showing top 10 rows\n",
      "\n",
      "+---------------+----+--------+--------+------------+--------+--------+------+-------+---------+-----------+\n",
      "|name           |rank|count   |prop100k|cum_prop100k|pctwhite|pctblack|pctapi|pctaian|pct2prace|pcthispanic|\n",
      "+---------------+----+--------+--------+------------+--------+--------+------+-------+---------+-----------+\n",
      "|ALL OTHER NAMES|0   |29312001|9936.97 |9936.97     |66.65   |8.53    |7.97  |0.86   |2.32     |13.67      |\n",
      "|SMITH          |1   |2442977 |828.19  |828.19      |70.9    |23.11   |0.5   |0.89   |2.19     |2.4        |\n",
      "|JOHNSON        |2   |1932812 |655.24  |1483.42     |58.97   |34.63   |0.54  |0.94   |2.56     |2.36       |\n",
      "|WILLIAMS       |3   |1625252 |550.97  |2034.39     |45.75   |47.68   |0.46  |0.82   |2.81     |2.49       |\n",
      "|BROWN          |4   |1437026 |487.16  |2521.56     |57.95   |35.6    |0.51  |0.87   |2.55     |2.52       |\n",
      "|JONES          |5   |1425470 |483.24  |3004.8      |55.19   |38.48   |0.44  |1      |2.61     |2.29       |\n",
      "|GARCIA         |6   |1166120 |395.32  |3400.12     |5.38    |0.45    |1.41  |0.47   |0.26     |92.03      |\n",
      "|MILLER         |7   |1161437 |393.74  |3793.86     |84.11   |10.76   |0.54  |0.66   |1.77     |2.17       |\n",
      "|DAVIS          |8   |1116357 |378.45  |4172.31     |62.2    |31.6    |0.49  |0.82   |2.45     |2.44       |\n",
      "|RODRIGUEZ      |9   |1094924 |371.19  |4543.5      |4.75    |0.54    |0.57  |0.18   |0.18     |93.77      |\n",
      "+---------------+----+--------+--------+------------+--------+--------+------+-------+---------+-----------+\n",
      "only showing top 10 rows\n",
      "\n",
      "+----------+------+-----+--------+------------+--------+--------+------+-------+---------+-----------+\n",
      "|name      |rank  |count|prop100k|cum_prop100k|pctwhite|pctblack|pctapi|pctaian|pct2prace|pcthispanic|\n",
      "+----------+------+-----+--------+------------+--------+--------+------+-------+---------+-----------+\n",
      "|ZAKHARCHUK|160975|100  |0.03    |90019.7     |100     |0       |0     |0      |0        |0          |\n",
      "|ZACCAGNI  |160975|100  |0.03    |90020.04    |97      |(S)     |0     |0      |0        |(S)        |\n",
      "|YUMA      |160975|100  |0.03    |90019.74    |29      |22      |9     |(S)    |(S)      |31         |\n",
      "|ZAMPANO   |160975|100  |0.03    |90019.77    |93      |0       |0     |0      |0        |7          |\n",
      "|YESS      |160975|100  |0.03    |90019.81    |99      |0       |(S)   |0      |0        |(S)        |\n",
      "|ZABINSKY  |160975|100  |0.03    |90019.84    |97      |0       |0     |0      |(S)      |(S)        |\n",
      "|YIZAR     |160975|100  |0.03    |90019.87    |(S)     |85      |(S)   |0      |(S)      |7          |\n",
      "|ZAPON     |160975|100  |0.03    |90019.91    |0       |(S)     |(S)   |0      |0        |99         |\n",
      "|ZAHURANEC |160975|100  |0.03    |90019.94    |100     |0       |0     |0      |0        |0          |\n",
      "|YENAWINE  |160975|100  |0.03    |90019.97    |90      |0       |(S)   |0      |8        |(S)        |\n",
      "+----------+------+-----+--------+------------+--------+--------+------+-------+---------+-----------+\n",
      "only showing top 10 rows\n",
      "\n"
     ]
    }
   ],
   "source": [
    "# Load Files\n",
    "df_census_surname = spark.read \\\n",
    "    .options(header='true', delimiter=',', inferSchema=True) \\\n",
    "    .csv(os.path.join(s_raw_root_path, 'Census_Surnames\\\\Names_2010Census.csv'))\n",
    "\n",
    "df_census_surname.show(10, truncate=False)\n",
    "df_census_surname.orderBy('rank', ascending=True).show(10, truncate=False)\n",
    "df_census_surname.orderBy('rank', ascending=False).show(10, truncate=False)"
   ]
  },
  {
   "cell_type": "markdown",
   "metadata": {},
   "source": [
    "## Understanding the data columns\n",
    "The\n",
    "**name**\n",
    "- The column is truely unique\n",
    "\n",
    "**rank**\n",
    "- The columns is not unique, because the rank is a dense_rank where the same values (aka ties) recieve the same value.\n",
    "\n",
    "**cum_prop100k**\n",
    "- The max value for the column does not go to 100k or 100,000, because the data only contains count(s) >= 100\n",
    "\n",
    "**pct%**\n",
    "- These columns have non-numeric values in the data labelled as \"(S)\", will need to remove a convert."
   ]
  },
  {
   "cell_type": "code",
   "execution_count": 20,
   "metadata": {},
   "outputs": [
    {
     "name": "stdout",
     "output_type": "stream",
     "text": [
      "root\n",
      " |-- name: string (nullable = true)\n",
      " |-- rank: integer (nullable = true)\n",
      " |-- count: integer (nullable = true)\n",
      " |-- prop100k: double (nullable = true)\n",
      " |-- cum_prop100k: double (nullable = true)\n",
      " |-- pctwhite: string (nullable = true)\n",
      " |-- pctblack: string (nullable = true)\n",
      " |-- pctapi: string (nullable = true)\n",
      " |-- pctaian: string (nullable = true)\n",
      " |-- pct2prace: string (nullable = true)\n",
      " |-- pcthispanic: string (nullable = true)\n",
      "\n"
     ]
    }
   ],
   "source": [
    "df_census_surname.printSchema()"
   ]
  },
  {
   "cell_type": "code",
   "execution_count": null,
   "metadata": {},
   "outputs": [],
   "source": [
    "from pprint import pprint\n",
    "df_stats = df_census_surname.select(min('rank').alias('min_rank')\n",
    "                         , max('rank').alias('max_rank')\n",
    "                         ,min('count').alias('min_count')\n",
    "                        , max('count').alias('max_count')\n",
    "                        , count('*').alias('total_count')\n",
    "                        , countDistinct('rank').alias('distinct_rank')\n",
    "                         )\n",
    "dict_stats = df_stats.collect()[0].asDict()\n",
    "pprint(dict_stats)"
   ]
  },
  {
   "cell_type": "code",
   "execution_count": 32,
   "metadata": {},
   "outputs": [
    {
     "name": "stdout",
     "output_type": "stream",
     "text": [
      "Distinct Name Count: 162,254 vs DataFrame Count: 162,254\n"
     ]
    }
   ],
   "source": [
    "# confirm name is distinct \n",
    "df_cnt = df_census_surname.count()\n",
    "name_dist_cnt = df_census_surname.select(df_census_surname.name).distinct().count()\n",
    "print(f\"Distinct Name Count: {name_dist_cnt:,} vs DataFrame Count: {df_cnt:,}\")"
   ]
  },
  {
   "cell_type": "code",
   "execution_count": null,
   "metadata": {},
   "outputs": [
    {
     "name": "stdout",
     "output_type": "stream",
     "text": [
      "Max Rank: 160,975 vs DataFrame Count: 162,254\n"
     ]
    }
   ],
   "source": [
    "from pyspark.sql.functions import *\n",
    "# Check if rank column matches the row count\n",
    "\n",
    "max_rank = df_census_surname.select(max(df_census_surname.rank)).collect()[0][0]\n",
    "print(f\"Max Rank: {max_rank:,} vs DataFrame Count: {df_cnt:,}\")"
   ]
  },
  {
   "cell_type": "code",
   "execution_count": 46,
   "metadata": {},
   "outputs": [
    {
     "data": {
      "text/plain": [
       "10231"
      ]
     },
     "execution_count": 46,
     "metadata": {},
     "output_type": "execute_result"
    }
   ],
   "source": [
    "df_census_surname.select('rank').distinct().count()"
   ]
  },
  {
   "cell_type": "code",
   "execution_count": 71,
   "metadata": {},
   "outputs": [
    {
     "name": "stdout",
     "output_type": "stream",
     "text": [
      "+---------------+----+--------+--------+------------+--------+--------+------+-------+---------+-----------+---------+\n",
      "|           name|rank|   count|prop100k|cum_prop100k|pctwhite|pctblack|pctapi|pctaian|pct2prace|pcthispanic|rank_diff|\n",
      "+---------------+----+--------+--------+------------+--------+--------+------+-------+---------+-----------+---------+\n",
      "|ALL OTHER NAMES|   0|29312001| 9936.97|     9936.97|   66.65|    8.53|  7.97|   0.86|     2.32|      13.67|        1|\n",
      "|          SMITH|   1| 2442977|  828.19|      828.19|    70.9|   23.11|   0.5|   0.89|     2.19|        2.4|        2|\n",
      "|        JOHNSON|   2| 1932812|  655.24|     1483.42|   58.97|   34.63|  0.54|   0.94|     2.56|       2.36|        3|\n",
      "|       WILLIAMS|   3| 1625252|  550.97|     2034.39|   45.75|   47.68|  0.46|   0.82|     2.81|       2.49|        4|\n",
      "|          BROWN|   4| 1437026|  487.16|     2521.56|   57.95|    35.6|  0.51|   0.87|     2.55|       2.52|        5|\n",
      "|          JONES|   5| 1425470|  483.24|      3004.8|   55.19|   38.48|  0.44|      1|     2.61|       2.29|        6|\n",
      "|         GARCIA|   6| 1166120|  395.32|     3400.12|    5.38|    0.45|  1.41|   0.47|     0.26|      92.03|        7|\n",
      "|         MILLER|   7| 1161437|  393.74|     3793.86|   84.11|   10.76|  0.54|   0.66|     1.77|       2.17|        8|\n",
      "|          DAVIS|   8| 1116357|  378.45|     4172.31|    62.2|    31.6|  0.49|   0.82|     2.45|       2.44|        9|\n",
      "|      RODRIGUEZ|   9| 1094924|  371.19|      4543.5|    4.75|    0.54|  0.57|   0.18|     0.18|      93.77|       10|\n",
      "+---------------+----+--------+--------+------------+--------+--------+------+-------+---------+-----------+---------+\n",
      "only showing top 10 rows\n",
      "\n"
     ]
    }
   ],
   "source": [
    "from pyspark.sql import Window\n",
    "\n",
    "df_census_surname.select('*'\n",
    "                         , row_number().over(Window.orderBy('rank')).alias('rank_diff')\n",
    ").show(10)"
   ]
  },
  {
   "cell_type": "code",
   "execution_count": 58,
   "metadata": {},
   "outputs": [
    {
     "name": "stdout",
     "output_type": "stream",
     "text": [
      "+------+--------+----------+---------+------------------+\n",
      "|  rank|rank_cnt|  min_name| max_name|      sum_prop100k|\n",
      "+------+--------+----------+---------+------------------+\n",
      "|158432|    1280|ABDUSSAMAD|  ZWANZIG|38.400000000000695|\n",
      "|160975|    1279|   AARSETH|  ZWEIBEL|38.370000000000694|\n",
      "|159712|    1263|ABDELDAYEM|    ZURKO|37.890000000000676|\n",
      "|157234|    1198|    ABAYAN|ZWERNEMAN|  35.9400000000006|\n",
      "|156044|    1190|      ABAI|ZWERDLING| 47.59999999999916|\n",
      "|152628|    1141|   ABANGAN|   ZYBERT|45.639999999999205|\n",
      "|153769|    1138|      ABAL|ZWIERLEIN| 45.51999999999921|\n",
      "|154907|    1137|    ABDELA|      ZOR| 45.47999999999921|\n",
      "|151532|    1096|   ABOGADO|    ZULLA| 43.83999999999924|\n",
      "|147253|    1094|   AALDERS|   ZYDZIK|43.759999999999245|\n",
      "+------+--------+----------+---------+------------------+\n",
      "only showing top 10 rows\n",
      "\n",
      "+------+-----+\n",
      "|  rank|count|\n",
      "+------+-----+\n",
      "|158432| 1280|\n",
      "|160975| 1279|\n",
      "|159712| 1263|\n",
      "|157234| 1198|\n",
      "|156044| 1190|\n",
      "|152628| 1141|\n",
      "|153769| 1138|\n",
      "|154907| 1137|\n",
      "|151532| 1096|\n",
      "|147253| 1094|\n",
      "+------+-----+\n",
      "only showing top 10 rows\n",
      "\n"
     ]
    }
   ],
   "source": [
    "# Aggregates on rank\n",
    "df_census_rank = df_census_surname.groupBy('rank').agg(count('rank').alias('rank_cnt'), \n",
    "                                                       min('name').alias('min_name'), \n",
    "                                                       max('name').alias('max_name'),\n",
    "                                                       sum(df_census_surname.prop100k).alias('sum_prop100k'),\n",
    "                                                       )\n",
    "df_census_rank.select('*').orderBy('rank_cnt', ascending=False).show(10)\n",
    "\n",
    "# Second Method\n",
    "df_census_rank = df_census_surname.groupBy('rank').count().alias('rank_cnt')\n",
    "df_census_rank.select('*').orderBy('count', ascending=False).show(10)"
   ]
  },
  {
   "cell_type": "code",
   "execution_count": 63,
   "metadata": {},
   "outputs": [
    {
     "name": "stdout",
     "output_type": "stream",
     "text": [
      "+---------+------+-----+--------+------------+--------+--------+------+-------+---------+-----------+\n",
      "|     name|  rank|count|prop100k|cum_prop100k|pctwhite|pctblack|pctapi|pctaian|pct2prace|pcthispanic|\n",
      "+---------+------+-----+--------+------------+--------+--------+------+-------+---------+-----------+\n",
      "|    YIRGA|158432|  102|    0.03|     89932.2|   19.61|   77.45|     0|      0|      (S)|        (S)|\n",
      "|   YEVOLI|158432|  102|    0.03|    89932.23|   97.06|     (S)|     0|      0|        0|        (S)|\n",
      "|   YOCIUS|158432|  102|    0.03|    89932.27|   99.02|     (S)|     0|      0|        0|        (S)|\n",
      "|ZAMBERLAN|158432|  102|    0.03|     89932.3|   93.14|       0|   (S)|      0|      (S)|        (S)|\n",
      "|     YONK|158432|  102|    0.03|    89932.34|    95.1|     (S)|     0|      0|      (S)|        (S)|\n",
      "|    ZAKON|158432|  102|    0.03|    89932.37|   97.06|     (S)|   (S)|      0|      (S)|          0|\n",
      "|   ZAMSKY|158432|  102|    0.03|    89932.41|   99.02|       0|     0|      0|      (S)|        (S)|\n",
      "|    ZANOL|158432|  102|    0.03|    89932.44|   96.08|       0|     0|      0|      (S)|        (S)|\n",
      "|    ZASTE|158432|  102|    0.03|    89932.48|   20.59|       0|     0|  49.02|    10.78|      19.61|\n",
      "|  YOUAKIM|158432|  102|    0.03|    89932.51|   94.12|     (S)|   (S)|      0|      (S)|        (S)|\n",
      "+---------+------+-----+--------+------------+--------+--------+------+-------+---------+-----------+\n",
      "only showing top 10 rows\n",
      "\n"
     ]
    }
   ],
   "source": [
    "# Looking into the stats of a lower rank / frequency name\n",
    "df_census_surname.select('*').where(df_census_surname.rank == 158432).orderBy('prop100k').show(10)"
   ]
  },
  {
   "cell_type": "code",
   "execution_count": null,
   "metadata": {},
   "outputs": [
    {
     "data": {
      "text/plain": [
       "51950"
      ]
     },
     "execution_count": 66,
     "metadata": {},
     "output_type": "execute_result"
    }
   ],
   "source": [
    "# Check if a column contains a null value\n",
    "df_census_surname.filter(col('pcthispanic').isNull()).count()\n",
    "df_census_surname.filter(df_census_surname.pcthispanic == '(S)').count()\n",
    "\n",
    "# Check if a column has a non-numeric value\n",
    "# Coming in Spark 4.0\n",
    "# isnumeric_cnt = df_census_surname.filter(try_cast('pctapi', 'double').isNotNull()).count()\n",
    "\n",
    "\n",
    "# rank the data per \"First Letter\", by prop100K\n",
    "# sum the count column , then by \"First Letter\" and \"Rank\""
   ]
  },
  {
   "cell_type": "markdown",
   "metadata": {},
   "source": [
    "# Quality Check all the data rows are consistent."
   ]
  },
  {
   "cell_type": "code",
   "execution_count": 14,
   "metadata": {},
   "outputs": [
    {
     "name": "stdout",
     "output_type": "stream",
     "text": [
      "['Mary,F,7065', 'Anna,F,2604', 'Emma,F,2003', 'Elizabeth,F,1939', 'Minnie,F,1746']\n",
      "2000\n"
     ]
    }
   ],
   "source": [
    "rdd_ssa_file = spark.sparkContext.textFile(os.path.join(s_raw_root_path, 'SSA_Names\\\\yob1880.txt'))\n",
    "print(rdd_ssa_file.take(5))\n",
    "print(rdd_ssa_file.count())\n"
   ]
  },
  {
   "cell_type": "code",
   "execution_count": null,
   "metadata": {},
   "outputs": [
    {
     "name": "stdout",
     "output_type": "stream",
     "text": [
      "['Mary,F,7065', 'Anna,F,2604', 'Emma,F,2003', 'Elizabeth,F,1939', 'Minnie,F,1746']\n",
      "2117219\n"
     ]
    }
   ],
   "source": [
    "rdd_ssa_files_all = spark.sparkContext.textFile(os.path.join(s_raw_root_path, 'SSA_Names\\\\*.txt'))\n",
    "print(rdd_ssa_files_all.take(5))\n",
    "# 2,117,219\n",
    "print(rdd_ssa_files_all.count())"
   ]
  },
  {
   "cell_type": "code",
   "execution_count": 18,
   "metadata": {},
   "outputs": [
    {
     "name": "stdout",
     "output_type": "stream",
     "text": [
      "Bad Line Count: 0\n",
      "[]\n"
     ]
    }
   ],
   "source": [
    "from pprint import pprint\n",
    "\n",
    "i_bad_lines = 0\n",
    "i_expected_sep_cnt = 2\n",
    "ls_bad_lines = []\n",
    "\n",
    "for row in rdd_ssa_files_all.toLocalIterator():\n",
    "    i_sep_cnt = row.count(',')\n",
    "    if i_sep_cnt != i_expected_sep_cnt:\n",
    "        i_bad_lines += 1\n",
    "        ls_bad_lines.append(row)\n",
    "\n",
    "print(f'Bad Line Count: {i_bad_lines}')\n",
    "pprint(ls_bad_lines[0:5])"
   ]
  }
 ],
 "metadata": {
  "kernelspec": {
   "display_name": "PySpark",
   "language": "python",
   "name": "python3"
  },
  "language_info": {
   "codemirror_mode": {
    "name": "ipython",
    "version": 3
   },
   "file_extension": ".py",
   "mimetype": "text/x-python",
   "name": "python",
   "nbconvert_exporter": "python",
   "pygments_lexer": "ipython3",
   "version": "3.8.0"
  }
 },
 "nbformat": 4,
 "nbformat_minor": 2
}
