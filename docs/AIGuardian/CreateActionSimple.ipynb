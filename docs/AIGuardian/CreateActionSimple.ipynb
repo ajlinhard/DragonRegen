{
 "cells": [
  {
   "cell_type": "code",
   "execution_count": 1,
   "id": "9af77b63",
   "metadata": {},
   "outputs": [
    {
     "name": "stdout",
     "output_type": "stream",
     "text": [
      "Project path: c:\\Users\\dalej\\Documents\\DragonRegen\n"
     ]
    }
   ],
   "source": [
    "import os\n",
    "import sys\n",
    "\n",
    "notebook_path = os.getcwd()\n",
    "project_path = os.path.abspath(os.path.join(notebook_path, '..','..'))\n",
    "print(f\"Project path: {project_path}\")\n",
    "# Add the project path to sys.path\n",
    "sys.path.append(project_path)"
   ]
  },
  {
   "cell_type": "code",
   "execution_count": 3,
   "id": "51025355",
   "metadata": {},
   "outputs": [
    {
     "name": "stdout",
     "output_type": "stream",
     "text": [
      "Connected to the database.\n"
     ]
    }
   ],
   "source": [
    "from src.MetaFort.SysLogs.DatabaseEngine import DatabaseEngine\n",
    "from src.DataCreator.SchemaGenerators.SchemaMSSQL import SchemaMSSQL\n",
    "\n",
    "# create database engine object and connection\n",
    "driver = \"ODBC Driver 17 for SQL Server\"\n",
    "# server = 'localhost\\\\SQLEXPRESS' \n",
    "server = 'localhost\\\\SQLEXPRESS01' \n",
    "database = \"MetaFort\"\n",
    "conn_str = (\n",
    "    f\"DRIVER={driver};\"\n",
    "    f\"SERVER={server};\"\n",
    "    f\"DATABASE={database};\"\n",
    "    f\"Trusted_Connection=yes;\"\n",
    ")\n",
    "db_engine = DatabaseEngine(conn_str)\n",
    "db_engine.connect()\n",
    "print(\"Connected to the database.\")"
   ]
  },
  {
   "cell_type": "code",
   "execution_count": 1,
   "id": "e172a058",
   "metadata": {},
   "outputs": [],
   "source": [
    "import json\n",
    "s_json = \"\"\"{\"members\": {     \"purpose\": \"Stores information about gym members\",     \"fields\": {       \"member_id\": \"unique ID, primary key for member identification\",       \"first_name\": \"member's first name\",       \"last_name\": \"member's last name\",       \"email\": \"member's email address for communication\",       \"phone\": \"member's contact phone number\",       \"address\": \"member's physical address\",       \"date_of_birth\": \"member's date of birth for age verification\",       \"join_date\": \"date when the member joined the gym\",       \"emergency_contact_name\": \"name of emergency contact person\",       \"emergency_contact_phone\": \"phone number of emergency contact\"     }   },   \"membership_plans\": {     \"purpose\": \"Defines different membership plan options\",     \"fields\": {       \"plan_id\": \"unique ID, primary key for plan identification\",       \"plan_name\": \"name of the membership plan\",       \"description\": \"detailed description of the plan\",       \"duration_months\": \"duration of the plan in months\",       \"price\": \"cost of the membership plan\",       \"features\": \"list of features included in the plan\",       \"is_active\": \"boolean indicating if the plan is currently offered\"     }   },   \"member_subscriptions\": {     \"purpose\": \"Tracks active subscriptions for each member\",     \"fields\": {       \"subscription_id\": \"unique ID, primary key for subscription\",       \"member_id\": \"foreign key referencing members table\",       \"plan_id\": \"foreign key referencing membership_plans table\",       \"start_date\": \"date when the subscription begins\",       \"end_date\": \"date when the subscription expires\",       \"payment_status\": \"current status of payment (paid, pending, overdue)\",       \"auto_renew\": \"boolean indicating if subscription should automatically renew\",       \"is_active\": \"boolean indicating if subscription is currently active\"     }   },   \"payments\": {     \"purpose\": \"Records all payment transactions\",     \"fields\": {       \"payment_id\": \"unique ID, primary key for payment transaction\",       \"subscription_id\": \"foreign key referencing member_subscriptions table\",       \"amount\": \"payment amount\",       \"payment_date\": \"date when payment was made\",       \"payment_method\": \"method used for payment (credit card, cash, etc.)\",       \"transaction_reference\": \"reference number for the transaction\",       \"status\": \"status of the payment (successful, failed, refunded)\"     }   },   \"check_ins\": {     \"purpose\": \"Tracks member visits to the gym\",     \"fields\": {       \"check_in_id\": \"unique ID, primary key for check-in record\",       \"member_id\": \"foreign key referencing members table\",       \"check_in_time\": \"timestamp when member checked in\",       \"check_out_time\": \"timestamp when member checked out (optional)\",       \"location_id\": \"foreign key referencing gym_locations if multiple locations exist\"     }   },   \"gym_classes\": {     \"purpose\": \"Information about fitness classes offered\",     \"fields\": {       \"class_id\": \"unique ID, primary key for class\",       \"class_name\": \"name of the fitness class\",       \"description\": \"detailed description of the class\",       \"instructor_id\": \"foreign key referencing staff table for the instructor\",       \"capacity\": \"maximum number of participants allowed\",       \"duration_minutes\": \"length of class in minutes\",       \"difficulty_level\": \"indicates class difficulty (beginner, intermediate, advanced)\"     }   },   \"class_schedule\": {     \"purpose\": \"Schedule of when classes are offered\",     \"fields\": {       \"schedule_id\": \"unique ID, primary key for schedule entry\",       \"class_id\": \"foreign key referencing gym_classes table\",       \"start_time\": \"date and time when class starts\",       \"end_time\": \"date and time when class ends\",       \"room_id\": \"foreign key referencing rooms table if applicable\",       \"is_recurring\": \"boolean indicating if class recurs weekly\",       \"recurrence_pattern\": \"pattern of recurrence if applicable\"     }   },   \"class_bookings\": {     \"purpose\": \"Tracks member registrations for classes\",     \"fields\": {       \"booking_id\": \"unique ID, primary key for booking\",       \"member_id\": \"foreign key referencing members table\",       \"schedule_id\": \"foreign key referencing class_schedule table\",       \"booking_date\": \"date when booking was made\",       \"attendance_status\": \"tracks if member attended (attended, no-show, cancelled)\",       \"cancellation_date\": \"date when booking was cancelled if applicable\"     }   },   \"staff\": {     \"purpose\": \"Information about gym employees\",     \"fields\": {       \"staff_id\": \"unique ID, primary key for staff member\",       \"first_name\": \"staff member's first name\",       \"last_name\": \"staff member's last name\",       \"email\": \"staff member's email address\",       \"phone\": \"staff member's contact phone number\",       \"position\": \"job title or position\",       \"hire_date\": \"date when staff member was hired\",       \"certifications\": \"list of fitness certifications held\",       \"is_active\": \"boolean indicating if staff member is currently employed\"     }   },   \"equipment\": {     \"purpose\": \"Inventory of gym equipment\",     \"fields\": {       \"equipment_id\": \"unique ID, primary key for equipment item\",       \"name\": \"name of the equipment\",       \"description\": \"detailed description of the equipment\",       \"purchase_date\": \"date when equipment was purchased\",       \"cost\": \"purchase cost of the equipment\",       \"maintenance_schedule\": \"frequency of required maintenance\",       \"last_maintenance_date\": \"date of last maintenance performed\",       \"status\": \"current status (active, under repair, retired)\"     }   } }\"\"\"\n",
    "schema_json = json.loads(s_json)\n"
   ]
  },
  {
   "cell_type": "code",
   "execution_count": 2,
   "id": "009e7322",
   "metadata": {},
   "outputs": [
    {
     "name": "stdout",
     "output_type": "stream",
     "text": [
      "dict_keys(['members', 'membership_plans', 'member_subscriptions', 'payments', 'check_ins', 'gym_classes', 'class_schedule', 'class_bookings', 'staff', 'equipment'])\n"
     ]
    }
   ],
   "source": [
    "print(schema_json.keys())"
   ]
  },
  {
   "cell_type": "code",
   "execution_count": 4,
   "id": "64e79bcc",
   "metadata": {},
   "outputs": [
    {
     "name": "stdout",
     "output_type": "stream",
     "text": [
      "purpose: Stores information about gym members\n",
      "Fields in fields:\n",
      "  member_id: unique ID, primary key for member identification\n",
      "  first_name: member's first name\n",
      "  last_name: member's last name\n",
      "  email: member's email address for communication\n",
      "  phone: member's contact phone number\n",
      "  address: member's physical address\n",
      "  date_of_birth: member's date of birth for age verification\n",
      "  join_date: date when the member joined the gym\n",
      "  emergency_contact_name: name of emergency contact person\n",
      "  emergency_contact_phone: phone number of emergency contact\n",
      "fields: {'member_id': 'unique ID, primary key for member identification', 'first_name': \"member's first name\", 'last_name': \"member's last name\", 'email': \"member's email address for communication\", 'phone': \"member's contact phone number\", 'address': \"member's physical address\", 'date_of_birth': \"member's date of birth for age verification\", 'join_date': 'date when the member joined the gym', 'emergency_contact_name': 'name of emergency contact person', 'emergency_contact_phone': 'phone number of emergency contact'}\n"
     ]
    }
   ],
   "source": [
    "for key, val in schema_json['members'].items():\n",
    "    if key == 'fields':\n",
    "        print(f\"Fields in {key}:\")\n",
    "        for field_key, field_val in val.items():\n",
    "            print(f\"  {field_key}: {field_val}\")\n",
    "    print(f\"{key}: {val}\")"
   ]
  },
  {
   "cell_type": "code",
   "execution_count": 6,
   "id": "dcdc8d32",
   "metadata": {},
   "outputs": [],
   "source": [
    "prompt = \"\"\"\n",
    "Please take the following <column_information> to choose what type of column a column most likely is.\n",
    "<column_information>\n",
    "Table Purpose: Stores information about gym members.\n",
    "Column Info: \"member_id\": \"unique ID, primary key for member identification.\"\n",
    "</column_information>\n",
    "\n",
    "Choose one column_type from this list <choices> below, structure as column_type: description of what qualifies a column as that type.\n",
    "<choices>\n",
    "Unique_Identifier: A unique identifier for each record, typically a primary key.\n",
    "First_Name: A column that stores the first name of a person.\n",
    "Last_Name: A column that stores the last name of a person.\n",
    "City: A column that stores the name of a city.\n",
    "Email: A column that stores email addresses, often used for contact information.\n",
    "Categorical: a column that represents a category or type, often with a limited set of values.\n",
    "Integer: A column that stores whole numbers, often used for counts or identifiers.\n",
    "Date: A column that stores date values, typically representing a specific point in time.\n",
    "Boolean: A column that stores true/false values, often used for flags or binary states.\n",
    "Text: A column that stores free-form text or descriptions.\n",
    "Numeric: A column that stores decimal or floating-point numbers, often used for measurements or financial data.\n",
    "</choices>\n",
    "    \n",
    "Respond in JSON format like this:\n",
    "{{\n",
    "    \"choice\": \"selected_option\",\n",
    "    \"reason\": \"brief explanation\"\n",
    "}}\n",
    "\n",
    "<Examples>\n",
    "Example 1:\n",
    "<column_information>\n",
    "Table Purpose: Stores information about gym members.\n",
    "Column Info: \"member_name\": \"The first name of the gym member.\"\n",
    "</column_information>\n",
    "Output:\n",
    "<JSON_Template>\n",
    "{{\n",
    "    \"choice\": \"First_Name\",\n",
    "    \"reason\": \"This represents the first name of a person, which is a common attribute in member records.\"\n",
    "}}\n",
    "</JSON_Template>\n",
    "\n",
    "Example 2:\n",
    "<column_information>\n",
    "Table Purpose: Stores information about gym members.\n",
    "Column Info: \"subscription\": \"The type of subscription the member has.\"\n",
    "</column_information>\n",
    "Output:\n",
    "<JSON_Template>\n",
    "{{\n",
    "    \"choice\": \"Categorical\",\n",
    "    \"reason\": \"There is a finite number of options for memberships at a gym.\"\n",
    "}}\n",
    "</JSON_Template>\n",
    "</Examples>\n",
    "\"\"\""
   ]
  },
  {
   "cell_type": "code",
   "execution_count": 7,
   "id": "52563ff4",
   "metadata": {},
   "outputs": [
    {
     "name": "stdout",
     "output_type": "stream",
     "text": [
      "Could not parse JSON response\n"
     ]
    }
   ],
   "source": [
    "from anthropic import Anthropic\n",
    "import json\n",
    "\n",
    "client = Anthropic()\n",
    "\n",
    "message = client.messages.create(\n",
    "    model=\"claude-3-7-sonnet-20250219\",\n",
    "    max_tokens=200,\n",
    "    temperature=0,\n",
    "    messages=[\n",
    "        {\n",
    "            \"role\": \"user\",\n",
    "            \"content\": prompt.strip()\n",
    "        }\n",
    "    ]\n",
    ")\n",
    "\n",
    "try:\n",
    "    response_json = json.loads(message.content[0].text)\n",
    "    print(f\"Claude chose: {response_json['choice']}\")\n",
    "    print(f\"Reason: {response_json['reason']}\")\n",
    "except json.JSONDecodeError:\n",
    "    print(\"Could not parse JSON response\")"
   ]
  },
  {
   "cell_type": "code",
   "execution_count": 8,
   "id": "b5685acf",
   "metadata": {},
   "outputs": [
    {
     "name": "stdout",
     "output_type": "stream",
     "text": [
      "```json\n",
      "{\n",
      "    \"choice\": \"Unique_Identifier\",\n",
      "    \"reason\": \"The column 'member_id' is explicitly described as a 'unique ID' and 'primary key for member identification', which perfectly matches the definition of a Unique_Identifier column type.\"\n",
      "}\n",
      "```\n"
     ]
    }
   ],
   "source": [
    "print(message.content[0].text.strip())"
   ]
  },
  {
   "cell_type": "markdown",
   "id": "049e9168",
   "metadata": {},
   "source": [
    "## Code Up The Column Expansion"
   ]
  },
  {
   "cell_type": "code",
   "execution_count": null,
   "id": "e32fc657",
   "metadata": {},
   "outputs": [],
   "source": [
    "prompt = \"\"\"\n",
    "Please take the following <business_requirements> to add more details about the column in the context of the table.\n",
    "        <business_requirements>\n",
    "        {{prompt}}\n",
    "        </business_requirements>\n",
    "        Please provide the response in a JSON format like the <JSON_Template> below. There are examples below at <Examples>.\n",
    "        <JSON_Template>\n",
    "        {\"name\": \"example_column\", \"type\": \"Integer\", \"nullable\": True, \"metadata\": {\"description\": \"Place the description of the column here.\"}},\n",
    "        </JSON_Template>\n",
    "\n",
    "        <Examples>\n",
    "        Example 1:\n",
    "        Purpose: \"This table is used to store user information.\"\n",
    "        Column Info: \"user_id\": \"unique ID representing each user.\"\n",
    "        Output:\n",
    "        <JSON_Template>\n",
    "        {\"name\": \"user_id\", \"type\": \"Integer\", \"nullable\": False, \n",
    "            \"metadata\": {\"description\": \"unique ID representing each user of the store.\", \n",
    "            \"unique_fl\": True,\n",
    "            \"default_value\": None}},\n",
    "            } C:\\Users\\dalej\\Documents\\DragonRegen\\src\n",
    "        },\n",
    "        </JSON_Template>\n",
    "        </Examples>\n",
    "\"\"\""
   ]
  }
 ],
 "metadata": {
  "kernelspec": {
   "display_name": "PySpark",
   "language": "python",
   "name": "python3"
  },
  "language_info": {
   "codemirror_mode": {
    "name": "ipython",
    "version": 3
   },
   "file_extension": ".py",
   "mimetype": "text/x-python",
   "name": "python",
   "nbconvert_exporter": "python",
   "pygments_lexer": "ipython3",
   "version": "3.11.0"
  }
 },
 "nbformat": 4,
 "nbformat_minor": 5
}
