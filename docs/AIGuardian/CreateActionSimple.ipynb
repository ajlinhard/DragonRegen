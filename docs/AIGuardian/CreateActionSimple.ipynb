{
 "cells": [
  {
   "cell_type": "code",
   "execution_count": 1,
   "id": "9af77b63",
   "metadata": {},
   "outputs": [
    {
     "name": "stdout",
     "output_type": "stream",
     "text": [
      "Project path: c:\\Users\\dalej\\Documents\\_Coding\\DragonRegen\n"
     ]
    }
   ],
   "source": [
    "import os\n",
    "import sys\n",
    "\n",
    "notebook_path = os.getcwd()\n",
    "project_path = os.path.abspath(os.path.join(notebook_path, '..','..'))\n",
    "print(f\"Project path: {project_path}\")\n",
    "# Add the project path to sys.path\n",
    "sys.path.append(project_path)"
   ]
  },
  {
   "cell_type": "code",
   "execution_count": 2,
   "id": "51025355",
   "metadata": {},
   "outputs": [
    {
     "name": "stdout",
     "output_type": "stream",
     "text": [
      "Connected to the database.\n"
     ]
    }
   ],
   "source": [
    "from src.MetaFort.SysLogs.DatabaseEngine import DatabaseEngine\n",
    "from src.DataCreator.SchemaGenerators.SchemaMSSQL import SchemaMSSQL\n",
    "\n",
    "# create database engine object and connection\n",
    "driver = \"ODBC Driver 17 for SQL Server\"\n",
    "server = 'localhost\\\\SQLEXPRESS' \n",
    "# server = \"Andrew=PC\\\\SQLEXPRESS\"\n",
    "database = \"MetaFort\"\n",
    "conn_str = (\n",
    "    f\"DRIVER={driver};\"\n",
    "    f\"SERVER={server};\"\n",
    "    f\"DATABASE={database};\"\n",
    "    f\"Trusted_Connection=yes;\"\n",
    ")\n",
    "db_engine = DatabaseEngine(conn_str)\n",
    "db_engine.connect()\n",
    "print(\"Connected to the database.\")"
   ]
  },
  {
   "cell_type": "code",
   "execution_count": 3,
   "id": "e172a058",
   "metadata": {},
   "outputs": [],
   "source": [
    "from src.AIGuardian.Actions.ActionEngine import ActionEngine\n",
    "from src.AIGuardian.Actions.ActionSayHello import ActionSayHello\n",
    "\n",
    "start_action = ActionSayHello()\n",
    "action_engine = ActionEngine(start_action, db_engine)"
   ]
  },
  {
   "cell_type": "code",
   "execution_count": 4,
   "id": "ab290246",
   "metadata": {},
   "outputs": [
    {
     "name": "stdout",
     "output_type": "stream",
     "text": [
      "<src.AIGuardian.Actions.ActionSayHello.ActionSayHello object at 0x0000016F83889310>\n",
      "None\n",
      "<src.AIGuardian.Actions.ActionSayHello.ActionSayHello object at 0x0000016F83889310>\n"
     ]
    }
   ],
   "source": [
    "print(start_action)\n",
    "print(start_action.action_id)\n",
    "print(action_engine.action)\n"
   ]
  },
  {
   "cell_type": "code",
   "execution_count": 5,
   "id": "e5d7e4ac",
   "metadata": {},
   "outputs": [
    {
     "name": "stdout",
     "output_type": "stream",
     "text": [
      "SQL: INSERT INTO ai_actions_log (action_name, action_version, parent_action_id, group_action_id, description, sequence_number, created_dt, updated_dt, status, metadata) \n",
      "        OUTPUT INSERTED.action_id\n",
      "        VALUES (?, ?, ?, ?, ?, ?, ?, ?, ?, ?)\n",
      "        \n",
      "create_params: {'model': 'claude-3-haiku-20240307', 'max_tokens': 200, 'temperature': 0.1, 'stop_sequences': ['</JSON_Template>'], 'messages': [{'role': 'user', 'content': 'Hello there, I am Andrew!'}]}\n",
      "SQL: INSERT INTO ai_requests_log (action_id, insert_dt, status, ai_service, model, request_parameters, user_prompt, engineered_prompt, api_request_id, raw_response, parsed_results, response_metadate, input_tokens, output_tokens, request_timestamp, response_timestamp, duration_ms, error_code, error_message, error_timestamp, retry_cnt, RAG_Embeding_Model, RAG_IDs, RAG_Versions, metadata) \n",
      "        \n",
      "        VALUES (?, ?, ?, ?, ?, ?, ?, ?, ?, ?, ?, ?, ?, ?, ?, ?, ?, ?, ?, ?, ?, ?, ?, ?, ?)\n",
      "        \n"
     ]
    }
   ],
   "source": [
    "prompt = \"\"\"Hello there, I am Andrew!\"\"\"\n",
    "action_engine.run(prompt)"
   ]
  },
  {
   "cell_type": "code",
   "execution_count": 8,
   "id": "94312240",
   "metadata": {},
   "outputs": [
    {
     "name": "stdout",
     "output_type": "stream",
     "text": [
      "Message(id='msg_014UpN78TWXdCYfnS5nRAE8G', content=[TextBlock(citations=None, text=\"It's nice to meet you, Andrew! I'm Claude, an AI assistant created by Anthropic. I'm here to help with any questions or tasks you might have. Please let me know if there's anything I can assist you with.\", type='text')], model='claude-3-haiku-20240307', role='assistant', stop_reason='end_turn', stop_sequence=None, type='message', usage=Usage(cache_creation_input_tokens=0, cache_read_input_tokens=0, input_tokens=14, output_tokens=53))\n"
     ]
    }
   ],
   "source": [
    "print(start_action.response)"
   ]
  }
 ],
 "metadata": {
  "kernelspec": {
   "display_name": "PySpark",
   "language": "python",
   "name": "python3"
  },
  "language_info": {
   "codemirror_mode": {
    "name": "ipython",
    "version": 3
   },
   "file_extension": ".py",
   "mimetype": "text/x-python",
   "name": "python",
   "nbconvert_exporter": "python",
   "pygments_lexer": "ipython3",
   "version": "3.8.0"
  }
 },
 "nbformat": 4,
 "nbformat_minor": 5
}
