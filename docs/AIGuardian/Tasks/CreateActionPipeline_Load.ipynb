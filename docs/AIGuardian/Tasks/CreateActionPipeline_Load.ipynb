{
 "cells": [
  {
   "cell_type": "code",
   "execution_count": 1,
   "id": "9a8c2a22",
   "metadata": {},
   "outputs": [
    {
     "name": "stdout",
     "output_type": "stream",
     "text": [
      "Project path: c:\\Users\\dalej\\Documents\\_Coding\\DragonRegen\n"
     ]
    }
   ],
   "source": [
    "import os\n",
    "import sys\n",
    "import json\n",
    "\n",
    "notebook_path = os.getcwd()\n",
    "project_path = os.path.abspath(os.path.join(notebook_path, '..','..','..'))\n",
    "print(f\"Project path: {project_path}\")\n",
    "# Add the project path to sys.path\n",
    "sys.path.append(project_path)"
   ]
  },
  {
   "cell_type": "markdown",
   "id": "d4f21fad",
   "metadata": {},
   "source": [
    "## Load Data Schema"
   ]
  },
  {
   "cell_type": "code",
   "execution_count": 2,
   "id": "66474a7e",
   "metadata": {},
   "outputs": [
    {
     "name": "stdout",
     "output_type": "stream",
     "text": [
      "dict_keys(['companies', 'ad_spots', 'attribution_results', 'data_quality_logs', 'attribution_models', 'data_sources', 'ad_campaigns', 'ad_creatives', 'sales_data', 'tv_networks'])\n"
     ]
    }
   ],
   "source": [
    "# load the schema from the JSON file\n",
    "# output_file_path = os.path.join(project_path, r'docs\\AIGuardian\\Tasks\\output_schema_kafka.json')\n",
    "output_file_path = os.path.join(project_path, r'docs\\AIGuardian\\Tasks\\tvad_final_schema_kafka.json')\n",
    "\n",
    "with open(output_file_path, 'r') as output_file:\n",
    "    loaded_schema = json.load(output_file)\n",
    "\n",
    "print(loaded_schema.keys())\n",
    "# print(json.dumps(loaded_schema['customers'], indent=2))"
   ]
  },
  {
   "cell_type": "code",
   "execution_count": 4,
   "id": "e68f2be3",
   "metadata": {},
   "outputs": [
    {
     "name": "stdout",
     "output_type": "stream",
     "text": [
      "{\n",
      "  \"purpose\": \"Tracks television ad campaigns run by companies\",\n",
      "  \"fields\": [\n",
      "    \"{\\\"name\\\": \\\"campaign_id\\\", \\\"type\\\": \\\"Integer\\\", \\\"nullable\\\": false, \\\"metadata\\\": {\\\"description\\\": \\\"unique ID for each campaign\\\", \\\"unique_fl\\\": true, \\\"default_value\\\": null, \\\"col_type\\\": null}}\",\n",
      "    \"{\\\"name\\\": \\\"company_id\\\", \\\"type\\\": \\\"Integer\\\", \\\"nullable\\\": false, \\\"metadata\\\": {\\\"description\\\": \\\"Foreign key to companies table that identifies which company ran the television ad campaign.\\\", \\\"unique_fl\\\": false, \\\"default_value\\\": null, \\\"col_type\\\": null}}\",\n",
      "    \"{\\\"name\\\": \\\"goals\\\", \\\"type\\\": \\\"String\\\", \\\"nullable\\\": true, \\\"metadata\\\": {\\\"description\\\": \\\"campaign objectives and KPIs\\\", \\\"unique_fl\\\": false, \\\"default_value\\\": null, \\\"col_type\\\": null}}\",\n",
      "    \"{\\\"name\\\": \\\"end_date\\\", \\\"type\\\": \\\"Date\\\", \\\"nullable\\\": true, \\\"metadata\\\": {\\\"description\\\": \\\"end date of the campaign\\\", \\\"unique_fl\\\": false, \\\"default_value\\\": null, \\\"col_type\\\": null}}\",\n",
      "    \"{\\\"name\\\": \\\"status\\\", \\\"type\\\": \\\"String\\\", \\\"nullable\\\": false, \\\"metadata\\\": {\\\"description\\\": \\\"current status of the campaign (active, completed, paused)\\\", \\\"unique_fl\\\": false, \\\"default_value\\\": \\\"active\\\", \\\"col_type\\\": null}}\",\n",
      "    \"{\\\"name\\\": \\\"campaign_name\\\", \\\"type\\\": \\\"String\\\", \\\"nullable\\\": false, \\\"metadata\\\": {\\\"description\\\": \\\"name of the campaign\\\", \\\"unique_fl\\\": true, \\\"default_value\\\": null, \\\"col_type\\\": null}}\",\n",
      "    \"{\\\"name\\\": \\\"start_date\\\", \\\"type\\\": \\\"Date\\\", \\\"nullable\\\": false, \\\"metadata\\\": {\\\"description\\\": \\\"start date of the campaign\\\", \\\"unique_fl\\\": false, \\\"default_value\\\": null, \\\"col_type\\\": null}}\",\n",
      "    \"{\\\"name\\\": \\\"budget\\\", \\\"type\\\": \\\"Decimal\\\", \\\"nullable\\\": false, \\\"metadata\\\": {\\\"description\\\": \\\"total budget allocated for the campaign\\\", \\\"unique_fl\\\": false, \\\"default_value\\\": null, \\\"col_type\\\": null}}\",\n",
      "    \"{\\\"name\\\": \\\"target_audience\\\", \\\"type\\\": \\\"JSON\\\", \\\"nullable\\\": true, \\\"metadata\\\": {\\\"description\\\": \\\"JSON object describing target demographics\\\", \\\"unique_fl\\\": false, \\\"default_value\\\": null, \\\"col_type\\\": null}}\",\n",
      "    \"{\\\"name\\\": \\\"created_at\\\", \\\"type\\\": \\\"Timestamp\\\", \\\"nullable\\\": false, \\\"metadata\\\": {\\\"description\\\": \\\"timestamp when the record was created\\\", \\\"unique_fl\\\": false, \\\"default_value\\\": \\\"CURRENT_TIMESTAMP\\\", \\\"col_type\\\": null}}\",\n",
      "    \"{\\\"name\\\": \\\"updated_at\\\", \\\"type\\\": \\\"Timestamp\\\", \\\"nullable\\\": false, \\\"metadata\\\": {\\\"description\\\": \\\"timestamp when the record was last updated\\\", \\\"unique_fl\\\": false, \\\"default_value\\\": \\\"CURRENT_TIMESTAMP\\\", \\\"col_type\\\": null}}\"\n",
      "  ]\n",
      "}\n"
     ]
    }
   ],
   "source": [
    "print(json.dumps(loaded_schema['ad_campaigns'], indent=2))"
   ]
  },
  {
   "cell_type": "code",
   "execution_count": 5,
   "id": "66132f46",
   "metadata": {},
   "outputs": [
    {
     "name": "stdout",
     "output_type": "stream",
     "text": [
      "Field [<class 'str'>]: {\"name\": \"campaign_id\", \"type\": \"Integer\", \"nullable\": false, \"metadata\": {\"description\": \"unique ID for each campaign\", \"unique_fl\": true, \"default_value\": null, \"col_type\": null}}\n",
      "\"{\\\"name\\\": \\\"campaign_id\\\", \\\"type\\\": \\\"Integer\\\", \\\"nullable\\\": false, \\\"metadata\\\": {\\\"description\\\": \\\"unique ID for each campaign\\\", \\\"unique_fl\\\": true, \\\"default_value\\\": null, \\\"col_type\\\": null}}\"\n",
      "Field [<class 'str'>]: {\"name\": \"company_id\", \"type\": \"Integer\", \"nullable\": false, \"metadata\": {\"description\": \"Foreign key to companies table that identifies which company ran the television ad campaign.\", \"unique_fl\": false, \"default_value\": null, \"col_type\": null}}\n",
      "\"{\\\"name\\\": \\\"company_id\\\", \\\"type\\\": \\\"Integer\\\", \\\"nullable\\\": false, \\\"metadata\\\": {\\\"description\\\": \\\"Foreign key to companies table that identifies which company ran the television ad campaign.\\\", \\\"unique_fl\\\": false, \\\"default_value\\\": null, \\\"col_type\\\": null}}\"\n",
      "Field [<class 'str'>]: {\"name\": \"goals\", \"type\": \"String\", \"nullable\": true, \"metadata\": {\"description\": \"campaign objectives and KPIs\", \"unique_fl\": false, \"default_value\": null, \"col_type\": null}}\n",
      "\"{\\\"name\\\": \\\"goals\\\", \\\"type\\\": \\\"String\\\", \\\"nullable\\\": true, \\\"metadata\\\": {\\\"description\\\": \\\"campaign objectives and KPIs\\\", \\\"unique_fl\\\": false, \\\"default_value\\\": null, \\\"col_type\\\": null}}\"\n",
      "Field [<class 'str'>]: {\"name\": \"end_date\", \"type\": \"Date\", \"nullable\": true, \"metadata\": {\"description\": \"end date of the campaign\", \"unique_fl\": false, \"default_value\": null, \"col_type\": null}}\n",
      "\"{\\\"name\\\": \\\"end_date\\\", \\\"type\\\": \\\"Date\\\", \\\"nullable\\\": true, \\\"metadata\\\": {\\\"description\\\": \\\"end date of the campaign\\\", \\\"unique_fl\\\": false, \\\"default_value\\\": null, \\\"col_type\\\": null}}\"\n",
      "Field [<class 'str'>]: {\"name\": \"status\", \"type\": \"String\", \"nullable\": false, \"metadata\": {\"description\": \"current status of the campaign (active, completed, paused)\", \"unique_fl\": false, \"default_value\": \"active\", \"col_type\": null}}\n",
      "\"{\\\"name\\\": \\\"status\\\", \\\"type\\\": \\\"String\\\", \\\"nullable\\\": false, \\\"metadata\\\": {\\\"description\\\": \\\"current status of the campaign (active, completed, paused)\\\", \\\"unique_fl\\\": false, \\\"default_value\\\": \\\"active\\\", \\\"col_type\\\": null}}\"\n",
      "Field [<class 'str'>]: {\"name\": \"campaign_name\", \"type\": \"String\", \"nullable\": false, \"metadata\": {\"description\": \"name of the campaign\", \"unique_fl\": true, \"default_value\": null, \"col_type\": null}}\n",
      "\"{\\\"name\\\": \\\"campaign_name\\\", \\\"type\\\": \\\"String\\\", \\\"nullable\\\": false, \\\"metadata\\\": {\\\"description\\\": \\\"name of the campaign\\\", \\\"unique_fl\\\": true, \\\"default_value\\\": null, \\\"col_type\\\": null}}\"\n",
      "Field [<class 'str'>]: {\"name\": \"start_date\", \"type\": \"Date\", \"nullable\": false, \"metadata\": {\"description\": \"start date of the campaign\", \"unique_fl\": false, \"default_value\": null, \"col_type\": null}}\n",
      "\"{\\\"name\\\": \\\"start_date\\\", \\\"type\\\": \\\"Date\\\", \\\"nullable\\\": false, \\\"metadata\\\": {\\\"description\\\": \\\"start date of the campaign\\\", \\\"unique_fl\\\": false, \\\"default_value\\\": null, \\\"col_type\\\": null}}\"\n",
      "Field [<class 'str'>]: {\"name\": \"budget\", \"type\": \"Decimal\", \"nullable\": false, \"metadata\": {\"description\": \"total budget allocated for the campaign\", \"unique_fl\": false, \"default_value\": null, \"col_type\": null}}\n",
      "\"{\\\"name\\\": \\\"budget\\\", \\\"type\\\": \\\"Decimal\\\", \\\"nullable\\\": false, \\\"metadata\\\": {\\\"description\\\": \\\"total budget allocated for the campaign\\\", \\\"unique_fl\\\": false, \\\"default_value\\\": null, \\\"col_type\\\": null}}\"\n",
      "Field [<class 'str'>]: {\"name\": \"target_audience\", \"type\": \"JSON\", \"nullable\": true, \"metadata\": {\"description\": \"JSON object describing target demographics\", \"unique_fl\": false, \"default_value\": null, \"col_type\": null}}\n",
      "\"{\\\"name\\\": \\\"target_audience\\\", \\\"type\\\": \\\"JSON\\\", \\\"nullable\\\": true, \\\"metadata\\\": {\\\"description\\\": \\\"JSON object describing target demographics\\\", \\\"unique_fl\\\": false, \\\"default_value\\\": null, \\\"col_type\\\": null}}\"\n",
      "Field [<class 'str'>]: {\"name\": \"created_at\", \"type\": \"Timestamp\", \"nullable\": false, \"metadata\": {\"description\": \"timestamp when the record was created\", \"unique_fl\": false, \"default_value\": \"CURRENT_TIMESTAMP\", \"col_type\": null}}\n",
      "\"{\\\"name\\\": \\\"created_at\\\", \\\"type\\\": \\\"Timestamp\\\", \\\"nullable\\\": false, \\\"metadata\\\": {\\\"description\\\": \\\"timestamp when the record was created\\\", \\\"unique_fl\\\": false, \\\"default_value\\\": \\\"CURRENT_TIMESTAMP\\\", \\\"col_type\\\": null}}\"\n",
      "Field [<class 'str'>]: {\"name\": \"updated_at\", \"type\": \"Timestamp\", \"nullable\": false, \"metadata\": {\"description\": \"timestamp when the record was last updated\", \"unique_fl\": false, \"default_value\": \"CURRENT_TIMESTAMP\", \"col_type\": null}}\n",
      "\"{\\\"name\\\": \\\"updated_at\\\", \\\"type\\\": \\\"Timestamp\\\", \\\"nullable\\\": false, \\\"metadata\\\": {\\\"description\\\": \\\"timestamp when the record was last updated\\\", \\\"unique_fl\\\": false, \\\"default_value\\\": \\\"CURRENT_TIMESTAMP\\\", \\\"col_type\\\": null}}\"\n"
     ]
    }
   ],
   "source": [
    "fields = loaded_schema['ad_campaigns']['fields']\n",
    "for field in fields:\n",
    "    # if field['name'] in ['customer_id', 'first_name', 'zip_code']:\n",
    "    print(f\"Field [{type(field)}]: {field}\")\n",
    "    print(json.dumps(field, indent=2))"
   ]
  },
  {
   "cell_type": "code",
   "execution_count": 6,
   "id": "31ea9608",
   "metadata": {},
   "outputs": [
    {
     "name": "stdout",
     "output_type": "stream",
     "text": [
      "<class 'str'>\n",
      "{\"name\": \"campaign_id\", \"type\": \"Integer\", \"nullable\": false, \"metadata\": {\"description\": \"unique ID for each campaign\", \"unique_fl\": true, \"default_value\": null, \"col_type\": null}}\n",
      "{\n",
      "  \"name\": \"campaign_id\",\n",
      "  \"type\": \"Integer\",\n",
      "  \"nullable\": false,\n",
      "  \"metadata\": {\n",
      "    \"description\": \"unique ID for each campaign\",\n",
      "    \"unique_fl\": true,\n",
      "    \"default_value\": null,\n",
      "    \"col_type\": null\n",
      "  }\n",
      "}\n"
     ]
    }
   ],
   "source": [
    "from pyspark.sql.types import *\n",
    "\n",
    "col = loaded_schema['ad_campaigns']['fields'][0]\n",
    "print(type(col))\n",
    "print(col)\n",
    "dict_col = json.loads(col)\n",
    "print(json.dumps(dict_col, indent=2))\n",
    "# schema_col = StructField.fromJson(json.loads(col))"
   ]
  },
  {
   "cell_type": "code",
   "execution_count": 5,
   "id": "4290728d",
   "metadata": {},
   "outputs": [
    {
     "name": "stdout",
     "output_type": "stream",
     "text": [
      "dict_keys(['companies', 'ad_spots', 'attribution_results', 'data_quality_logs', 'attribution_models', 'data_sources', 'ad_campaigns', 'ad_creatives', 'sales_data', 'tv_networks'])\n",
      "dict_keys(['companies', 'ad_spots', 'attribution_results', 'data_quality_logs', 'attribution_models', 'data_sources', 'ad_campaigns', 'ad_creatives', 'sales_data', 'tv_networks'])\n",
      "========================================\n",
      "StructType([StructField('campaign_id', IntegerType(), False), StructField('company_id', IntegerType(), False), StructField('goals', StringType(), True), StructField('end_date', DateType(), True), StructField('status', StringType(), False), StructField('campaign_name', StringType(), False), StructField('start_date', DateType(), False), StructField('budget', FloatType(), False), StructField('target_audience', StringType(), True), StructField('created_at', TimestampType(), False), StructField('updated_at', TimestampType(), False)])\n"
     ]
    }
   ],
   "source": [
    "from src.DataCreator.SchemaGenerators.SchemaSpark import SchemaSpark\n",
    "\n",
    "# create spark and t-sql schemas with in there engines\n",
    "sturct_col = SchemaSpark.generate_schema(loaded_schema)\n",
    "print(loaded_schema.keys())\n",
    "print(sturct_col.keys())\n",
    "print('=='*20)\n",
    "print(sturct_col['ad_campaigns'])\n"
   ]
  },
  {
   "cell_type": "code",
   "execution_count": 12,
   "id": "f4336b7a",
   "metadata": {},
   "outputs": [
    {
     "name": "stdout",
     "output_type": "stream",
     "text": [
      "StructField('payment_frequency', StringType(), True)\n",
      "{'description': 'frequency of payments (monthly, quarterly, annually)', 'unique_fl': False, 'default_value': None, 'col_type': None}\n"
     ]
    }
   ],
   "source": [
    "# Confirm Metadata is being passed correctly\n",
    "print(sturct_col['quotes']['payment_frequency'])\n",
    "col_ex = sturct_col['quotes']['payment_frequency']\n",
    "print(col_ex.metadata)"
   ]
  },
  {
   "cell_type": "markdown",
   "id": "21c66870",
   "metadata": {},
   "source": [
    "## Create DataFrames"
   ]
  },
  {
   "cell_type": "code",
   "execution_count": 6,
   "id": "1afa5877",
   "metadata": {},
   "outputs": [],
   "source": [
    "from src.DataCreator.DataSets.DataSetGenStandard import DataSetGenStandard\n",
    "from pyspark.sql import SparkSession\n",
    "from pyspark.sql.types import *\n",
    "\n",
    "spark = SparkSession.builder \\\n",
    "    .appName(\"Test Data Set Generation\") \\\n",
    "    .enableHiveSupport() \\\n",
    "    .master(\"local[*]\") \\\n",
    "    .getOrCreate()"
   ]
  },
  {
   "cell_type": "code",
   "execution_count": 7,
   "id": "de96835a",
   "metadata": {},
   "outputs": [
    {
     "name": "stdout",
     "output_type": "stream",
     "text": [
      "StructType([StructField('campaign_id', IntegerType(), False), StructField('company_id', IntegerType(), False), StructField('goals', StringType(), True), StructField('end_date', DateType(), True), StructField('status', StringType(), False), StructField('campaign_name', StringType(), False), StructField('start_date', DateType(), False), StructField('budget', FloatType(), False), StructField('target_audience', StringType(), True), StructField('created_at', TimestampType(), False), StructField('updated_at', TimestampType(), False)])\n"
     ]
    }
   ],
   "source": [
    "testSchema = sturct_col['ad_campaigns']\n",
    "print(testSchema)"
   ]
  },
  {
   "cell_type": "code",
   "execution_count": 8,
   "id": "685a300a",
   "metadata": {},
   "outputs": [],
   "source": [
    "# Create First Name and Last Name column generators (need long term fix for this)\n",
    "from src.DataCreator.DataGenerators.FirstNameData import FirstNameData\n",
    "from src.DataCreator.DataGenerators.LastNameData import LastNameData\n",
    "\n",
    "FirstNameGen = FirstNameData(spark, s_file_path=r'C:\\Users\\dalej\\Documents\\_Coding\\DragonRegen\\gitData\\SSA_FirstNames_Stats')\n",
    "LastNameGen = LastNameData(spark, s_file_path=r'C:\\Users\\dalej\\Documents\\_Coding\\DragonRegen\\gitData\\census_surname_bounds.parquet')"
   ]
  },
  {
   "cell_type": "code",
   "execution_count": 9,
   "id": "7697691e",
   "metadata": {},
   "outputs": [
    {
     "name": "stdout",
     "output_type": "stream",
     "text": [
      "+----------+------------+-------------------+-------------------+\n",
      "|first_name|overall_rank|profile_lower_bound|profile_upper_bound|\n",
      "+----------+------------+-------------------+-------------------+\n",
      "|Michael   |1           |0                  |3955521            |\n",
      "|James     |2           |3955521            |6894384            |\n",
      "|David     |3           |6894384            |9819819            |\n",
      "|John      |4           |9819819            |12601194           |\n",
      "|Robert    |5           |12601194           |15203120           |\n",
      "+----------+------------+-------------------+-------------------+\n",
      "only showing top 5 rows\n",
      "\n",
      "+---------+-----------+-------------------+-------------------+\n",
      "|last_name|unqiue_rank|profile_lower_bound|profile_upper_bound|\n",
      "+---------+-----------+-------------------+-------------------+\n",
      "|SMITH    |1          |0                  |82819              |\n",
      "|JOHNSON  |2          |82819              |148342             |\n",
      "|WILLIAMS |3          |148342             |203439             |\n",
      "|BROWN    |4          |203439             |252156             |\n",
      "|JONES    |5          |252156             |300480             |\n",
      "+---------+-----------+-------------------+-------------------+\n",
      "only showing top 5 rows\n",
      "\n"
     ]
    }
   ],
   "source": [
    "FirstNameGen.df_first_names.show(5, False)\n",
    "LastNameGen.df_last_names.show(5, False)"
   ]
  },
  {
   "cell_type": "code",
   "execution_count": 10,
   "id": "defdfd9d",
   "metadata": {},
   "outputs": [
    {
     "name": "stdout",
     "output_type": "stream",
     "text": [
      "==> Column Name:campaign_id\n",
      "Nothing found\n",
      "Checking subclass: Categorical and requirements: None\n",
      "Checking subclass: StringBasic and requirements: None\n",
      "Checking subclass: ColBasic and requirements: <class 'src.DataCreator.ColGenerators.ColBasic.ColBasic'>\n",
      "==> Column Name:company_id\n",
      "Nothing found\n",
      "Checking subclass: Categorical and requirements: None\n",
      "Checking subclass: StringBasic and requirements: None\n",
      "Checking subclass: ColBasic and requirements: <class 'src.DataCreator.ColGenerators.ColBasic.ColBasic'>\n",
      "==> Column Name:goals\n",
      "Nothing found\n",
      "Checking subclass: Categorical and requirements: None\n",
      "Checking subclass: StringBasic and requirements: <class 'src.DataCreator.ColGenerators.StringBasic.StringBasic'>\n",
      "==> Column Name:end_date\n",
      "Nothing found\n",
      "Checking subclass: Categorical and requirements: None\n",
      "Checking subclass: StringBasic and requirements: None\n",
      "Checking subclass: ColBasic and requirements: <class 'src.DataCreator.ColGenerators.ColBasic.ColBasic'>\n",
      "==> Column Name:status\n",
      "Nothing found\n",
      "Checking subclass: Categorical and requirements: None\n",
      "Checking subclass: StringBasic and requirements: <class 'src.DataCreator.ColGenerators.StringBasic.StringBasic'>\n",
      "==> Column Name:campaign_name\n",
      "Nothing found\n",
      "Checking subclass: Categorical and requirements: None\n",
      "Checking subclass: StringBasic and requirements: <class 'src.DataCreator.ColGenerators.StringBasic.StringBasic'>\n",
      "==> Column Name:start_date\n",
      "Nothing found\n",
      "Checking subclass: Categorical and requirements: None\n",
      "Checking subclass: StringBasic and requirements: None\n",
      "Checking subclass: ColBasic and requirements: <class 'src.DataCreator.ColGenerators.ColBasic.ColBasic'>\n",
      "==> Column Name:budget\n",
      "Nothing found\n",
      "Checking subclass: Categorical and requirements: None\n",
      "Checking subclass: StringBasic and requirements: None\n",
      "Checking subclass: ColBasic and requirements: <class 'src.DataCreator.ColGenerators.ColBasic.ColBasic'>\n",
      "==> Column Name:target_audience\n",
      "Nothing found\n",
      "Checking subclass: Categorical and requirements: None\n",
      "Checking subclass: StringBasic and requirements: <class 'src.DataCreator.ColGenerators.StringBasic.StringBasic'>\n",
      "==> Column Name:created_at\n",
      "Nothing found\n",
      "Checking subclass: Categorical and requirements: None\n",
      "Checking subclass: StringBasic and requirements: None\n",
      "Checking subclass: ColBasic and requirements: <class 'src.DataCreator.ColGenerators.ColBasic.ColBasic'>\n",
      "==> Column Name:updated_at\n",
      "Nothing found\n",
      "Checking subclass: Categorical and requirements: None\n",
      "Checking subclass: StringBasic and requirements: None\n",
      "Checking subclass: ColBasic and requirements: <class 'src.DataCreator.ColGenerators.ColBasic.ColBasic'>\n",
      "Generating Rows: 100, with Columns: 11\n",
      "<class 'pyspark.sql.dataframe.DataFrame'>\n",
      "+-----------+----------+--------------------+----------+--------------------+--------------------+----------+---------+--------------------+-------------------+-------------------+\n",
      "|campaign_id|company_id|goals               |end_date  |status              |campaign_name       |start_date|budget   |target_audience     |created_at         |updated_at         |\n",
      "+-----------+----------+--------------------+----------+--------------------+--------------------+----------+---------+--------------------+-------------------+-------------------+\n",
      "|46         |88        |gcBG                |2020-04-24|63OsSMtOgNMK        |MnoOhHkEh           |2023-11-05|41.94619 |4ee9Hf1L01jSlnYPnMr |2023-07-25 13:12:38|2021-06-28 17:37:26|\n",
      "|7          |67        |7NW32ecm3R7Bn       |2022-10-03|hbafz0Q             |mAHHXnH             |2020-09-12|11.586276|2zx                 |2022-05-22 20:01:23|2020-03-08 22:06:53|\n",
      "|100        |85        |qb6fvfyxsE3         |2023-05-13|mRrzmf7tjp5Xzil     |cSMhuqfDD0zK3VXzx   |2022-01-01|43.888405|jv                  |2023-03-15 11:24:58|2021-12-12 01:05:24|\n",
      "|21         |82        |BVcbqAC             |2020-04-23|c1ZegMSdb           |DDcboRSGe9pLwLnUVAXf|2023-09-11|67.68261 |ZN6zHA90Ab2         |2022-10-03 19:02:44|2022-09-15 15:31:31|\n",
      "|54         |55        |Cv4Cczg             |2020-07-20|eCADrmE4D           |w76UC               |2020-02-11|72.37728 |lA                  |2020-11-23 06:58:57|2020-10-27 21:23:47|\n",
      "|13         |55        |qGk0iyG992TX99sb    |2021-10-04|fjfxgcm6SN1KMry57   |BWCzUPdW            |2023-03-06|93.66141 |eb                  |2023-05-18 15:01:28|2023-02-16 17:45:16|\n",
      "|95         |62        |5SE1LmUibLKI        |2023-03-24|q0MajxSBDaf16erne   |N8w                 |2023-03-22|71.37885 |BxV2tC8VM6RMyRA7Bw  |2022-10-19 08:23:20|2022-01-31 18:33:25|\n",
      "|49         |19        |eMAImkS1            |2020-07-15|mHNWXU              |nwDlShSY17MUaWILSgm |2022-11-28|77.062965|T9cog9y             |2023-01-20 09:10:23|2022-03-01 21:22:42|\n",
      "|81         |79        |uRhV                |2020-01-21|tJztEwwrYP          |ylfzCMVFwdWFea6qmOJn|2021-04-15|92.98225 |9pQjPGaVPZ47nYP1h   |2023-09-28 21:30:09|2023-04-12 16:16:22|\n",
      "|39         |12        |1RuXEa              |2022-04-15|nPLdOW21lZg         |VMlWlDbbGYqK6jWF    |2022-12-17|17.631151|0knf4RY2mAaE96      |2023-04-10 01:38:10|2020-10-06 18:09:03|\n",
      "|50         |99        |AC                  |2022-11-19|2dGt1P              |kcV2HbMO            |2020-04-29|56.024975|OX4tg7zxc           |2021-11-18 10:44:27|2023-06-04 21:08:09|\n",
      "|93         |21        |PVXTStoOh4Hfzxe0d   |2022-11-23|tPnPofv1ZBvS6cifnHI |Biw09upbMlb9jPc     |2023-03-23|1.4005104|J                   |2020-07-17 22:12:53|2023-12-03 22:47:08|\n",
      "|17         |78        |yJK3rqIKq4O         |2022-04-23|aaAAbo5uO2ovf       |1S2C6ug             |2022-06-05|6.9145103|uH3y6AC8zC5IIHQTjqz |2022-10-21 01:52:40|2021-11-13 01:37:37|\n",
      "|16         |48        |ABhAZeZ2ThGIvq7     |2022-07-01|4CbDNKkKWsUN6qQ     |DfTFmQREMkREobTvzu  |2020-02-18|25.281754|UbCyO7sOZSukhonHJvVB|2022-08-14 18:51:05|2022-04-27 03:09:09|\n",
      "|73         |35        |0omx                |2021-01-20|b                   |fRPEH               |2023-04-28|38.375656|q0CUeZeGjFV         |2022-02-18 07:29:33|2021-09-05 00:13:21|\n",
      "|34         |22        |K2VaKEKj0           |2021-04-22|ERYKhWD             |0                   |2020-10-29|51.941383|hERfCCuevuvIKuyLJW  |2021-07-10 11:55:18|2022-08-19 00:53:58|\n",
      "|6          |40        |7CEjF8WVA4          |2022-04-11|m0KjWxv             |KPJQCWjsB           |2020-03-08|37.252857|iGLsCz1pe           |2022-09-08 06:20:15|2021-03-24 05:08:40|\n",
      "|96         |36        |20                  |2020-07-09|XtPdPcX2FnGQr67j    |stRuqOgk            |2023-04-17|74.19142 |FqNgyPKJ8           |2021-02-23 05:01:37|2022-09-03 10:02:26|\n",
      "|72         |82        |S1GqaIgRXjI         |2022-11-17|GmxdvO5xgs1         |InhaCim8iDjUai      |2021-04-19|77.170944|Nudgi               |2020-02-23 23:44:25|2023-03-01 02:29:43|\n",
      "|21         |93        |foD9K               |2021-12-25|fXWZIbZ89V          |uvdVyo              |2023-04-22|14.263789|hGeSZRQu            |2021-02-08 16:54:05|2020-03-19 15:34:51|\n",
      "|78         |53        |W9G7DmXEyNKQX8h3c   |2022-03-15|jTiOsGAKdpyS        |6cK7xmbuAJHkHtJozYKJ|2023-06-08|20.296158|9WGpfkLPwZCLk5tGzjX1|2022-01-30 14:12:26|2022-07-19 06:34:57|\n",
      "|78         |36        |083WWowgrfoN7       |2021-10-03|7LEnG4oOQZPV        |URjjwotNH1vkmeguZW  |2022-02-26|86.796684|t76Aw2nc3qlCz       |2023-08-13 13:07:02|2020-07-27 06:54:53|\n",
      "|2          |45        |CCCey9              |2020-07-01|0aLywZDD            |pQurS               |2022-11-06|68.12458 |F                   |2023-04-03 12:04:20|2021-05-27 09:14:43|\n",
      "|39         |97        |gjlf6F              |2022-05-21|rR8KXKa             |LLewqYe             |2023-08-07|64.994644|eK1KLCrE            |2020-04-11 12:31:54|2023-01-20 18:44:38|\n",
      "|99         |15        |LDaWvkrO9G0vG       |2020-03-16|bGK4ZfC             |rMfc                |2021-06-26|4.008155 |pYFAQqer            |2022-06-08 07:02:33|2021-02-06 01:06:44|\n",
      "|15         |15        |AQPWlbH6DsqSzA1giV  |2023-03-08|CPkirJ6H9h1ItSrIxV0C|TsiMdZWO            |2020-11-19|11.583943|1                   |2021-04-16 15:48:27|2022-02-18 05:46:13|\n",
      "|75         |55        |R9SSt30eO           |2023-11-23|zM                  |n                   |2021-11-29|57.46782 |qpf898              |2020-10-25 18:33:12|2023-04-22 04:53:59|\n",
      "|12         |70        |RdA                 |2021-12-21|6l6G8z7Vam1Yzu8q    |p                   |2023-03-09|49.42135 |GTj                 |2021-01-08 13:35:25|2023-06-09 20:52:16|\n",
      "|52         |93        |8JKkDy2Qiog         |2020-08-22|6qaqymOZhqzjupfmNzdH|5IDSVaCNqWN         |2020-11-23|39.357426|1CaiDXuC6           |2022-12-23 21:21:30|2022-11-17 15:10:09|\n",
      "|22         |87        |9kvL3brxNgVGuBq4    |2023-09-29|QZM6rbUN4aw03TOyp7  |3EnVvFVIJRZmp1qSuCy |2022-03-20|79.44634 |otCNj11QM9          |2021-01-14 03:23:48|2020-09-16 14:16:29|\n",
      "|42         |23        |l8UMfydPLSx7VdUvOB  |2022-02-19|VBpNv6aoOkg7l       |MrpissofTNpW        |2021-08-04|18.00831 |nsLmT               |2021-09-23 16:46:59|2022-04-28 15:39:28|\n",
      "|60         |92        |42I61QDkIAIOl3Eo5m  |2021-10-04|tqq3LZ43Q9ii06GOG7  |RG2VlURB4           |2022-08-13|33.387188|QgxpxPn1sREn5       |2021-05-26 23:55:28|2021-04-27 12:18:01|\n",
      "|50         |41        |a53ApN22vpiNmbmSgul |2021-12-18|Shd5WjKgmvJ6        |JNJqoli3RVsUk       |2023-11-05|81.91877 |Ahh7afjpFHQwRKGp5TTw|2022-11-11 19:46:43|2021-11-17 22:44:38|\n",
      "|61         |62        |GCXuaqvnJoGvBs      |2023-03-23|NvIS1gBkt6LWIH      |hRsXPVAfKCJepEWH    |2023-11-24|2.449508 |hLx4Cr3EKD          |2021-05-28 15:18:09|2021-09-25 03:47:24|\n",
      "|57         |20        |UGWVrZx0D           |2021-12-29|9TvjsAsgiXDPhk6FL   |OC5SM5qGOpXbaQ      |2020-11-20|65.28241 |Vv00IXtrhoMepzDi3qZw|2021-07-24 07:06:46|2021-07-19 16:54:35|\n",
      "|71         |53        |lfcieSvUDVNK7e8zEjVu|2022-09-04|OfkY                |mHK9f               |2023-06-25|69.55604 |c4Bj                |2023-05-01 08:38:32|2022-04-27 15:01:58|\n",
      "|23         |75        |Nby                 |2023-04-01|ayxlELP             |7XJNxWRLkvj         |2021-11-14|25.91525 |q1vP35CEj           |2020-11-16 14:39:08|2022-09-08 09:58:26|\n",
      "|34         |80        |BI                  |2023-12-07|xRl8hp              |eszktHQY77FtpI1e    |2020-08-10|84.21381 |m6o4H               |2020-06-13 04:37:08|2022-05-19 06:44:06|\n",
      "|3          |83        |yXZsSYM2yjF         |2020-04-14|RgsHz               |9i                  |2022-08-20|78.32127 |BEXecbZk            |2021-10-29 06:52:45|2023-09-05 17:31:08|\n",
      "|55         |50        |IqRpkSvSrgXd        |2023-05-08|0W80TT7OGTluqbAyEv1O|Fmkw                |2020-03-08|47.317963|K                   |2022-02-10 22:12:34|2020-02-08 15:41:14|\n",
      "|16         |70        |6i6uHQLls           |2020-07-20|QDbRL7nDJVE         |LdWF2ysUyIkQ        |2022-08-11|87.57915 |0X7aPzi6OZrzPZvUvDJe|2023-10-22 19:47:55|2020-12-24 20:57:16|\n",
      "|21         |43        |7ZGFmDtQSK          |2021-04-25|iWiDCfGL7j          |A4                  |2022-02-07|74.597046|Jq5kFh8gGVau7T      |2022-08-01 01:48:11|2021-06-24 13:39:11|\n",
      "|56         |43        |N34DxL9dij2eF1eSL7  |2021-08-27|LMRR3iFBw           |ne                  |2022-04-09|3.8550916|YXxtd71             |2023-05-15 14:54:49|2022-09-24 19:01:07|\n",
      "|20         |20        |BWAmozGSlFXM        |2023-03-07|BRtqqflDuZ3KRROs8   |UUQV3Z4k            |2021-10-14|7.522299 |TAPNs               |2022-09-12 05:14:21|2021-05-17 22:04:35|\n",
      "|85         |52        |tT1Yw9DCnMaMC9ng    |2021-05-24|P356B               |89uBo2dBweYZiW      |2021-11-03|79.17284 |kME2wpbkzN4r3v93Y3Xs|2020-09-09 22:16:34|2022-05-01 08:10:23|\n",
      "|14         |82        |k7NKvoQLk           |2021-10-13|OsTF9QLgqf9QGQq0Bu  |H                   |2020-02-22|98.228516|5XV18ZwsYGGXYgofFn  |2020-04-06 18:22:32|2023-07-03 13:42:58|\n",
      "|91         |41        |xBMUHzSfJL          |2022-10-14|tdXbHTYf7M2wzee9LvU |Q00ngwvxDvD         |2022-03-16|40.593998|SM5CLaaVZG7ebND     |2023-07-26 13:56:29|2020-03-12 21:17:13|\n",
      "|28         |91        |2Ac3VwrOb9y         |2021-07-19|ZdFKQjmV0y          |71ulyaDPZgnDg       |2020-02-20|78.93331 |3ugbKaZDsTx25F0l    |2020-03-27 13:26:41|2023-06-04 09:32:26|\n",
      "|75         |18        |8t7NbTZEZLLIfHRYo   |2023-11-27|NTF8Ot              |Ux5UV1              |2022-09-06|37.20624 |P2kLYU              |2023-03-12 16:39:14|2023-07-16 13:51:51|\n",
      "|61         |68        |qoLqN               |2022-07-25|SFiXgVuX0           |c4HZbMksRSCxnNjyE18 |2022-06-20|7.9413824|JZoBYMFpql          |2022-02-07 13:22:13|2022-02-08 15:23:56|\n",
      "+-----------+----------+--------------------+----------+--------------------+--------------------+----------+---------+--------------------+-------------------+-------------------+\n",
      "only showing top 50 rows\n",
      "\n"
     ]
    }
   ],
   "source": [
    "data_gen = DataSetGenStandard(spark, testSchema, 100)\n",
    "# Generate the DataFrame\n",
    "# TODO: So things are a list some are DataFrames (First and Last Name)\n",
    "# TODO: maybe have the generator detect or see and attribute that is labeled as DataFrame/appended to the schema\n",
    "df = data_gen.generate_data()\n",
    "print(type(df))\n",
    "df.show(50, truncate=False)"
   ]
  }
 ],
 "metadata": {
  "kernelspec": {
   "display_name": "PySpark",
   "language": "python",
   "name": "python3"
  },
  "language_info": {
   "codemirror_mode": {
    "name": "ipython",
    "version": 3
   },
   "file_extension": ".py",
   "mimetype": "text/x-python",
   "name": "python",
   "nbconvert_exporter": "python",
   "pygments_lexer": "ipython3",
   "version": "3.8.0"
  }
 },
 "nbformat": 4,
 "nbformat_minor": 5
}
