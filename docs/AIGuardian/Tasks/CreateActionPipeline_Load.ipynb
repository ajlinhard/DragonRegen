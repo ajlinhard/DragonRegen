{
 "cells": [
  {
   "cell_type": "code",
   "execution_count": 1,
   "id": "9a8c2a22",
   "metadata": {},
   "outputs": [
    {
     "name": "stdout",
     "output_type": "stream",
     "text": [
      "Project path: c:\\Users\\dalej\\Documents\\_Coding\\DragonRegen\n"
     ]
    }
   ],
   "source": [
    "import os\n",
    "import sys\n",
    "import json\n",
    "\n",
    "notebook_path = os.getcwd()\n",
    "project_path = os.path.abspath(os.path.join(notebook_path, '..','..'))\n",
    "print(f\"Project path: {project_path}\")\n",
    "# Add the project path to sys.path\n",
    "sys.path.append(project_path)"
   ]
  },
  {
   "cell_type": "markdown",
   "id": "d4f21fad",
   "metadata": {},
   "source": [
    "## Load Data Schema"
   ]
  },
  {
   "cell_type": "code",
   "execution_count": 2,
   "id": "66474a7e",
   "metadata": {},
   "outputs": [
    {
     "name": "stdout",
     "output_type": "stream",
     "text": [
      "dict_keys(['customers', 'vehicles', 'drivers', 'driving_history', 'coverage_options', 'quotes', 'quote_coverages', 'discount_types', 'quote_discounts'])\n"
     ]
    }
   ],
   "source": [
    "# load the schema from the JSON file\n",
    "output_file_path = os.path.join(notebook_path, 'output_schema.json')\n",
    "with open(output_file_path, 'r') as output_file:\n",
    "    loaded_schema = json.load(output_file)\n",
    "\n",
    "print(loaded_schema.keys())\n",
    "# print(json.dumps(loaded_schema['customers'], indent=2))"
   ]
  },
  {
   "cell_type": "code",
   "execution_count": 3,
   "id": "66132f46",
   "metadata": {},
   "outputs": [
    {
     "name": "stdout",
     "output_type": "stream",
     "text": [
      "{\n",
      "  \"name\": \"customer_id\",\n",
      "  \"type\": \"Integer\",\n",
      "  \"nullable\": false,\n",
      "  \"metadata\": {\n",
      "    \"description\": \"unique ID, primary key for customer identification\",\n",
      "    \"unique_fl\": true,\n",
      "    \"default_value\": null,\n",
      "    \"col_type\": \"Unique_Identifier\"\n",
      "  }\n",
      "}\n",
      "{\n",
      "  \"name\": \"first_name\",\n",
      "  \"type\": \"String\",\n",
      "  \"nullable\": false,\n",
      "  \"metadata\": {\n",
      "    \"description\": \"customer's first name\",\n",
      "    \"unique_fl\": false,\n",
      "    \"default_value\": null,\n",
      "    \"col_type\": \"StringFirstName\"\n",
      "  }\n",
      "}\n",
      "{\n",
      "  \"name\": \"zip_code\",\n",
      "  \"type\": \"String\",\n",
      "  \"nullable\": false,\n",
      "  \"metadata\": {\n",
      "    \"description\": \"Customer's postal code used for location-based insurance quote calculations and regional risk assessment.\",\n",
      "    \"unique_fl\": \"False\",\n",
      "    \"column_values\": [\n",
      "      \"10001\",\n",
      "      \"90210\",\n",
      "      \"60601\",\n",
      "      \"02108\",\n",
      "      \"33101\"\n",
      "    ],\n",
      "    \"col_type\": \"Categorical\"\n",
      "  }\n",
      "}\n"
     ]
    }
   ],
   "source": [
    "fields = loaded_schema['customers']['fields']\n",
    "for field in fields:\n",
    "    if field['name'] in ['customer_id', 'first_name', 'zip_code']:\n",
    "        print(json.dumps(field, indent=2))"
   ]
  },
  {
   "cell_type": "code",
   "execution_count": 4,
   "id": "4290728d",
   "metadata": {},
   "outputs": [
    {
     "name": "stdout",
     "output_type": "stream",
     "text": [
      "dict_keys(['customers', 'vehicles', 'drivers', 'driving_history', 'coverage_options', 'quotes', 'quote_coverages', 'discount_types', 'quote_discounts'])\n",
      "dict_keys(['customers', 'vehicles', 'drivers', 'driving_history', 'coverage_options', 'quotes', 'quote_coverages', 'discount_types', 'quote_discounts'])\n",
      "========================================\n",
      "StructType([StructField('customer_id', IntegerType(), False), StructField('first_name', StringType(), False), StructField('last_name', StringType(), False), StructField('email', StringType(), False), StructField('phone_number', StringType(), False), StructField('date_of_birth', DateType(), False), StructField('address_line_1', StringType(), False), StructField('address_line_2', StringType(), True), StructField('city', StringType(), True), StructField('state', StringType(), False), StructField('zip_code', StringType(), False), StructField('created_at', TimestampType(), False), StructField('updated_at', TimestampType(), True)])\n"
     ]
    }
   ],
   "source": [
    "from src.DataCreator.SchemaGenerators.SchemaSpark import SchemaSpark\n",
    "\n",
    "# create spark and t-sql schemas with in there engines\n",
    "sturct_col = SchemaSpark.generate_schema(loaded_schema)\n",
    "print(loaded_schema.keys())\n",
    "print(sturct_col.keys())\n",
    "print('=='*20)\n",
    "print(sturct_col['customers'])\n"
   ]
  },
  {
   "cell_type": "code",
   "execution_count": 5,
   "id": "f4336b7a",
   "metadata": {},
   "outputs": [
    {
     "name": "stdout",
     "output_type": "stream",
     "text": [
      "StructField('customer_id', IntegerType(), False)\n",
      "{'description': 'unique ID, primary key for customer identification', 'unique_fl': True, 'default_value': None, 'col_type': 'Unique_Identifier'}\n"
     ]
    }
   ],
   "source": [
    "# Confirm Metadata is being passed correctly\n",
    "print(sturct_col['customers']['customer_id'])\n",
    "col_ex = sturct_col['customers']['customer_id']\n",
    "print(col_ex.metadata)"
   ]
  },
  {
   "cell_type": "markdown",
   "id": "21c66870",
   "metadata": {},
   "source": [
    "## Create DataFrames"
   ]
  },
  {
   "cell_type": "code",
   "execution_count": 6,
   "id": "1afa5877",
   "metadata": {},
   "outputs": [],
   "source": [
    "from src.DataCreator.DataSets.DataSetGenStandard import DataSetGenStandard\n",
    "from pyspark.sql import SparkSession\n",
    "from pyspark.sql.types import *\n",
    "\n",
    "spark = SparkSession.builder \\\n",
    "    .appName(\"Test Data Set Generation\") \\\n",
    "    .enableHiveSupport() \\\n",
    "    .master(\"local[*]\") \\\n",
    "    .getOrCreate()"
   ]
  },
  {
   "cell_type": "code",
   "execution_count": 7,
   "id": "de96835a",
   "metadata": {},
   "outputs": [
    {
     "name": "stdout",
     "output_type": "stream",
     "text": [
      "StructType([StructField('customer_id', IntegerType(), False), StructField('first_name', StringType(), False), StructField('last_name', StringType(), False), StructField('email', StringType(), False), StructField('phone_number', StringType(), False), StructField('date_of_birth', DateType(), False), StructField('address_line_1', StringType(), False), StructField('address_line_2', StringType(), True), StructField('city', StringType(), True), StructField('state', StringType(), False), StructField('zip_code', StringType(), False), StructField('created_at', TimestampType(), False), StructField('updated_at', TimestampType(), True)])\n"
     ]
    }
   ],
   "source": [
    "testSchema = sturct_col['customers']\n",
    "print(testSchema)"
   ]
  },
  {
   "cell_type": "code",
   "execution_count": 8,
   "id": "685a300a",
   "metadata": {},
   "outputs": [],
   "source": [
    "# Create First Name and Last Name column generators (need long term fix for this)\n",
    "from src.DataCreator.DataGenerators.FirstNameData import FirstNameData\n",
    "from src.DataCreator.DataGenerators.LastNameData import LastNameData\n",
    "\n",
    "FirstNameGen = FirstNameData(spark)\n",
    "LastNameGen = LastNameData(spark)"
   ]
  },
  {
   "cell_type": "code",
   "execution_count": 9,
   "id": "7697691e",
   "metadata": {},
   "outputs": [
    {
     "name": "stdout",
     "output_type": "stream",
     "text": [
      "+----------+------------+-------------------+-------------------+\n",
      "|first_name|overall_rank|profile_lower_bound|profile_upper_bound|\n",
      "+----------+------------+-------------------+-------------------+\n",
      "|Michael   |1           |0                  |3955521            |\n",
      "|James     |2           |3955521            |6894384            |\n",
      "|David     |3           |6894384            |9819819            |\n",
      "|John      |4           |9819819            |12601194           |\n",
      "|Robert    |5           |12601194           |15203120           |\n",
      "+----------+------------+-------------------+-------------------+\n",
      "only showing top 5 rows\n",
      "\n",
      "+---------+-----------+-------------------+-------------------+\n",
      "|last_name|unqiue_rank|profile_lower_bound|profile_upper_bound|\n",
      "+---------+-----------+-------------------+-------------------+\n",
      "|SMITH    |1          |0                  |82819              |\n",
      "|JOHNSON  |2          |82819              |148342             |\n",
      "|WILLIAMS |3          |148342             |203439             |\n",
      "|BROWN    |4          |203439             |252156             |\n",
      "|JONES    |5          |252156             |300480             |\n",
      "+---------+-----------+-------------------+-------------------+\n",
      "only showing top 5 rows\n",
      "\n"
     ]
    }
   ],
   "source": [
    "FirstNameGen.df_first_names.show(5, False)\n",
    "LastNameGen.df_last_names.show(5, False)"
   ]
  },
  {
   "cell_type": "code",
   "execution_count": 10,
   "id": "defdfd9d",
   "metadata": {},
   "outputs": [
    {
     "name": "stdout",
     "output_type": "stream",
     "text": [
      "==> Column Name:customer_id\n",
      "Nothing found\n",
      "Checking subclass: Categorical and requirements: None\n",
      "Checking subclass: StringBasic and requirements: None\n",
      "Checking subclass: ColBasic and requirements: <class 'src.DataCreator.ColGenerators.ColBasic.ColBasic'>\n",
      "==> Column Name:first_name\n",
      "==> Column Name:last_name\n",
      "==> Column Name:email\n",
      "Nothing found\n",
      "Checking subclass: Categorical and requirements: None\n",
      "Checking subclass: StringBasic and requirements: <class 'src.DataCreator.ColGenerators.StringBasic.StringBasic'>\n",
      "==> Column Name:phone_number\n",
      "==> Column Name:date_of_birth\n",
      "Nothing found\n",
      "Checking subclass: Categorical and requirements: None\n",
      "Checking subclass: StringBasic and requirements: None\n",
      "Checking subclass: ColBasic and requirements: <class 'src.DataCreator.ColGenerators.ColBasic.ColBasic'>\n",
      "==> Column Name:address_line_1\n",
      "Nothing found\n",
      "Checking subclass: Categorical and requirements: None\n",
      "Checking subclass: StringBasic and requirements: <class 'src.DataCreator.ColGenerators.StringBasic.StringBasic'>\n",
      "==> Column Name:address_line_2\n",
      "Nothing found\n",
      "Checking subclass: Categorical and requirements: None\n",
      "Checking subclass: StringBasic and requirements: <class 'src.DataCreator.ColGenerators.StringBasic.StringBasic'>\n",
      "==> Column Name:city\n",
      "Nothing found\n",
      "Checking subclass: Categorical and requirements: None\n",
      "Checking subclass: StringBasic and requirements: <class 'src.DataCreator.ColGenerators.StringBasic.StringBasic'>\n",
      "==> Column Name:state\n",
      "==> Column Name:zip_code\n",
      "==> Column Name:created_at\n",
      "Nothing found\n",
      "Checking subclass: Categorical and requirements: None\n",
      "Checking subclass: StringBasic and requirements: None\n",
      "Checking subclass: ColBasic and requirements: <class 'src.DataCreator.ColGenerators.ColBasic.ColBasic'>\n",
      "==> Column Name:updated_at\n",
      "Nothing found\n",
      "Checking subclass: Categorical and requirements: None\n",
      "Checking subclass: StringBasic and requirements: None\n",
      "Checking subclass: ColBasic and requirements: <class 'src.DataCreator.ColGenerators.ColBasic.ColBasic'>\n",
      "Generating Rows: 100, with Columns: 13\n",
      "<class 'pyspark.sql.dataframe.DataFrame'>\n",
      "+-----------+----------+-----------+--------------------+--------------------+-------------+--------------------+--------------------+--------------------+-----+--------+-------------------+-------------------+\n",
      "|customer_id|first_name|last_name  |email               |phone_number        |date_of_birth|address_line_1      |address_line_2      |city                |state|zip_code|created_at         |updated_at         |\n",
      "+-----------+----------+-----------+--------------------+--------------------+-------------+--------------------+--------------------+--------------------+-----+--------+-------------------+-------------------+\n",
      "|12         |Teresa    |WEST       |EB0                 |3JEEfbG3LeFwq6tZ7uI |2023-11-02   |E                   |GPWXrFo4F5a         |FRQBmtkJV           |MD   |90210   |2020-03-13 06:22:06|2022-07-01 08:09:23|\n",
      "|83         |Bryan     |OTHER      |xKPeJf9pTM          |4AF                 |2023-07-13   |ygXcReZ             |XP8Kl               |564CYT              |HI   |02108   |2020-09-03 10:48:52|2020-01-10 02:43:45|\n",
      "|31         |Dustin    |MALLARD    |ePorHjPNL5KS        |s82W                |2020-04-05   |c8sd4S              |ff3WYx7WSYU6z       |k01ySD5jTJQp8       |TX   |33101   |2022-07-03 01:39:55|2020-10-14 12:08:17|\n",
      "|93         |Joy       |CLARK      |DuTZPSgji           |An4KPKmV            |2023-06-03   |ruASlXgm7H9ajF5Ydy  |tr0CrcyGov6Efm      |K                   |RI   |10001   |2020-04-23 05:28:04|2023-05-30 14:58:17|\n",
      "|3          |Madelyn   |MAGANA     |vs28asVEYOVnwy3pJ   |Wo2SaRKrk           |2021-02-26   |neBfCgvuU           |387BzfNgro5JK       |nCLAF2HtB2AeWw14    |MO   |60601   |2023-10-26 17:10:39|2023-08-02 07:58:44|\n",
      "|52         |Bryan     |OTHER      |txZ6b               |EtdaE6xc78oCkmxS    |2020-12-21   |L7mj52PX            |4VbUP               |Po3FxRrdQNGWceR     |RI   |33101   |2023-12-03 06:30:08|2023-06-17 09:14:59|\n",
      "|83         |Kimberly  |WILLIAMS   |WN                  |nHT0tmVRTYsNFRpsG   |2021-03-08   |H                   |yUC3M7qbwLNeO       |MynSPr9             |CT   |90210   |2021-12-01 05:06:38|2022-07-18 19:36:52|\n",
      "|60         |Hailey    |PFLEIGER   |N54zz               |qQGD25jju2ZCXwdFjHO |2022-01-01   |Nm1tZeWJMDQcn56xqh  |PnNEmvjpug4dFvC     |DZqArOp             |DC   |90210   |2020-05-17 03:16:00|2020-07-15 06:28:47|\n",
      "|24         |Ruby      |ASSEFA     |W                   |ZMZiy2U             |2021-08-26   |nWbBADGfTw          |ZTi                 |WiM5TslbYw36Ss      |UT   |60601   |2020-06-08 14:01:13|2020-10-02 17:37:25|\n",
      "|50         |Tallulah  |BRIDGE     |Se9uQZ2             |6rNRmxltNFRG34JIVbi |2022-11-02   |71SlK3W0UJA3X8nu    |Nc                  |Qr6nbu              |RI   |10001   |2023-06-26 14:34:08|2023-05-14 21:43:45|\n",
      "|73         |Steven    |OTHER      |4xlt5bhN1Gq         |STY2WJEcXIMtWqakuHVY|2023-09-27   |GEl                 |5                   |2zAP8rCHJT          |OR   |10001   |2020-07-26 03:21:39|2023-06-09 18:39:04|\n",
      "|93         |Chandra   |VANG       |LC6AlTIxhlr6yzaT    |vKEKT3PLCjAc        |2023-05-06   |zC3                 |GR1rLIp6vobUzYB0fOWp|RYRgFJqX            |NE   |02108   |2023-05-29 08:19:00|2020-12-17 21:00:31|\n",
      "|80         |Hope      |OTHER      |YNbUENSZmPaQdo6s8o11|bfWUWYQckd          |2021-04-01   |K51OkbpbPOIfzBB986bT|7eiKhO19d           |JrVVp1IBQNl77JaEApp6|ME   |33101   |2020-11-09 08:13:58|2020-09-03 13:58:05|\n",
      "|85         |Tyrone    |POWERS     |lIV                 |wKnJMDA             |2021-05-28   |12I1ddQAOIhFUSUl    |QKzSPmyekGHFxEd     |i4Xp                |WI   |02108   |2023-07-02 00:16:55|2020-10-06 07:23:12|\n",
      "|23         |Ruth      |SCHMIDT    |RIf8BnSLz4GpExZ     |93Ffr3E5iyRa0d      |2022-01-20   |954HzqmsKpQG        |RFLFyYgnc6KAbNetNT  |NX                  |NV   |02108   |2022-03-16 16:53:02|2020-09-24 18:39:48|\n",
      "|77         |Addison   |MCKAY      |wsAWUJYjoT9         |qQoVjpU8p           |2021-12-27   |EYHHsyF4MPo         |3                   |2iRaPv90B18nB9OXQEsa|MN   |90210   |2023-03-12 17:50:14|2021-07-27 19:15:53|\n",
      "|69         |Dennis    |PAULSON    |WRW96YU2OUazAiATx66R|eOq8                |2023-04-09   |SE                  |K4VFGGLzl6gqwa      |ZmhS6JBOhW          |NV   |33101   |2023-10-23 07:23:27|2022-08-05 05:08:25|\n",
      "|1          |James     |PORTER     |PVo0or03l3xFrJfxz5z |JhincXH9RDqnYL      |2023-07-17   |DiPfVZgteW          |LQtGwVw2wOd2        |Eo                  |NC   |60601   |2020-04-07 21:22:06|2020-10-10 00:50:20|\n",
      "|36         |Paige     |SMITH      |zfUDbi4ge           |Z0JrEOf3XB          |2020-06-06   |zgz1g               |Ln                  |B9Jn0wAVA5xdF5Wrb   |OR   |90210   |2022-01-23 06:05:13|2022-05-29 18:26:22|\n",
      "|17         |Walker    |FEATHERSTON|0E0inmRBuN1cI70PRLJ |V                   |2022-09-23   |F                   |AdmI2kEbvWG3J       |NOHLcMTX4aoylFa7kbFD|KS   |02108   |2023-07-30 21:01:15|2023-01-13 07:42:40|\n",
      "|89         |Jaiden    |KARNIK     |e8PEWpg6            |fuBVX2xt9Ig         |2021-01-23   |8O7gM               |w                   |6TFS34cXbz8iBY      |AZ   |10001   |2023-11-01 09:59:14|2020-05-29 05:27:41|\n",
      "|53         |Clinton   |STEVENS    |fkCTDsgPo3U9Z5JJH9  |B4BSq               |2023-07-21   |D1mMjcbmJrG         |Sm                  |WtUiygGEWT3ltR      |PA   |60601   |2021-06-17 15:16:55|2022-06-17 09:51:44|\n",
      "|80         |Andrea    |SANCHEZ    |tVCNYxqtq56DmZUVB   |V7sKojYsZx8         |2023-07-14   |sJKeWwQjCujq89Qb    |z3U9C288NajUL       |avxHqoOllLpFV9XUEP  |TX   |90210   |2020-05-16 04:55:39|2020-07-17 01:52:17|\n",
      "|63         |Angelina  |HALILOVIC  |rmgpWeLr5           |TR4d                |2021-03-26   |eu6z9zbH            |dHWrh7X68BoczM8kcG  |67Mh6Q6xPGkNhSYH    |SC   |60601   |2021-02-09 03:15:04|2022-12-03 18:58:32|\n",
      "|98         |Erick     |WILLIAMS   |R4bxwKvwVOxhr       |EmCWd70EUxGddoV     |2023-03-25   |5veK7S0aJIiNaqAVsH  |qQKZSWKnja          |5dqGoqK9p7bZiPMq    |NC   |60601   |2020-03-25 14:54:00|2020-09-24 08:21:38|\n",
      "|90         |Sara      |JAMES      |pPK2WJm3r5m4UxH1SoB |AEW4kWYExb44FOmrcs  |2021-10-04   |z                   |K7                  |oRSTZlqHAnX         |AK   |10001   |2021-08-04 07:38:21|2021-09-09 01:42:06|\n",
      "|37         |Otoniel   |STONE      |yNKSow0M3VhsdIYLCX5 |VPxCVclM5yV7        |2021-12-30   |QnUeAigA            |lYDVF5pHq75H3Um4Kn  |SDt12NGdUj          |MD   |10001   |2020-08-08 20:30:40|2022-05-26 12:42:51|\n",
      "|71         |Jonah     |OTHER      |grEj                |IooamlNc9GRVkTN     |2023-03-27   |jl                  |vNh4Ub6ZgApB9VV     |DqjKUcToJvJdy2RvCzQ |MO   |33101   |2021-08-30 08:49:15|2020-03-14 09:50:16|\n",
      "|54         |Collin    |JOHNSON    |STLfy7IwTIdHvUA1bY  |umCOF               |2022-10-22   |15e4sxx             |YIVd70hV13Hg3onJ    |su1TEGlfUyunm0Jn    |NH   |33101   |2023-12-17 12:37:57|2023-07-23 04:22:35|\n",
      "|82         |Nicole    |WOHLFORD   |o4lG6yJiY           |sxOX3dI             |2021-05-06   |x8vh6B170           |mrFXkg              |Xj70MwzDPYeRnz2Q    |MA   |90210   |2021-12-07 04:04:46|2022-06-08 11:51:09|\n",
      "|4          |Lucia     |PLUMMER    |g                   |RfnTO7auYWRF2CbTKg  |2021-02-02   |I                   |rkTGGje             |s27l                |CA   |33101   |2023-01-20 17:31:54|2021-09-03 02:57:58|\n",
      "|84         |Lisa      |BARRERA    |sAMiwPRrf1          |2o                  |2022-07-11   |oKh1Lxy             |QNyi6xFBQ6Dcpzk59sZI|dqhLEqa             |AL   |60601   |2021-06-03 01:59:59|2023-06-04 22:17:24|\n",
      "|27         |Kassandra |KONDA      |3qgKo1FQ0OrnDYUZn   |IqQc                |2021-10-30   |TZ3W22O43ndAiPD3    |qcas9L5YdqRReL6N    |H7                  |KY   |10001   |2020-02-07 16:20:29|2022-12-01 07:26:38|\n",
      "|2          |Morris    |ALBERTO    |k48gHiF             |OYvtUQgwu           |2023-08-08   |DwAdC0TNdA          |Uc3iwzYEey          |OmqUYkXPj0NGDBRxds6u|NM   |02108   |2020-10-08 14:03:28|2021-05-27 23:27:54|\n",
      "|68         |Isaac     |PURDY      |2swg2mOeumtyVX3wjOw3|LJx5GDsiDWVQE5Kafo  |2022-07-25   |0vZBnXNQW7fkVX      |euAgFF              |qngKONm6iVcv        |KY   |60601   |2023-02-23 12:22:25|2020-01-15 08:46:55|\n",
      "|54         |Samuel    |BELL       |PWkDbOG5x           |ktHldbRU            |2020-10-04   |C0mXSNZe4OFWSZIE5Wgz|m9w                 |HD1                 |NY   |60601   |2022-05-26 00:42:29|2021-07-01 07:19:42|\n",
      "|86         |Erasmus   |JACKSON    |5H7K                |EBRjPHgn8AEGF       |2021-07-27   |btR8QQa             |tMit0MrIYqJc61u1Ul  |pPmMtnTeOANj6       |AK   |60601   |2023-09-19 04:10:56|2022-04-21 14:11:33|\n",
      "|34         |Caleb     |BLAUSER    |zWLjgPQsGFt         |v9vStBUtti9vleIHpp  |2023-09-18   |9iufEt73cIGsOY      |fbusj6SZZckgCbm     |XzTAr               |SD   |90210   |2021-08-05 08:38:32|2020-05-19 10:48:28|\n",
      "|80         |Ashley    |OTHER      |J2GF3TJDjNqhcCUR5nN |5RMHqNRv            |2020-06-03   |jB                  |lcNxUU96VcGWSNa     |cXi8qPmhj           |CO   |10001   |2023-09-13 01:10:17|2023-08-02 05:52:34|\n",
      "|96         |Anabella  |LOPEZ      |TD9Yvs4BCICWkR5xJ   |YC9iXj7FA4Wf        |2022-10-10   |E2FEQhq             |p2gSCrumWf00m91eE   |qdmXDgaiptq0zBC0    |SD   |60601   |2021-03-09 23:08:49|2023-01-13 09:33:41|\n",
      "|30         |Alexis    |WALKOWIAK  |XOy                 |VxCAn0HD0D1tNuvwRz2 |2020-02-07   |M8dYPu53Tu          |nxoLFtoYzYu         |wE3LbeLGjuc98sE     |AZ   |33101   |2021-02-06 14:16:31|2021-03-20 10:39:11|\n",
      "|89         |Robert    |MONTOYA    |H8jU2k2             |vLCr                |2020-01-24   |sQpZdtOlgTbN1       |gOm60doOx6i9KuKR    |ts5                 |WI   |60601   |2021-10-07 21:44:53|2021-11-10 23:40:17|\n",
      "|83         |Marissa   |CONWAY     |pKR                 |vybWdqk43O08        |2022-08-04   |pSQM4               |MaTlNkJSiW9yL       |E                   |MD   |90210   |2023-11-04 09:23:56|2021-05-31 21:20:52|\n",
      "|89         |Sherri    |COX        |SCDRyWGk            |B3EIapNGsN2y        |2021-11-19   |2V16o8H9tw1cY2y     |0xvOH0z3dDbpurvPVveo|jwncZo              |ID   |10001   |2023-12-28 01:40:34|2021-09-02 00:51:00|\n",
      "|85         |Elizabeth |NAM        |QKjlaLmH0k6T3       |8iUqK23i2fHGcSFB0   |2023-10-14   |LkrUWs1opH          |dasP6nOVbfJrxztWPQjl|ZEVaUbNe2           |TX   |02108   |2023-08-02 12:35:46|2021-03-12 06:03:56|\n",
      "|92         |Bruce     |LEVARI     |Xq8QgQd             |VGILzNuC9           |2020-08-21   |mwUp                |egy6oHta0bJunNPsy   |fbB                 |NJ   |02108   |2020-12-18 20:59:31|2020-08-15 22:22:11|\n",
      "|20         |Christine |FLEET      |SYu1BM1gL5          |HhE                 |2021-11-16   |IPPaNIROXatczTyUwq  |4FOu1               |EkhO                |WA   |90210   |2023-02-21 02:39:39|2020-03-14 19:35:28|\n",
      "|65         |Susan     |WILLIAMS   |4Ru5jtS2EYpxV       |XsMJbZhly3W         |2022-01-26   |KF7Zuf4             |1                   |kLdZ6Hx7ci          |MA   |33101   |2022-02-02 19:22:52|2020-03-16 23:55:31|\n",
      "|43         |Derrick   |NOEL       |Lc                  |uR17lPi519zC        |2020-02-15   |76pMHK1rOJw         |UMU3mSiupw          |7Olu                |TN   |60601   |2020-11-07 18:39:51|2020-11-30 08:36:58|\n",
      "|94         |Micah     |MCCAMISH   |RXjtRU              |elRu4pqHEosdf63N    |2020-05-03   |nf8                 |1LRlijRLX           |iOqtKJkM7LCpx0Tq5go |ND   |90210   |2022-02-07 11:55:50|2021-08-18 12:44:10|\n",
      "+-----------+----------+-----------+--------------------+--------------------+-------------+--------------------+--------------------+--------------------+-----+--------+-------------------+-------------------+\n",
      "only showing top 50 rows\n",
      "\n"
     ]
    }
   ],
   "source": [
    "data_gen = DataSetGenStandard(spark, testSchema, 100)\n",
    "# Generate the DataFrame\n",
    "# TODO: So things are a list some are DataFrames (First and Last Name)\n",
    "# TODO: maybe have the generator detect or see and attribute that is labeled as DataFrame/appended to the schema\n",
    "df = data_gen.generate_data()\n",
    "print(type(df))\n",
    "df.show(50, truncate=False)"
   ]
  }
 ],
 "metadata": {
  "kernelspec": {
   "display_name": "PySpark",
   "language": "python",
   "name": "python3"
  },
  "language_info": {
   "codemirror_mode": {
    "name": "ipython",
    "version": 3
   },
   "file_extension": ".py",
   "mimetype": "text/x-python",
   "name": "python",
   "nbconvert_exporter": "python",
   "pygments_lexer": "ipython3",
   "version": "3.8.0"
  }
 },
 "nbformat": 4,
 "nbformat_minor": 5
}
