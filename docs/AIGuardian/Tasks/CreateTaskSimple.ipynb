{
 "cells": [
  {
   "cell_type": "code",
   "execution_count": 1,
   "id": "9af77b63",
   "metadata": {},
   "outputs": [
    {
     "name": "stdout",
     "output_type": "stream",
     "text": [
      "Project path: c:\\Users\\dalej\\Documents\\_Coding\\DragonRegen\n"
     ]
    }
   ],
   "source": [
    "import os\n",
    "import sys\n",
    "from anthropic import Anthropic, AnthropicError\n",
    "\n",
    "notebook_path = os.getcwd()\n",
    "project_path = os.path.abspath(os.path.join(notebook_path, '..','..','..'))\n",
    "print(f\"Project path: {project_path}\")\n",
    "# Add the project path to sys.path\n",
    "sys.path.append(project_path)"
   ]
  },
  {
   "cell_type": "code",
   "execution_count": 2,
   "id": "348cf9ad",
   "metadata": {},
   "outputs": [],
   "source": [
    "from src.MetaFort.SysLogs.KafkaEngine import KafkaEngine\n",
    "from src.MetaFort.AILoggingTopics import AILoggingTopics\n",
    "from kafka import KafkaProducer, KafkaConsumer\n",
    "\n",
    "# Initialize KafkaEngine\n",
    "kafka_engine = KafkaEngine(\n",
    "    connection_string='localhost:9092',\n",
    ")\n",
    "\n",
    "kafka_engine.producer = KafkaProducer(bootstrap_servers=['localhost:9092'], max_block_ms=5000)\n",
    "\n",
    "# Create Consumers\n",
    "kafka_engine.consumers[AILoggingTopics.AI_TASK_TOPIC] = KafkaConsumer(\n",
    "        AILoggingTopics.AI_TASK_TOPIC,\n",
    "        bootstrap_servers=['localhost:9092'],\n",
    "        group_id='ai_logging_group',\n",
    "        auto_offset_reset='latest')\n",
    "kafka_engine.consumers[AILoggingTopics.AI_TASK_LOG_TOPIC] = KafkaConsumer(\n",
    "        AILoggingTopics.AI_TASK_LOG_TOPIC,\n",
    "        bootstrap_servers=['localhost:9092'],\n",
    "        group_id='ai_logging_group',\n",
    "        auto_offset_reset='latest')"
   ]
  },
  {
   "cell_type": "code",
   "execution_count": 3,
   "id": "4446e42e",
   "metadata": {},
   "outputs": [
    {
     "name": "stdout",
     "output_type": "stream",
     "text": [
      "<src.AIGuardian.Tasks.TaskSayHello.TaskSayHello object at 0x0000022BEF3B5390>\n",
      "250025204405800825292575480889929467424\n"
     ]
    }
   ],
   "source": [
    "from src.AIGuardian.Tasks.TaskSayHello import TaskSayHello\n",
    "\n",
    "start_action = TaskSayHello()\n",
    "start_action.db_engine = kafka_engine\n",
    "print(start_action)\n",
    "print(start_action.task_id)"
   ]
  },
  {
   "cell_type": "code",
   "execution_count": 5,
   "id": "29538360",
   "metadata": {},
   "outputs": [
    {
     "data": {
      "text/plain": [
       "{'task_id': 250025204405800825292575480889929467424,\n",
       " 'task_name': 'TaskSayHello',\n",
       " 'task_version': '0.0.1',\n",
       " 'parent_task_id': None,\n",
       " 'group_task_id': None,\n",
       " 'description': 'The base Task class. This should be inherited by all Task classes.',\n",
       " 'sequence_number': 0,\n",
       " 'created_dt': '2025-05-13T17:56:34.571713',\n",
       " 'updated_dt': '2025-05-13T17:56:34.571713',\n",
       " 'input_artifacts': None}"
      ]
     },
     "execution_count": 5,
     "metadata": {},
     "output_type": "execute_result"
    }
   ],
   "source": [
    "start_action.submit_task()"
   ]
  },
  {
   "cell_type": "code",
   "execution_count": 7,
   "id": "1f720fe6",
   "metadata": {},
   "outputs": [
    {
     "name": "stderr",
     "output_type": "stream",
     "text": [
      "c:\\Users\\dalej\\Documents\\_Coding\\DragonRegen\\src\\AIGuardian\\Tasks\\TaskSayHello.py:124: RuntimeWarning: coroutine 'Task.run' was never awaited\n",
      "  super().run(user_prompt)\n",
      "RuntimeWarning: Enable tracemalloc to get the object allocation traceback\n"
     ]
    }
   ],
   "source": [
    "await start_action.run('')\n"
   ]
  }
 ],
 "metadata": {
  "kernelspec": {
   "display_name": "Kafka_Spark",
   "language": "python",
   "name": "python3"
  },
  "language_info": {
   "codemirror_mode": {
    "name": "ipython",
    "version": 3
   },
   "file_extension": ".py",
   "mimetype": "text/x-python",
   "name": "python",
   "nbconvert_exporter": "python",
   "pygments_lexer": "ipython3",
   "version": "3.11.10"
  }
 },
 "nbformat": 4,
 "nbformat_minor": 5
}
