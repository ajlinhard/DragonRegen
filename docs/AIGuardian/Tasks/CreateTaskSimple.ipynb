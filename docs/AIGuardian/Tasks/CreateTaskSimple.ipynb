{
 "cells": [
  {
   "cell_type": "code",
   "execution_count": 1,
   "id": "9af77b63",
   "metadata": {},
   "outputs": [
    {
     "name": "stdout",
     "output_type": "stream",
     "text": [
      "Project path: c:\\Users\\dalej\\Documents\\_Coding\\DragonRegen\n"
     ]
    }
   ],
   "source": [
    "import os\n",
    "import sys\n",
    "from anthropic import Anthropic, AnthropicError\n",
    "\n",
    "notebook_path = os.getcwd()\n",
    "project_path = os.path.abspath(os.path.join(notebook_path, '..','..','..'))\n",
    "print(f\"Project path: {project_path}\")\n",
    "# Add the project path to sys.path\n",
    "sys.path.append(project_path)"
   ]
  },
  {
   "cell_type": "code",
   "execution_count": null,
   "id": "348cf9ad",
   "metadata": {},
   "outputs": [
    {
     "ename": "AttributeError",
     "evalue": "'dict' object has no attribute 'append'",
     "output_type": "error",
     "traceback": [
      "\u001b[1;31m---------------------------------------------------------------------------\u001b[0m",
      "\u001b[1;31mAttributeError\u001b[0m                            Traceback (most recent call last)",
      "Cell \u001b[1;32mIn[5], line 11\u001b[0m\n\u001b[0;32m      6\u001b[0m kafka_engine \u001b[38;5;241m=\u001b[39m KafkaEngine(\n\u001b[0;32m      7\u001b[0m     connection_string\u001b[38;5;241m=\u001b[39m\u001b[38;5;124m'\u001b[39m\u001b[38;5;124mlocalhost:9092\u001b[39m\u001b[38;5;124m'\u001b[39m,\n\u001b[0;32m      8\u001b[0m )\n\u001b[0;32m     10\u001b[0m kafka_engine\u001b[38;5;241m.\u001b[39mproducer \u001b[38;5;241m=\u001b[39m KafkaProducer(bootstrap_servers\u001b[38;5;241m=\u001b[39m[\u001b[38;5;124m'\u001b[39m\u001b[38;5;124mlocalhost:9092\u001b[39m\u001b[38;5;124m'\u001b[39m], max_block_ms\u001b[38;5;241m=\u001b[39m\u001b[38;5;241m5000\u001b[39m)\n\u001b[1;32m---> 11\u001b[0m kafka_engine\u001b[38;5;241m.\u001b[39mconsumers\u001b[38;5;241m.\u001b[39mappend(\n\u001b[0;32m     12\u001b[0m     KafkaConsumer(\n\u001b[0;32m     13\u001b[0m         AILoggingTopics\u001b[38;5;241m.\u001b[39mAI_TASK_TOPIC,\n\u001b[0;32m     14\u001b[0m         bootstrap_servers\u001b[38;5;241m=\u001b[39m[\u001b[38;5;124m'\u001b[39m\u001b[38;5;124mlocalhost:9092\u001b[39m\u001b[38;5;124m'\u001b[39m],\n\u001b[0;32m     15\u001b[0m         group_id\u001b[38;5;241m=\u001b[39m\u001b[38;5;124m'\u001b[39m\u001b[38;5;124mai_logging_group\u001b[39m\u001b[38;5;124m'\u001b[39m,\n\u001b[0;32m     16\u001b[0m         auto_offset_reset\u001b[38;5;241m=\u001b[39m\u001b[38;5;124m'\u001b[39m\u001b[38;5;124mlatest\u001b[39m\u001b[38;5;124m'\u001b[39m)\n\u001b[0;32m     17\u001b[0m )\n\u001b[0;32m     18\u001b[0m kafka_engine\u001b[38;5;241m.\u001b[39mconsumers\u001b[38;5;241m.\u001b[39mappend(\n\u001b[0;32m     19\u001b[0m     KafkaConsumer(\n\u001b[0;32m     20\u001b[0m         AILoggingTopics\u001b[38;5;241m.\u001b[39mAI_TASK_LOG_TOPIC,\n\u001b[1;32m   (...)\u001b[0m\n\u001b[0;32m     23\u001b[0m         auto_offset_reset\u001b[38;5;241m=\u001b[39m\u001b[38;5;124m'\u001b[39m\u001b[38;5;124mlatest\u001b[39m\u001b[38;5;124m'\u001b[39m)\n\u001b[0;32m     24\u001b[0m )\n",
      "\u001b[1;31mAttributeError\u001b[0m: 'dict' object has no attribute 'append'"
     ]
    }
   ],
   "source": [
    "from src.MetaFort.SysLogs.KafkaEngine import KafkaEngine\n",
    "from src.MetaFort.AILoggingTopics import AILoggingTopics\n",
    "from kafka import KafkaProducer, KafkaConsumer\n",
    "\n",
    "# Initialize KafkaEngine\n",
    "kafka_engine = KafkaEngine(\n",
    "    connection_string='localhost:9092',\n",
    ")\n",
    "\n",
    "kafka_engine.producer = KafkaProducer(bootstrap_servers=['localhost:9092'], max_block_ms=5000)\n",
    "\n",
    "# Create Consumers\n",
    "kafka_engine.consumers[AILoggingTopics.AI_TASK_TOPIC] = KafkaConsumer(\n",
    "        AILoggingTopics.AI_TASK_TOPIC,\n",
    "        bootstrap_servers=['localhost:9092'],\n",
    "        group_id='ai_logging_group',\n",
    "        auto_offset_reset='latest')\n",
    "kafka_engine.consumers[AILoggingTopics.AI_TASK_LOG_TOPIC] = KafkaConsumer(\n",
    "        AILoggingTopics.AI_TASK_LOG_TOPIC,\n",
    "        bootstrap_servers=['localhost:9092'],\n",
    "        group_id='ai_logging_group',\n",
    "        auto_offset_reset='latest')"
   ]
  },
  {
   "cell_type": "code",
   "execution_count": 3,
   "id": "4446e42e",
   "metadata": {},
   "outputs": [
    {
     "name": "stdout",
     "output_type": "stream",
     "text": [
      "<src.AIGuardian.Tasks.TaskSayHello.TaskSayHello object at 0x000001D7E46DB8D0>\n",
      "c9b8a325-0cca-4fc6-976e-826eaa95f5c9\n"
     ]
    }
   ],
   "source": [
    "from src.AIGuardian.Tasks.TaskSayHello import TaskSayHello\n",
    "\n",
    "start_action = TaskSayHello()\n",
    "print(start_action)\n",
    "print(start_action.task_id)"
   ]
  }
 ],
 "metadata": {
  "kernelspec": {
   "display_name": "Kafka_Spark",
   "language": "python",
   "name": "python3"
  },
  "language_info": {
   "codemirror_mode": {
    "name": "ipython",
    "version": 3
   },
   "file_extension": ".py",
   "mimetype": "text/x-python",
   "name": "python",
   "nbconvert_exporter": "python",
   "pygments_lexer": "ipython3",
   "version": "3.11.10"
  }
 },
 "nbformat": 4,
 "nbformat_minor": 5
}
