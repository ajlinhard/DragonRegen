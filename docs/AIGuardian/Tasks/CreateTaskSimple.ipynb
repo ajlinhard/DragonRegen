{
 "cells": [
  {
   "cell_type": "code",
   "execution_count": 6,
   "id": "9af77b63",
   "metadata": {},
   "outputs": [
    {
     "name": "stdout",
     "output_type": "stream",
     "text": [
      "Project path: c:\\Users\\dalej\\Documents\\_Coding\\DragonRegen\n"
     ]
    }
   ],
   "source": [
    "import os\n",
    "import sys\n",
    "from anthropic import Anthropic, AnthropicError\n",
    "\n",
    "notebook_path = os.getcwd()\n",
    "project_path = os.path.abspath(os.path.join(notebook_path, '..','..','..'))\n",
    "print(f\"Project path: {project_path}\")\n",
    "# Add the project path to sys.path\n",
    "sys.path.append(project_path)"
   ]
  },
  {
   "cell_type": "code",
   "execution_count": null,
   "id": "348cf9ad",
   "metadata": {},
   "outputs": [],
   "source": [
    "from src.MetaFort.SysLogs.KafkaEngine import KafkaEngine\n",
    "from src.MetaFort.AILoggingTopics import AILoggingTopics\n",
    "from kafka import KafkaProducer, KafkaConsumer\n"
   ]
  },
  {
   "cell_type": "code",
   "execution_count": null,
   "id": "4446e42e",
   "metadata": {},
   "outputs": [
    {
     "name": "stdout",
     "output_type": "stream",
     "text": [
      "<src.AIGuardian.Tasks.TaskSayHello.TaskSayHello object at 0x00000214043790D0>\n",
      "35730254192003998894948829634200368416\n"
     ]
    }
   ],
   "source": [
    "from src.AIGuardian.Tasks.TaskSayHello import TaskSayHello\n",
    "\n",
    "start_action = TaskSayHello()\n",
    "start_action.db_engine = KafkaEngine.default_builder()\n",
    "print(start_action)\n",
    "print(start_action.task_id)"
   ]
  },
  {
   "cell_type": "code",
   "execution_count": 9,
   "id": "29538360",
   "metadata": {},
   "outputs": [
    {
     "data": {
      "text/plain": [
       "{'task_id': 35730254192003998894948829634200368416,\n",
       " 'task_name': 'TaskSayHello',\n",
       " 'task_version': '0.0.1',\n",
       " 'parent_task_id': None,\n",
       " 'group_task_id': None,\n",
       " 'description': 'The base Task class. This should be inherited by all Task classes.',\n",
       " 'sequence_number': 0,\n",
       " 'created_dt': '2025-05-14T13:38:50.159453',\n",
       " 'updated_dt': '2025-05-14T13:38:50.159453',\n",
       " 'input_artifacts': None}"
      ]
     },
     "execution_count": 9,
     "metadata": {},
     "output_type": "execute_result"
    }
   ],
   "source": [
    "start_action.submit_task()"
   ]
  },
  {
   "cell_type": "code",
   "execution_count": 11,
   "id": "1f720fe6",
   "metadata": {},
   "outputs": [
    {
     "name": "stdout",
     "output_type": "stream",
     "text": [
      "create_params: {'model': 'claude-3-haiku-20240307', 'max_tokens': 200, 'temperature': 0.1, 'stop_sequences': ['</JSON_Template>'], 'messages': [{'role': 'user', 'content': 'Hello I am Andrew'}]}\n"
     ]
    }
   ],
   "source": [
    "await start_action.run('Hello I am Andrew')\n"
   ]
  }
 ],
 "metadata": {
  "kernelspec": {
   "display_name": "Kafka_Spark",
   "language": "python",
   "name": "python3"
  },
  "language_info": {
   "codemirror_mode": {
    "name": "ipython",
    "version": 3
   },
   "file_extension": ".py",
   "mimetype": "text/x-python",
   "name": "python",
   "nbconvert_exporter": "python",
   "pygments_lexer": "ipython3",
   "version": "3.11.10"
  }
 },
 "nbformat": 4,
 "nbformat_minor": 5
}
