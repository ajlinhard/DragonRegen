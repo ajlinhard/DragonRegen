{
 "cells": [
  {
   "cell_type": "code",
   "execution_count": 1,
   "id": "9af77b63",
   "metadata": {},
   "outputs": [
    {
     "name": "stdout",
     "output_type": "stream",
     "text": [
      "Project path: c:\\Users\\dalej\\Documents\\_Coding\\DragonRegen\n"
     ]
    }
   ],
   "source": [
    "import os\n",
    "import sys\n",
    "from anthropic import Anthropic, AnthropicError\n",
    "\n",
    "notebook_path = os.getcwd()\n",
    "project_path = os.path.abspath(os.path.join(notebook_path, '..','..','..'))\n",
    "print(f\"Project path: {project_path}\")\n",
    "# Add the project path to sys.path\n",
    "sys.path.append(project_path)"
   ]
  },
  {
   "cell_type": "code",
   "execution_count": 5,
   "id": "348cf9ad",
   "metadata": {},
   "outputs": [
    {
     "name": "stdout",
     "output_type": "stream",
     "text": [
      "<src.AIGuardian.Tasks.TaskSayHello.TaskSayHello object at 0x00000215C405FCD0>\n",
      "97c8ec55-42d7-4c3f-88c6-2920bf688e2a\n"
     ]
    }
   ],
   "source": [
    "from src.MetaFort.SysLogs.KafkaEngine import KafkaEngine\n",
    "from src.MetaFort.AILoggingTopics import AILoggingTopics\n",
    "from kafka import KafkaProducer, KafkaConsumer\n",
    "from src.AIGuardian.Tasks.TaskSayHello import TaskSayHello\n",
    "\n",
    "start_action = TaskSayHello()\n",
    "print(start_action)\n",
    "print(start_action.task_id)\n"
   ]
  },
  {
   "cell_type": "code",
   "execution_count": 7,
   "id": "94235930",
   "metadata": {},
   "outputs": [
    {
     "name": "stdout",
     "output_type": "stream",
     "text": [
      "==> Task 97c8ec55-42d7-4c3f-88c6-2920bf688e2a completed.\n",
      "Task completed.\n",
      "<class 'str'>\n",
      "{}\n"
     ]
    }
   ],
   "source": [
    "from AIGuardian.Tasks.KafkaAgent import KafkaAgent\n",
    "\n",
    "ka = KafkaAgent()\n",
    "ka.submit_task(start_action)\n",
    "output = ka.wait_on_task(start_action.task_id)\n",
    "print(\"Task completed.\")\n",
    "print(type(output))\n",
    "print(output)"
   ]
  },
  {
   "cell_type": "code",
   "execution_count": 9,
   "id": "29538360",
   "metadata": {},
   "outputs": [
    {
     "data": {
      "text/plain": [
       "{'task_id': '2580661b-d515-407d-bdd3-7514d850d6c4',\n",
       " 'task_name': 'TaskSayHello',\n",
       " 'task_version': '0.0.1',\n",
       " 'parent_task_id': None,\n",
       " 'group_task_id': '2580661b-d515-407d-bdd3-7514d850d6c4',\n",
       " 'description': 'The base Task class. This should be inherited by all Task classes.',\n",
       " 'sequence_number': 0,\n",
       " 'created_dt': '2025-05-20T13:53:02.031546',\n",
       " 'updated_dt': '2025-05-20T13:53:02.031546',\n",
       " 'input_artifacts': '{\"user_prompt\": \"Hello All!\"}'}"
      ]
     },
     "execution_count": 9,
     "metadata": {},
     "output_type": "execute_result"
    }
   ],
   "source": [
    "start_action.submit_task('Hello All!')"
   ]
  },
  {
   "cell_type": "code",
   "execution_count": 11,
   "id": "1f720fe6",
   "metadata": {},
   "outputs": [
    {
     "name": "stdout",
     "output_type": "stream",
     "text": [
      "{}\n"
     ]
    }
   ],
   "source": [
    "# start_action.run('Hello I am Andrew')\n",
    "p_list = start_action.db_engine.consumers[AILoggingTopics.AI_TASK_COMPLETED_TOPIC].poll(timeout_ms=1000)\n",
    "print(p_list)\n"
   ]
  }
 ],
 "metadata": {
  "kernelspec": {
   "display_name": "Kafka_Spark",
   "language": "python",
   "name": "python3"
  },
  "language_info": {
   "codemirror_mode": {
    "name": "ipython",
    "version": 3
   },
   "file_extension": ".py",
   "mimetype": "text/x-python",
   "name": "python",
   "nbconvert_exporter": "python",
   "pygments_lexer": "ipython3",
   "version": "3.11.10"
  }
 },
 "nbformat": 4,
 "nbformat_minor": 5
}
