{
 "cells": [
  {
   "cell_type": "code",
   "execution_count": 1,
   "id": "9af77b63",
   "metadata": {},
   "outputs": [
    {
     "name": "stdout",
     "output_type": "stream",
     "text": [
      "Project path: c:\\Users\\dalej\\Documents\\_Coding\\DragonRegen\n"
     ]
    }
   ],
   "source": [
    "import os\n",
    "import sys\n",
    "import json\n",
    "from anthropic import Anthropic, AnthropicError\n",
    "\n",
    "notebook_path = os.getcwd()\n",
    "project_path = os.path.abspath(os.path.join(notebook_path, '..','..','..'))\n",
    "print(f\"Project path: {project_path}\")\n",
    "# Add the project path to sys.path\n",
    "sys.path.append(project_path)"
   ]
  },
  {
   "cell_type": "markdown",
   "id": "fe88d170",
   "metadata": {},
   "source": [
    "## Testing Action Generator"
   ]
  },
  {
   "cell_type": "code",
   "execution_count": 2,
   "id": "40f32702",
   "metadata": {},
   "outputs": [
    {
     "name": "stdout",
     "output_type": "stream",
     "text": [
      "users\n",
      "addresses\n",
      "products\n",
      "categories\n",
      "orders\n",
      "order_items\n",
      "payments\n",
      "cart_items\n",
      "reviews\n"
     ]
    }
   ],
   "source": [
    "s_test_json = \"\"\"{\"users\": {     \"purpose\": \"Stores information about registered users/customers\",     \"fields\": {       \"user_id\": \"unique ID, primary key for user identification\",       \"username\": \"unique username for login\",       \"email\": \"unique email address for user contact\",       \"password_hash\": \"securely stored password hash\",       \"first_name\": \"user's first name\",       \"last_name\": \"user's last name\",       \"phone_number\": \"contact phone number\",       \"created_at\": \"timestamp when user account was created\",       \"updated_at\": \"timestamp when user account was last updated\"     }   },   \"addresses\": {     \"purpose\": \"Stores shipping and billing addresses for users\",     \"fields\": {       \"address_id\": \"unique ID, primary key for address identification\",       \"user_id\": \"foreign key referencing users table\",       \"address_type\": \"type of address (shipping/billing)\",       \"street_address\": \"street name and number\",       \"city\": \"city name\",       \"state\": \"state or province\",       \"postal_code\": \"zip or postal code\",       \"country\": \"country name\",       \"is_default\": \"boolean indicating if this is the default address for the user\"     }   },   \"products\": {     \"purpose\": \"Stores product information available for sale\",     \"fields\": {       \"product_id\": \"unique ID, primary key for product identification\",       \"name\": \"product name\",       \"description\": \"detailed product description\",       \"price\": \"current product price\",       \"category_id\": \"foreign key referencing categories table\",       \"inventory_count\": \"current available inventory\",       \"image_url\": \"URL to product image\",       \"created_at\": \"timestamp when product was added\",       \"updated_at\": \"timestamp when product was last updated\"     }   },   \"categories\": {     \"purpose\": \"Stores product categories for organization\",     \"fields\": {       \"category_id\": \"unique ID, primary key for category identification\",       \"name\": \"category name\",       \"description\": \"category description\",       \"parent_category_id\": \"self-referencing foreign key for hierarchical categories\"     }   },   \"orders\": {     \"purpose\": \"Stores customer orders\",     \"fields\": {       \"order_id\": \"unique ID, primary key for order identification\",       \"user_id\": \"foreign key referencing users table\",       \"order_date\": \"date and time when order was placed\",       \"total_amount\": \"total order amount\",       \"shipping_address_id\": \"foreign key referencing addresses table\",       \"billing_address_id\": \"foreign key referencing addresses table\",       \"status\": \"current order status (pending, shipped, delivered, etc.)\",       \"payment_method\": \"method used for payment\"     }   },   \"order_items\": {     \"purpose\": \"Stores individual items within an order\",     \"columns\": {       \"order_item_id\": \"unique ID, primary key for order item identification\",       \"order_id\": \"foreign key referencing orders table\",       \"product_id\": \"foreign key referencing products table\",       \"quantity\": \"quantity of product ordered\",       \"unit_price\": \"price of product at time of purchase\",       \"subtotal\": \"total price for this line item (quantity * unit_price)\"     }   },   \"payments\": {     \"purpose\": \"Stores payment information for orders\",     \"fields\": {       \"payment_id\": \"unique ID, primary key for payment identification\",       \"order_id\": \"foreign key referencing orders table\",       \"payment_date\": \"date and time of payment\",       \"payment_method\": \"method of payment (credit card, PayPal, etc.)\",       \"amount\": \"payment amount\",       \"status\": \"payment status (pending, completed, failed, etc.)\",       \"transaction_id\": \"external payment processor transaction ID\"     }   },   \"cart_items\": {     \"purpose\": \"Stores items in user shopping carts\",     \"fields\": {       \"cart_item_id\": \"unique ID, primary key for cart item identification\",       \"user_id\": \"foreign key referencing users table\",       \"product_id\": \"foreign key referencing products table\",       \"quantity\": \"quantity of product in cart\",       \"added_at\": \"timestamp when item was added to cart\"     }   },   \"reviews\": {     \"purpose\": \"Stores product reviews from users\",     \"columns\": {       \"review_id\": \"unique ID, primary key for review identification\",       \"product_id\": \"foreign key referencing products table\",       \"user_id\": \"foreign key referencing users table\",       \"rating\": \"numerical rating (e.g., 1-5 stars)\",       \"comment\": \"text review content\",       \"created_at\": \"timestamp when review was created\"     }   } }\"\"\"\n",
    "test_json = json.loads(s_test_json)\n",
    "for key in test_json.keys():\n",
    "    print(key) "
   ]
  },
  {
   "cell_type": "code",
   "execution_count": 3,
   "id": "9d152744",
   "metadata": {},
   "outputs": [
    {
     "name": "stdout",
     "output_type": "stream",
     "text": [
      "dict_keys(['addresses', 'products', 'categories'])\n",
      "{'addresses': {'purpose': 'Stores shipping and billing addresses for users', 'fields': {'address_id': 'unique ID, primary key for address identification', 'user_id': 'foreign key referencing users table', 'address_type': 'type of address (shipping/billing)', 'street_address': 'street name and number', 'city': 'city name', 'state': 'state or province', 'postal_code': 'zip or postal code', 'country': 'country name', 'is_default': 'boolean indicating if this is the default address for the user'}}, 'products': {'purpose': 'Stores product information available for sale', 'fields': {'product_id': 'unique ID, primary key for product identification', 'name': 'product name', 'description': 'detailed product description', 'price': 'current product price', 'category_id': 'foreign key referencing categories table', 'inventory_count': 'current available inventory', 'image_url': 'URL to product image', 'created_at': 'timestamp when product was added', 'updated_at': 'timestamp when product was last updated'}}, 'categories': {'purpose': 'Stores product categories for organization', 'fields': {'category_id': 'unique ID, primary key for category identification', 'name': 'category name', 'description': 'category description', 'parent_category_id': 'self-referencing foreign key for hierarchical categories'}}}\n"
     ]
    }
   ],
   "source": [
    "schema_json = {key: val for key, val in test_json.items() if key in ['addresses','products', 'categories']}\n",
    "print(schema_json.keys())\n",
    "print(schema_json)"
   ]
  },
  {
   "cell_type": "code",
   "execution_count": null,
   "id": "4ccb47e6",
   "metadata": {},
   "outputs": [
    {
     "name": "stdout",
     "output_type": "stream",
     "text": [
      "<src.AIGuardian.ActionGenerator.SchemaRefiner.SchemaRefiner object at 0x000002EBCAB03670>\n"
     ]
    }
   ],
   "source": [
    "from src.AIGuardian.Tasks.SchemaRefiner import SchemaRefiner\n",
    "\n",
    "test_schema_refiner = SchemaRefiner(schema_json)\n",
    "print(test_schema_refiner)\n"
   ]
  },
  {
   "cell_type": "code",
   "execution_count": null,
   "id": "25251748",
   "metadata": {},
   "outputs": [],
   "source": [
    "test_schema_refiner.run(user_prompt=\"\")"
   ]
  },
  {
   "cell_type": "markdown",
   "id": "f26b59a1",
   "metadata": {},
   "source": [
    "## Test Table Column Action Generator"
   ]
  },
  {
   "cell_type": "code",
   "execution_count": 4,
   "id": "b8601ce6",
   "metadata": {},
   "outputs": [
    {
     "name": "stdout",
     "output_type": "stream",
     "text": [
      "{'purpose': 'Stores information about registered users/customers', 'fields': {'user_id': 'unique ID, primary key for user identification', 'username': 'unique username for login', 'email': 'unique email address for user contact', 'password_hash': 'securely stored password hash', 'first_name': \"user's first name\", 'last_name': \"user's last name\", 'phone_number': 'contact phone number', 'created_at': 'timestamp when user account was created', 'updated_at': 'timestamp when user account was last updated'}, 'table_name': 'users'}\n"
     ]
    }
   ],
   "source": [
    "table_json = test_json['users']\n",
    "table_json['table_name'] = 'users'\n",
    "print(table_json)"
   ]
  },
  {
   "cell_type": "code",
   "execution_count": 5,
   "id": "53f5b36c",
   "metadata": {},
   "outputs": [
    {
     "name": "stdout",
     "output_type": "stream",
     "text": [
      "<src.AIGuardian.Tasks.ColumnRefiner.ColumnRefiner object at 0x000001DA019746D0>\n"
     ]
    }
   ],
   "source": [
    "from src.AIGuardian.Tasks.ColumnRefiner import ColumnRefiner\n",
    "from src.MetaFort.SysLogs.KafkaEngine import KafkaEngine\n",
    "\n",
    "test_col_refiner = ColumnRefiner(input_params=table_json)\n",
    "test_col_refiner.db_engine = KafkaEngine.default_builder()\n",
    "print(test_col_refiner)"
   ]
  },
  {
   "cell_type": "code",
   "execution_count": 6,
   "id": "0f4c29db",
   "metadata": {},
   "outputs": [],
   "source": [
    "await test_col_refiner.run(user_prompt=\"\")\n"
   ]
  },
  {
   "cell_type": "code",
   "execution_count": 10,
   "id": "d1b59e61",
   "metadata": {},
   "outputs": [
    {
     "name": "stdout",
     "output_type": "stream",
     "text": [
      "[304473897137480052154902131108244704124, 179074502204394192466602239773184291045, 38173954167738690402350393188261624760, 149156358016206353251492992028816408129, 244151397683990702120322314710379692028, 97801431292445934233416585169063685484, 81606339186124082175679743836951176394, 281629629968052578809459364531011285147, 34703100434232033928584111456877718314, 309997662801243191488528058924540374862, 302430926194721559278503491101199079012, 137222248863812315665517401093341284942, 31923405384809398987708402841640299674, 161463228483818310904832362336105618106, 228474806034228460469513191771328496535, 37390803278930271196951031765872492829, 58009953184854327744255857339019081551, 319244932957176242279758775240464317048]\n",
      "{}\n"
     ]
    }
   ],
   "source": [
    "print(test_col_refiner.child_task)\n",
    "print(test_col_refiner.child_task_output_artifacts)"
   ]
  },
  {
   "cell_type": "code",
   "execution_count": 9,
   "id": "e9a15b59",
   "metadata": {},
   "outputs": [
    {
     "name": "stdout",
     "output_type": "stream",
     "text": [
      "yes\n"
     ]
    }
   ],
   "source": [
    "i = 304473897137480052154902131108244704124\n",
    "if i in test_col_refiner.child_task:\n",
    "    print(\"yes\")\n",
    "else:\n",
    "    print(\"no\")"
   ]
  },
  {
   "cell_type": "code",
   "execution_count": 6,
   "id": "c5247f35",
   "metadata": {},
   "outputs": [
    {
     "name": "stdout",
     "output_type": "stream",
     "text": [
      "{\n",
      "  \"users\": {\n",
      "    \"purpose\": \"Stores information about registered users/customers\",\n",
      "    \"fields\": [\n",
      "      {\n",
      "        \"name\": \"user_id\",\n",
      "        \"type\": \"Integer\",\n",
      "        \"nullable\": false,\n",
      "        \"metadata\": {\n",
      "          \"description\": \"Unique ID, primary key for user identification in the registered users/customers table.\",\n",
      "          \"unique_fl\": true,\n",
      "          \"primary_key\": true,\n",
      "          \"default_value\": null,\n",
      "          \"col_type\": \"Unique_Identifier\"\n",
      "        }\n",
      "      },\n",
      "      {\n",
      "        \"name\": \"username\",\n",
      "        \"type\": \"String\",\n",
      "        \"nullable\": false,\n",
      "        \"metadata\": {\n",
      "          \"description\": \"Unique username for login to the system. Used as the primary identifier for user authentication.\",\n",
      "          \"unique_fl\": true,\n",
      "          \"default_value\": null,\n",
      "          \"col_type\": \"Unique_Identifier\"\n",
      "        }\n",
      "      },\n",
      "      {\n",
      "        \"name\": \"email\",\n",
      "        \"type\": \"String\",\n",
      "        \"nullable\": false,\n",
      "        \"metadata\": {\n",
      "          \"description\": \"unique email address for user contact\",\n",
      "          \"unique_fl\": true,\n",
      "          \"default_value\": null,\n",
      "          \"validation\": \"email format\",\n",
      "          \"index\": true,\n",
      "          \"col_type\": \"Email\"\n",
      "        }\n",
      "      },\n",
      "      {\n",
      "        \"name\": \"password_hash\",\n",
      "        \"type\": \"String\",\n",
      "        \"nullable\": false,\n",
      "        \"metadata\": {\n",
      "          \"description\": \"Securely stored password hash for user authentication\",\n",
      "          \"unique_fl\": false,\n",
      "          \"default_value\": null,\n",
      "          \"sensitive\": true,\n",
      "          \"max_length\": 255,\n",
      "          \"encryption\": \"one-way hash\",\n",
      "          \"security_notes\": \"Should never be stored in plain text or transmitted unencrypted\",\n",
      "          \"col_type\": \"StringBasic\"\n",
      "        }\n",
      "      },\n",
      "      {\n",
      "        \"name\": \"first_name\",\n",
      "        \"type\": \"String\",\n",
      "        \"nullable\": false,\n",
      "        \"metadata\": {\n",
      "          \"description\": \"User's first name\",\n",
      "          \"unique_fl\": false,\n",
      "          \"default_value\": null,\n",
      "          \"col_type\": \"StringFirstName\"\n",
      "        }\n",
      "      },\n",
      "      {\n",
      "        \"name\": \"last_name\",\n",
      "        \"type\": \"String\",\n",
      "        \"nullable\": false,\n",
      "        \"metadata\": {\n",
      "          \"description\": \"User's last name\",\n",
      "          \"unique_fl\": false,\n",
      "          \"default_value\": null,\n",
      "          \"col_type\": \"StringLastName\"\n",
      "        }\n",
      "      },\n",
      "      {\n",
      "        \"name\": \"phone_number\",\n",
      "        \"type\": \"String\",\n",
      "        \"nullable\": true,\n",
      "        \"metadata\": {\n",
      "          \"description\": \"Contact phone number for registered users/customers\",\n",
      "          \"unique_fl\": true,\n",
      "          \"default_value\": null,\n",
      "          \"format\": \"E.164 recommended\",\n",
      "          \"validation\": \"Should follow standard phone number format\",\n",
      "          \"privacy_level\": \"restricted\",\n",
      "          \"category\": \"contact_information\",\n",
      "          \"col_type\": \"StringBasic\"\n",
      "        }\n",
      "      },\n",
      "      {\n",
      "        \"name\": \"created_at\",\n",
      "        \"type\": \"Timestamp\",\n",
      "        \"nullable\": false,\n",
      "        \"metadata\": {\n",
      "          \"description\": \"Timestamp when user account was created.\",\n",
      "          \"unique_fl\": false,\n",
      "          \"default_value\": \"CURRENT_TIMESTAMP\",\n",
      "          \"col_type\": \"Date\"\n",
      "        }\n",
      "      },\n",
      "      {\n",
      "        \"name\": \"updated_at\",\n",
      "        \"type\": \"Timestamp\",\n",
      "        \"nullable\": false,\n",
      "        \"metadata\": {\n",
      "          \"description\": \"Timestamp when user account was last updated\",\n",
      "          \"unique_fl\": false,\n",
      "          \"default_value\": \"CURRENT_TIMESTAMP\",\n",
      "          \"col_type\": \"Date\"\n",
      "        }\n",
      "      }\n",
      "    ]\n",
      "  }\n",
      "}\n"
     ]
    }
   ],
   "source": [
    "print(json.dumps(test_col_refiner.output_params, indent=2))"
   ]
  }
 ],
 "metadata": {
  "kernelspec": {
   "display_name": "Kafka_Spark",
   "language": "python",
   "name": "python3"
  },
  "language_info": {
   "codemirror_mode": {
    "name": "ipython",
    "version": 3
   },
   "file_extension": ".py",
   "mimetype": "text/x-python",
   "name": "python",
   "nbconvert_exporter": "python",
   "pygments_lexer": "ipython3",
   "version": "3.11.10"
  }
 },
 "nbformat": 4,
 "nbformat_minor": 5
}
