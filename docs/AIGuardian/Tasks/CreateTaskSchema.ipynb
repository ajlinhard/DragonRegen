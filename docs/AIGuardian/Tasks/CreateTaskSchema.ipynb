{
 "cells": [
  {
   "cell_type": "code",
   "execution_count": 1,
   "id": "9af77b63",
   "metadata": {},
   "outputs": [
    {
     "name": "stdout",
     "output_type": "stream",
     "text": [
      "Project path: c:\\Users\\dalej\\Documents\\_Coding\\DragonRegen\n"
     ]
    }
   ],
   "source": [
    "import os\n",
    "import sys\n",
    "import json\n",
    "from anthropic import Anthropic, AnthropicError\n",
    "\n",
    "notebook_path = os.getcwd()\n",
    "project_path = os.path.abspath(os.path.join(notebook_path, '..','..','..'))\n",
    "print(f\"Project path: {project_path}\")\n",
    "# Add the project path to sys.path\n",
    "sys.path.append(project_path)"
   ]
  },
  {
   "cell_type": "code",
   "execution_count": 2,
   "id": "40f32702",
   "metadata": {},
   "outputs": [
    {
     "name": "stdout",
     "output_type": "stream",
     "text": [
      "users\n",
      "addresses\n",
      "products\n",
      "categories\n",
      "orders\n",
      "order_items\n",
      "payments\n",
      "cart_items\n",
      "reviews\n"
     ]
    }
   ],
   "source": [
    "s_test_json = \"\"\"{\"users\": {     \"purpose\": \"Stores information about registered users/customers\",     \"fields\": {       \"user_id\": \"unique ID, primary key for user identification\",       \"username\": \"unique username for login\",       \"email\": \"unique email address for user contact\",       \"password_hash\": \"securely stored password hash\",       \"first_name\": \"user's first name\",       \"last_name\": \"user's last name\",       \"phone_number\": \"contact phone number\",       \"created_at\": \"timestamp when user account was created\",       \"updated_at\": \"timestamp when user account was last updated\"     }   },   \"addresses\": {     \"purpose\": \"Stores shipping and billing addresses for users\",     \"fields\": {       \"address_id\": \"unique ID, primary key for address identification\",       \"user_id\": \"foreign key referencing users table\",       \"address_type\": \"type of address (shipping/billing)\",       \"street_address\": \"street name and number\",       \"city\": \"city name\",       \"state\": \"state or province\",       \"postal_code\": \"zip or postal code\",       \"country\": \"country name\",       \"is_default\": \"boolean indicating if this is the default address for the user\"     }   },   \"products\": {     \"purpose\": \"Stores product information available for sale\",     \"fields\": {       \"product_id\": \"unique ID, primary key for product identification\",       \"name\": \"product name\",       \"description\": \"detailed product description\",       \"price\": \"current product price\",       \"category_id\": \"foreign key referencing categories table\",       \"inventory_count\": \"current available inventory\",       \"image_url\": \"URL to product image\",       \"created_at\": \"timestamp when product was added\",       \"updated_at\": \"timestamp when product was last updated\"     }   },   \"categories\": {     \"purpose\": \"Stores product categories for organization\",     \"fields\": {       \"category_id\": \"unique ID, primary key for category identification\",       \"name\": \"category name\",       \"description\": \"category description\",       \"parent_category_id\": \"self-referencing foreign key for hierarchical categories\"     }   },   \"orders\": {     \"purpose\": \"Stores customer orders\",     \"fields\": {       \"order_id\": \"unique ID, primary key for order identification\",       \"user_id\": \"foreign key referencing users table\",       \"order_date\": \"date and time when order was placed\",       \"total_amount\": \"total order amount\",       \"shipping_address_id\": \"foreign key referencing addresses table\",       \"billing_address_id\": \"foreign key referencing addresses table\",       \"status\": \"current order status (pending, shipped, delivered, etc.)\",       \"payment_method\": \"method used for payment\"     }   },   \"order_items\": {     \"purpose\": \"Stores individual items within an order\",     \"columns\": {       \"order_item_id\": \"unique ID, primary key for order item identification\",       \"order_id\": \"foreign key referencing orders table\",       \"product_id\": \"foreign key referencing products table\",       \"quantity\": \"quantity of product ordered\",       \"unit_price\": \"price of product at time of purchase\",       \"subtotal\": \"total price for this line item (quantity * unit_price)\"     }   },   \"payments\": {     \"purpose\": \"Stores payment information for orders\",     \"fields\": {       \"payment_id\": \"unique ID, primary key for payment identification\",       \"order_id\": \"foreign key referencing orders table\",       \"payment_date\": \"date and time of payment\",       \"payment_method\": \"method of payment (credit card, PayPal, etc.)\",       \"amount\": \"payment amount\",       \"status\": \"payment status (pending, completed, failed, etc.)\",       \"transaction_id\": \"external payment processor transaction ID\"     }   },   \"cart_items\": {     \"purpose\": \"Stores items in user shopping carts\",     \"fields\": {       \"cart_item_id\": \"unique ID, primary key for cart item identification\",       \"user_id\": \"foreign key referencing users table\",       \"product_id\": \"foreign key referencing products table\",       \"quantity\": \"quantity of product in cart\",       \"added_at\": \"timestamp when item was added to cart\"     }   },   \"reviews\": {     \"purpose\": \"Stores product reviews from users\",     \"columns\": {       \"review_id\": \"unique ID, primary key for review identification\",       \"product_id\": \"foreign key referencing products table\",       \"user_id\": \"foreign key referencing users table\",       \"rating\": \"numerical rating (e.g., 1-5 stars)\",       \"comment\": \"text review content\",       \"created_at\": \"timestamp when review was created\"     }   } }\"\"\"\n",
    "test_json = json.loads(s_test_json)\n",
    "for key in test_json.keys():\n",
    "    print(key) "
   ]
  },
  {
   "cell_type": "code",
   "execution_count": 3,
   "id": "9d152744",
   "metadata": {},
   "outputs": [
    {
     "name": "stdout",
     "output_type": "stream",
     "text": [
      "dict_keys(['addresses', 'products', 'categories'])\n",
      "{'addresses': {'purpose': 'Stores shipping and billing addresses for users', 'fields': {'address_id': 'unique ID, primary key for address identification', 'user_id': 'foreign key referencing users table', 'address_type': 'type of address (shipping/billing)', 'street_address': 'street name and number', 'city': 'city name', 'state': 'state or province', 'postal_code': 'zip or postal code', 'country': 'country name', 'is_default': 'boolean indicating if this is the default address for the user'}}, 'products': {'purpose': 'Stores product information available for sale', 'fields': {'product_id': 'unique ID, primary key for product identification', 'name': 'product name', 'description': 'detailed product description', 'price': 'current product price', 'category_id': 'foreign key referencing categories table', 'inventory_count': 'current available inventory', 'image_url': 'URL to product image', 'created_at': 'timestamp when product was added', 'updated_at': 'timestamp when product was last updated'}}, 'categories': {'purpose': 'Stores product categories for organization', 'fields': {'category_id': 'unique ID, primary key for category identification', 'name': 'category name', 'description': 'category description', 'parent_category_id': 'self-referencing foreign key for hierarchical categories'}}}\n"
     ]
    }
   ],
   "source": [
    "schema_json = {key: val for key, val in test_json.items() if key in ['addresses','products', 'categories']}\n",
    "print(schema_json.keys())\n",
    "print(schema_json)"
   ]
  },
  {
   "cell_type": "markdown",
   "id": "fe88d170",
   "metadata": {},
   "source": [
    "## Testing Action Generator"
   ]
  },
  {
   "cell_type": "code",
   "execution_count": 4,
   "id": "4ccb47e6",
   "metadata": {},
   "outputs": [
    {
     "name": "stdout",
     "output_type": "stream",
     "text": [
      "<src.AIGuardian.Tasks.SchemaRefiner.SchemaRefiner object at 0x000001EEFDFB1CD0>\n"
     ]
    }
   ],
   "source": [
    "from src.AIGuardian.Tasks.SchemaRefiner import SchemaRefiner\n",
    "from src.MetaFort.SysLogs.KafkaEngine import KafkaEngine\n",
    "\n",
    "test_schema_refiner = SchemaRefiner(schema_json)\n",
    "test_schema_refiner.db_engine = KafkaEngine.default_builder()\n",
    "print(test_schema_refiner)"
   ]
  },
  {
   "cell_type": "code",
   "execution_count": null,
   "id": "25251748",
   "metadata": {},
   "outputs": [
    {
     "name": "stdout",
     "output_type": "stream",
     "text": [
      "==> Waiting on ['8986ec2f-3fae-4ce9-b36a-975ceeba292c', '8330f20c-215d-4c76-acaa-992ac369d867', '721dfa09-87bb-4bcf-bc3a-edb982601834'] to complete.\n",
      "==> Found 1 completed tasks.\n",
      "==> Found 1 completed tasks.\n",
      "==> Found 1 completed tasks.\n",
      "==> Found 1 completed tasks.\n",
      "==> Found 1 completed tasks.\n",
      "==> Found 1 completed tasks.\n",
      "==> Found 1 completed tasks.\n",
      "==> Found 1 completed tasks.\n",
      "==> Found 1 completed tasks.\n",
      "==> Found 1 completed tasks.\n",
      "==> Found 1 completed tasks.\n",
      "==> Found 1 completed tasks.\n",
      "==> Found 1 completed tasks.\n",
      "==> Found 1 completed tasks.\n",
      "==> Found 1 completed tasks.\n",
      "==> Found 1 completed tasks.\n",
      "==> Found 1 completed tasks.\n",
      "==> Found 1 completed tasks.\n",
      "==> Found 1 completed tasks.\n"
     ]
    }
   ],
   "source": [
    "test_schema_refiner.run(user_prompt=\"\")"
   ]
  },
  {
   "cell_type": "markdown",
   "id": "f26b59a1",
   "metadata": {},
   "source": [
    "## Test Table Column Action Generator"
   ]
  },
  {
   "cell_type": "code",
   "execution_count": 4,
   "id": "b8601ce6",
   "metadata": {},
   "outputs": [
    {
     "name": "stdout",
     "output_type": "stream",
     "text": [
      "{'purpose': 'Stores information about registered users/customers', 'fields': {'user_id': 'unique ID, primary key for user identification', 'username': 'unique username for login', 'email': 'unique email address for user contact', 'password_hash': 'securely stored password hash', 'first_name': \"user's first name\", 'last_name': \"user's last name\", 'phone_number': 'contact phone number', 'created_at': 'timestamp when user account was created', 'updated_at': 'timestamp when user account was last updated'}, 'table_name': 'users'}\n"
     ]
    }
   ],
   "source": [
    "table_json = test_json['users']\n",
    "table_json['table_name'] = 'users'\n",
    "print(table_json)"
   ]
  },
  {
   "cell_type": "code",
   "execution_count": null,
   "id": "53f5b36c",
   "metadata": {},
   "outputs": [
    {
     "name": "stdout",
     "output_type": "stream",
     "text": [
      "<src.AIGuardian.Tasks.ColumnRefiner.ColumnRefiner object at 0x0000023F53746DD0>\n"
     ]
    }
   ],
   "source": [
    "from src.AIGuardian.Tasks.ColumnRefiner import ColumnRefiner\n",
    "\n",
    "test_col_refiner = ColumnRefiner(input_params=table_json)\n",
    "test_col_refiner.db_engine = KafkaEngine.default_builder()\n",
    "print(test_col_refiner)"
   ]
  },
  {
   "cell_type": "code",
   "execution_count": null,
   "id": "0f4c29db",
   "metadata": {},
   "outputs": [
    {
     "name": "stdout",
     "output_type": "stream",
     "text": [
      "==> Waiting on ['e0806b4e-70d9-471c-b6a7-e3f1141f0aae', '5b4daa61-ac3b-4a2c-a109-6abb60962655', 'b46f141f-b313-4fbf-9db2-c03bc979c527', 'a02a08a1-7a4e-430a-a6c3-65c5652f070e', '46ed361d-1bc9-4e50-a0ac-667e490dc227', '349d15e7-071e-4a6f-b761-6d840a22a570', 'b5cbdfde-f18b-493c-a700-fd9233a2f769', '53bae10a-189e-42d0-bab7-4f7b1bd44ca8', 'f8ecf6a7-99d5-4c18-9d73-eb56da2a0259', 'd7cbde83-fd4b-4f7a-b217-e47505bbdb3a', '71363af7-d7a5-4ae1-a173-45ceecbe9038', 'e292fca8-adb2-430c-9dd5-968826f9c55f', 'f0687a0c-ad90-4985-960f-d9f90ead2f87', 'd08b6afd-9951-4699-99bd-19037dd2d951', '8d1df579-d11f-4965-b152-8ab3b9320b38', '1f4da085-84a7-484d-876c-4a85de7eb907', 'aef4630d-b250-4751-8f3d-c54a8e1f0c20', '0c7415fb-4161-433b-a5ee-71370f116730'] to complete.\n",
      "==> Found 1 completed tasks.\n",
      "==> Removing e0806b4e-70d9-471c-b6a7-e3f1141f0aae from child tasks.\n",
      "==> Found 1 completed tasks.\n",
      "==> Removing 5b4daa61-ac3b-4a2c-a109-6abb60962655 from child tasks.\n",
      "==> Found 1 completed tasks.\n",
      "==> Removing b46f141f-b313-4fbf-9db2-c03bc979c527 from child tasks.\n",
      "==> Found 1 completed tasks.\n",
      "==> Removing a02a08a1-7a4e-430a-a6c3-65c5652f070e from child tasks.\n",
      "==> Found 1 completed tasks.\n",
      "==> Removing 46ed361d-1bc9-4e50-a0ac-667e490dc227 from child tasks.\n",
      "==> Found 1 completed tasks.\n",
      "==> Removing 349d15e7-071e-4a6f-b761-6d840a22a570 from child tasks.\n",
      "==> Found 1 completed tasks.\n",
      "==> Removing b5cbdfde-f18b-493c-a700-fd9233a2f769 from child tasks.\n",
      "==> Found 1 completed tasks.\n",
      "==> Removing 53bae10a-189e-42d0-bab7-4f7b1bd44ca8 from child tasks.\n",
      "==> Found 1 completed tasks.\n",
      "==> Removing f8ecf6a7-99d5-4c18-9d73-eb56da2a0259 from child tasks.\n",
      "==> Found 1 completed tasks.\n",
      "==> Removing d7cbde83-fd4b-4f7a-b217-e47505bbdb3a from child tasks.\n",
      "==> Found 1 completed tasks.\n",
      "==> Removing 71363af7-d7a5-4ae1-a173-45ceecbe9038 from child tasks.\n",
      "==> Found 1 completed tasks.\n",
      "==> Removing e292fca8-adb2-430c-9dd5-968826f9c55f from child tasks.\n",
      "==> Found 1 completed tasks.\n",
      "==> Removing f0687a0c-ad90-4985-960f-d9f90ead2f87 from child tasks.\n",
      "==> Found 1 completed tasks.\n",
      "==> Removing d08b6afd-9951-4699-99bd-19037dd2d951 from child tasks.\n",
      "==> Found 1 completed tasks.\n",
      "==> Removing 8d1df579-d11f-4965-b152-8ab3b9320b38 from child tasks.\n",
      "==> Found 1 completed tasks.\n",
      "==> Removing 1f4da085-84a7-484d-876c-4a85de7eb907 from child tasks.\n",
      "==> Found 1 completed tasks.\n",
      "==> Removing aef4630d-b250-4751-8f3d-c54a8e1f0c20 from child tasks.\n",
      "==> Found 1 completed tasks.\n",
      "==> Removing 0c7415fb-4161-433b-a5ee-71370f116730 from child tasks.\n",
      " Adding Key: 5b4daa61-ac3b-4a2c-a109-6abb60962655 to the list of fields\n",
      " Adding Key: a02a08a1-7a4e-430a-a6c3-65c5652f070e to the list of fields\n",
      " Adding Key: 349d15e7-071e-4a6f-b761-6d840a22a570 to the list of fields\n",
      " Adding Key: 53bae10a-189e-42d0-bab7-4f7b1bd44ca8 to the list of fields\n",
      " Adding Key: d7cbde83-fd4b-4f7a-b217-e47505bbdb3a to the list of fields\n",
      " Adding Key: e292fca8-adb2-430c-9dd5-968826f9c55f to the list of fields\n",
      " Adding Key: d08b6afd-9951-4699-99bd-19037dd2d951 to the list of fields\n",
      " Adding Key: 1f4da085-84a7-484d-876c-4a85de7eb907 to the list of fields\n",
      " Adding Key: 0c7415fb-4161-433b-a5ee-71370f116730 to the list of fields\n"
     ]
    }
   ],
   "source": [
    "test_col_refiner.run(user_prompt=\"\")\n"
   ]
  },
  {
   "cell_type": "code",
   "execution_count": 7,
   "id": "d1b59e61",
   "metadata": {},
   "outputs": [
    {
     "name": "stdout",
     "output_type": "stream",
     "text": [
      "[]\n",
      "{'e0806b4e-70d9-471c-b6a7-e3f1141f0aae': '{\"reason\": \"The column is explicitly described as a \\'unique ID\\' and \\'primary key for user identification\\', which directly matches the Unique_Identifier type that represents primary keys and unique record identifiers.\", \"col_type\": \"Unique_Identifier\"}', '5b4daa61-ac3b-4a2c-a109-6abb60962655': '{\"name\": \"user_id\", \"type\": \"Integer\", \"nullable\": false, \"metadata\": {\"description\": \"unique ID, primary key for user identification\", \"unique_fl\": true, \"default_value\": null, \"col_type\": null}}', 'b46f141f-b313-4fbf-9db2-c03bc979c527': '{\"reason\": \"The username is described as \\'unique username for login\\', indicating it serves as a unique identifier for each user in the system. It\\'s used for authentication and distinguishing between different users, making it a primary identifier for user records.\", \"col_type\": \"Unique_Identifier\"}', 'a02a08a1-7a4e-430a-a6c3-65c5652f070e': '{\"name\": \"username\", \"type\": \"String\", \"nullable\": false, \"metadata\": {\"description\": \"unique username for login\", \"unique_fl\": true, \"default_value\": null, \"col_type\": null}}', '46ed361d-1bc9-4e50-a0ac-667e490dc227': '{\"reason\": \"The column is explicitly described as storing \\'unique email address for user contact\\' in a user/customer table, which directly matches the Email column type that stores email addresses for contact information.\", \"col_type\": \"Email\"}', '349d15e7-071e-4a6f-b761-6d840a22a570': '{\"name\": \"email\", \"type\": \"String\", \"nullable\": false, \"metadata\": {\"description\": \"unique email address for user contact\", \"unique_fl\": true, \"default_value\": null, \"col_type\": null}}', 'b5cbdfde-f18b-493c-a700-fd9233a2f769': '{\"reason\": \"The column stores password hash values, which are typically stored as text strings. These are securely stored representations of passwords and not meant to be displayed or categorized, making them best suited for the Text type which can handle variable-length string data that doesn\\'t fit other specific categories.\", \"col_type\": \"Text\"}', '53bae10a-189e-42d0-bab7-4f7b1bd44ca8': '{\"name\": \"password_hash\", \"type\": \"String\", \"nullable\": false, \"metadata\": {\"description\": \"securely stored password hash\", \"unique_fl\": false, \"default_value\": null, \"col_type\": null}}', 'f8ecf6a7-99d5-4c18-9d73-eb56da2a0259': '{\"reason\": \"The column is explicitly described as storing a user\\'s first name, which directly matches the StringFirstName type that is designed specifically for storing people\\'s first names.\", \"col_type\": \"StringFirstName\"}', 'd7cbde83-fd4b-4f7a-b217-e47505bbdb3a': '{\"name\": \"first_name\", \"type\": \"String\", \"nullable\": false, \"metadata\": {\"description\": \"user\\'s first name\", \"unique_fl\": false, \"default_value\": null, \"col_type\": null}}', '71363af7-d7a5-4ae1-a173-45ceecbe9038': '{\"reason\": \"The column is explicitly described as storing a \\'user\\'s last name\\' in a table about registered users/customers, which directly matches the StringLastName type that is specifically designed for storing last names of people.\", \"col_type\": \"StringLastName\"}', 'e292fca8-adb2-430c-9dd5-968826f9c55f': '{\"name\": \"last_name\", \"type\": \"String\", \"nullable\": false, \"metadata\": {\"description\": \"user\\'s last name\", \"unique_fl\": false, \"default_value\": null, \"col_type\": null}}', 'f0687a0c-ad90-4985-960f-d9f90ead2f87': '{\"reason\": \"The column stores contact phone numbers, which are unique identifiers used for communication with users/customers, similar to email addresses. Phone numbers have specific formatting requirements and are used for contact information.\", \"col_type\": \"Email\"}', 'd08b6afd-9951-4699-99bd-19037dd2d951': '{\"name\": \"phone_number\", \"type\": \"String\", \"nullable\": true, \"metadata\": {\"description\": \"contact phone number\", \"unique_fl\": true, \"default_value\": null, \"col_type\": null}}', '8d1df579-d11f-4965-b152-8ab3b9320b38': '{\"reason\": \"The column \\'created_at\\' stores a timestamp when a user account was created, which represents a specific point in time. This is a typical date/time field used to track when records were created in a user/customer database.\", \"col_type\": \"Date\"}', '1f4da085-84a7-484d-876c-4a85de7eb907': '{\"name\": \"created_at\", \"type\": \"Timestamp\", \"nullable\": false, \"metadata\": {\"description\": \"timestamp when user account was created\", \"unique_fl\": false, \"default_value\": \"CURRENT_TIMESTAMP\", \"col_type\": null}}', 'aef4630d-b250-4751-8f3d-c54a8e1f0c20': '{\"reason\": \"The column \\'updated_at\\' stores a timestamp, which represents a specific point in time when a user account was last updated. This is a typical date/time field used for tracking when records were modified.\", \"col_type\": \"Date\"}', '0c7415fb-4161-433b-a5ee-71370f116730': '{\"name\": \"updated_at\", \"type\": \"Timestamp\", \"nullable\": true, \"metadata\": {\"description\": \"timestamp when user account was last updated\", \"unique_fl\": false, \"default_value\": null, \"col_type\": null}}'}\n",
      "['5b4daa61-ac3b-4a2c-a109-6abb60962655', 'a02a08a1-7a4e-430a-a6c3-65c5652f070e', '349d15e7-071e-4a6f-b761-6d840a22a570', '53bae10a-189e-42d0-bab7-4f7b1bd44ca8', 'd7cbde83-fd4b-4f7a-b217-e47505bbdb3a', 'e292fca8-adb2-430c-9dd5-968826f9c55f', 'd08b6afd-9951-4699-99bd-19037dd2d951', '1f4da085-84a7-484d-876c-4a85de7eb907', '0c7415fb-4161-433b-a5ee-71370f116730']\n"
     ]
    }
   ],
   "source": [
    "print(test_col_refiner.child_task)\n",
    "print(test_col_refiner.child_task_output_artifacts)\n",
    "print(test_col_refiner.data_column_refiner)"
   ]
  },
  {
   "cell_type": "code",
   "execution_count": 8,
   "id": "c5247f35",
   "metadata": {},
   "outputs": [
    {
     "name": "stdout",
     "output_type": "stream",
     "text": [
      "{\n",
      "  \"users\": {\n",
      "    \"purpose\": \"Stores information about registered users/customers\",\n",
      "    \"fields\": [\n",
      "      \"{\\\"name\\\": \\\"user_id\\\", \\\"type\\\": \\\"Integer\\\", \\\"nullable\\\": false, \\\"metadata\\\": {\\\"description\\\": \\\"unique ID, primary key for user identification\\\", \\\"unique_fl\\\": true, \\\"default_value\\\": null, \\\"col_type\\\": null}}\",\n",
      "      \"{\\\"name\\\": \\\"username\\\", \\\"type\\\": \\\"String\\\", \\\"nullable\\\": false, \\\"metadata\\\": {\\\"description\\\": \\\"unique username for login\\\", \\\"unique_fl\\\": true, \\\"default_value\\\": null, \\\"col_type\\\": null}}\",\n",
      "      \"{\\\"name\\\": \\\"email\\\", \\\"type\\\": \\\"String\\\", \\\"nullable\\\": false, \\\"metadata\\\": {\\\"description\\\": \\\"unique email address for user contact\\\", \\\"unique_fl\\\": true, \\\"default_value\\\": null, \\\"col_type\\\": null}}\",\n",
      "      \"{\\\"name\\\": \\\"password_hash\\\", \\\"type\\\": \\\"String\\\", \\\"nullable\\\": false, \\\"metadata\\\": {\\\"description\\\": \\\"securely stored password hash\\\", \\\"unique_fl\\\": false, \\\"default_value\\\": null, \\\"col_type\\\": null}}\",\n",
      "      \"{\\\"name\\\": \\\"first_name\\\", \\\"type\\\": \\\"String\\\", \\\"nullable\\\": false, \\\"metadata\\\": {\\\"description\\\": \\\"user's first name\\\", \\\"unique_fl\\\": false, \\\"default_value\\\": null, \\\"col_type\\\": null}}\",\n",
      "      \"{\\\"name\\\": \\\"last_name\\\", \\\"type\\\": \\\"String\\\", \\\"nullable\\\": false, \\\"metadata\\\": {\\\"description\\\": \\\"user's last name\\\", \\\"unique_fl\\\": false, \\\"default_value\\\": null, \\\"col_type\\\": null}}\",\n",
      "      \"{\\\"name\\\": \\\"phone_number\\\", \\\"type\\\": \\\"String\\\", \\\"nullable\\\": true, \\\"metadata\\\": {\\\"description\\\": \\\"contact phone number\\\", \\\"unique_fl\\\": true, \\\"default_value\\\": null, \\\"col_type\\\": null}}\",\n",
      "      \"{\\\"name\\\": \\\"created_at\\\", \\\"type\\\": \\\"Timestamp\\\", \\\"nullable\\\": false, \\\"metadata\\\": {\\\"description\\\": \\\"timestamp when user account was created\\\", \\\"unique_fl\\\": false, \\\"default_value\\\": \\\"CURRENT_TIMESTAMP\\\", \\\"col_type\\\": null}}\",\n",
      "      \"{\\\"name\\\": \\\"updated_at\\\", \\\"type\\\": \\\"Timestamp\\\", \\\"nullable\\\": true, \\\"metadata\\\": {\\\"description\\\": \\\"timestamp when user account was last updated\\\", \\\"unique_fl\\\": false, \\\"default_value\\\": null, \\\"col_type\\\": null}}\"\n",
      "    ]\n",
      "  }\n",
      "}\n"
     ]
    }
   ],
   "source": [
    "print(json.dumps(test_col_refiner.output_params, indent=2))"
   ]
  }
 ],
 "metadata": {
  "kernelspec": {
   "display_name": "Kafka_Spark",
   "language": "python",
   "name": "python3"
  },
  "language_info": {
   "codemirror_mode": {
    "name": "ipython",
    "version": 3
   },
   "file_extension": ".py",
   "mimetype": "text/x-python",
   "name": "python",
   "nbconvert_exporter": "python",
   "pygments_lexer": "ipython3",
   "version": "3.11.10"
  }
 },
 "nbformat": 4,
 "nbformat_minor": 5
}
