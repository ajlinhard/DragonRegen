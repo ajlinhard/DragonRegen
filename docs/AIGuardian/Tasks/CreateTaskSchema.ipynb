{
 "cells": [
  {
   "cell_type": "code",
   "execution_count": 2,
   "id": "9af77b63",
   "metadata": {},
   "outputs": [
    {
     "name": "stdout",
     "output_type": "stream",
     "text": [
      "Project path: c:\\Users\\dalej\\Documents\\_Coding\\DragonRegen\n"
     ]
    }
   ],
   "source": [
    "import os\n",
    "import sys\n",
    "import json\n",
    "from anthropic import Anthropic, AnthropicError\n",
    "\n",
    "notebook_path = os.getcwd()\n",
    "project_path = os.path.abspath(os.path.join(notebook_path, '..','..','..'))\n",
    "print(f\"Project path: {project_path}\")\n",
    "# Add the project path to sys.path\n",
    "sys.path.append(project_path)"
   ]
  },
  {
   "cell_type": "code",
   "execution_count": 3,
   "id": "40f32702",
   "metadata": {},
   "outputs": [
    {
     "name": "stdout",
     "output_type": "stream",
     "text": [
      "users\n",
      "addresses\n",
      "products\n",
      "categories\n",
      "orders\n",
      "order_items\n",
      "payments\n",
      "cart_items\n",
      "reviews\n"
     ]
    }
   ],
   "source": [
    "s_test_json = \"\"\"{\"users\": {     \"purpose\": \"Stores information about registered users/customers\",     \"fields\": {       \"user_id\": \"unique ID, primary key for user identification\",       \"username\": \"unique username for login\",       \"email\": \"unique email address for user contact\",       \"password_hash\": \"securely stored password hash\",       \"first_name\": \"user's first name\",       \"last_name\": \"user's last name\",       \"phone_number\": \"contact phone number\",       \"created_at\": \"timestamp when user account was created\",       \"updated_at\": \"timestamp when user account was last updated\"     }   },   \"addresses\": {     \"purpose\": \"Stores shipping and billing addresses for users\",     \"fields\": {       \"address_id\": \"unique ID, primary key for address identification\",       \"user_id\": \"foreign key referencing users table\",       \"address_type\": \"type of address (shipping/billing)\",       \"street_address\": \"street name and number\",       \"city\": \"city name\",       \"state\": \"state or province\",       \"postal_code\": \"zip or postal code\",       \"country\": \"country name\",       \"is_default\": \"boolean indicating if this is the default address for the user\"     }   },   \"products\": {     \"purpose\": \"Stores product information available for sale\",     \"fields\": {       \"product_id\": \"unique ID, primary key for product identification\",       \"name\": \"product name\",       \"description\": \"detailed product description\",       \"price\": \"current product price\",       \"category_id\": \"foreign key referencing categories table\",       \"inventory_count\": \"current available inventory\",       \"image_url\": \"URL to product image\",       \"created_at\": \"timestamp when product was added\",       \"updated_at\": \"timestamp when product was last updated\"     }   },   \"categories\": {     \"purpose\": \"Stores product categories for organization\",     \"fields\": {       \"category_id\": \"unique ID, primary key for category identification\",       \"name\": \"category name\",       \"description\": \"category description\",       \"parent_category_id\": \"self-referencing foreign key for hierarchical categories\"     }   },   \"orders\": {     \"purpose\": \"Stores customer orders\",     \"fields\": {       \"order_id\": \"unique ID, primary key for order identification\",       \"user_id\": \"foreign key referencing users table\",       \"order_date\": \"date and time when order was placed\",       \"total_amount\": \"total order amount\",       \"shipping_address_id\": \"foreign key referencing addresses table\",       \"billing_address_id\": \"foreign key referencing addresses table\",       \"status\": \"current order status (pending, shipped, delivered, etc.)\",       \"payment_method\": \"method used for payment\"     }   },   \"order_items\": {     \"purpose\": \"Stores individual items within an order\",     \"columns\": {       \"order_item_id\": \"unique ID, primary key for order item identification\",       \"order_id\": \"foreign key referencing orders table\",       \"product_id\": \"foreign key referencing products table\",       \"quantity\": \"quantity of product ordered\",       \"unit_price\": \"price of product at time of purchase\",       \"subtotal\": \"total price for this line item (quantity * unit_price)\"     }   },   \"payments\": {     \"purpose\": \"Stores payment information for orders\",     \"fields\": {       \"payment_id\": \"unique ID, primary key for payment identification\",       \"order_id\": \"foreign key referencing orders table\",       \"payment_date\": \"date and time of payment\",       \"payment_method\": \"method of payment (credit card, PayPal, etc.)\",       \"amount\": \"payment amount\",       \"status\": \"payment status (pending, completed, failed, etc.)\",       \"transaction_id\": \"external payment processor transaction ID\"     }   },   \"cart_items\": {     \"purpose\": \"Stores items in user shopping carts\",     \"fields\": {       \"cart_item_id\": \"unique ID, primary key for cart item identification\",       \"user_id\": \"foreign key referencing users table\",       \"product_id\": \"foreign key referencing products table\",       \"quantity\": \"quantity of product in cart\",       \"added_at\": \"timestamp when item was added to cart\"     }   },   \"reviews\": {     \"purpose\": \"Stores product reviews from users\",     \"columns\": {       \"review_id\": \"unique ID, primary key for review identification\",       \"product_id\": \"foreign key referencing products table\",       \"user_id\": \"foreign key referencing users table\",       \"rating\": \"numerical rating (e.g., 1-5 stars)\",       \"comment\": \"text review content\",       \"created_at\": \"timestamp when review was created\"     }   } }\"\"\"\n",
    "test_json = json.loads(s_test_json)\n",
    "for key in test_json.keys():\n",
    "    print(key) "
   ]
  },
  {
   "cell_type": "code",
   "execution_count": 4,
   "id": "9d152744",
   "metadata": {},
   "outputs": [
    {
     "name": "stdout",
     "output_type": "stream",
     "text": [
      "dict_keys(['addresses', 'products'])\n",
      "{'addresses': {'purpose': 'Stores shipping and billing addresses for users', 'fields': {'address_id': 'unique ID, primary key for address identification', 'user_id': 'foreign key referencing users table', 'address_type': 'type of address (shipping/billing)', 'street_address': 'street name and number', 'city': 'city name', 'state': 'state or province', 'postal_code': 'zip or postal code', 'country': 'country name', 'is_default': 'boolean indicating if this is the default address for the user'}}, 'products': {'purpose': 'Stores product information available for sale', 'fields': {'product_id': 'unique ID, primary key for product identification', 'name': 'product name', 'description': 'detailed product description', 'price': 'current product price', 'category_id': 'foreign key referencing categories table', 'inventory_count': 'current available inventory', 'image_url': 'URL to product image', 'created_at': 'timestamp when product was added', 'updated_at': 'timestamp when product was last updated'}}}\n"
     ]
    }
   ],
   "source": [
    "# schema_json = {key: val for key, val in test_json.items() if key in ['addresses','products', 'categories']}\n",
    "schema_json = {key: val for key, val in test_json.items() if key in ['addresses','products']}\n",
    "print(schema_json.keys())\n",
    "print(schema_json)"
   ]
  },
  {
   "cell_type": "markdown",
   "id": "fe88d170",
   "metadata": {},
   "source": [
    "## Testing Action Generator"
   ]
  },
  {
   "cell_type": "code",
   "execution_count": 5,
   "id": "4ccb47e6",
   "metadata": {},
   "outputs": [
    {
     "name": "stdout",
     "output_type": "stream",
     "text": [
      "<src.AIGuardian.Tasks.SchemaRefiner.SchemaRefiner object at 0x000001FD34E62350>\n"
     ]
    }
   ],
   "source": [
    "from src.AIGuardian.Tasks.SchemaRefiner import SchemaRefiner\n",
    "from src.MetaFort.SysLogs.KafkaEngine import KafkaEngine\n",
    "\n",
    "test_schema_refiner = SchemaRefiner(schema_json)\n",
    "test_schema_refiner.db_engine = KafkaEngine.default_builder()\n",
    "print(test_schema_refiner)"
   ]
  },
  {
   "cell_type": "code",
   "execution_count": 6,
   "id": "25251748",
   "metadata": {},
   "outputs": [
    {
     "name": "stdout",
     "output_type": "stream",
     "text": [
      "==> Waiting on ['3ad87a17-8b3e-4ae6-9829-6060cbec8bc8', '052446a9-9d9a-4679-8506-624e601593ea'] to complete.\n",
      "==> Removing 052446a9-9d9a-4679-8506-624e601593ea from child tasks.\n",
      "==> Removing 3ad87a17-8b3e-4ae6-9829-6060cbec8bc8 from child tasks.\n",
      "==> Task ede8ab94-929a-40d2-b1ab-0c124356c9da complete_task\n"
     ]
    }
   ],
   "source": [
    "test_schema_refiner.run(user_prompt=\"\")"
   ]
  },
  {
   "cell_type": "code",
   "execution_count": 7,
   "id": "dca180ef",
   "metadata": {},
   "outputs": [
    {
     "name": "stdout",
     "output_type": "stream",
     "text": [
      "[]\n",
      "{'052446a9-9d9a-4679-8506-624e601593ea': '{\"products\": {\"purpose\": \"Stores product information available for sale\", \"fields\": [\"{\\\\\"name\\\\\": \\\\\"product_id\\\\\", \\\\\"type\\\\\": \\\\\"Integer\\\\\", \\\\\"nullable\\\\\": false, \\\\\"metadata\\\\\": {\\\\\"description\\\\\": \\\\\"unique ID, primary key for product identification\\\\\", \\\\\"unique_fl\\\\\": true, \\\\\"default_value\\\\\": null, \\\\\"col_type\\\\\": null}}\", \"{\\\\\"name\\\\\": \\\\\"name\\\\\", \\\\\"type\\\\\": \\\\\"String\\\\\", \\\\\"nullable\\\\\": false, \\\\\"metadata\\\\\": {\\\\\"description\\\\\": \\\\\"product name\\\\\", \\\\\"unique_fl\\\\\": true, \\\\\"default_value\\\\\": null, \\\\\"col_type\\\\\": null}}\", \"{\\\\\"name\\\\\": \\\\\"updated_at\\\\\", \\\\\"type\\\\\": \\\\\"Timestamp\\\\\", \\\\\"nullable\\\\\": true, \\\\\"metadata\\\\\": {\\\\\"description\\\\\": \\\\\"timestamp when product was last updated\\\\\", \\\\\"unique_fl\\\\\": false, \\\\\"default_value\\\\\": null, \\\\\"col_type\\\\\": null}}\", \"{\\\\\"name\\\\\": \\\\\"inventory_count\\\\\", \\\\\"type\\\\\": \\\\\"Integer\\\\\", \\\\\"nullable\\\\\": true, \\\\\"metadata\\\\\": {\\\\\"description\\\\\": \\\\\"current available inventory\\\\\", \\\\\"unique_fl\\\\\": false, \\\\\"default_value\\\\\": null, \\\\\"col_type\\\\\": null}}\", \"{\\\\\"name\\\\\": \\\\\"created_at\\\\\", \\\\\"type\\\\\": \\\\\"Timestamp\\\\\", \\\\\"nullable\\\\\": false, \\\\\"metadata\\\\\": {\\\\\"description\\\\\": \\\\\"timestamp when product was added\\\\\", \\\\\"unique_fl\\\\\": false, \\\\\"default_value\\\\\": \\\\\"CURRENT_TIMESTAMP\\\\\", \\\\\"col_type\\\\\": null}}\", \"{\\\\\"name\\\\\": \\\\\"category_id\\\\\", \\\\\"type\\\\\": \\\\\"Integer\\\\\", \\\\\"nullable\\\\\": false, \\\\\"metadata\\\\\": {\\\\\"description\\\\\": \\\\\"foreign key referencing categories table\\\\\", \\\\\"unique_fl\\\\\": false, \\\\\"default_value\\\\\": null, \\\\\"col_type\\\\\": null}}\", \"{\\\\\"name\\\\\": \\\\\"description\\\\\", \\\\\"type\\\\\": \\\\\"String\\\\\", \\\\\"nullable\\\\\": true, \\\\\"metadata\\\\\": {\\\\\"description\\\\\": \\\\\"detailed product description\\\\\", \\\\\"col_type\\\\\": null}}\", \"{\\\\\"name\\\\\": \\\\\"image_url\\\\\", \\\\\"type\\\\\": \\\\\"String\\\\\", \\\\\"nullable\\\\\": true, \\\\\"metadata\\\\\": {\\\\\"description\\\\\": \\\\\"URL to product image\\\\\", \\\\\"unique_fl\\\\\": false, \\\\\"default_value\\\\\": null, \\\\\"col_type\\\\\": null}}\", \"{\\\\\"name\\\\\": \\\\\"price\\\\\", \\\\\"type\\\\\": \\\\\"Decimal\\\\\", \\\\\"nullable\\\\\": false, \\\\\"metadata\\\\\": {\\\\\"description\\\\\": \\\\\"current product price\\\\\", \\\\\"unique_fl\\\\\": false, \\\\\"default_value\\\\\": null, \\\\\"col_type\\\\\": null}}\"]}}', '3ad87a17-8b3e-4ae6-9829-6060cbec8bc8': '{\"addresses\": {\"purpose\": \"Stores shipping and billing addresses for users\", \"fields\": [\"{\\\\\"name\\\\\": \\\\\"city\\\\\", \\\\\"type\\\\\": \\\\\"String\\\\\", \\\\\"nullable\\\\\": true, \\\\\"metadata\\\\\": {\\\\\"description\\\\\": \\\\\"city name\\\\\", \\\\\"unique_fl\\\\\": false, \\\\\"default_value\\\\\": null, \\\\\"col_type\\\\\": null}}\", \"{\\\\\"name\\\\\": \\\\\"address_type\\\\\", \\\\\"type\\\\\": \\\\\"String\\\\\", \\\\\"nullable\\\\\": false, \\\\\"metadata\\\\\": {\\\\\"description\\\\\": \\\\\"Type of address (shipping/billing)\\\\\", \\\\\"unique_fl\\\\\": false, \\\\\"default_value\\\\\": null, \\\\\"col_type\\\\\": null}}\", \"{\\\\\"name\\\\\": \\\\\"street_address\\\\\", \\\\\"type\\\\\": \\\\\"String\\\\\", \\\\\"nullable\\\\\": false, \\\\\"metadata\\\\\": {\\\\\"description\\\\\": \\\\\"street name and number\\\\\", \\\\\"unique_fl\\\\\": false, \\\\\"default_value\\\\\": null, \\\\\"col_type\\\\\": null}}\", \"{\\\\\"name\\\\\": \\\\\"country\\\\\", \\\\\"type\\\\\": \\\\\"String\\\\\", \\\\\"nullable\\\\\": true, \\\\\"metadata\\\\\": {\\\\\"description\\\\\": \\\\\"country name\\\\\", \\\\\"unique_fl\\\\\": false, \\\\\"default_value\\\\\": null, \\\\\"col_type\\\\\": null}}\", \"{\\\\\"name\\\\\": \\\\\"postal_code\\\\\", \\\\\"type\\\\\": \\\\\"String\\\\\", \\\\\"nullable\\\\\": true, \\\\\"metadata\\\\\": {\\\\\"description\\\\\": \\\\\"zip or postal code\\\\\", \\\\\"unique_fl\\\\\": false, \\\\\"default_value\\\\\": null, \\\\\"col_type\\\\\": null}}\", \"{\\\\\"name\\\\\": \\\\\"user_id\\\\\", \\\\\"type\\\\\": \\\\\"Integer\\\\\", \\\\\"nullable\\\\\": false, \\\\\"metadata\\\\\": {\\\\\"description\\\\\": \\\\\"foreign key referencing users table\\\\\", \\\\\"unique_fl\\\\\": false, \\\\\"default_value\\\\\": null, \\\\\"col_type\\\\\": null}}\", \"{\\\\\"name\\\\\": \\\\\"state\\\\\", \\\\\"type\\\\\": \\\\\"String\\\\\", \\\\\"nullable\\\\\": true, \\\\\"metadata\\\\\": {\\\\\"description\\\\\": \\\\\"state or province\\\\\", \\\\\"unique_fl\\\\\": false, \\\\\"default_value\\\\\": null, \\\\\"col_type\\\\\": null}}\", \"{\\\\\"name\\\\\": \\\\\"address_id\\\\\", \\\\\"type\\\\\": \\\\\"Integer\\\\\", \\\\\"nullable\\\\\": false, \\\\\"metadata\\\\\": {\\\\\"description\\\\\": \\\\\"unique ID, primary key for address identification\\\\\", \\\\\"unique_fl\\\\\": true, \\\\\"default_value\\\\\": null, \\\\\"col_type\\\\\": null}}\", \"{\\\\\"name\\\\\": \\\\\"is_default\\\\\", \\\\\"type\\\\\": \\\\\"Boolean\\\\\", \\\\\"nullable\\\\\": false, \\\\\"metadata\\\\\": {\\\\\"description\\\\\": \\\\\"Boolean indicating if this is the default address for the user\\\\\", \\\\\"unique_fl\\\\\": false, \\\\\"default_value\\\\\": false, \\\\\"col_type\\\\\": null}}\"]}}'}\n"
     ]
    }
   ],
   "source": [
    "print(test_schema_refiner.child_task)\n",
    "print(test_schema_refiner.child_task_output_artifacts)"
   ]
  },
  {
   "cell_type": "code",
   "execution_count": 31,
   "id": "d37999cf",
   "metadata": {},
   "outputs": [],
   "source": [
    "# get group_id of kafka topic\n",
    "from src.MetaFort.AILoggingTopics import AILoggingTopics\n",
    "consum_comp = test_schema_refiner.db_engine.consumers[AILoggingTopics.AI_TASK_COMPLETED_TOPIC]"
   ]
  },
  {
   "cell_type": "code",
   "execution_count": 41,
   "id": "ba6518f7",
   "metadata": {},
   "outputs": [
    {
     "name": "stdout",
     "output_type": "stream",
     "text": [
      "<kafka.consumer.group.KafkaConsumer object at 0x00000161E3CD1810>\n",
      "{'bootstrap_servers': ['localhost:9092'], 'client_id': 'kafka-python-2.0.2', 'group_id': 'default', 'key_deserializer': None, 'value_deserializer': None, 'fetch_max_wait_ms': 500, 'fetch_min_bytes': 1, 'fetch_max_bytes': 52428800, 'max_partition_fetch_bytes': 1048576, 'request_timeout_ms': 305000, 'retry_backoff_ms': 100, 'reconnect_backoff_ms': 50, 'reconnect_backoff_max_ms': 1000, 'max_in_flight_requests_per_connection': 5, 'auto_offset_reset': 'latest', 'enable_auto_commit': True, 'auto_commit_interval_ms': 5000, 'default_offset_commit_callback': <function KafkaConsumer.<lambda> at 0x00000161E1F09760>, 'check_crcs': True, 'metadata_max_age_ms': 300000, 'partition_assignment_strategy': (<class 'kafka.coordinator.assignors.range.RangePartitionAssignor'>, <class 'kafka.coordinator.assignors.roundrobin.RoundRobinPartitionAssignor'>), 'max_poll_records': 500, 'max_poll_interval_ms': 300000, 'session_timeout_ms': 10000, 'heartbeat_interval_ms': 3000, 'receive_buffer_bytes': None, 'send_buffer_bytes': None, 'socket_options': [(6, 1, 1)], 'sock_chunk_bytes': 4096, 'sock_chunk_buffer_count': 1000, 'consumer_timeout_ms': inf, 'security_protocol': 'PLAINTEXT', 'ssl_context': None, 'ssl_check_hostname': True, 'ssl_cafile': None, 'ssl_certfile': None, 'ssl_keyfile': None, 'ssl_crlfile': None, 'ssl_password': None, 'ssl_ciphers': None, 'api_version': (2, 5, 0), 'api_version_auto_timeout_ms': 2000, 'connections_max_idle_ms': 540000, 'metric_reporters': [], 'metrics_num_samples': 2, 'metrics_sample_window_ms': 30000, 'metric_group_prefix': 'consumer', 'selector': <class 'selectors.SelectSelector'>, 'exclude_internal_topics': True, 'sasl_mechanism': None, 'sasl_plain_username': None, 'sasl_plain_password': None, 'sasl_kerberos_service_name': 'kafka', 'sasl_kerberos_domain_name': None, 'sasl_oauth_token_provider': None, 'legacy_iterator': False}\n",
      "default\n",
      "<class 'dict'>\n"
     ]
    }
   ],
   "source": [
    "print(consum_comp)\n",
    "print(consum_comp.config)\n",
    "print(consum_comp.config.get(('group_id')))\n",
    "print(type(consum_comp.config))\n",
    "\n",
    "# for key, val in consum_comp.config.items():\n",
    "#     print(f\"{key}: {val}\")"
   ]
  },
  {
   "cell_type": "markdown",
   "id": "f26b59a1",
   "metadata": {},
   "source": [
    "## Test Table Column Action Generator"
   ]
  },
  {
   "cell_type": "code",
   "execution_count": 4,
   "id": "b8601ce6",
   "metadata": {},
   "outputs": [
    {
     "name": "stdout",
     "output_type": "stream",
     "text": [
      "{'purpose': 'Stores information about registered users/customers', 'fields': {'user_id': 'unique ID, primary key for user identification', 'username': 'unique username for login', 'email': 'unique email address for user contact', 'password_hash': 'securely stored password hash', 'first_name': \"user's first name\", 'last_name': \"user's last name\", 'phone_number': 'contact phone number', 'created_at': 'timestamp when user account was created', 'updated_at': 'timestamp when user account was last updated'}, 'table_name': 'users'}\n"
     ]
    }
   ],
   "source": [
    "table_json = test_json['users']\n",
    "table_json['table_name'] = 'users'\n",
    "print(table_json)"
   ]
  },
  {
   "cell_type": "code",
   "execution_count": 8,
   "id": "53f5b36c",
   "metadata": {},
   "outputs": [
    {
     "name": "stdout",
     "output_type": "stream",
     "text": [
      "<src.AIGuardian.Tasks.ColumnRefiner.ColumnRefiner object at 0x00000161E3C19090>\n"
     ]
    }
   ],
   "source": [
    "from src.AIGuardian.Tasks.ColumnRefiner import ColumnRefiner\n",
    "from src.MetaFort.SysLogs.KafkaEngine import KafkaEngine\n",
    "\n",
    "test_col_refiner = ColumnRefiner(input_params=table_json)\n",
    "test_col_refiner.db_engine = KafkaEngine.default_builder(group_id='column_sub')\n",
    "print(test_col_refiner)"
   ]
  },
  {
   "cell_type": "code",
   "execution_count": 9,
   "id": "0f4c29db",
   "metadata": {},
   "outputs": [
    {
     "name": "stdout",
     "output_type": "stream",
     "text": [
      "==> Waiting on ['c377511f-b832-41e2-8716-0500961a189f', '2ecb01c4-d876-4617-a55b-d17b85c8ae8a', '7bff83c1-8f17-4f2d-b64a-f06492358ce8', 'fe5b50c5-ba81-4842-80d0-92af1fc598aa', '5bf99bdd-b52c-4a77-bdbd-7fa8440287ba', '697018d6-1f7e-407e-878e-560d0351115d', 'a47f5de4-60cc-4728-8a8a-c5f8dd4f0d81', 'd1308c86-d4c0-4bbd-8d07-bff29041a05b', '8f824664-c3f0-4b35-b998-735e861226d4', 'c7a61aa6-7168-40ef-b865-e4e59d08b5b9', '364e26e9-c9ad-466e-9955-a02a26dcc4e2', '26ebf6b4-ef17-4e82-b5c5-268346d00e14', '2d70f68d-1fe9-417c-8914-a4b0bedb7ad3', '428b41dc-daf2-4bd8-bdad-60f13adfac21', '97979ce6-fd0a-4a81-bd66-bb8183008f56', 'e42a865a-7aab-4b3c-9806-e1916763420c', '9b338c61-6cba-4c3e-864b-db1b15e46f1f', '8ff9ddea-82e9-4334-9681-7f53ba893b7d'] to complete.\n",
      "==> Found 1 completed tasks.\n",
      "==> Removing a47f5de4-60cc-4728-8a8a-c5f8dd4f0d81 from child tasks.\n",
      "==> Found 1 completed tasks.\n",
      "==> Removing 97979ce6-fd0a-4a81-bd66-bb8183008f56 from child tasks.\n",
      "==> Found 1 completed tasks.\n",
      "==> Removing 8ff9ddea-82e9-4334-9681-7f53ba893b7d from child tasks.\n",
      "==> Found 1 completed tasks.\n",
      "==> Removing c377511f-b832-41e2-8716-0500961a189f from child tasks.\n",
      "==> Found 1 completed tasks.\n",
      "==> Removing 7bff83c1-8f17-4f2d-b64a-f06492358ce8 from child tasks.\n",
      "==> Found 1 completed tasks.\n",
      "==> Removing 428b41dc-daf2-4bd8-bdad-60f13adfac21 from child tasks.\n",
      "==> Found 1 completed tasks.\n",
      "==> Removing fe5b50c5-ba81-4842-80d0-92af1fc598aa from child tasks.\n",
      "==> Found 1 completed tasks.\n",
      "==> Removing 5bf99bdd-b52c-4a77-bdbd-7fa8440287ba from child tasks.\n",
      "==> Found 1 completed tasks.\n",
      "==> Removing 697018d6-1f7e-407e-878e-560d0351115d from child tasks.\n",
      "==> Found 1 completed tasks.\n",
      "==> Removing 2ecb01c4-d876-4617-a55b-d17b85c8ae8a from child tasks.\n",
      "==> Found 1 completed tasks.\n",
      "==> Removing d1308c86-d4c0-4bbd-8d07-bff29041a05b from child tasks.\n",
      "==> Found 1 completed tasks.\n",
      "==> Removing 8f824664-c3f0-4b35-b998-735e861226d4 from child tasks.\n",
      "==> Found 1 completed tasks.\n",
      "==> Removing c7a61aa6-7168-40ef-b865-e4e59d08b5b9 from child tasks.\n",
      "==> Found 1 completed tasks.\n",
      "==> Removing 364e26e9-c9ad-466e-9955-a02a26dcc4e2 from child tasks.\n",
      "==> Found 1 completed tasks.\n",
      "==> Removing 26ebf6b4-ef17-4e82-b5c5-268346d00e14 from child tasks.\n",
      "==> Found 1 completed tasks.\n",
      "==> Removing 2d70f68d-1fe9-417c-8914-a4b0bedb7ad3 from child tasks.\n",
      "==> Found 1 completed tasks.\n",
      "==> Removing e42a865a-7aab-4b3c-9806-e1916763420c from child tasks.\n",
      "==> Found 1 completed tasks.\n",
      "==> Removing 9b338c61-6cba-4c3e-864b-db1b15e46f1f from child tasks.\n",
      " Adding Key: 8ff9ddea-82e9-4334-9681-7f53ba893b7d to the list of fields\n",
      " Adding Key: 428b41dc-daf2-4bd8-bdad-60f13adfac21 to the list of fields\n",
      " Adding Key: fe5b50c5-ba81-4842-80d0-92af1fc598aa to the list of fields\n",
      " Adding Key: 697018d6-1f7e-407e-878e-560d0351115d to the list of fields\n",
      " Adding Key: 2ecb01c4-d876-4617-a55b-d17b85c8ae8a to the list of fields\n",
      " Adding Key: d1308c86-d4c0-4bbd-8d07-bff29041a05b to the list of fields\n",
      " Adding Key: c7a61aa6-7168-40ef-b865-e4e59d08b5b9 to the list of fields\n",
      " Adding Key: 26ebf6b4-ef17-4e82-b5c5-268346d00e14 to the list of fields\n",
      " Adding Key: e42a865a-7aab-4b3c-9806-e1916763420c to the list of fields\n"
     ]
    }
   ],
   "source": [
    "test_col_refiner.run(user_prompt=\"\")\n"
   ]
  },
  {
   "cell_type": "code",
   "execution_count": 7,
   "id": "d1b59e61",
   "metadata": {},
   "outputs": [
    {
     "name": "stdout",
     "output_type": "stream",
     "text": [
      "['0f65fae4-2de8-4682-8cbe-ce0d4c0f8ebe', '868db7a7-ac7b-4f82-a289-dcdb7c6b59d5', 'affdc195-a50e-40c2-ab26-4c884c41be9a', '9fd10ca8-d8f9-49c8-a3f8-a7429b2c05ed', 'a54e5552-88a5-491a-9249-8159b98b665d', '23636177-71ac-4f58-b82e-5a45fbb58c09', '94e31939-531b-40b6-b637-5361724ad45c', 'ee618522-400a-40cf-8139-a94a377f8eb0', '7b2a5985-9730-4fe1-a4bf-e64f0c38982b', '66b63903-a972-4a90-9829-6029921379f4', '18523f97-c544-4821-8a22-3c756c9e0bc1', 'a744cc37-4248-4631-b626-6de5b7526d00', 'f630f389-2da6-44f0-9688-b26c4eefe6c2', '39d56568-f4be-4d70-80bb-a7fa906ed533', '62300234-1575-4566-a215-3531c87f3119', '89e3d39d-6484-4b8f-947c-f73ab1bacd38', '8bb64828-f241-47ab-8a65-790d8f0a28c6', '83ccc76f-8394-4f6a-a03c-5f12c9318fb2']\n",
      "{}\n",
      "['868db7a7-ac7b-4f82-a289-dcdb7c6b59d5', '9fd10ca8-d8f9-49c8-a3f8-a7429b2c05ed', '23636177-71ac-4f58-b82e-5a45fbb58c09', 'ee618522-400a-40cf-8139-a94a377f8eb0', '66b63903-a972-4a90-9829-6029921379f4', 'a744cc37-4248-4631-b626-6de5b7526d00', '39d56568-f4be-4d70-80bb-a7fa906ed533', '89e3d39d-6484-4b8f-947c-f73ab1bacd38', '83ccc76f-8394-4f6a-a03c-5f12c9318fb2']\n"
     ]
    }
   ],
   "source": [
    "print(test_col_refiner.child_task)\n",
    "print(test_col_refiner.child_task_output_artifacts)\n",
    "print(test_col_refiner.data_column_refiner)"
   ]
  },
  {
   "cell_type": "code",
   "execution_count": 9,
   "id": "c5247f35",
   "metadata": {},
   "outputs": [
    {
     "name": "stdout",
     "output_type": "stream",
     "text": [
      "{\n",
      "  \"users\": {\n",
      "    \"purpose\": \"Stores information about registered users/customers\",\n",
      "    \"fields\": [\n",
      "      \"{\\\"name\\\": \\\"password_hash\\\", \\\"type\\\": \\\"String\\\", \\\"nullable\\\": false, \\\"metadata\\\": {\\\"description\\\": \\\"securely stored password hash\\\", \\\"unique_fl\\\": false, \\\"default_value\\\": null, \\\"col_type\\\": null}}\",\n",
      "      \"{\\\"name\\\": \\\"username\\\", \\\"type\\\": \\\"String\\\", \\\"nullable\\\": false, \\\"metadata\\\": {\\\"description\\\": \\\"unique username for login\\\", \\\"unique_fl\\\": true, \\\"default_value\\\": null, \\\"col_type\\\": null}}\",\n",
      "      \"{\\\"name\\\": \\\"email\\\", \\\"type\\\": \\\"String\\\", \\\"nullable\\\": false, \\\"metadata\\\": {\\\"description\\\": \\\"unique email address for user contact\\\", \\\"unique_fl\\\": true, \\\"default_value\\\": null, \\\"col_type\\\": null}}\",\n",
      "      \"{\\\"name\\\": \\\"last_name\\\", \\\"type\\\": \\\"String\\\", \\\"nullable\\\": false, \\\"metadata\\\": {\\\"description\\\": \\\"user's last name\\\", \\\"unique_fl\\\": false, \\\"default_value\\\": null, \\\"col_type\\\": null}}\",\n",
      "      \"{\\\"name\\\": \\\"updated_at\\\", \\\"type\\\": \\\"Timestamp\\\", \\\"nullable\\\": true, \\\"metadata\\\": {\\\"description\\\": \\\"timestamp when user account was last updated\\\", \\\"unique_fl\\\": false, \\\"default_value\\\": null, \\\"col_type\\\": null}}\",\n",
      "      \"{\\\"name\\\": \\\"user_id\\\", \\\"type\\\": \\\"Integer\\\", \\\"nullable\\\": false, \\\"metadata\\\": {\\\"description\\\": \\\"unique ID, primary key for user identification\\\", \\\"unique_fl\\\": true, \\\"default_value\\\": null, \\\"col_type\\\": null}}\",\n",
      "      \"{\\\"name\\\": \\\"first_name\\\", \\\"type\\\": \\\"String\\\", \\\"nullable\\\": false, \\\"metadata\\\": {\\\"description\\\": \\\"user's first name\\\", \\\"unique_fl\\\": false, \\\"default_value\\\": null, \\\"col_type\\\": null}}\",\n",
      "      \"{\\\"name\\\": \\\"phone_number\\\", \\\"type\\\": \\\"String\\\", \\\"nullable\\\": true, \\\"metadata\\\": {\\\"description\\\": \\\"contact phone number\\\", \\\"unique_fl\\\": true, \\\"default_value\\\": null, \\\"col_type\\\": null}}\",\n",
      "      \"{\\\"name\\\": \\\"created_at\\\", \\\"type\\\": \\\"Timestamp\\\", \\\"nullable\\\": false, \\\"metadata\\\": {\\\"description\\\": \\\"timestamp when user account was created\\\", \\\"unique_fl\\\": false, \\\"default_value\\\": \\\"CURRENT_TIMESTAMP\\\", \\\"col_type\\\": null}}\"\n",
      "    ]\n",
      "  }\n",
      "}\n"
     ]
    }
   ],
   "source": [
    "print(json.dumps(test_col_refiner.output_params, indent=2))"
   ]
  }
 ],
 "metadata": {
  "kernelspec": {
   "display_name": "Kafka_Spark",
   "language": "python",
   "name": "python3"
  },
  "language_info": {
   "codemirror_mode": {
    "name": "ipython",
    "version": 3
   },
   "file_extension": ".py",
   "mimetype": "text/x-python",
   "name": "python",
   "nbconvert_exporter": "python",
   "pygments_lexer": "ipython3",
   "version": "3.11.10"
  }
 },
 "nbformat": 4,
 "nbformat_minor": 5
}
