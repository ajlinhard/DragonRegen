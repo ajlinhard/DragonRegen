{
 "cells": [
  {
   "cell_type": "code",
   "execution_count": 9,
   "id": "2fc7ca70",
   "metadata": {},
   "outputs": [
    {
     "name": "stdout",
     "output_type": "stream",
     "text": [
      "Project path: c:\\Users\\dalej\\Documents\\_Coding\\DragonRegen\n"
     ]
    }
   ],
   "source": [
    "import os\n",
    "import sys\n",
    "\n",
    "project_path = os.path.abspath(os.path.join(os.getcwd(), '..', '..', '..'))\n",
    "sys.path.insert(0, project_path)\n",
    "print(f\"Project path: {project_path}\")"
   ]
  },
  {
   "cell_type": "code",
   "execution_count": 10,
   "id": "9799360f",
   "metadata": {},
   "outputs": [],
   "source": [
    "from src.MetaFort.AILoggingTopics import AILoggingTopics\n",
    "from kafka import KafkaConsumer\n",
    "import json\n",
    "\n",
    "kc_completed_task = KafkaConsumer(\n",
    "    AILoggingTopics.AI_TASK_COMPLETED_TOPIC,\n",
    "    bootstrap_servers=['localhost:9092'],\n",
    "    auto_offset_reset='latest',\n",
    "    enable_auto_commit=True,\n",
    "    group_id='dwh-stream-job',\n",
    "    value_deserializer=lambda x: json.loads(x.decode('utf-8'))\n",
    ")\n"
   ]
  },
  {
   "cell_type": "code",
   "execution_count": 32,
   "id": "484a305d",
   "metadata": {},
   "outputs": [
    {
     "name": "stdout",
     "output_type": "stream",
     "text": [
      "Messages received:\n",
      "Topic: ai_tasks_completed, Partition: 0, Offset: 3, Key: None, Value: {'task_id': 300304694183836177550454581032852541384, 'task_name': 'DataColumnType', 'group_task_id': None, 'insert_dt': '2025-05-14T14:56:51.140983', 'output_artifacts': '{\"reason\": \"The \\'membership\\' column represents the kind of membership a gym member has, which would be a limited set of predefined options (like \\'Basic\\', \\'Premium\\', \\'Gold\\', etc.) rather than free-form text. This is a classic example of a categorical variable with a finite number of possible values.\", \"col_type\": \"Categorical\"}'}\n",
      "Topic: ai_tasks_completed, Partition: 0, Offset: 4, Key: None, Value: {'task_id': 136058658848764322081540275259036020310, 'task_name': 'DataColumnType', 'group_task_id': None, 'insert_dt': '2025-05-14T15:06:28.809828', 'output_artifacts': '{\"reason\": \"The \\'membership\\' column represents the kind of membership a gym member has, which would be a limited set of predefined options (like \\'Basic\\', \\'Premium\\', \\'Gold\\', etc.) rather than free-form text. This is a classic example of a categorical variable with a finite number of possible values.\", \"col_type\": \"Categorical\"}'}\n",
      "Topic: ai_tasks_completed, Partition: 0, Offset: 5, Key: None, Value: {'task_id': 104404014328354376757570259899498965908, 'task_name': 'DataColumnRefiner', 'group_task_id': 136058658848764322081540275259036020310, 'insert_dt': '2025-05-14T15:06:49.598195', 'output_artifacts': '{\"name\": \"membership\", \"type\": \"String\", \"nullable\": false, \"metadata\": {\"description\": \"The kind of membership the member has. Indicates the membership tier or plan that determines access privileges and pricing for the gym member.\", \"unique_fl\": \"False\", \"column_values\": [\"Basic\", \"Standard\", \"Premium\", \"Family\", \"Student\", \"Senior\", \"Corporate\"], \"col_type\": \"Categorical\"}}'}\n"
     ]
    }
   ],
   "source": [
    "completed = kc_completed_task.poll(timeout_ms=1000)\n",
    "print(\"Messages received:\")\n",
    "for topic_partition, messages in completed.items():\n",
    "    for message in messages:\n",
    "        print(f\"Topic: {topic_partition.topic}, Partition: {topic_partition.partition}, Offset: {message.offset}, Key: {message.key}, Value: {message.value}\")\n",
    "        "
   ]
  }
 ],
 "metadata": {
  "kernelspec": {
   "display_name": "Kafka_Spark",
   "language": "python",
   "name": "python3"
  },
  "language_info": {
   "codemirror_mode": {
    "name": "ipython",
    "version": 3
   },
   "file_extension": ".py",
   "mimetype": "text/x-python",
   "name": "python",
   "nbconvert_exporter": "python",
   "pygments_lexer": "ipython3",
   "version": "3.11.10"
  }
 },
 "nbformat": 4,
 "nbformat_minor": 5
}
