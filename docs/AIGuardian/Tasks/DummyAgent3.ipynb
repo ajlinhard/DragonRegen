{
 "cells": [
  {
   "cell_type": "code",
   "execution_count": 16,
   "id": "8567738a",
   "metadata": {},
   "outputs": [
    {
     "name": "stdout",
     "output_type": "stream",
     "text": [
      "Project Path: c:\\Users\\dalej\\Documents\\_Coding\\DragonRegen\n"
     ]
    }
   ],
   "source": [
    "import os\n",
    "import sys\n",
    "\n",
    "project_path = os.path.abspath(os.path.join(os.getcwd(),'..','..','..'))\n",
    "sys.path.append(project_path)\n",
    "print(f\"Project Path: {project_path}\")"
   ]
  },
  {
   "cell_type": "code",
   "execution_count": 17,
   "id": "5110dabe",
   "metadata": {},
   "outputs": [
    {
     "name": "stdout",
     "output_type": "stream",
     "text": [
      "Agent Loop Count: 0 and last consumed time: 2025-05-21 20:37:33.011928\n",
      "Agent Loop Count: 1 and last consumed time: 2025-05-21 20:37:33.011928\n",
      "Agent Loop Count: 2 and last consumed time: 2025-05-21 20:37:33.011928\n",
      "Agent Loop Count: 3 and last consumed time: 2025-05-21 20:37:33.011928\n",
      "Agent Loop Count: 4 and last consumed time: 2025-05-21 20:37:33.011928\n",
      "Agent Loop Count: 5 and last consumed time: 2025-05-21 20:37:33.011928\n",
      "Agent Loop Count: 6 and last consumed time: 2025-05-21 20:37:33.011928\n",
      "Agent Loop Count: 7 and last consumed time: 2025-05-21 20:37:33.011928\n",
      "Agent Loop Count: 8 and last consumed time: 2025-05-21 20:37:33.011928\n",
      "Agent Loop Count: 9 and last consumed time: 2025-05-21 20:37:33.011928\n",
      "Agent Loop Count: 10 and last consumed time: 2025-05-21 20:37:33.011928\n",
      "Agent Loop Count: 11 and last consumed time: 2025-05-21 20:37:33.011928\n",
      "Agent Loop Count: 12 and last consumed time: 2025-05-21 20:37:33.011928\n",
      "Agent Loop Count: 13 and last consumed time: 2025-05-21 20:37:33.011928\n",
      "Agent Loop Count: 14 and last consumed time: 2025-05-21 20:37:33.011928\n",
      "Agent Loop Count: 15 and last consumed time: 2025-05-21 20:37:33.011928\n",
      "Agent Loop Count: 16 and last consumed time: 2025-05-21 20:37:33.011928\n",
      "Agent Loop Count: 17 and last consumed time: 2025-05-21 20:37:33.011928\n",
      "Agent Loop Count: 18 and last consumed time: 2025-05-21 20:37:33.011928\n",
      "Agent Loop Count: 19 and last consumed time: 2025-05-21 20:37:33.011928\n",
      "End of processing\n"
     ]
    }
   ],
   "source": [
    "from src.AIGuardian.Tasks.KafkaAgent import KafkaAgent\n",
    "\n",
    "agent = KafkaAgent(end_processing=20)\n",
    "agent.receive_messages()"
   ]
  },
  {
   "cell_type": "code",
   "execution_count": 18,
   "id": "1db6417b",
   "metadata": {},
   "outputs": [
    {
     "name": "stdout",
     "output_type": "stream",
     "text": [
      "[]\n",
      "[]\n"
     ]
    }
   ],
   "source": [
    "print(agent.waiting_tasks)\n",
    "print(agent.processed_tasks)"
   ]
  }
 ],
 "metadata": {
  "kernelspec": {
   "display_name": "Kafka_Spark",
   "language": "python",
   "name": "python3"
  },
  "language_info": {
   "codemirror_mode": {
    "name": "ipython",
    "version": 3
   },
   "file_extension": ".py",
   "mimetype": "text/x-python",
   "name": "python",
   "nbconvert_exporter": "python",
   "pygments_lexer": "ipython3",
   "version": "3.11.10"
  }
 },
 "nbformat": 4,
 "nbformat_minor": 5
}
