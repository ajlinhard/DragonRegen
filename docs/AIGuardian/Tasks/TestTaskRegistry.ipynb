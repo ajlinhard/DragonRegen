{
 "cells": [
  {
   "cell_type": "code",
   "execution_count": 1,
   "id": "2d9e14da",
   "metadata": {},
   "outputs": [
    {
     "name": "stdout",
     "output_type": "stream",
     "text": [
      "c:\\Users\\dalej\\Documents\\_Coding\\DragonRegen\n"
     ]
    }
   ],
   "source": [
    "import os\n",
    "import sys\n",
    "\n",
    "project_path = os.path.abspath(os.path.join(os.getcwd(), '..','..','..'))\n",
    "sys.path.append(project_path)\n",
    "print(project_path)"
   ]
  },
  {
   "cell_type": "code",
   "execution_count": 2,
   "id": "29a68746",
   "metadata": {},
   "outputs": [
    {
     "name": "stdout",
     "output_type": "stream",
     "text": [
      "{'TaskGenerator': <class 'src.AIGuardian.Tasks.TaskGenerator.TaskGenerator'>, 'DataColumnType': <class 'src.AIGuardian.Tasks.DataColumnType.DataColumnType'>, 'DataColumnRefiner': <class 'src.AIGuardian.Tasks.DataColumnRefiner.DataColumnRefiner'>, 'ColumnRefiner': <class 'src.AIGuardian.Tasks.ColumnRefiner.ColumnRefiner'>, 'DataStructCreate': <class 'src.AIGuardian.Tasks.DataStructCreate.DataStructCreate'>, 'SchemaRefiner': <class 'src.AIGuardian.Tasks.SchemaRefiner.SchemaRefiner'>, 'TaskSayHello': <class 'src.AIGuardian.Tasks.TaskSayHello.TaskSayHello'>}\n"
     ]
    }
   ],
   "source": [
    "from src.AIGuardian.Tasks.TaskRegistry import TaskRegistry\n",
    "print(TaskRegistry._registry)\n"
   ]
  },
  {
   "cell_type": "code",
   "execution_count": 2,
   "id": "8e4f58e9",
   "metadata": {},
   "outputs": [
    {
     "data": {
      "text/plain": [
       "{'ColBasic': 'A back stop column for your basic data types with no other identifying attributes.',\n",
       " 'StringBasic': 'This is a basic string column generator that can be used to generate a column of strings with a specified length and format. It is not intended for free text or complex string generation.',\n",
       " 'Categorical': 'a column that represents a category or type, often with a limited set of values.',\n",
       " 'StringFirstName': 'A column that stores the first name of a person.',\n",
       " 'StringLastName': 'A column that stores the Last name of a person.',\n",
       " 'CategoricalProfile': 'a column that represents a category or type, often with a limited set of values, but with a statistical profile of the values.'}"
      ]
     },
     "execution_count": 2,
     "metadata": {},
     "output_type": "execute_result"
    }
   ],
   "source": [
    "from src.DataCreator.ColGenerators.ColGenRegistry import ColGenRegistry\n",
    "\n",
    "ColGenRegistry.get_all_descriptions()\n"
   ]
  }
 ],
 "metadata": {
  "kernelspec": {
   "display_name": "Kafka_Spark",
   "language": "python",
   "name": "python3"
  },
  "language_info": {
   "codemirror_mode": {
    "name": "ipython",
    "version": 3
   },
   "file_extension": ".py",
   "mimetype": "text/x-python",
   "name": "python",
   "nbconvert_exporter": "python",
   "pygments_lexer": "ipython3",
   "version": "3.11.10"
  }
 },
 "nbformat": 4,
 "nbformat_minor": 5
}
