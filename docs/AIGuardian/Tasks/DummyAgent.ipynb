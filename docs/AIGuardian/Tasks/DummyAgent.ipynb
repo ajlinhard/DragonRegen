{
 "cells": [
  {
   "cell_type": "code",
   "execution_count": 1,
   "id": "8567738a",
   "metadata": {},
   "outputs": [
    {
     "name": "stdout",
     "output_type": "stream",
     "text": [
      "Project Path: c:\\Users\\dalej\\Documents\\_Coding\\DragonRegen\n"
     ]
    }
   ],
   "source": [
    "import os\n",
    "import sys\n",
    "\n",
    "project_path = os.path.abspath(os.path.join(os.getcwd(),'..','..','..'))\n",
    "sys.path.append(project_path)\n",
    "print(f\"Project Path: {project_path}\")"
   ]
  },
  {
   "cell_type": "markdown",
   "id": "76c50f10",
   "metadata": {},
   "source": [
    "## Testing Kafka Agent"
   ]
  },
  {
   "cell_type": "code",
   "execution_count": 3,
   "id": "939700d4",
   "metadata": {},
   "outputs": [
    {
     "name": "stdout",
     "output_type": "stream",
     "text": [
      "Agent Loop Count: 0 and last consumed time: 2025-05-23 14:19:12.221821\n",
      "Agent Loop Count: 1 and last consumed time: 2025-05-23 14:19:12.221821\n",
      "Agent Loop Count: 2 and last consumed time: 2025-05-23 14:19:12.221821\n",
      "Agent Loop Count: 3 and last consumed time: 2025-05-23 14:19:12.221821\n",
      "Agent Loop Count: 4 and last consumed time: 2025-05-23 14:19:12.221821\n",
      "Agent Loop Count: 5 and last consumed time: 2025-05-23 14:19:12.221821\n",
      "Agent Loop Count: 6 and last consumed time: 2025-05-23 14:19:26.699646\n",
      "Agent Loop Count: 7 and last consumed time: 2025-05-23 14:19:26.699646\n",
      "Agent Loop Count: 8 and last consumed time: 2025-05-23 14:19:26.699646\n",
      "Agent Loop Count: 9 and last consumed time: 2025-05-23 14:19:26.699646\n",
      "Agent Loop Count: 10 and last consumed time: 2025-05-23 14:19:26.699646\n",
      "Agent Loop Count: 11 and last consumed time: 2025-05-23 14:19:26.699646\n",
      "Agent Loop Count: 12 and last consumed time: 2025-05-23 14:19:26.699646\n",
      "Agent Loop Count: 13 and last consumed time: 2025-05-23 14:19:26.699646\n",
      "Agent Loop Count: 14 and last consumed time: 2025-05-23 14:19:26.699646\n",
      "Agent Loop Count: 15 and last consumed time: 2025-05-23 14:19:26.699646\n",
      "Agent Loop Count: 16 and last consumed time: 2025-05-23 14:19:26.699646\n",
      "Agent Loop Count: 17 and last consumed time: 2025-05-23 14:19:26.699646\n",
      "Agent Loop Count: 18 and last consumed time: 2025-05-23 14:19:26.699646\n",
      "Agent Loop Count: 19 and last consumed time: 2025-05-23 14:19:26.699646\n",
      "Agent Loop Count: 20 and last consumed time: 2025-05-23 14:19:26.699646\n",
      "Agent Loop Count: 21 and last consumed time: 2025-05-23 14:19:26.699646\n",
      "Agent Loop Count: 22 and last consumed time: 2025-05-23 14:19:26.699646\n",
      "Agent Loop Count: 23 and last consumed time: 2025-05-23 14:19:26.699646\n",
      "Agent Loop Count: 24 and last consumed time: 2025-05-23 14:19:26.699646\n",
      "Agent Loop Count: 25 and last consumed time: 2025-05-23 14:19:26.699646\n",
      "End of processing\n"
     ]
    }
   ],
   "source": [
    "from src.AIGuardian.Tasks.KafkaAgent import KafkaAgent\n",
    "\n",
    "agent = KafkaAgent(end_processing=20)\n",
    "agent.receive_messages()"
   ]
  },
  {
   "cell_type": "code",
   "execution_count": 4,
   "id": "ed54de67",
   "metadata": {},
   "outputs": [
    {
     "name": "stdout",
     "output_type": "stream",
     "text": [
      "[<src.AIGuardian.Tasks.SchemaRefiner.SchemaRefiner object at 0x000002662418D350>]\n",
      "2025-05-23 13:51:23.720102\n",
      "None\n"
     ]
    }
   ],
   "source": [
    "print(agent.waiting_tasks)\n",
    "print(agent.start_time)\n",
    "print(agent.end_time)"
   ]
  },
  {
   "cell_type": "code",
   "execution_count": 5,
   "id": "9b25905f",
   "metadata": {},
   "outputs": [
    {
     "name": "stdout",
     "output_type": "stream",
     "text": [
      "['c43cdfb2-1f61-4e17-bb55-81ba93c557c1', 'b7e93a49-8104-47ff-8b1e-5932971bb140', '1696770c-49d4-4cde-a3e0-21a41e2f48be', '50cb60ae-47ef-4d53-8a2d-78ee97aa3d58', 'f604a1ad-25be-470e-9398-4e99062fecab', '3b5cadbf-fc4a-4729-81f5-8d27b9517b6c', 'e47f3dff-485e-4685-b527-6c3ac0a74172', '50c29ae7-4bef-4436-9a57-d76630925f29', '946c898a-9115-4d62-b6f7-cb5e01ab214f']\n",
      "task-completed-6bb3e6af-4565-4201-a19c-d8ff1bfeae95\n",
      "True\n"
     ]
    }
   ],
   "source": [
    "from src.MetaFort.AILoggingTopics import AILoggingTopics\n",
    "print(agent.waiting_tasks[0].child_task)\n",
    "print(agent.db_engine.consumers[AILoggingTopics.AI_TASK_COMPLETED_TOPIC].config['group_id'])\n",
    "print(agent.waiting_tasks[0].is_waiting())\n"
   ]
  },
  {
   "cell_type": "code",
   "execution_count": 19,
   "id": "9a128d3a",
   "metadata": {},
   "outputs": [
    {
     "name": "stdout",
     "output_type": "stream",
     "text": [
      "1\n",
      "1\n"
     ]
    }
   ],
   "source": [
    "ls_waiting_tasks = []\n",
    "ls_waiting_tasks_child = {}\n",
    "for item in agent.waiting_tasks:\n",
    "    if item.is_waiting():\n",
    "        ls_waiting_tasks.append(item.task_id)\n",
    "        ls_waiting_tasks_child[item.task_id] = item.child_task\n",
    "print(len(ls_waiting_tasks))\n",
    "print(len(ls_waiting_tasks_child))\n"
   ]
  }
 ],
 "metadata": {
  "kernelspec": {
   "display_name": "Kafka_Spark",
   "language": "python",
   "name": "python3"
  },
  "language_info": {
   "codemirror_mode": {
    "name": "ipython",
    "version": 3
   },
   "file_extension": ".py",
   "mimetype": "text/x-python",
   "name": "python",
   "nbconvert_exporter": "python",
   "pygments_lexer": "ipython3",
   "version": "3.11.10"
  }
 },
 "nbformat": 4,
 "nbformat_minor": 5
}
