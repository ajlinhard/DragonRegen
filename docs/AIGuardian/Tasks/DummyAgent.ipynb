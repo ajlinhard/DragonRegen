{
 "cells": [
  {
   "cell_type": "code",
   "execution_count": 1,
   "id": "8567738a",
   "metadata": {},
   "outputs": [
    {
     "name": "stdout",
     "output_type": "stream",
     "text": [
      "Project Path: c:\\Users\\dalej\\Documents\\_Coding\\DragonRegen\n"
     ]
    }
   ],
   "source": [
    "import os\n",
    "import sys\n",
    "\n",
    "project_path = os.path.abspath(os.path.join(os.getcwd(),'..','..','..'))\n",
    "sys.path.append(project_path)\n",
    "print(f\"Project Path: {project_path}\")"
   ]
  },
  {
   "cell_type": "markdown",
   "id": "76c50f10",
   "metadata": {},
   "source": [
    "## Testing Kafka Agent"
   ]
  },
  {
   "cell_type": "code",
   "execution_count": 2,
   "id": "939700d4",
   "metadata": {},
   "outputs": [
    {
     "ename": "SyntaxError",
     "evalue": "'await' outside async function (KafkaAgent.py, line 48)",
     "output_type": "error",
     "traceback": [
      "Traceback \u001b[1;36m(most recent call last)\u001b[0m:\n",
      "\u001b[0m  File \u001b[0;32mf:\\Python\\envs\\Kafka_Spark\\Lib\\site-packages\\IPython\\core\\interactiveshell.py:3577\u001b[0m in \u001b[0;35mrun_code\u001b[0m\n    exec(code_obj, self.user_global_ns, self.user_ns)\u001b[0m\n",
      "\u001b[1;36m  Cell \u001b[1;32mIn[2], line 1\u001b[1;36m\n\u001b[1;33m    from src.AIGuardian.Tasks.KafkaAgent import KafkaAgent\u001b[1;36m\n",
      "\u001b[1;36m  File \u001b[1;32mc:\\Users\\dalej\\Documents\\_Coding\\DragonRegen\\src\\AIGuardian\\Tasks\\KafkaAgent.py:48\u001b[1;36m\u001b[0m\n\u001b[1;33m    await task_item.run(\"\")\u001b[0m\n\u001b[1;37m    ^\u001b[0m\n\u001b[1;31mSyntaxError\u001b[0m\u001b[1;31m:\u001b[0m 'await' outside async function\n"
     ]
    }
   ],
   "source": [
    "from src.AIGuardian.Tasks.KafkaAgent import KafkaAgent\n",
    "\n",
    "agent = KafkaAgent(end_processing=20)\n",
    "agent.receive_messages()"
   ]
  },
  {
   "cell_type": "markdown",
   "id": "d3453005",
   "metadata": {},
   "source": [
    "## Testing Kafka Agent Logic"
   ]
  },
  {
   "cell_type": "code",
   "execution_count": 2,
   "id": "d583338b",
   "metadata": {},
   "outputs": [],
   "source": [
    "from kafka import KafkaProducer, KafkaConsumer\n",
    "import json\n",
    "from src.AIGuardian.Tasks.Task import Task\n",
    "from src.MetaFort.AILoggingTopics import AILoggingTopics\n",
    "from src.MetaFort.SysLogs.KafkaEngine import KafkaEngine\n",
    "from src.AIGuardian.Tasks.TaskRegistry import TaskRegistry\n",
    "\n",
    "db_engine = KafkaEngine.default_builder(group_id=\"action-agent\")"
   ]
  },
  {
   "cell_type": "code",
   "execution_count": null,
   "id": "f4a84c65",
   "metadata": {},
   "outputs": [
    {
     "name": "stdout",
     "output_type": "stream",
     "text": [
      "Task Queue: {TopicPartition(topic='ai_tasks', partition=0): [ConsumerRecord(topic='ai_tasks', partition=0, offset=292, timestamp=1747406802997, timestamp_type=0, key=None, value=b'{\"task_id\": \"8986ec2f-3fae-4ce9-b36a-975ceeba292c\", \"task_name\": \"ColumnRefiner\", \"task_version\": \"0.0.1\", \"parent_task_id\": \"6ebdcfc4-15ec-405b-9448-5aef967b8f99\", \"group_task_id\": \"6ebdcfc4-15ec-405b-9448-5aef967b8f99\", \"description\": \"The base Task class. This should be inherited by all Task classes.\", \"sequence_number\": 1, \"created_dt\": \"2025-05-16T10:46:42.894940\", \"updated_dt\": \"2025-05-16T10:46:42.894940\", \"input_artifacts\": \"{\\\\\"table_name\\\\\": \\\\\"addresses\\\\\", \\\\\"purpose\\\\\": \\\\\"Stores shipping and billing addresses for users\\\\\", \\\\\"fields\\\\\": {\\\\\"address_id\\\\\": \\\\\"unique ID, primary key for address identification\\\\\", \\\\\"user_id\\\\\": \\\\\"foreign key referencing users table\\\\\", \\\\\"address_type\\\\\": \\\\\"type of address (shipping/billing)\\\\\", \\\\\"street_address\\\\\": \\\\\"street name and number\\\\\", \\\\\"city\\\\\": \\\\\"city name\\\\\", \\\\\"state\\\\\": \\\\\"state or province\\\\\", \\\\\"postal_code\\\\\": \\\\\"zip or postal code\\\\\", \\\\\"country\\\\\": \\\\\"country name\\\\\", \\\\\"is_default\\\\\": \\\\\"boolean indicating if this is the default address for the user\\\\\"}}\"}', headers=[], checksum=None, serialized_key_size=-1, serialized_value_size=996, serialized_header_size=-1), ConsumerRecord(topic='ai_tasks', partition=0, offset=293, timestamp=1747406803001, timestamp_type=0, key=None, value=b'{\"task_id\": \"8330f20c-215d-4c76-acaa-992ac369d867\", \"task_name\": \"ColumnRefiner\", \"task_version\": \"0.0.1\", \"parent_task_id\": \"6ebdcfc4-15ec-405b-9448-5aef967b8f99\", \"group_task_id\": \"6ebdcfc4-15ec-405b-9448-5aef967b8f99\", \"description\": \"The base Task class. This should be inherited by all Task classes.\", \"sequence_number\": 1, \"created_dt\": \"2025-05-16T10:46:43.001339\", \"updated_dt\": \"2025-05-16T10:46:43.001339\", \"input_artifacts\": \"{\\\\\"table_name\\\\\": \\\\\"products\\\\\", \\\\\"purpose\\\\\": \\\\\"Stores product information available for sale\\\\\", \\\\\"fields\\\\\": {\\\\\"product_id\\\\\": \\\\\"unique ID, primary key for product identification\\\\\", \\\\\"name\\\\\": \\\\\"product name\\\\\", \\\\\"description\\\\\": \\\\\"detailed product description\\\\\", \\\\\"price\\\\\": \\\\\"current product price\\\\\", \\\\\"category_id\\\\\": \\\\\"foreign key referencing categories table\\\\\", \\\\\"inventory_count\\\\\": \\\\\"current available inventory\\\\\", \\\\\"image_url\\\\\": \\\\\"URL to product image\\\\\", \\\\\"created_at\\\\\": \\\\\"timestamp when product was added\\\\\", \\\\\"updated_at\\\\\": \\\\\"timestamp when product was last updated\\\\\"}}\"}', headers=[], checksum=None, serialized_key_size=-1, serialized_value_size=1008, serialized_header_size=-1), ConsumerRecord(topic='ai_tasks', partition=0, offset=294, timestamp=1747406803004, timestamp_type=0, key=None, value=b'{\"task_id\": \"721dfa09-87bb-4bcf-bc3a-edb982601834\", \"task_name\": \"ColumnRefiner\", \"task_version\": \"0.0.1\", \"parent_task_id\": \"6ebdcfc4-15ec-405b-9448-5aef967b8f99\", \"group_task_id\": \"6ebdcfc4-15ec-405b-9448-5aef967b8f99\", \"description\": \"The base Task class. This should be inherited by all Task classes.\", \"sequence_number\": 1, \"created_dt\": \"2025-05-16T10:46:43.004340\", \"updated_dt\": \"2025-05-16T10:46:43.004340\", \"input_artifacts\": \"{\\\\\"table_name\\\\\": \\\\\"categories\\\\\", \\\\\"purpose\\\\\": \\\\\"Stores product categories for organization\\\\\", \\\\\"fields\\\\\": {\\\\\"category_id\\\\\": \\\\\"unique ID, primary key for category identification\\\\\", \\\\\"name\\\\\": \\\\\"category name\\\\\", \\\\\"description\\\\\": \\\\\"category description\\\\\", \\\\\"parent_category_id\\\\\": \\\\\"self-referencing foreign key for hierarchical categories\\\\\"}}\"}', headers=[], checksum=None, serialized_key_size=-1, serialized_value_size=777, serialized_header_size=-1)]}\n"
     ]
    }
   ],
   "source": [
    "task_queue = db_engine.consumers[AILoggingTopics.AI_TASK_TOPIC].poll(timeout_ms=1000, max_records=20)\n",
    "print(f\"Task Queue: {task_queue}\")"
   ]
  },
  {
   "cell_type": "code",
   "execution_count": 12,
   "id": "c2af2727",
   "metadata": {},
   "outputs": [
    {
     "name": "stdout",
     "output_type": "stream",
     "text": [
      "Task Type: <class 'src.AIGuardian.Tasks.ColumnRefiner.ColumnRefiner'>\n",
      "Task Type: <class 'src.AIGuardian.Tasks.ColumnRefiner.ColumnRefiner'>\n",
      "Task Type: <class 'src.AIGuardian.Tasks.ColumnRefiner.ColumnRefiner'>\n"
     ]
    }
   ],
   "source": [
    "\n",
    "task_list = []\n",
    "# Process the task queue\n",
    "for topic_partition, messages in task_queue.items():\n",
    "    for message in messages:\n",
    "        if not isinstance(message.value, dict):\n",
    "            task_json = json.loads(message.value.decode('utf-8'))\n",
    "        else:\n",
    "            task_json = message.value\n",
    "        # For example, you can create an task object and execute it\n",
    "        # task = TaskRegistry.get_task(task_json['task_name'])(json.loads(task_json.get('input_artifacts', {})))\n",
    "        # task.db_engine = db_engine\n",
    "        task = TaskRegistry.build_from_json(task_json, db_engine)\n",
    "        print(f\"Task Type: {type(task)}\")\n",
    "        # print(f\"Task: {task.name} ==> {task.task_id} FROM ID {task_json['task_id']}\")\n",
    "        task_list.append(task)"
   ]
  },
  {
   "cell_type": "code",
   "execution_count": null,
   "id": "f69d32c2",
   "metadata": {},
   "outputs": [
    {
     "name": "stdout",
     "output_type": "stream",
     "text": [
      "Task: ColumnRefiner ==> 8986ec2f-3fae-4ce9-b36a-975ceeba292c\n",
      "==> Waiting on ['170df2cd-ab9d-40bc-ad2c-a1f3c39c271d', 'c627aca4-cbf0-4325-8ae0-0cd8747f6dc8', 'd5fba6aa-91fd-4252-ae0f-65823211cdce', '0cf06d4f-54e6-45e1-be3f-1c4943000b5c', '62da4ecf-72a3-42f1-a164-dec5d5718f89', '48e958a7-ab79-44b6-84ad-9ebc03ce58ee', 'a44b5b87-591b-43df-bbe4-a5206e48c356', '18f405f1-f690-4001-81f3-8a44e1d0389a', '0d0cbf10-32d7-453f-805b-6d6f5fdcae37', 'a76f5b86-2ae7-4fb3-926d-d0a68934aa55', 'bbacb017-b072-43ca-8e8c-703203960087', '0ed85fd9-ed00-4a23-8548-af648f26380e', '7e170738-068c-4e77-832c-8c9bedc0ecc7', '6761bbf5-e8cb-4cdc-a6cb-36082b7f979b', 'dbe1f5ba-15f1-43c7-9a63-1b0b4d593859', 'b3547221-9c40-4663-9cb0-c10fb7d34ece', '4e51f2a7-90d6-4276-8bda-c9fa242b073f', 'bb865b38-7e89-44aa-9e9b-6bd493711e02'] to complete.\n",
      "Task: ColumnRefiner ==> 8330f20c-215d-4c76-acaa-992ac369d867\n",
      "==> Waiting on ['c8251000-6ad4-4a0f-b473-698821831d11', '3132df70-9153-4cf9-8645-3f6354618787', 'fcccb43b-800d-47b4-9d00-c97520226095', '34a438d2-b84d-4f68-8a70-41a509a573c0', '1741504c-4641-4d7b-b21e-59891bf308e2', '50fe5dfc-0090-4f4d-a3db-6a29ab4d52f0', '1d92a240-331e-4d6a-a84b-77cb1df34a6c', 'd84cac4b-1314-4c99-91c9-b70fb50a9afe', 'a2fc51e6-7307-4dff-809f-8394e1f86546', '5f901e96-3087-4472-889b-5e7cd772ca23', 'c85c2d31-af2d-4d6a-aa7e-2acba41c27f1', '196b41b1-b4f5-4520-830e-5e743cc42636', 'bfd7ebff-1ca4-474e-a256-bc4e68f080a1', '82cb8b57-9302-4a5f-b170-782cef70d06e', 'b1039d9d-daa0-4fb6-81bc-49524d59a03a', 'd37babc3-f39b-40df-9139-2e32cc0830e0', '9a234b9a-9da9-4feb-aadb-ae7e6d18b4bb', '5c1b2810-c6ce-4404-b834-7de9dfde18bc'] to complete.\n"
     ]
    }
   ],
   "source": [
    "for task_item in task_list:\n",
    "    print(f\"Task: {task_item.name} ==> {task_item.task_id}\")\n",
    "    await task_item.run(\"\")"
   ]
  },
  {
   "cell_type": "markdown",
   "id": "298d75a6",
   "metadata": {},
   "source": [
    "## Debugging Incoming Task Data"
   ]
  },
  {
   "cell_type": "code",
   "execution_count": null,
   "id": "7f126b4f",
   "metadata": {},
   "outputs": [
    {
     "name": "stdout",
     "output_type": "stream",
     "text": [
      "Task Queue: {TopicPartition(topic='ai_tasks', partition=0): [ConsumerRecord(topic='ai_tasks', partition=0, offset=19, timestamp=1747256228923, timestamp_type=0, key=None, value=b'{\"task_id\": 244300713417047809266804980882374058686, \"task_name\": \"DataColumnType\", \"task_version\": \"0.0.1\", \"parent_task_id\": 121980763341932052303933096469766640845, \"group_task_id\": 121980763341932052303933096469766640845, \"description\": \"The base Task class. This should be inherited by all Task classes.\", \"sequence_number\": 1, \"created_dt\": \"2025-05-14T16:57:08.831448\", \"updated_dt\": \"2025-05-14T16:57:08.831448\", \"input_artifacts\": \"{\\\\\"table_name\\\\\": \\\\\"users\\\\\", \\\\\"purpose\\\\\": \\\\\"Stores information about registered users/customers\\\\\", \\\\\"column_name\\\\\": \\\\\"user_id\\\\\", \\\\\"description\\\\\": \\\\\"unique ID, primary key for user identification\\\\\", \\\\\"fields\\\\\": {\\\\\"user_id\\\\\": \\\\\"unique ID, primary key for user identification\\\\\", \\\\\"username\\\\\": \\\\\"unique username for login\\\\\", \\\\\"email\\\\\": \\\\\"unique email address for user contact\\\\\", \\\\\"password_hash\\\\\": \\\\\"securely stored password hash\\\\\", \\\\\"first_name\\\\\": \\\\\"user\\'s first name\\\\\", \\\\\"last_name\\\\\": \\\\\"user\\'s last name\\\\\", \\\\\"phone_number\\\\\": \\\\\"contact phone number\\\\\", \\\\\"created_at\\\\\": \\\\\"timestamp when user account was created\\\\\", \\\\\"updated_at\\\\\": \\\\\"timestamp when user account was last updated\\\\\"}}\"}', headers=[], checksum=None, serialized_key_size=-1, serialized_value_size=1118, serialized_header_size=-1), ConsumerRecord(topic='ai_tasks', partition=0, offset=20, timestamp=1747256228930, timestamp_type=0, key=None, value=b'{\"task_id\": 61645754785673690410300895235740754436, \"task_name\": \"DataColumnRefiner\", \"task_version\": \"0.0.1\", \"parent_task_id\": 244300713417047809266804980882374058686, \"group_task_id\": 244300713417047809266804980882374058686, \"description\": \"The base Task class. This should be inherited by all Task classes.\", \"sequence_number\": 2, \"created_dt\": \"2025-05-14T16:57:08.930726\", \"updated_dt\": \"2025-05-14T16:57:08.930726\", \"input_artifacts\": \"{\\\\\"table_name\\\\\": \\\\\"users\\\\\", \\\\\"purpose\\\\\": \\\\\"Stores information about registered users/customers\\\\\", \\\\\"column_name\\\\\": \\\\\"user_id\\\\\", \\\\\"description\\\\\": \\\\\"unique ID, primary key for user identification\\\\\", \\\\\"fields\\\\\": {\\\\\"user_id\\\\\": \\\\\"unique ID, primary key for user identification\\\\\", \\\\\"username\\\\\": \\\\\"unique username for login\\\\\", \\\\\"email\\\\\": \\\\\"unique email address for user contact\\\\\", \\\\\"password_hash\\\\\": \\\\\"securely stored password hash\\\\\", \\\\\"first_name\\\\\": \\\\\"user\\'s first name\\\\\", \\\\\"last_name\\\\\": \\\\\"user\\'s last name\\\\\", \\\\\"phone_number\\\\\": \\\\\"contact phone number\\\\\", \\\\\"created_at\\\\\": \\\\\"timestamp when user account was created\\\\\", \\\\\"updated_at\\\\\": \\\\\"timestamp when user account was last updated\\\\\"}}\"}', headers=[], checksum=None, serialized_key_size=-1, serialized_value_size=1120, serialized_header_size=-1), ConsumerRecord(topic='ai_tasks', partition=0, offset=21, timestamp=1747256228939, timestamp_type=0, key=None, value=b'{\"task_id\": 339250955426017763640514346468005387428, \"task_name\": \"DataColumnType\", \"task_version\": \"0.0.1\", \"parent_task_id\": 121980763341932052303933096469766640845, \"group_task_id\": 121980763341932052303933096469766640845, \"description\": \"The base Task class. This should be inherited by all Task classes.\", \"sequence_number\": 1, \"created_dt\": \"2025-05-14T16:57:08.939727\", \"updated_dt\": \"2025-05-14T16:57:08.939727\", \"input_artifacts\": \"{\\\\\"table_name\\\\\": \\\\\"users\\\\\", \\\\\"purpose\\\\\": \\\\\"Stores information about registered users/customers\\\\\", \\\\\"column_name\\\\\": \\\\\"username\\\\\", \\\\\"description\\\\\": \\\\\"unique username for login\\\\\", \\\\\"fields\\\\\": {\\\\\"user_id\\\\\": \\\\\"unique ID, primary key for user identification\\\\\", \\\\\"username\\\\\": \\\\\"unique username for login\\\\\", \\\\\"email\\\\\": \\\\\"unique email address for user contact\\\\\", \\\\\"password_hash\\\\\": \\\\\"securely stored password hash\\\\\", \\\\\"first_name\\\\\": \\\\\"user\\'s first name\\\\\", \\\\\"last_name\\\\\": \\\\\"user\\'s last name\\\\\", \\\\\"phone_number\\\\\": \\\\\"contact phone number\\\\\", \\\\\"created_at\\\\\": \\\\\"timestamp when user account was created\\\\\", \\\\\"updated_at\\\\\": \\\\\"timestamp when user account was last updated\\\\\"}}\"}', headers=[], checksum=None, serialized_key_size=-1, serialized_value_size=1098, serialized_header_size=-1), ConsumerRecord(topic='ai_tasks', partition=0, offset=22, timestamp=1747256228944, timestamp_type=0, key=None, value=b'{\"task_id\": 263920096228755875604309927780051736814, \"task_name\": \"DataColumnRefiner\", \"task_version\": \"0.0.1\", \"parent_task_id\": 339250955426017763640514346468005387428, \"group_task_id\": 339250955426017763640514346468005387428, \"description\": \"The base Task class. This should be inherited by all Task classes.\", \"sequence_number\": 2, \"created_dt\": \"2025-05-14T16:57:08.944280\", \"updated_dt\": \"2025-05-14T16:57:08.944280\", \"input_artifacts\": \"{\\\\\"table_name\\\\\": \\\\\"users\\\\\", \\\\\"purpose\\\\\": \\\\\"Stores information about registered users/customers\\\\\", \\\\\"column_name\\\\\": \\\\\"username\\\\\", \\\\\"description\\\\\": \\\\\"unique username for login\\\\\", \\\\\"fields\\\\\": {\\\\\"user_id\\\\\": \\\\\"unique ID, primary key for user identification\\\\\", \\\\\"username\\\\\": \\\\\"unique username for login\\\\\", \\\\\"email\\\\\": \\\\\"unique email address for user contact\\\\\", \\\\\"password_hash\\\\\": \\\\\"securely stored password hash\\\\\", \\\\\"first_name\\\\\": \\\\\"user\\'s first name\\\\\", \\\\\"last_name\\\\\": \\\\\"user\\'s last name\\\\\", \\\\\"phone_number\\\\\": \\\\\"contact phone number\\\\\", \\\\\"created_at\\\\\": \\\\\"timestamp when user account was created\\\\\", \\\\\"updated_at\\\\\": \\\\\"timestamp when user account was last updated\\\\\"}}\"}', headers=[], checksum=None, serialized_key_size=-1, serialized_value_size=1101, serialized_header_size=-1), ConsumerRecord(topic='ai_tasks', partition=0, offset=23, timestamp=1747256228951, timestamp_type=0, key=None, value=b'{\"task_id\": 66147014398364732074808392612839443213, \"task_name\": \"DataColumnType\", \"task_version\": \"0.0.1\", \"parent_task_id\": 121980763341932052303933096469766640845, \"group_task_id\": 121980763341932052303933096469766640845, \"description\": \"The base Task class. This should be inherited by all Task classes.\", \"sequence_number\": 1, \"created_dt\": \"2025-05-14T16:57:08.951281\", \"updated_dt\": \"2025-05-14T16:57:08.951281\", \"input_artifacts\": \"{\\\\\"table_name\\\\\": \\\\\"users\\\\\", \\\\\"purpose\\\\\": \\\\\"Stores information about registered users/customers\\\\\", \\\\\"column_name\\\\\": \\\\\"email\\\\\", \\\\\"description\\\\\": \\\\\"unique email address for user contact\\\\\", \\\\\"fields\\\\\": {\\\\\"user_id\\\\\": \\\\\"unique ID, primary key for user identification\\\\\", \\\\\"username\\\\\": \\\\\"unique username for login\\\\\", \\\\\"email\\\\\": \\\\\"unique email address for user contact\\\\\", \\\\\"password_hash\\\\\": \\\\\"securely stored password hash\\\\\", \\\\\"first_name\\\\\": \\\\\"user\\'s first name\\\\\", \\\\\"last_name\\\\\": \\\\\"user\\'s last name\\\\\", \\\\\"phone_number\\\\\": \\\\\"contact phone number\\\\\", \\\\\"created_at\\\\\": \\\\\"timestamp when user account was created\\\\\", \\\\\"updated_at\\\\\": \\\\\"timestamp when user account was last updated\\\\\"}}\"}', headers=[], checksum=None, serialized_key_size=-1, serialized_value_size=1106, serialized_header_size=-1), ConsumerRecord(topic='ai_tasks', partition=0, offset=24, timestamp=1747256228955, timestamp_type=0, key=None, value=b'{\"task_id\": 241818375698123868772512022949723259643, \"task_name\": \"DataColumnRefiner\", \"task_version\": \"0.0.1\", \"parent_task_id\": 66147014398364732074808392612839443213, \"group_task_id\": 66147014398364732074808392612839443213, \"description\": \"The base Task class. This should be inherited by all Task classes.\", \"sequence_number\": 2, \"created_dt\": \"2025-05-14T16:57:08.955281\", \"updated_dt\": \"2025-05-14T16:57:08.955281\", \"input_artifacts\": \"{\\\\\"table_name\\\\\": \\\\\"users\\\\\", \\\\\"purpose\\\\\": \\\\\"Stores information about registered users/customers\\\\\", \\\\\"column_name\\\\\": \\\\\"email\\\\\", \\\\\"description\\\\\": \\\\\"unique email address for user contact\\\\\", \\\\\"fields\\\\\": {\\\\\"user_id\\\\\": \\\\\"unique ID, primary key for user identification\\\\\", \\\\\"username\\\\\": \\\\\"unique username for login\\\\\", \\\\\"email\\\\\": \\\\\"unique email address for user contact\\\\\", \\\\\"password_hash\\\\\": \\\\\"securely stored password hash\\\\\", \\\\\"first_name\\\\\": \\\\\"user\\'s first name\\\\\", \\\\\"last_name\\\\\": \\\\\"user\\'s last name\\\\\", \\\\\"phone_number\\\\\": \\\\\"contact phone number\\\\\", \\\\\"created_at\\\\\": \\\\\"timestamp when user account was created\\\\\", \\\\\"updated_at\\\\\": \\\\\"timestamp when user account was last updated\\\\\"}}\"}', headers=[], checksum=None, serialized_key_size=-1, serialized_value_size=1108, serialized_header_size=-1), ConsumerRecord(topic='ai_tasks', partition=0, offset=25, timestamp=1747256228959, timestamp_type=0, key=None, value=b'{\"task_id\": 83220814992765928597499194172156843001, \"task_name\": \"DataColumnType\", \"task_version\": \"0.0.1\", \"parent_task_id\": 121980763341932052303933096469766640845, \"group_task_id\": 121980763341932052303933096469766640845, \"description\": \"The base Task class. This should be inherited by all Task classes.\", \"sequence_number\": 1, \"created_dt\": \"2025-05-14T16:57:08.958282\", \"updated_dt\": \"2025-05-14T16:57:08.958282\", \"input_artifacts\": \"{\\\\\"table_name\\\\\": \\\\\"users\\\\\", \\\\\"purpose\\\\\": \\\\\"Stores information about registered users/customers\\\\\", \\\\\"column_name\\\\\": \\\\\"password_hash\\\\\", \\\\\"description\\\\\": \\\\\"securely stored password hash\\\\\", \\\\\"fields\\\\\": {\\\\\"user_id\\\\\": \\\\\"unique ID, primary key for user identification\\\\\", \\\\\"username\\\\\": \\\\\"unique username for login\\\\\", \\\\\"email\\\\\": \\\\\"unique email address for user contact\\\\\", \\\\\"password_hash\\\\\": \\\\\"securely stored password hash\\\\\", \\\\\"first_name\\\\\": \\\\\"user\\'s first name\\\\\", \\\\\"last_name\\\\\": \\\\\"user\\'s last name\\\\\", \\\\\"phone_number\\\\\": \\\\\"contact phone number\\\\\", \\\\\"created_at\\\\\": \\\\\"timestamp when user account was created\\\\\", \\\\\"updated_at\\\\\": \\\\\"timestamp when user account was last updated\\\\\"}}\"}', headers=[], checksum=None, serialized_key_size=-1, serialized_value_size=1106, serialized_header_size=-1), ConsumerRecord(topic='ai_tasks', partition=0, offset=26, timestamp=1747256228965, timestamp_type=0, key=None, value=b'{\"task_id\": 280791462060468178486902761144081497952, \"task_name\": \"DataColumnRefiner\", \"task_version\": \"0.0.1\", \"parent_task_id\": 83220814992765928597499194172156843001, \"group_task_id\": 83220814992765928597499194172156843001, \"description\": \"The base Task class. This should be inherited by all Task classes.\", \"sequence_number\": 2, \"created_dt\": \"2025-05-14T16:57:08.965334\", \"updated_dt\": \"2025-05-14T16:57:08.965334\", \"input_artifacts\": \"{\\\\\"table_name\\\\\": \\\\\"users\\\\\", \\\\\"purpose\\\\\": \\\\\"Stores information about registered users/customers\\\\\", \\\\\"column_name\\\\\": \\\\\"password_hash\\\\\", \\\\\"description\\\\\": \\\\\"securely stored password hash\\\\\", \\\\\"fields\\\\\": {\\\\\"user_id\\\\\": \\\\\"unique ID, primary key for user identification\\\\\", \\\\\"username\\\\\": \\\\\"unique username for login\\\\\", \\\\\"email\\\\\": \\\\\"unique email address for user contact\\\\\", \\\\\"password_hash\\\\\": \\\\\"securely stored password hash\\\\\", \\\\\"first_name\\\\\": \\\\\"user\\'s first name\\\\\", \\\\\"last_name\\\\\": \\\\\"user\\'s last name\\\\\", \\\\\"phone_number\\\\\": \\\\\"contact phone number\\\\\", \\\\\"created_at\\\\\": \\\\\"timestamp when user account was created\\\\\", \\\\\"updated_at\\\\\": \\\\\"timestamp when user account was last updated\\\\\"}}\"}', headers=[], checksum=None, serialized_key_size=-1, serialized_value_size=1108, serialized_header_size=-1), ConsumerRecord(topic='ai_tasks', partition=0, offset=27, timestamp=1747256228969, timestamp_type=0, key=None, value=b'{\"task_id\": 46663149210338697684790758277703095107, \"task_name\": \"DataColumnType\", \"task_version\": \"0.0.1\", \"parent_task_id\": 121980763341932052303933096469766640845, \"group_task_id\": 121980763341932052303933096469766640845, \"description\": \"The base Task class. This should be inherited by all Task classes.\", \"sequence_number\": 1, \"created_dt\": \"2025-05-14T16:57:08.969334\", \"updated_dt\": \"2025-05-14T16:57:08.969334\", \"input_artifacts\": \"{\\\\\"table_name\\\\\": \\\\\"users\\\\\", \\\\\"purpose\\\\\": \\\\\"Stores information about registered users/customers\\\\\", \\\\\"column_name\\\\\": \\\\\"first_name\\\\\", \\\\\"description\\\\\": \\\\\"user\\'s first name\\\\\", \\\\\"fields\\\\\": {\\\\\"user_id\\\\\": \\\\\"unique ID, primary key for user identification\\\\\", \\\\\"username\\\\\": \\\\\"unique username for login\\\\\", \\\\\"email\\\\\": \\\\\"unique email address for user contact\\\\\", \\\\\"password_hash\\\\\": \\\\\"securely stored password hash\\\\\", \\\\\"first_name\\\\\": \\\\\"user\\'s first name\\\\\", \\\\\"last_name\\\\\": \\\\\"user\\'s last name\\\\\", \\\\\"phone_number\\\\\": \\\\\"contact phone number\\\\\", \\\\\"created_at\\\\\": \\\\\"timestamp when user account was created\\\\\", \\\\\"updated_at\\\\\": \\\\\"timestamp when user account was last updated\\\\\"}}\"}', headers=[], checksum=None, serialized_key_size=-1, serialized_value_size=1091, serialized_header_size=-1), ConsumerRecord(topic='ai_tasks', partition=0, offset=28, timestamp=1747256228972, timestamp_type=0, key=None, value=b'{\"task_id\": 33845170628661908329328534067410637965, \"task_name\": \"DataColumnRefiner\", \"task_version\": \"0.0.1\", \"parent_task_id\": 46663149210338697684790758277703095107, \"group_task_id\": 46663149210338697684790758277703095107, \"description\": \"The base Task class. This should be inherited by all Task classes.\", \"sequence_number\": 2, \"created_dt\": \"2025-05-14T16:57:08.972334\", \"updated_dt\": \"2025-05-14T16:57:08.972334\", \"input_artifacts\": \"{\\\\\"table_name\\\\\": \\\\\"users\\\\\", \\\\\"purpose\\\\\": \\\\\"Stores information about registered users/customers\\\\\", \\\\\"column_name\\\\\": \\\\\"first_name\\\\\", \\\\\"description\\\\\": \\\\\"user\\'s first name\\\\\", \\\\\"fields\\\\\": {\\\\\"user_id\\\\\": \\\\\"unique ID, primary key for user identification\\\\\", \\\\\"username\\\\\": \\\\\"unique username for login\\\\\", \\\\\"email\\\\\": \\\\\"unique email address for user contact\\\\\", \\\\\"password_hash\\\\\": \\\\\"securely stored password hash\\\\\", \\\\\"first_name\\\\\": \\\\\"user\\'s first name\\\\\", \\\\\"last_name\\\\\": \\\\\"user\\'s last name\\\\\", \\\\\"phone_number\\\\\": \\\\\"contact phone number\\\\\", \\\\\"created_at\\\\\": \\\\\"timestamp when user account was created\\\\\", \\\\\"updated_at\\\\\": \\\\\"timestamp when user account was last updated\\\\\"}}\"}', headers=[], checksum=None, serialized_key_size=-1, serialized_value_size=1092, serialized_header_size=-1)]}\n",
      "True\n",
      "Task JSON: <class 'dict'>\n",
      "Task JSON: {'task_id': 244300713417047809266804980882374058686, 'task_name': 'DataColumnType', 'task_version': '0.0.1', 'parent_task_id': 121980763341932052303933096469766640845, 'group_task_id': 121980763341932052303933096469766640845, 'description': 'The base Task class. This should be inherited by all Task classes.', 'sequence_number': 1, 'created_dt': '2025-05-14T16:57:08.831448', 'updated_dt': '2025-05-14T16:57:08.831448', 'input_artifacts': '{\"table_name\": \"users\", \"purpose\": \"Stores information about registered users/customers\", \"column_name\": \"user_id\", \"description\": \"unique ID, primary key for user identification\", \"fields\": {\"user_id\": \"unique ID, primary key for user identification\", \"username\": \"unique username for login\", \"email\": \"unique email address for user contact\", \"password_hash\": \"securely stored password hash\", \"first_name\": \"user\\'s first name\", \"last_name\": \"user\\'s last name\", \"phone_number\": \"contact phone number\", \"created_at\": \"timestamp when user account was created\", \"updated_at\": \"timestamp when user account was last updated\"}}'}\n",
      "Task JSON: DataColumnType\n",
      "True\n",
      "Task JSON: <class 'dict'>\n",
      "Task JSON: {'task_id': 61645754785673690410300895235740754436, 'task_name': 'DataColumnRefiner', 'task_version': '0.0.1', 'parent_task_id': 244300713417047809266804980882374058686, 'group_task_id': 244300713417047809266804980882374058686, 'description': 'The base Task class. This should be inherited by all Task classes.', 'sequence_number': 2, 'created_dt': '2025-05-14T16:57:08.930726', 'updated_dt': '2025-05-14T16:57:08.930726', 'input_artifacts': '{\"table_name\": \"users\", \"purpose\": \"Stores information about registered users/customers\", \"column_name\": \"user_id\", \"description\": \"unique ID, primary key for user identification\", \"fields\": {\"user_id\": \"unique ID, primary key for user identification\", \"username\": \"unique username for login\", \"email\": \"unique email address for user contact\", \"password_hash\": \"securely stored password hash\", \"first_name\": \"user\\'s first name\", \"last_name\": \"user\\'s last name\", \"phone_number\": \"contact phone number\", \"created_at\": \"timestamp when user account was created\", \"updated_at\": \"timestamp when user account was last updated\"}}'}\n",
      "Task JSON: DataColumnRefiner\n",
      "True\n",
      "Task JSON: <class 'dict'>\n",
      "Task JSON: {'task_id': 339250955426017763640514346468005387428, 'task_name': 'DataColumnType', 'task_version': '0.0.1', 'parent_task_id': 121980763341932052303933096469766640845, 'group_task_id': 121980763341932052303933096469766640845, 'description': 'The base Task class. This should be inherited by all Task classes.', 'sequence_number': 1, 'created_dt': '2025-05-14T16:57:08.939727', 'updated_dt': '2025-05-14T16:57:08.939727', 'input_artifacts': '{\"table_name\": \"users\", \"purpose\": \"Stores information about registered users/customers\", \"column_name\": \"username\", \"description\": \"unique username for login\", \"fields\": {\"user_id\": \"unique ID, primary key for user identification\", \"username\": \"unique username for login\", \"email\": \"unique email address for user contact\", \"password_hash\": \"securely stored password hash\", \"first_name\": \"user\\'s first name\", \"last_name\": \"user\\'s last name\", \"phone_number\": \"contact phone number\", \"created_at\": \"timestamp when user account was created\", \"updated_at\": \"timestamp when user account was last updated\"}}'}\n",
      "Task JSON: DataColumnType\n",
      "True\n",
      "Task JSON: <class 'dict'>\n",
      "Task JSON: {'task_id': 263920096228755875604309927780051736814, 'task_name': 'DataColumnRefiner', 'task_version': '0.0.1', 'parent_task_id': 339250955426017763640514346468005387428, 'group_task_id': 339250955426017763640514346468005387428, 'description': 'The base Task class. This should be inherited by all Task classes.', 'sequence_number': 2, 'created_dt': '2025-05-14T16:57:08.944280', 'updated_dt': '2025-05-14T16:57:08.944280', 'input_artifacts': '{\"table_name\": \"users\", \"purpose\": \"Stores information about registered users/customers\", \"column_name\": \"username\", \"description\": \"unique username for login\", \"fields\": {\"user_id\": \"unique ID, primary key for user identification\", \"username\": \"unique username for login\", \"email\": \"unique email address for user contact\", \"password_hash\": \"securely stored password hash\", \"first_name\": \"user\\'s first name\", \"last_name\": \"user\\'s last name\", \"phone_number\": \"contact phone number\", \"created_at\": \"timestamp when user account was created\", \"updated_at\": \"timestamp when user account was last updated\"}}'}\n",
      "Task JSON: DataColumnRefiner\n",
      "True\n",
      "Task JSON: <class 'dict'>\n",
      "Task JSON: {'task_id': 66147014398364732074808392612839443213, 'task_name': 'DataColumnType', 'task_version': '0.0.1', 'parent_task_id': 121980763341932052303933096469766640845, 'group_task_id': 121980763341932052303933096469766640845, 'description': 'The base Task class. This should be inherited by all Task classes.', 'sequence_number': 1, 'created_dt': '2025-05-14T16:57:08.951281', 'updated_dt': '2025-05-14T16:57:08.951281', 'input_artifacts': '{\"table_name\": \"users\", \"purpose\": \"Stores information about registered users/customers\", \"column_name\": \"email\", \"description\": \"unique email address for user contact\", \"fields\": {\"user_id\": \"unique ID, primary key for user identification\", \"username\": \"unique username for login\", \"email\": \"unique email address for user contact\", \"password_hash\": \"securely stored password hash\", \"first_name\": \"user\\'s first name\", \"last_name\": \"user\\'s last name\", \"phone_number\": \"contact phone number\", \"created_at\": \"timestamp when user account was created\", \"updated_at\": \"timestamp when user account was last updated\"}}'}\n",
      "Task JSON: DataColumnType\n",
      "True\n",
      "Task JSON: <class 'dict'>\n",
      "Task JSON: {'task_id': 241818375698123868772512022949723259643, 'task_name': 'DataColumnRefiner', 'task_version': '0.0.1', 'parent_task_id': 66147014398364732074808392612839443213, 'group_task_id': 66147014398364732074808392612839443213, 'description': 'The base Task class. This should be inherited by all Task classes.', 'sequence_number': 2, 'created_dt': '2025-05-14T16:57:08.955281', 'updated_dt': '2025-05-14T16:57:08.955281', 'input_artifacts': '{\"table_name\": \"users\", \"purpose\": \"Stores information about registered users/customers\", \"column_name\": \"email\", \"description\": \"unique email address for user contact\", \"fields\": {\"user_id\": \"unique ID, primary key for user identification\", \"username\": \"unique username for login\", \"email\": \"unique email address for user contact\", \"password_hash\": \"securely stored password hash\", \"first_name\": \"user\\'s first name\", \"last_name\": \"user\\'s last name\", \"phone_number\": \"contact phone number\", \"created_at\": \"timestamp when user account was created\", \"updated_at\": \"timestamp when user account was last updated\"}}'}\n",
      "Task JSON: DataColumnRefiner\n",
      "True\n",
      "Task JSON: <class 'dict'>\n",
      "Task JSON: {'task_id': 83220814992765928597499194172156843001, 'task_name': 'DataColumnType', 'task_version': '0.0.1', 'parent_task_id': 121980763341932052303933096469766640845, 'group_task_id': 121980763341932052303933096469766640845, 'description': 'The base Task class. This should be inherited by all Task classes.', 'sequence_number': 1, 'created_dt': '2025-05-14T16:57:08.958282', 'updated_dt': '2025-05-14T16:57:08.958282', 'input_artifacts': '{\"table_name\": \"users\", \"purpose\": \"Stores information about registered users/customers\", \"column_name\": \"password_hash\", \"description\": \"securely stored password hash\", \"fields\": {\"user_id\": \"unique ID, primary key for user identification\", \"username\": \"unique username for login\", \"email\": \"unique email address for user contact\", \"password_hash\": \"securely stored password hash\", \"first_name\": \"user\\'s first name\", \"last_name\": \"user\\'s last name\", \"phone_number\": \"contact phone number\", \"created_at\": \"timestamp when user account was created\", \"updated_at\": \"timestamp when user account was last updated\"}}'}\n",
      "Task JSON: DataColumnType\n",
      "True\n",
      "Task JSON: <class 'dict'>\n",
      "Task JSON: {'task_id': 280791462060468178486902761144081497952, 'task_name': 'DataColumnRefiner', 'task_version': '0.0.1', 'parent_task_id': 83220814992765928597499194172156843001, 'group_task_id': 83220814992765928597499194172156843001, 'description': 'The base Task class. This should be inherited by all Task classes.', 'sequence_number': 2, 'created_dt': '2025-05-14T16:57:08.965334', 'updated_dt': '2025-05-14T16:57:08.965334', 'input_artifacts': '{\"table_name\": \"users\", \"purpose\": \"Stores information about registered users/customers\", \"column_name\": \"password_hash\", \"description\": \"securely stored password hash\", \"fields\": {\"user_id\": \"unique ID, primary key for user identification\", \"username\": \"unique username for login\", \"email\": \"unique email address for user contact\", \"password_hash\": \"securely stored password hash\", \"first_name\": \"user\\'s first name\", \"last_name\": \"user\\'s last name\", \"phone_number\": \"contact phone number\", \"created_at\": \"timestamp when user account was created\", \"updated_at\": \"timestamp when user account was last updated\"}}'}\n",
      "Task JSON: DataColumnRefiner\n",
      "True\n",
      "Task JSON: <class 'dict'>\n",
      "Task JSON: {'task_id': 46663149210338697684790758277703095107, 'task_name': 'DataColumnType', 'task_version': '0.0.1', 'parent_task_id': 121980763341932052303933096469766640845, 'group_task_id': 121980763341932052303933096469766640845, 'description': 'The base Task class. This should be inherited by all Task classes.', 'sequence_number': 1, 'created_dt': '2025-05-14T16:57:08.969334', 'updated_dt': '2025-05-14T16:57:08.969334', 'input_artifacts': '{\"table_name\": \"users\", \"purpose\": \"Stores information about registered users/customers\", \"column_name\": \"first_name\", \"description\": \"user\\'s first name\", \"fields\": {\"user_id\": \"unique ID, primary key for user identification\", \"username\": \"unique username for login\", \"email\": \"unique email address for user contact\", \"password_hash\": \"securely stored password hash\", \"first_name\": \"user\\'s first name\", \"last_name\": \"user\\'s last name\", \"phone_number\": \"contact phone number\", \"created_at\": \"timestamp when user account was created\", \"updated_at\": \"timestamp when user account was last updated\"}}'}\n",
      "Task JSON: DataColumnType\n",
      "True\n",
      "Task JSON: <class 'dict'>\n",
      "Task JSON: {'task_id': 33845170628661908329328534067410637965, 'task_name': 'DataColumnRefiner', 'task_version': '0.0.1', 'parent_task_id': 46663149210338697684790758277703095107, 'group_task_id': 46663149210338697684790758277703095107, 'description': 'The base Task class. This should be inherited by all Task classes.', 'sequence_number': 2, 'created_dt': '2025-05-14T16:57:08.972334', 'updated_dt': '2025-05-14T16:57:08.972334', 'input_artifacts': '{\"table_name\": \"users\", \"purpose\": \"Stores information about registered users/customers\", \"column_name\": \"first_name\", \"description\": \"user\\'s first name\", \"fields\": {\"user_id\": \"unique ID, primary key for user identification\", \"username\": \"unique username for login\", \"email\": \"unique email address for user contact\", \"password_hash\": \"securely stored password hash\", \"first_name\": \"user\\'s first name\", \"last_name\": \"user\\'s last name\", \"phone_number\": \"contact phone number\", \"created_at\": \"timestamp when user account was created\", \"updated_at\": \"timestamp when user account was last updated\"}}'}\n",
      "Task JSON: DataColumnRefiner\n"
     ]
    }
   ],
   "source": [
    "print(f\"Task Queue: {task_queue}\")\n",
    "# Process the task queue\n",
    "for topic_partition, messages in task_queue.items():\n",
    "    for message in messages:\n",
    "        print(not isinstance(message.value, dict))\n",
    "        if not isinstance(message.value, dict):\n",
    "            task_json = json.loads(message.value.decode('utf-8'))\n",
    "        else:\n",
    "            task_json = message.value\n",
    "        # For example, you can create an task object and execute it\n",
    "        print(f\"Task JSON: {type(task_json)}\")\n",
    "        print(f\"Task JSON: {task_json}\")\n",
    "        print(f\"Task JSON: {task_json['task_name']}\")"
   ]
  }
 ],
 "metadata": {
  "kernelspec": {
   "display_name": "Kafka_Spark",
   "language": "python",
   "name": "python3"
  },
  "language_info": {
   "codemirror_mode": {
    "name": "ipython",
    "version": 3
   },
   "file_extension": ".py",
   "mimetype": "text/x-python",
   "name": "python",
   "nbconvert_exporter": "python",
   "pygments_lexer": "ipython3",
   "version": "3.11.10"
  }
 },
 "nbformat": 4,
 "nbformat_minor": 5
}
