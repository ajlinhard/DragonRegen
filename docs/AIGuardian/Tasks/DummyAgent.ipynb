{
 "cells": [
  {
   "cell_type": "code",
   "execution_count": 3,
   "id": "8567738a",
   "metadata": {},
   "outputs": [
    {
     "name": "stdout",
     "output_type": "stream",
     "text": [
      "Project Path: c:\\Users\\dalej\\Documents\\_Coding\\DragonRegen\n"
     ]
    }
   ],
   "source": [
    "import os\n",
    "import sys\n",
    "\n",
    "project_path = os.path.abspath(os.path.join(os.getcwd(),'..','..','..'))\n",
    "sys.path.append(project_path)\n",
    "print(f\"Project Path: {project_path}\")"
   ]
  },
  {
   "cell_type": "markdown",
   "id": "76c50f10",
   "metadata": {},
   "source": [
    "## Testing Kafka Agent"
   ]
  },
  {
   "cell_type": "code",
   "execution_count": 4,
   "id": "939700d4",
   "metadata": {},
   "outputs": [
    {
     "name": "stdout",
     "output_type": "stream",
     "text": [
      "Agent Loop Count: 0 and last consumed time: 2025-05-22 17:31:46.905922\n",
      "Agent Loop Count: 1 and last consumed time: 2025-05-22 17:31:51.107552\n",
      "Agent Loop Count: 2 and last consumed time: 2025-05-22 17:31:55.126427\n",
      "==> Running DataColumnType with prompt: None\n",
      "==> Task dd3dc272-6a17-46cb-a76e-48a237ff4529 complete_task\n",
      "==> Running DataColumnType with prompt: None\n",
      "==> Task 7bc36d4b-a4e0-4b62-9cf8-efafadcdd132 complete_task\n",
      "==> Running DataColumnType with prompt: None\n",
      "==> Task b4efeef3-3456-4d25-b321-c7a039602b05 complete_task\n",
      "==> Removing dd3dc272-6a17-46cb-a76e-48a237ff4529 from child tasks.\n",
      "==> Removing 3927bf8d-7687-44da-90f1-42d7dbd2244d from child tasks.\n",
      "Agent Loop Count: 3 and last consumed time: 2025-05-22 17:32:05.821649\n",
      "==> Running DataColumnRefiner with prompt: None\n",
      "==> Task eae5db2f-82fb-4e4b-b994-2cfdb6c16cea complete_task\n",
      "==> Running DataColumnRefiner with prompt: None\n",
      "==> Task 19aa66fa-0a64-46ec-b0c6-857fe9caf755 complete_task\n",
      "==> Running DataColumnRefiner with prompt: None\n",
      "==> Task e695f049-8dea-42df-aa7c-eb3e4a68122f complete_task\n",
      "==> Removing 19aa66fa-0a64-46ec-b0c6-857fe9caf755 from child tasks.\n",
      "Agent Loop Count: 4 and last consumed time: 2025-05-22 17:32:13.594543\n",
      "==> Running DataColumnRefiner with prompt: None\n",
      "==> Task a3e1897a-9452-4fa6-820a-1e3e729c7b26 complete_task\n",
      "==> Running DataColumnType with prompt: None\n",
      "==> Task 865fb1dc-423b-4a5f-b011-81913c999335 complete_task\n",
      "==> Running DataColumnType with prompt: None\n",
      "==> Task 743ef72a-61c2-4dc6-bd94-c16da862744c complete_task\n",
      "==> Removing 865fb1dc-423b-4a5f-b011-81913c999335 from child tasks.\n",
      "==> Removing cde4e231-7cf5-4374-b7d3-9e4605d4a19a from child tasks.\n",
      "==> Removing 26fd9d70-410b-43ae-b16f-caab89ec47c7 from child tasks.\n",
      "==> Removing 54ff1bb9-4469-4017-8d82-e486bb097633 from child tasks.\n",
      "Agent Loop Count: 5 and last consumed time: 2025-05-22 17:32:22.556100\n",
      "==> Running DataColumnRefiner with prompt: None\n",
      "==> Task 62067132-d6f8-44a3-aa3c-3739b03d5e60 complete_task\n",
      "==> Running DataColumnRefiner with prompt: None\n",
      "==> Task 4d9137d3-ed07-4cd0-8447-9a16ffb58046 complete_task\n",
      "==> Running DataColumnRefiner with prompt: None\n",
      "==> Task edd7e696-c93f-4012-82d8-2cc6ac7a38c9 complete_task\n",
      "==> Removing 79535d38-2298-4e1c-81a6-87ef2a4bc9af from child tasks.\n",
      "==> Removing edd7e696-c93f-4012-82d8-2cc6ac7a38c9 from child tasks.\n",
      "Agent Loop Count: 6 and last consumed time: 2025-05-22 17:32:29.566512\n",
      "==> Running DataColumnType with prompt: None\n",
      "==> Task 52b11428-ce5a-4b73-85a7-1062533f4b85 complete_task\n",
      "==> Running DataColumnRefiner with prompt: None\n",
      "==> Task aa7b3eed-a84f-4c45-9340-00fb89530816 complete_task\n",
      "==> Running DataColumnRefiner with prompt: None\n",
      "==> Task d38b517b-3f35-464e-bbd7-51c654b126ab complete_task\n",
      "==> Removing 382a8c9f-4b6c-4d1e-822c-2761d01a9b1a from child tasks.\n",
      "==> Removing 52b11428-ce5a-4b73-85a7-1062533f4b85 from child tasks.\n",
      "==> Removing d38b517b-3f35-464e-bbd7-51c654b126ab from child tasks.\n",
      "Agent Loop Count: 7 and last consumed time: 2025-05-22 17:32:38.346032\n",
      "==> Running DataColumnType with prompt: None\n",
      "==> Task acc1fead-71d5-4d24-8632-687a9db3c52c complete_task\n",
      "==> Running DataColumnRefiner with prompt: None\n",
      "==> Task 17c5efd5-8d1a-4c44-8919-f7eb1ca68636 complete_task\n",
      "==> Running DataColumnRefiner with prompt: None\n",
      "==> Task 2761a860-d136-4778-908b-3aa26ebe24dd complete_task\n",
      "==> Removing 58d1a5e9-d675-4cfe-8ad0-6f6d56c9a93c from child tasks.\n",
      "==> Removing b69d85c6-3336-43ad-9a06-7c9a8f9b2c6f from child tasks.\n",
      "==> Removing acc1fead-71d5-4d24-8632-687a9db3c52c from child tasks.\n",
      "==> Removing 2761a860-d136-4778-908b-3aa26ebe24dd from child tasks.\n",
      "==> Removing e7d4d332-b91c-4866-a0da-67217d44bd3d from child tasks.\n",
      "Agent Loop Count: 8 and last consumed time: 2025-05-22 17:32:46.682875\n",
      "==> Running DataColumnType with prompt: None\n",
      "==> Task a47dfbe8-89ab-4807-8d92-41791226f034 complete_task\n",
      "==> Running DataColumnType with prompt: None\n",
      "==> Task 3b2b7109-6217-4855-874d-9171b6b80c8b complete_task\n",
      "==> Running DataColumnRefiner with prompt: None\n",
      "==> Task 761d27c3-676b-46fc-af4b-95172279b34a complete_task\n",
      "Agent Loop Count: 9 and last consumed time: 2025-05-22 17:32:53.756628\n",
      "==> Running DataColumnRefiner with prompt: None\n",
      "==> Task 91068abf-fe94-4d49-9ab6-a997d3ccc21f complete_task\n",
      "==> Running DataColumnRefiner with prompt: None\n",
      "==> Task 25fb2f87-0425-49b2-b16f-e94f8a20ce73 complete_task\n",
      "==> Running DataColumnType with prompt: None\n",
      "==> Task 059021e8-af31-4f4b-a450-ba4f9867f478 complete_task\n",
      "==> Removing 25fb2f87-0425-49b2-b16f-e94f8a20ce73 from child tasks.\n",
      "==> Removing befb63d1-cf32-4eac-b7f0-a23a440c76b5 from child tasks.\n",
      "==> Removing 059021e8-af31-4f4b-a450-ba4f9867f478 from child tasks.\n",
      "Agent Loop Count: 10 and last consumed time: 2025-05-22 17:32:59.663896\n",
      "==> Running DataColumnType with prompt: None\n",
      "==> Task 0139f8c4-5282-4cae-8610-618236852ca9 complete_task\n",
      "==> Running DataColumnType with prompt: None\n",
      "==> Task b9e6ec05-4a0a-4509-b9ea-3df4cae145cc complete_task\n",
      "==> Running DataColumnType with prompt: None\n",
      "==> Task ddac9471-4aa5-42fe-b746-3592c2e1c08e complete_task\n",
      "==> Removing 0139f8c4-5282-4cae-8610-618236852ca9 from child tasks.\n",
      "==> Removing b9e6ec05-4a0a-4509-b9ea-3df4cae145cc from child tasks.\n",
      "Agent Loop Count: 11 and last consumed time: 2025-05-22 17:33:06.894960\n",
      "==> Running DataColumnRefiner with prompt: None\n",
      "==> Task 36a5db7a-bdb6-453a-9823-14411bbf07b9 complete_task\n",
      "==> Running DataColumnRefiner with prompt: None\n",
      "==> Task d96237db-a65e-430e-9f67-2aec36e9705a complete_task\n",
      "==> Running DataColumnType with prompt: None\n",
      "==> Task 2f251c0d-c0f9-4ed3-bc6d-bc3300af01f9 complete_task\n",
      "==> Removing 0705c381-53e9-4833-8f0d-92123de84903 from child tasks.\n",
      "==> Removing 2f251c0d-c0f9-4ed3-bc6d-bc3300af01f9 from child tasks.\n",
      "Agent Loop Count: 12 and last consumed time: 2025-05-22 17:33:14.118395\n",
      "==> Running DataColumnRefiner with prompt: None\n",
      "==> Task 00e02a24-9cd1-4f0c-b923-b0986b7b4bdb complete_task\n",
      "==> Running DataColumnType with prompt: None\n",
      "==> Task b4b66161-55a2-4c2d-8f34-48b195e2264b complete_task\n",
      "==> Running DataColumnType with prompt: None\n",
      "==> Task 07dcd635-e4c9-4e9b-b1a6-19b99acde694 complete_task\n",
      "==> Removing 12116f5c-8d32-414a-8e74-a8addef7b034 from child tasks.\n",
      "====> COLUMN REFINER XXXCC: Complete Task 63c62677-364c-4285-992e-44bfdb1c4def\n",
      " Adding Key: 79535d38-2298-4e1c-81a6-87ef2a4bc9af to the list of fields\n",
      " Adding Key: edd7e696-c93f-4012-82d8-2cc6ac7a38c9 to the list of fields\n",
      " Adding Key: 58d1a5e9-d675-4cfe-8ad0-6f6d56c9a93c to the list of fields\n",
      " Adding Key: 12116f5c-8d32-414a-8e74-a8addef7b034 to the list of fields\n",
      "==> Task 63c62677-364c-4285-992e-44bfdb1c4def complete_task\n",
      "==> Removing 00e02a24-9cd1-4f0c-b923-b0986b7b4bdb from child tasks.\n",
      "Agent Loop Count: 13 and last consumed time: 2025-05-22 17:33:21.397004\n",
      "==> Running DataColumnRefiner with prompt: None\n",
      "==> Task c90406a3-a786-493c-a017-d439da255676 complete_task\n",
      "==> Running DataColumnType with prompt: None\n",
      "==> Task 44aae1c4-963e-45f8-bdf1-4d6106694403 complete_task\n",
      "==> Running DataColumnRefiner with prompt: None\n",
      "==> Task 7476e8a9-c85a-40ec-8085-ff0ef026535d complete_task\n",
      "==> Removing d01feeaa-cb74-4a77-9267-533c234bbc52 from child tasks.\n",
      "==> Removing 2e4d899b-20c3-470c-bcbc-675c037deefb from child tasks.\n",
      "Agent Loop Count: 14 and last consumed time: 2025-05-22 17:33:27.974033\n",
      "==> Running DataColumnType with prompt: None\n",
      "==> Task 17d87ff3-c0a7-4d83-bacd-0866b3ee7653 complete_task\n",
      "==> Running DataColumnType with prompt: None\n",
      "==> Task 65d11ef9-8fd4-4ad7-a7ae-3862de453565 complete_task\n",
      "==> Running DataColumnType with prompt: None\n",
      "==> Task fa10330c-82fa-4a81-95bd-acd3351ac4c7 complete_task\n",
      "==> Removing 6aec38ff-b351-4d89-837f-2cb04111a2c7 from child tasks.\n",
      "====> COLUMN REFINER XXXCC: Complete Task d0aeaa37-c09d-47a4-8a74-15cf392e5853\n",
      " Adding Key: 19aa66fa-0a64-46ec-b0c6-857fe9caf755 to the list of fields\n",
      " Adding Key: d38b517b-3f35-464e-bbd7-51c654b126ab to the list of fields\n",
      " Adding Key: 2761a860-d136-4778-908b-3aa26ebe24dd to the list of fields\n",
      " Adding Key: e7d4d332-b91c-4866-a0da-67217d44bd3d to the list of fields\n",
      " Adding Key: 2e4d899b-20c3-470c-bcbc-675c037deefb to the list of fields\n",
      "==> Task d0aeaa37-c09d-47a4-8a74-15cf392e5853 complete_task\n",
      "Agent Loop Count: 15 and last consumed time: 2025-05-22 17:33:34.195945\n",
      "==> Running DataColumnType with prompt: None\n",
      "==> Task 28fba439-0fce-4eb9-8435-b756822a0cb6 complete_task\n",
      "==> Running DataColumnType with prompt: None\n",
      "==> Task b197b99b-2b0a-4005-8c6e-870c8cfee81c complete_task\n",
      "==> Running DataColumnRefiner with prompt: None\n",
      "==> Task d97bfdac-ab46-4a73-a079-363f23ebce53 complete_task\n",
      "==> Removing 412412aa-a57a-414f-a259-e158d925ee2e from child tasks.\n",
      "Agent Loop Count: 16 and last consumed time: 2025-05-22 17:33:40.526111\n",
      "==> Running DataColumnType with prompt: None\n",
      "==> Task 08895a5f-b347-4bf0-b004-07ad55095135 complete_task\n",
      "==> Running DataColumnType with prompt: None\n",
      "==> Task 50c5445a-e07b-4593-9b77-a150ff8792ce complete_task\n",
      "==> Running DataColumnRefiner with prompt: None\n",
      "==> Task 4f6202d0-3776-40d4-b071-fdaf8b8d6d43 complete_task\n",
      "==> Removing 04b97bd7-3106-4675-ae9a-84936ba03e29 from child tasks.\n",
      "==> Removing 2a8fa483-8a01-48ed-a65a-9ab8ff8f4908 from child tasks.\n",
      "====> COLUMN REFINER XXXCC: Complete Task e06c9f27-f102-4aba-bbcd-60c73a899e26\n",
      " Adding Key: 26fd9d70-410b-43ae-b16f-caab89ec47c7 to the list of fields\n",
      " Adding Key: 54ff1bb9-4469-4017-8d82-e486bb097633 to the list of fields\n",
      " Adding Key: 25fb2f87-0425-49b2-b16f-e94f8a20ce73 to the list of fields\n",
      " Adding Key: 412412aa-a57a-414f-a259-e158d925ee2e to the list of fields\n",
      " Adding Key: 04b97bd7-3106-4675-ae9a-84936ba03e29 to the list of fields\n",
      " Adding Key: 2a8fa483-8a01-48ed-a65a-9ab8ff8f4908 to the list of fields\n",
      "==> Task e06c9f27-f102-4aba-bbcd-60c73a899e26 complete_task\n",
      "Agent Loop Count: 17 and last consumed time: 2025-05-22 17:33:47.495384\n",
      "==> Running DataColumnRefiner with prompt: None\n",
      "==> Task 94f468f6-fe7d-40dc-96b0-a3b1b93a847e complete_task\n",
      "==> Running DataColumnType with prompt: None\n",
      "==> Task 3be42307-f6a2-4bc0-ae72-5b91d6673f3d complete_task\n",
      "==> Running DataColumnType with prompt: None\n",
      "==> Task f3b6013d-abac-4d31-9e84-a52509d2474b complete_task\n",
      "Agent Loop Count: 18 and last consumed time: 2025-05-22 17:33:55.103725\n",
      "==> Running DataColumnRefiner with prompt: None\n",
      "==> Task a6e12000-8a0a-4495-93df-65ffa16d4b6e complete_task\n",
      "==> Running DataColumnType with prompt: None\n",
      "==> Task 2945536d-1f7a-483c-8789-9a905ac36bf1 complete_task\n",
      "==> Running DataColumnRefiner with prompt: None\n",
      "==> Task 5bf50e77-380f-420c-9227-e84b34bdff36 complete_task\n",
      "==> Removing 2945536d-1f7a-483c-8789-9a905ac36bf1 from child tasks.\n",
      "==> Removing 722d81b5-1402-46a4-9a9b-2a0e93e4c21e from child tasks.\n",
      "==> Removing 5bf50e77-380f-420c-9227-e84b34bdff36 from child tasks.\n",
      "==> Removing d3370404-39b3-4869-ba33-c1581b7d0bc4 from child tasks.\n",
      "Agent Loop Count: 19 and last consumed time: 2025-05-22 17:34:04.321521\n",
      "==> Running DataColumnType with prompt: None\n",
      "==> Task 21ed77a8-4739-499f-a53b-ad1329d696e4 complete_task\n",
      "==> Running DataColumnRefiner with prompt: None\n",
      "==> Task 6c44a1af-6984-46b0-ac37-25f0823add2b complete_task\n",
      "==> Running DataColumnType with prompt: None\n",
      "==> Task ef285a00-234b-4dd6-9563-2ea8dc8b22ff complete_task\n",
      "Agent Loop Count: 20 and last consumed time: 2025-05-22 17:34:12.589244\n",
      "==> Running DataColumnRefiner with prompt: None\n",
      "==> Task d287acf8-16cd-4697-b60e-1bd633f594c1 complete_task\n",
      "==> Running DataColumnType with prompt: None\n",
      "==> Task 8ebc4f73-4b82-4f59-a1a7-37221dffea7d complete_task\n",
      "==> Running DataColumnRefiner with prompt: None\n",
      "==> Task 93683a6a-4e96-4321-b250-d9f66808ec9a complete_task\n",
      "Agent Loop Count: 21 and last consumed time: 2025-05-22 17:34:19.290415\n",
      "==> Running DataColumnRefiner with prompt: None\n",
      "==> Task a3e127a3-7ad1-4ef0-9ed8-a7ce6dded560 complete_task\n",
      "==> Running DataColumnRefiner with prompt: None\n",
      "==> Task 9bb69add-63fc-4c28-86eb-9cb0041da0f1 complete_task\n",
      "==> Removing f042ad9c-9f17-47d4-9025-31c6037ee596 from child tasks.\n",
      "Agent Loop Count: 22 and last consumed time: 2025-05-22 17:34:23.485720\n",
      "Agent Loop Count: 23 and last consumed time: 2025-05-22 17:34:23.485720\n",
      "Agent Loop Count: 24 and last consumed time: 2025-05-22 17:34:23.485720\n",
      "Agent Loop Count: 25 and last consumed time: 2025-05-22 17:34:23.485720\n",
      "Agent Loop Count: 26 and last consumed time: 2025-05-22 17:34:23.485720\n",
      "Agent Loop Count: 27 and last consumed time: 2025-05-22 17:34:23.485720\n",
      "Agent Loop Count: 28 and last consumed time: 2025-05-22 17:34:23.485720\n",
      "Agent Loop Count: 29 and last consumed time: 2025-05-22 17:34:23.485720\n",
      "Agent Loop Count: 30 and last consumed time: 2025-05-22 17:34:23.485720\n",
      "Agent Loop Count: 31 and last consumed time: 2025-05-22 17:34:23.485720\n",
      "Agent Loop Count: 32 and last consumed time: 2025-05-22 17:34:23.485720\n",
      "Agent Loop Count: 33 and last consumed time: 2025-05-22 17:34:23.485720\n",
      "Agent Loop Count: 34 and last consumed time: 2025-05-22 17:34:23.485720\n",
      "Agent Loop Count: 35 and last consumed time: 2025-05-22 17:34:23.485720\n",
      "End of processing\n"
     ]
    }
   ],
   "source": [
    "from src.AIGuardian.Tasks.KafkaAgent import KafkaAgent\n",
    "\n",
    "agent = KafkaAgent(end_processing=20)\n",
    "agent.receive_messages()"
   ]
  },
  {
   "cell_type": "code",
   "execution_count": 29,
   "id": "ed54de67",
   "metadata": {},
   "outputs": [
    {
     "name": "stdout",
     "output_type": "stream",
     "text": [
      "[]\n",
      "[<src.AIGuardian.Tasks.ColumnRefiner.ColumnRefiner object at 0x0000027E45E13C90>, <src.AIGuardian.Tasks.ColumnRefiner.ColumnRefiner object at 0x0000027E45E13C50>, <src.AIGuardian.Tasks.ColumnRefiner.ColumnRefiner object at 0x0000027E45E13FD0>, <src.AIGuardian.Tasks.ColumnRefiner.ColumnRefiner object at 0x0000027E45E18310>, <src.AIGuardian.Tasks.DataColumnType.DataColumnType object at 0x0000027E45EE82D0>, <src.AIGuardian.Tasks.DataColumnType.DataColumnType object at 0x0000027E45EEB910>, <src.AIGuardian.Tasks.DataColumnType.DataColumnType object at 0x0000027E45E02450>, <src.AIGuardian.Tasks.DataColumnRefiner.DataColumnRefiner object at 0x0000027E45F05390>, <src.AIGuardian.Tasks.DataColumnRefiner.DataColumnRefiner object at 0x0000027E45F1CD50>, <src.AIGuardian.Tasks.DataColumnRefiner.DataColumnRefiner object at 0x0000027E45F04DD0>, <src.AIGuardian.Tasks.DataColumnRefiner.DataColumnRefiner object at 0x0000027E45DF7D50>, <src.AIGuardian.Tasks.DataColumnType.DataColumnType object at 0x0000027E45F1AC90>, <src.AIGuardian.Tasks.DataColumnType.DataColumnType object at 0x0000027E45F18E90>, <src.AIGuardian.Tasks.DataColumnRefiner.DataColumnRefiner object at 0x0000027E45F19E10>, <src.AIGuardian.Tasks.DataColumnRefiner.DataColumnRefiner object at 0x0000027E45F2C190>, <src.AIGuardian.Tasks.DataColumnRefiner.DataColumnRefiner object at 0x0000027E45EC3AD0>, <src.AIGuardian.Tasks.DataColumnType.DataColumnType object at 0x0000027E45F04950>, <src.AIGuardian.Tasks.DataColumnRefiner.DataColumnRefiner object at 0x0000027E45EEB9D0>, <src.AIGuardian.Tasks.DataColumnRefiner.DataColumnRefiner object at 0x0000027E45F58690>, <src.AIGuardian.Tasks.DataColumnType.DataColumnType object at 0x0000027E45F5B950>, <src.AIGuardian.Tasks.DataColumnRefiner.DataColumnRefiner object at 0x0000027E45F7D490>, <src.AIGuardian.Tasks.DataColumnRefiner.DataColumnRefiner object at 0x0000027E45F59210>, <src.AIGuardian.Tasks.DataColumnType.DataColumnType object at 0x0000027E45F7D7D0>, <src.AIGuardian.Tasks.DataColumnType.DataColumnType object at 0x0000027E46F6AD90>, <src.AIGuardian.Tasks.DataColumnRefiner.DataColumnRefiner object at 0x0000027E45F7CC50>, <src.AIGuardian.Tasks.DataColumnRefiner.DataColumnRefiner object at 0x0000027E46F6B190>, <src.AIGuardian.Tasks.DataColumnRefiner.DataColumnRefiner object at 0x0000027E44646210>, <src.AIGuardian.Tasks.DataColumnType.DataColumnType object at 0x0000027E46F6AC10>, <src.AIGuardian.Tasks.DataColumnType.DataColumnType object at 0x0000027E46F6B310>, <src.AIGuardian.Tasks.DataColumnType.DataColumnType object at 0x0000027E46F92610>, <src.AIGuardian.Tasks.DataColumnType.DataColumnType object at 0x0000027E45F89350>, <src.AIGuardian.Tasks.DataColumnRefiner.DataColumnRefiner object at 0x0000027E46F92C50>, <src.AIGuardian.Tasks.DataColumnRefiner.DataColumnRefiner object at 0x0000027E45F5A2D0>, <src.AIGuardian.Tasks.DataColumnType.DataColumnType object at 0x0000027E46F92410>, <src.AIGuardian.Tasks.DataColumnRefiner.DataColumnRefiner object at 0x0000027E45F2DBD0>, <src.AIGuardian.Tasks.DataColumnType.DataColumnType object at 0x0000027E45EEBA10>, <src.AIGuardian.Tasks.DataColumnType.DataColumnType object at 0x0000027E46FA17D0>, <src.AIGuardian.Tasks.DataColumnRefiner.DataColumnRefiner object at 0x0000027E46FA0E50>, <src.AIGuardian.Tasks.DataColumnType.DataColumnType object at 0x0000027E46FD7DD0>, <src.AIGuardian.Tasks.DataColumnRefiner.DataColumnRefiner object at 0x0000027E46FD7FD0>, <src.AIGuardian.Tasks.DataColumnType.DataColumnType object at 0x0000027E46FE8290>, <src.AIGuardian.Tasks.DataColumnType.DataColumnType object at 0x0000027E46F7CE50>, <src.AIGuardian.Tasks.DataColumnType.DataColumnType object at 0x0000027E46FE8090>, <src.AIGuardian.Tasks.DataColumnType.DataColumnType object at 0x0000027E46FD6410>, <src.AIGuardian.Tasks.DataColumnType.DataColumnType object at 0x0000027E46FFAE90>, <src.AIGuardian.Tasks.DataColumnRefiner.DataColumnRefiner object at 0x0000027E46FD6A50>, <src.AIGuardian.Tasks.DataColumnType.DataColumnType object at 0x0000027E4700EE90>, <src.AIGuardian.Tasks.DataColumnType.DataColumnType object at 0x0000027E4700EDD0>, <src.AIGuardian.Tasks.DataColumnRefiner.DataColumnRefiner object at 0x0000027E45E03510>, <src.AIGuardian.Tasks.DataColumnRefiner.DataColumnRefiner object at 0x0000027E46FC5110>, <src.AIGuardian.Tasks.DataColumnType.DataColumnType object at 0x0000027E46FFAC10>, <src.AIGuardian.Tasks.DataColumnType.DataColumnType object at 0x0000027E46FA10D0>, <src.AIGuardian.Tasks.DataColumnRefiner.DataColumnRefiner object at 0x0000027E4701A050>, <src.AIGuardian.Tasks.DataColumnType.DataColumnType object at 0x0000027E470188D0>, <src.AIGuardian.Tasks.DataColumnRefiner.DataColumnRefiner object at 0x0000027E45F73D10>, <src.AIGuardian.Tasks.DataColumnType.DataColumnType object at 0x0000027E4702EDD0>, <src.AIGuardian.Tasks.DataColumnRefiner.DataColumnRefiner object at 0x0000027E4702D350>, <src.AIGuardian.Tasks.DataColumnType.DataColumnType object at 0x0000027E4702C5D0>, <src.AIGuardian.Tasks.DataColumnRefiner.DataColumnRefiner object at 0x0000027E4702C390>, <src.AIGuardian.Tasks.DataColumnType.DataColumnType object at 0x0000027E4700A050>, <src.AIGuardian.Tasks.DataColumnRefiner.DataColumnRefiner object at 0x0000027E4702EAD0>, <src.AIGuardian.Tasks.DataColumnRefiner.DataColumnRefiner object at 0x0000027E47052D10>, <src.AIGuardian.Tasks.DataColumnRefiner.DataColumnRefiner object at 0x0000027E47018510>]\n",
      "2025-05-22 17:31:46.885425\n",
      "2025-05-22 17:34:44.513111\n"
     ]
    }
   ],
   "source": [
    "print(agent.waiting_tasks)\n",
    "print(agent.processed_tasks)\n",
    "print(agent.start_time)\n",
    "print(agent.end_time)"
   ]
  },
  {
   "cell_type": "code",
   "execution_count": null,
   "id": "7602e40d",
   "metadata": {},
   "outputs": [
    {
     "name": "stdout",
     "output_type": "stream",
     "text": [
      "==> Removing 629fc112-6e53-482b-a403-79e66f5ba9ff from child tasks.\n",
      "BOOOOOMM!\n",
      "====> COLUMN REFINER XXXCC: Complete Task 5230a66d-9f80-448d-9cf6-4559f95bc94c\n",
      " Adding Key: 00e02a24-9cd1-4f0c-b923-b0986b7b4bdb to the list of fields\n",
      " Adding Key: 722d81b5-1402-46a4-9a9b-2a0e93e4c21e to the list of fields\n",
      " Adding Key: 5bf50e77-380f-420c-9227-e84b34bdff36 to the list of fields\n",
      " Adding Key: 629fc112-6e53-482b-a403-79e66f5ba9ff to the list of fields\n",
      "==> Task 5230a66d-9f80-448d-9cf6-4559f95bc94c complete_task\n"
     ]
    },
    {
     "ename": "NameError",
     "evalue": "name 'datetime' is not defined",
     "output_type": "error",
     "traceback": [
      "\u001b[1;31m---------------------------------------------------------------------------\u001b[0m",
      "\u001b[1;31mNameError\u001b[0m                                 Traceback (most recent call last)",
      "Cell \u001b[1;32mIn[27], line 12\u001b[0m\n\u001b[0;32m     10\u001b[0m         agent\u001b[38;5;241m.\u001b[39mcompleted_tasks\u001b[38;5;241m.\u001b[39mappend(task)\n\u001b[0;32m     11\u001b[0m         tasks_to_remove\u001b[38;5;241m.\u001b[39mappend(task)\n\u001b[1;32m---> 12\u001b[0m         last_consumed_records \u001b[38;5;241m=\u001b[39m datetime\u001b[38;5;241m.\u001b[39mnow()\n\u001b[0;32m     13\u001b[0m \u001b[38;5;66;03m# Remove the completed task after interating through it\u001b[39;00m\n\u001b[0;32m     14\u001b[0m \u001b[38;5;28;01mfor\u001b[39;00m r_task \u001b[38;5;129;01min\u001b[39;00m tasks_to_remove:\n",
      "\u001b[1;31mNameError\u001b[0m: name 'datetime' is not defined"
     ]
    }
   ],
   "source": [
    "if agent.waiting_tasks:\n",
    "    completed_tasks = agent.db_engine.consumers[AILoggingTopics.AI_TASK_COMPLETED_TOPIC].poll(timeout_ms=1000, max_records=20)\n",
    "    tasks_to_remove = []\n",
    "    for task in agent.waiting_tasks:\n",
    "        agent.completed_tasks_received_d1[task.task_id] = agent.completed_tasks_received_d1.get(task.task_id, [])  + agent.kafka_records_to_list(completed_tasks, 'task_id')\n",
    "        task.wait_on_dependency_check(completed_tasks)\n",
    "        if not task.is_waiting():\n",
    "            print(\"BOOOOOMM!\")\n",
    "            task.complete_task()\n",
    "            agent.completed_tasks.append(task)\n",
    "            tasks_to_remove.append(task)\n",
    "    # Remove the completed task after interating through it\n",
    "    for r_task in tasks_to_remove:\n",
    "        agent.waiting_tasks.remove(r_task)\n",
    "    agent.completed_tasks_received = agent.completed_tasks_received + agent.kafka_records_to_list(completed_tasks, 'task_id')"
   ]
  },
  {
   "cell_type": "code",
   "execution_count": 28,
   "id": "7b777fcf",
   "metadata": {},
   "outputs": [],
   "source": [
    "for r_task in tasks_to_remove:\n",
    "    agent.waiting_tasks.remove(r_task)\n",
    "agent.completed_tasks_received = agent.completed_tasks_received + agent.kafka_records_to_list(completed_tasks, 'task_id')"
   ]
  },
  {
   "cell_type": "code",
   "execution_count": 18,
   "id": "9b25905f",
   "metadata": {},
   "outputs": [
    {
     "name": "stdout",
     "output_type": "stream",
     "text": [
      "['629fc112-6e53-482b-a403-79e66f5ba9ff']\n",
      "task-completed-fd639567-e496-48c4-a9db-9b0529dd6f14\n",
      "True\n"
     ]
    }
   ],
   "source": [
    "from src.MetaFort.AILoggingTopics import AILoggingTopics\n",
    "print(agent.waiting_tasks[0].child_task)\n",
    "print(agent.db_engine.consumers[AILoggingTopics.AI_TASK_COMPLETED_TOPIC].config['group_id'])\n",
    "print(agent.waiting_tasks[0].is_waiting())\n"
   ]
  },
  {
   "cell_type": "markdown",
   "id": "c76901e4",
   "metadata": {},
   "source": [
    "---\n",
    "Looking into issues with kafka missing waits"
   ]
  },
  {
   "cell_type": "code",
   "execution_count": 19,
   "id": "9a128d3a",
   "metadata": {},
   "outputs": [
    {
     "name": "stdout",
     "output_type": "stream",
     "text": [
      "1\n",
      "1\n"
     ]
    }
   ],
   "source": [
    "ls_waiting_tasks = []\n",
    "ls_waiting_tasks_child = {}\n",
    "for item in agent.waiting_tasks:\n",
    "    if item.is_waiting():\n",
    "        ls_waiting_tasks.append(item.task_id)\n",
    "        ls_waiting_tasks_child[item.task_id] = item.child_task\n",
    "print(len(ls_waiting_tasks))\n",
    "print(len(ls_waiting_tasks_child))\n"
   ]
  },
  {
   "cell_type": "code",
   "execution_count": 20,
   "id": "457bf111",
   "metadata": {},
   "outputs": [
    {
     "name": "stdout",
     "output_type": "stream",
     "text": [
      "63\n"
     ]
    }
   ],
   "source": [
    "ls_received_tasks = []\n",
    "for item in agent.received_tasks:\n",
    "    ls_received_tasks.append(item.task_id)\n",
    "print(len(ls_received_tasks))"
   ]
  },
  {
   "cell_type": "code",
   "execution_count": 21,
   "id": "3f6526e2",
   "metadata": {},
   "outputs": [
    {
     "name": "stdout",
     "output_type": "stream",
     "text": [
      "63\n"
     ]
    }
   ],
   "source": [
    "ls_processed_tasks = []\n",
    "for item in agent.processed_tasks:\n",
    "    ls_processed_tasks.append(item.task_id)\n",
    "print(len(ls_processed_tasks))"
   ]
  },
  {
   "cell_type": "code",
   "execution_count": 22,
   "id": "b376b894",
   "metadata": {},
   "outputs": [
    {
     "name": "stdout",
     "output_type": "stream",
     "text": [
      "62\n"
     ]
    }
   ],
   "source": [
    "ls_completed_tasks = []\n",
    "for item in agent.completed_tasks:\n",
    "    ls_completed_tasks.append(item.task_id)\n",
    "print(len(ls_completed_tasks))"
   ]
  },
  {
   "cell_type": "code",
   "execution_count": 24,
   "id": "4f08930d",
   "metadata": {},
   "outputs": [
    {
     "name": "stdout",
     "output_type": "stream",
     "text": [
      "{'5230a66d-9f80-448d-9cf6-4559f95bc94c': ['629fc112-6e53-482b-a403-79e66f5ba9ff']}\n"
     ]
    }
   ],
   "source": [
    "print(ls_waiting_tasks_child)\n"
   ]
  },
  {
   "cell_type": "code",
   "execution_count": 12,
   "id": "fada453b",
   "metadata": {},
   "outputs": [],
   "source": [
    "# search_task_id = 'f4f01633-eef2-4792-b531-64baae246232'\n",
    "search_task_id = '16404101-100b-45dc-b8f5-e93eba5ee294'\n",
    "if search_task_id in ls_processed_tasks:\n",
    "    print(\"processed tasks\")\n",
    "if search_task_id in ls_received_tasks:\n",
    "    print(\"received tasks\")\n",
    "if search_task_id in ls_completed_tasks:\n",
    "    print(\"Task is in completed tasks\")\n",
    "if search_task_id in agent.completed_tasks_received:\n",
    "    print(\"Task is in received completed tasks\")"
   ]
  },
  {
   "cell_type": "code",
   "execution_count": 13,
   "id": "861f6bad",
   "metadata": {},
   "outputs": [],
   "source": [
    "search_task_id = '78475bc0-9ed2-43e8-a652-fc7c480cf7af'\n",
    "if search_task_id in ls_processed_tasks:\n",
    "    print(\"processed tasks\")\n",
    "if search_task_id in ls_received_tasks:\n",
    "    print(\"received tasks\")\n",
    "if search_task_id in ls_completed_tasks:\n",
    "    print(\"Task is in completed tasks\")"
   ]
  }
 ],
 "metadata": {
  "kernelspec": {
   "display_name": "Kafka_Spark",
   "language": "python",
   "name": "python3"
  },
  "language_info": {
   "codemirror_mode": {
    "name": "ipython",
    "version": 3
   },
   "file_extension": ".py",
   "mimetype": "text/x-python",
   "name": "python",
   "nbconvert_exporter": "python",
   "pygments_lexer": "ipython3",
   "version": "3.11.10"
  }
 },
 "nbformat": 4,
 "nbformat_minor": 5
}
