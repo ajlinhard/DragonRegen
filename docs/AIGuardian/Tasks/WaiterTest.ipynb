{
 "cells": [
  {
   "cell_type": "code",
   "execution_count": 1,
   "id": "59f32e82",
   "metadata": {},
   "outputs": [
    {
     "name": "stdout",
     "output_type": "stream",
     "text": [
      "c:\\Users\\dalej\\Documents\\_Coding\\DragonRegen\n"
     ]
    }
   ],
   "source": [
    "import os\n",
    "import sys\n",
    "\n",
    "notebook_dir = os.getcwd()\n",
    "project_dir = os.path.abspath(os.path.join(notebook_dir, '..', '..', '..'))\n",
    "if project_dir not in sys.path:\n",
    "    sys.path.append(project_dir)\n",
    "print(project_dir)"
   ]
  },
  {
   "cell_type": "code",
   "execution_count": 2,
   "id": "127c4eed",
   "metadata": {},
   "outputs": [],
   "source": [
    "class testCallback():\n",
    "    def __init__(self):\n",
    "        self.test_list = [1,2,3]\n",
    "\n",
    "    def remove_result(self, result):\n",
    "        self.test_list.remove(result)\n",
    "        print(f\"Result removed: {result}\")"
   ]
  },
  {
   "cell_type": "code",
   "execution_count": null,
   "id": "f8a6e88f",
   "metadata": {},
   "outputs": [
    {
     "name": "stdout",
     "output_type": "stream",
     "text": [
      "Before ==> [1, 2, 3]\n",
      "Result removed: 2\n",
      "After ==> [1, 3]\n"
     ]
    }
   ],
   "source": [
    "from src.AIGuardian.Tasks.Waiters.WaitTaskComplete import WaitTaskComplete\n",
    "\n",
    "ts = testCallback()\n",
    "waiter = WaitTaskComplete(2, 10, callback= ts.remove_result)\n",
    "\n",
    "dt = {'task_id': 2}\n",
    "\n",
    "print(f'Before ==> {ts.test_list}')\n",
    "waiter.check_conditions(**dt)\n",
    "print(f'After ==> {ts.test_list}')\n"
   ]
  },
  {
   "cell_type": "code",
   "execution_count": 4,
   "id": "83652ed7",
   "metadata": {},
   "outputs": [
    {
     "name": "stdout",
     "output_type": "stream",
     "text": [
      "List contents: [<src.AIGuardian.Tasks.Waiters.WaitTaskComplete.WaitTaskComplete object at 0x0000021C746A0810>, <__main__.testCallback object at 0x0000021C71BD14D0>]\n",
      "List contents: [<__main__.testCallback object at 0x0000021C71BD14D0>]\n"
     ]
    }
   ],
   "source": [
    "\n",
    "waiter = WaitTaskComplete(2, 10, callback= ts.remove_result)\n",
    "ls = []\n",
    "ls.append(waiter)\n",
    "ls.append(ts)\n",
    "print(f'List contents: {ls}')\n",
    "ls.remove(waiter)\n",
    "print(f'List contents: {ls}')\n"
   ]
  }
 ],
 "metadata": {
  "kernelspec": {
   "display_name": "Kafka_Spark",
   "language": "python",
   "name": "python3"
  },
  "language_info": {
   "codemirror_mode": {
    "name": "ipython",
    "version": 3
   },
   "file_extension": ".py",
   "mimetype": "text/x-python",
   "name": "python",
   "nbconvert_exporter": "python",
   "pygments_lexer": "ipython3",
   "version": "3.11.10"
  }
 },
 "nbformat": 4,
 "nbformat_minor": 5
}
