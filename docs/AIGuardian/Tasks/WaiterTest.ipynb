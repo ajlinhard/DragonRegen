{
 "cells": [
  {
   "cell_type": "code",
   "execution_count": null,
   "id": "59f32e82",
   "metadata": {},
   "outputs": [],
   "source": [
    "import os\n",
    "import sys\n",
    "\n",
    "notebook_dir = os.getcwd()\n",
    "project_dir = os.path.abspath(os.path.join(notebook_dir, '..', '..', '..'))\n",
    "if project_dir not in sys.path:\n",
    "    sys.path.append(project_dir)\n",
    "print(project_dir)"
   ]
  },
  {
   "cell_type": "code",
   "execution_count": null,
   "id": "127c4eed",
   "metadata": {},
   "outputs": [],
   "source": [
    "class testCallback():\n",
    "    def __init__(self):\n",
    "        self.test_list = [1,2,3]\n",
    "\n",
    "    def remove_result(self, result):\n",
    "        self.test_list.remove(result)\n",
    "        print(f\"Result removed: {result}\")"
   ]
  },
  {
   "cell_type": "code",
   "execution_count": null,
   "id": "f8a6e88f",
   "metadata": {},
   "outputs": [],
   "source": [
    "from src.AIGuardian.Tasks.Waiters.TaskComplete import TaskComplete\n",
    "\n",
    "ts = testCallback()\n",
    "waiter = TaskComplete(5, 10, callback= ts)\n",
    "\n",
    "waiter.check_conditions({'task_is': 2})"
   ]
  }
 ],
 "metadata": {
  "kernelspec": {
   "display_name": "Kafka_Spark",
   "language": "python",
   "name": "python3"
  },
  "language_info": {
   "name": "python",
   "version": "3.11.10"
  }
 },
 "nbformat": 4,
 "nbformat_minor": 5
}
