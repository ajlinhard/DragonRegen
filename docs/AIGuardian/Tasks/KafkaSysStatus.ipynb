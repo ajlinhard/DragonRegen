{
 "cells": [
  {
   "cell_type": "code",
   "execution_count": 32,
   "id": "8567738a",
   "metadata": {},
   "outputs": [
    {
     "name": "stdout",
     "output_type": "stream",
     "text": [
      "Project Path: c:\\Users\\dalej\\Documents\\_Coding\\DragonRegen\n"
     ]
    }
   ],
   "source": [
    "import os\n",
    "import sys\n",
    "\n",
    "project_path = os.path.abspath(os.path.join(os.getcwd(),'..','..','..'))\n",
    "sys.path.append(project_path)\n",
    "print(f\"Project Path: {project_path}\")"
   ]
  },
  {
   "cell_type": "code",
   "execution_count": 54,
   "id": "5e0a151f",
   "metadata": {},
   "outputs": [],
   "source": [
    "from src.MetaFort.SysLogs.KafkaEngine import KafkaEngine\n",
    "from src.MetaFort.AILoggingTopics import AILoggingTopics\n",
    "kafka_engine = KafkaEngine('localhost:9092')"
   ]
  },
  {
   "cell_type": "code",
   "execution_count": 55,
   "id": "7e387da8",
   "metadata": {},
   "outputs": [
    {
     "name": "stdout",
     "output_type": "stream",
     "text": [
      "Searching topic 'ai_tasks_completed' for value: 008d1e3e-fde2-4425-9e6c-461a38b0ad19\n",
      "This will timeout after 60 seconds if no more messages are available.\n",
      "Processing 464 messages from partition TopicPartition(topic='ai_tasks_completed', partition=0)\n",
      "Processing 462 messages from partition TopicPartition(topic='ai_tasks_completed', partition=3)\n",
      "Found match at offset 461 in partition 3\n",
      "Processing 492 messages from partition TopicPartition(topic='ai_tasks_completed', partition=4)\n",
      "Processing 513 messages from partition TopicPartition(topic='ai_tasks_completed', partition=1)\n",
      "Processing 472 messages from partition TopicPartition(topic='ai_tasks_completed', partition=2)\n",
      "Search completed in 1.19 seconds.\n",
      "Processed 2403 messages, found 1 matches.\n",
      "==============================\n",
      "Completed Messages: [{'topic': 'ai_tasks_completed', 'partition': 3, 'offset': 461, 'timestamp': 1748031635212, 'key': None, 'value': {'task_id': '008d1e3e-fde2-4425-9e6c-461a38b0ad19', 'task_name': 'SchemaRefiner', 'group_task_id': '008d1e3e-fde2-4425-9e6c-461a38b0ad19', 'insert_dt': '2025-05-23T16:20:35.211035', 'output_artifacts': '{\"companies\": {\"purpose\": \"Stores information about the companies that provide ad data\", \"fields\": [\"{\\\\\"name\\\\\": \\\\\"created_at\\\\\", \\\\\"type\\\\\": \\\\\"Timestamp\\\\\", \\\\\"nullable\\\\\": false, \\\\\"metadata\\\\\": {\\\\\"description\\\\\": \\\\\"timestamp when the record was created\\\\\", \\\\\"unique_fl\\\\\": false, \\\\\"default_value\\\\\": \\\\\"CURRENT_TIMESTAMP\\\\\", \\\\\"col_type\\\\\": null}}\", \"{\\\\\"name\\\\\": \\\\\"company_id\\\\\", \\\\\"type\\\\\": \\\\\"Integer\\\\\", \\\\\"nullable\\\\\": false, \\\\\"metadata\\\\\": {\\\\\"description\\\\\": \\\\\"unique ID for each company\\\\\", \\\\\"unique_fl\\\\\": true, \\\\\"default_value\\\\\": null, \\\\\"col_type\\\\\": null}}\", \"{\\\\\"name\\\\\": \\\\\"contact_info\\\\\", \\\\\"type\\\\\": \\\\\"JSON\\\\\", \\\\\"nullable\\\\\": true, \\\\\"metadata\\\\\": {\\\\\"description\\\\\": \\\\\"JSON object containing contact details\\\\\", \\\\\"unique_fl\\\\\": false, \\\\\"default_value\\\\\": null, \\\\\"col_type\\\\\": null}}\", \"{\\\\\"name\\\\\": \\\\\"industry\\\\\", \\\\\"type\\\\\": \\\\\"String\\\\\", \\\\\"nullable\\\\\": true, \\\\\"metadata\\\\\": {\\\\\"description\\\\\": \\\\\"Industry the company operates in.\\\\\", \\\\\"unique_fl\\\\\": false, \\\\\"default_value\\\\\": null, \\\\\"col_type\\\\\": null}}\", \"{\\\\\"name\\\\\": \\\\\"company_name\\\\\", \\\\\"type\\\\\": \\\\\"String\\\\\", \\\\\"nullable\\\\\": false, \\\\\"metadata\\\\\": {\\\\\"description\\\\\": \\\\\"name of the company\\\\\", \\\\\"unique_fl\\\\\": true, \\\\\"default_value\\\\\": null, \\\\\"col_type\\\\\": null}}\", \"{\\\\\"name\\\\\": \\\\\"updated_at\\\\\", \\\\\"type\\\\\": \\\\\"Timestamp\\\\\", \\\\\"nullable\\\\\": false, \\\\\"metadata\\\\\": {\\\\\"description\\\\\": \\\\\"timestamp when the record was last updated\\\\\", \\\\\"unique_fl\\\\\": false, \\\\\"default_value\\\\\": \\\\\"CURRENT_TIMESTAMP\\\\\", \\\\\"col_type\\\\\": null}}\"]}, \"ad_spots\": {\"purpose\": \"Records individual ad airings on TV networks\", \"fields\": [\"{\\\\\"name\\\\\": \\\\\"air_datetime\\\\\", \\\\\"type\\\\\": \\\\\"Timestamp\\\\\", \\\\\"nullable\\\\\": false, \\\\\"metadata\\\\\": {\\\\\"description\\\\\": \\\\\"exact date and time when the ad aired\\\\\", \\\\\"unique_fl\\\\\": false, \\\\\"default_value\\\\\": null, \\\\\"col_type\\\\\": null}}\", \"{\\\\\"name\\\\\": \\\\\"creative_id\\\\\", \\\\\"type\\\\\": \\\\\"Integer\\\\\", \\\\\"nullable\\\\\": false, \\\\\"metadata\\\\\": {\\\\\"description\\\\\": \\\\\"foreign key to ad_creatives table\\\\\", \\\\\"unique_fl\\\\\": false, \\\\\"default_value\\\\\": null, \\\\\"col_type\\\\\": null}}\", \"{\\\\\"name\\\\\": \\\\\"program_name\\\\\", \\\\\"type\\\\\": \\\\\"String\\\\\", \\\\\"nullable\\\\\": false, \\\\\"metadata\\\\\": {\\\\\"description\\\\\": \\\\\"name of the program during which the ad aired\\\\\", \\\\\"unique_fl\\\\\": false, \\\\\"default_value\\\\\": null, \\\\\"col_type\\\\\": null}}\", \"{\\\\\"name\\\\\": \\\\\"network_id\\\\\", \\\\\"type\\\\\": \\\\\"Integer\\\\\", \\\\\"nullable\\\\\": false, \\\\\"metadata\\\\\": {\\\\\"description\\\\\": \\\\\"Foreign key to tv_networks table that identifies the TV network where the ad was aired.\\\\\", \\\\\"unique_fl\\\\\": false, \\\\\"default_value\\\\\": null, \\\\\"col_type\\\\\": null}}\", \"{\\\\\"name\\\\\": \\\\\"cost\\\\\", \\\\\"type\\\\\": \\\\\"Decimal\\\\\", \\\\\"nullable\\\\\": true, \\\\\"metadata\\\\\": {\\\\\"description\\\\\": \\\\\"cost of the ad spot\\\\\", \\\\\"unique_fl\\\\\": false, \\\\\"default_value\\\\\": null, \\\\\"col_type\\\\\": null}}\", \"{\\\\\"name\\\\\": \\\\\"campaign_id\\\\\", \\\\\"type\\\\\": \\\\\"Integer\\\\\", \\\\\"nullable\\\\\": false, \\\\\"metadata\\\\\": {\\\\\"description\\\\\": \\\\\"foreign key to ad_campaigns table\\\\\", \\\\\"unique_fl\\\\\": false, \\\\\"default_value\\\\\": null, \\\\\"col_type\\\\\": null}}\", \"{\\\\\"name\\\\\": \\\\\"created_at\\\\\", \\\\\"type\\\\\": \\\\\"Timestamp\\\\\", \\\\\"nullable\\\\\": false, \\\\\"metadata\\\\\": {\\\\\"description\\\\\": \\\\\"timestamp when the record was created\\\\\", \\\\\"unique_fl\\\\\": false, \\\\\"default_value\\\\\": null, \\\\\"col_type\\\\\": null}}\", \"{\\\\\"name\\\\\": \\\\\"updated_at\\\\\", \\\\\"type\\\\\": \\\\\"Timestamp\\\\\", \\\\\"nullable\\\\\": false, \\\\\"metadata\\\\\": {\\\\\"description\\\\\": \\\\\"timestamp when the record was last updated\\\\\", \\\\\"unique_fl\\\\\": false, \\\\\"default_value\\\\\": null, \\\\\"col_type\\\\\": null}}\", \"{\\\\\"name\\\\\": \\\\\"duration_seconds\\\\\", \\\\\"type\\\\\": \\\\\"Integer\\\\\", \\\\\"nullable\\\\\": true, \\\\\"metadata\\\\\": {\\\\\"description\\\\\": \\\\\"actual duration of the aired spot\\\\\", \\\\\"unique_fl\\\\\": false, \\\\\"default_value\\\\\": null, \\\\\"col_type\\\\\": null}}\", \"{\\\\\"name\\\\\": \\\\\"spot_id\\\\\", \\\\\"type\\\\\": \\\\\"Integer\\\\\", \\\\\"nullable\\\\\": false, \\\\\"metadata\\\\\": {\\\\\"description\\\\\": \\\\\"unique ID for each ad spot\\\\\", \\\\\"unique_fl\\\\\": true, \\\\\"default_value\\\\\": null, \\\\\"col_type\\\\\": null}}\"]}, \"attribution_results\": {\"purpose\": \"Stores results of attribution analysis linking ads to sales\", \"fields\": [\"{\\\\\"name\\\\\": \\\\\"result_id\\\\\", \\\\\"type\\\\\": \\\\\"Integer\\\\\", \\\\\"nullable\\\\\": false, \\\\\"metadata\\\\\": {\\\\\"description\\\\\": \\\\\"unique ID for each attribution result\\\\\", \\\\\"unique_fl\\\\\": true, \\\\\"default_value\\\\\": null, \\\\\"col_type\\\\\": null}}\", \"{\\\\\"name\\\\\": \\\\\"time_period\\\\\", \\\\\"type\\\\\": \\\\\"String\\\\\", \\\\\"nullable\\\\\": false, \\\\\"metadata\\\\\": {\\\\\"description\\\\\": \\\\\"time period for the attribution analysis\\\\\", \\\\\"unique_fl\\\\\": true, \\\\\"default_value\\\\\": null, \\\\\"col_type\\\\\": null}}\", \"{\\\\\"name\\\\\": \\\\\"campaign_id\\\\\", \\\\\"type\\\\\": \\\\\"Integer\\\\\", \\\\\"nullable\\\\\": false, \\\\\"metadata\\\\\": {\\\\\"description\\\\\": \\\\\"foreign key to ad_campaigns table\\\\\", \\\\\"unique_fl\\\\\": false, \\\\\"default_value\\\\\": null, \\\\\"col_type\\\\\": null}}\", \"{\\\\\"name\\\\\": \\\\\"attribution_percentage\\\\\", \\\\\"type\\\\\": \\\\\"Float\\\\\", \\\\\"nullable\\\\\": true, \\\\\"metadata\\\\\": {\\\\\"description\\\\\": \\\\\"percentage of total sales attributed to the campaign\\\\\", \\\\\"unique_fl\\\\\": false, \\\\\"default_value\\\\\": null, \\\\\"col_type\\\\\": null}}\", \"{\\\\\"name\\\\\": \\\\\"created_at\\\\\", \\\\\"type\\\\\": \\\\\"Timestamp\\\\\", \\\\\"nullable\\\\\": false, \\\\\"metadata\\\\\": {\\\\\"description\\\\\": \\\\\"timestamp when the record was created\\\\\", \\\\\"unique_fl\\\\\": false, \\\\\"default_value\\\\\": null, \\\\\"col_type\\\\\": null}}\", \"{\\\\\"name\\\\\": \\\\\"model_id\\\\\", \\\\\"type\\\\\": \\\\\"Integer\\\\\", \\\\\"nullable\\\\\": false, \\\\\"metadata\\\\\": {\\\\\"description\\\\\": \\\\\"foreign key to attribution_models table\\\\\", \\\\\"unique_fl\\\\\": false, \\\\\"default_value\\\\\": null, \\\\\"col_type\\\\\": null}}\", \"{\\\\\"name\\\\\": \\\\\"attributed_sales\\\\\", \\\\\"type\\\\\": \\\\\"Decimal\\\\\", \\\\\"nullable\\\\\": true, \\\\\"metadata\\\\\": {\\\\\"description\\\\\": \\\\\"total sales attributed to the campaign\\\\\", \\\\\"unique_fl\\\\\": false, \\\\\"default_value\\\\\": null, \\\\\"col_type\\\\\": null}}\", \"{\\\\\"name\\\\\": \\\\\"confidence_score\\\\\", \\\\\"type\\\\\": \\\\\"Float\\\\\", \\\\\"nullable\\\\\": true, \\\\\"metadata\\\\\": {\\\\\"description\\\\\": \\\\\"Statistical confidence in the attribution between ads and sales.\\\\\", \\\\\"unique_fl\\\\\": false, \\\\\"default_value\\\\\": null, \\\\\"col_type\\\\\": null}}\", \"{\\\\\"name\\\\\": \\\\\"roi\\\\\", \\\\\"type\\\\\": \\\\\"Float\\\\\", \\\\\"nullable\\\\\": true, \\\\\"metadata\\\\\": {\\\\\"description\\\\\": \\\\\"calculated return on investment\\\\\", \\\\\"unique_fl\\\\\": false, \\\\\"default_value\\\\\": null, \\\\\"col_type\\\\\": null}}\", \"{\\\\\"name\\\\\": \\\\\"detailed_results\\\\\", \\\\\"type\\\\\": \\\\\"JSON\\\\\", \\\\\"nullable\\\\\": true, \\\\\"metadata\\\\\": {\\\\\"description\\\\\": \\\\\"JSON object with detailed attribution metrics\\\\\", \\\\\"unique_fl\\\\\": false, \\\\\"default_value\\\\\": null, \\\\\"col_type\\\\\": null}}\", \"{\\\\\"name\\\\\": \\\\\"updated_at\\\\\", \\\\\"type\\\\\": \\\\\"Timestamp\\\\\", \\\\\"nullable\\\\\": false, \\\\\"metadata\\\\\": {\\\\\"description\\\\\": \\\\\"timestamp when the record was last updated\\\\\", \\\\\"unique_fl\\\\\": false, \\\\\"default_value\\\\\": null, \\\\\"col_type\\\\\": null}}\"]}, \"data_quality_logs\": {\"purpose\": \"Logs data quality issues and validation results\", \"fields\": [\"{\\\\\"name\\\\\": \\\\\"check_type\\\\\", \\\\\"type\\\\\": \\\\\"String\\\\\", \\\\\"nullable\\\\\": false, \\\\\"metadata\\\\\": {\\\\\"description\\\\\": \\\\\"Type of quality check performed\\\\\", \\\\\"unique_fl\\\\\": false, \\\\\"default_value\\\\\": null, \\\\\"col_type\\\\\": null}}\", \"{\\\\\"name\\\\\": \\\\\"log_id\\\\\", \\\\\"type\\\\\": \\\\\"Integer\\\\\", \\\\\"nullable\\\\\": false, \\\\\"metadata\\\\\": {\\\\\"description\\\\\": \\\\\"unique ID for each log entry\\\\\", \\\\\"unique_fl\\\\\": true, \\\\\"default_value\\\\\": null, \\\\\"col_type\\\\\": null}}\", \"{\\\\\"name\\\\\": \\\\\"issues_found\\\\\", \\\\\"type\\\\\": \\\\\"Integer\\\\\", \\\\\"nullable\\\\\": true, \\\\\"metadata\\\\\": {\\\\\"description\\\\\": \\\\\"number of issues identified\\\\\", \\\\\"unique_fl\\\\\": false, \\\\\"default_value\\\\\": 0, \\\\\"col_type\\\\\": null}}\", \"{\\\\\"name\\\\\": \\\\\"source_id\\\\\", \\\\\"type\\\\\": \\\\\"Integer\\\\\", \\\\\"nullable\\\\\": false, \\\\\"metadata\\\\\": {\\\\\"description\\\\\": \\\\\"Foreign key to data_sources table that identifies the source of the data quality issue or validation result\\\\\", \\\\\"unique_fl\\\\\": false, \\\\\"default_value\\\\\": null, \\\\\"col_type\\\\\": null}}\", \"{\\\\\"name\\\\\": \\\\\"updated_at\\\\\", \\\\\"type\\\\\": \\\\\"Timestamp\\\\\", \\\\\"nullable\\\\\": false, \\\\\"metadata\\\\\": {\\\\\"description\\\\\": \\\\\"timestamp when the record was last updated\\\\\", \\\\\"unique_fl\\\\\": false, \\\\\"default_value\\\\\": \\\\\"CURRENT_TIMESTAMP\\\\\", \\\\\"col_type\\\\\": null}}\", \"{\\\\\"name\\\\\": \\\\\"check_datetime\\\\\", \\\\\"type\\\\\": \\\\\"Timestamp\\\\\", \\\\\"nullable\\\\\": false, \\\\\"metadata\\\\\": {\\\\\"description\\\\\": \\\\\"when the quality check was performed\\\\\", \\\\\"unique_fl\\\\\": false, \\\\\"default_value\\\\\": null, \\\\\"col_type\\\\\": null}}\", \"{\\\\\"name\\\\\": \\\\\"created_at\\\\\", \\\\\"type\\\\\": \\\\\"Timestamp\\\\\", \\\\\"nullable\\\\\": false, \\\\\"metadata\\\\\": {\\\\\"description\\\\\": \\\\\"timestamp when the record was created\\\\\", \\\\\"unique_fl\\\\\": false, \\\\\"default_value\\\\\": \\\\\"CURRENT_TIMESTAMP\\\\\", \\\\\"col_type\\\\\": null}}\", \"{\\\\\"name\\\\\": \\\\\"resolution_status\\\\\", \\\\\"type\\\\\": \\\\\"String\\\\\", \\\\\"nullable\\\\\": true, \\\\\"metadata\\\\\": {\\\\\"description\\\\\": \\\\\"Status of issue resolution\\\\\", \\\\\"unique_fl\\\\\": false, \\\\\"default_value\\\\\": null, \\\\\"col_type\\\\\": null}}\", \"{\\\\\"name\\\\\": \\\\\"details\\\\\", \\\\\"type\\\\\": \\\\\"JSON\\\\\", \\\\\"nullable\\\\\": true, \\\\\"metadata\\\\\": {\\\\\"description\\\\\": \\\\\"JSON object with detailed information about issues\\\\\", \\\\\"unique_fl\\\\\": false, \\\\\"default_value\\\\\": null, \\\\\"col_type\\\\\": null}}\", \"{\\\\\"name\\\\\": \\\\\"status\\\\\", \\\\\"type\\\\\": \\\\\"String\\\\\", \\\\\"nullable\\\\\": false, \\\\\"metadata\\\\\": {\\\\\"description\\\\\": \\\\\"Result of the quality check (pass/fail)\\\\\", \\\\\"unique_fl\\\\\": false, \\\\\"default_value\\\\\": null, \\\\\"col_type\\\\\": null}}\"]}, \"attribution_models\": {\"purpose\": \"Defines different attribution models for analyzing ad effectiveness\", \"fields\": [\"{\\\\\"name\\\\\": \\\\\"created_at\\\\\", \\\\\"type\\\\\": \\\\\"Timestamp\\\\\", \\\\\"nullable\\\\\": false, \\\\\"metadata\\\\\": {\\\\\"description\\\\\": \\\\\"timestamp when the record was created\\\\\", \\\\\"unique_fl\\\\\": false, \\\\\"default_value\\\\\": null, \\\\\"col_type\\\\\": null}}\", \"{\\\\\"name\\\\\": \\\\\"model_id\\\\\", \\\\\"type\\\\\": \\\\\"Integer\\\\\", \\\\\"nullable\\\\\": false, \\\\\"metadata\\\\\": {\\\\\"description\\\\\": \\\\\"unique ID for each attribution model\\\\\", \\\\\"unique_fl\\\\\": true, \\\\\"default_value\\\\\": null, \\\\\"col_type\\\\\": null}}\", \"{\\\\\"name\\\\\": \\\\\"description\\\\\", \\\\\"type\\\\\": \\\\\"String\\\\\", \\\\\"nullable\\\\\": false, \\\\\"metadata\\\\\": {\\\\\"description\\\\\": \\\\\"detailed description of how the model works\\\\\", \\\\\"col_type\\\\\": null}}\", \"{\\\\\"name\\\\\": \\\\\"updated_at\\\\\", \\\\\"type\\\\\": \\\\\"Timestamp\\\\\", \\\\\"nullable\\\\\": true, \\\\\"metadata\\\\\": {\\\\\"description\\\\\": \\\\\"timestamp when the record was last updated\\\\\", \\\\\"unique_fl\\\\\": false, \\\\\"default_value\\\\\": null, \\\\\"col_type\\\\\": null}}\", \"{\\\\\"name\\\\\": \\\\\"model_name\\\\\", \\\\\"type\\\\\": \\\\\"String\\\\\", \\\\\"nullable\\\\\": false, \\\\\"metadata\\\\\": {\\\\\"description\\\\\": \\\\\"name of the attribution model\\\\\", \\\\\"unique_fl\\\\\": true, \\\\\"default_value\\\\\": null, \\\\\"col_type\\\\\": null}}\", \"{\\\\\"name\\\\\": \\\\\"created_by\\\\\", \\\\\"type\\\\\": \\\\\"String\\\\\", \\\\\"nullable\\\\\": false, \\\\\"metadata\\\\\": {\\\\\"description\\\\\": \\\\\"user who created the model\\\\\", \\\\\"unique_fl\\\\\": false, \\\\\"default_value\\\\\": null, \\\\\"col_type\\\\\": null}}\", \"{\\\\\"name\\\\\": \\\\\"parameters\\\\\", \\\\\"type\\\\\": \\\\\"JSON\\\\\", \\\\\"nullable\\\\\": true, \\\\\"metadata\\\\\": {\\\\\"description\\\\\": \\\\\"JSON object containing model parameters for different attribution models used in analyzing ad effectiveness\\\\\", \\\\\"unique_fl\\\\\": false, \\\\\"default_value\\\\\": null, \\\\\"col_type\\\\\": null}}\"]}, \"data_sources\": {\"purpose\": \"Tracks the various data sources feeding into the system\", \"fields\": [\"{\\\\\"name\\\\\": \\\\\"company_id\\\\\", \\\\\"type\\\\\": \\\\\"Integer\\\\\", \\\\\"nullable\\\\\": false, \\\\\"metadata\\\\\": {\\\\\"description\\\\\": \\\\\"foreign key to companies table\\\\\", \\\\\"unique_fl\\\\\": false, \\\\\"default_value\\\\\": null, \\\\\"col_type\\\\\": null}}\", \"{\\\\\"name\\\\\": \\\\\"status\\\\\", \\\\\"type\\\\\": \\\\\"String\\\\\", \\\\\"nullable\\\\\": false, \\\\\"metadata\\\\\": {\\\\\"description\\\\\": \\\\\"current status of the data source\\\\\", \\\\\"unique_fl\\\\\": false, \\\\\"default_value\\\\\": null, \\\\\"col_type\\\\\": null}}\", \"{\\\\\"name\\\\\": \\\\\"updated_at\\\\\", \\\\\"type\\\\\": \\\\\"Timestamp\\\\\", \\\\\"nullable\\\\\": false, \\\\\"metadata\\\\\": {\\\\\"description\\\\\": \\\\\"timestamp when the record was last updated\\\\\", \\\\\"unique_fl\\\\\": false, \\\\\"default_value\\\\\": \\\\\"CURRENT_TIMESTAMP\\\\\", \\\\\"col_type\\\\\": null}}\", \"{\\\\\"name\\\\\": \\\\\"created_at\\\\\", \\\\\"type\\\\\": \\\\\"Timestamp\\\\\", \\\\\"nullable\\\\\": false, \\\\\"metadata\\\\\": {\\\\\"description\\\\\": \\\\\"timestamp when the record was created\\\\\", \\\\\"unique_fl\\\\\": false, \\\\\"default_value\\\\\": \\\\\"CURRENT_TIMESTAMP\\\\\", \\\\\"col_type\\\\\": null}}\", \"{\\\\\"name\\\\\": \\\\\"source_id\\\\\", \\\\\"type\\\\\": \\\\\"Integer\\\\\", \\\\\"nullable\\\\\": false, \\\\\"metadata\\\\\": {\\\\\"description\\\\\": \\\\\"unique ID for each data source\\\\\", \\\\\"unique_fl\\\\\": true, \\\\\"default_value\\\\\": null, \\\\\"col_type\\\\\": null}}\", \"{\\\\\"name\\\\\": \\\\\"source_name\\\\\", \\\\\"type\\\\\": \\\\\"String\\\\\", \\\\\"nullable\\\\\": false, \\\\\"metadata\\\\\": {\\\\\"description\\\\\": \\\\\"name of the data source\\\\\", \\\\\"unique_fl\\\\\": true, \\\\\"default_value\\\\\": null, \\\\\"col_type\\\\\": null}}\", \"{\\\\\"name\\\\\": \\\\\"refresh_frequency\\\\\", \\\\\"type\\\\\": \\\\\"String\\\\\", \\\\\"nullable\\\\\": true, \\\\\"metadata\\\\\": {\\\\\"description\\\\\": \\\\\"how often the data is updated\\\\\", \\\\\"unique_fl\\\\\": false, \\\\\"default_value\\\\\": null, \\\\\"col_type\\\\\": null}}\", \"{\\\\\"name\\\\\": \\\\\"connection_details\\\\\", \\\\\"type\\\\\": \\\\\"JSON\\\\\", \\\\\"nullable\\\\\": true, \\\\\"metadata\\\\\": {\\\\\"description\\\\\": \\\\\"JSON object with connection parameters\\\\\", \\\\\"unique_fl\\\\\": false, \\\\\"default_value\\\\\": null, \\\\\"col_type\\\\\": null}}\", \"{\\\\\"name\\\\\": \\\\\"source_type\\\\\", \\\\\"type\\\\\": \\\\\"String\\\\\", \\\\\"nullable\\\\\": false, \\\\\"metadata\\\\\": {\\\\\"description\\\\\": \\\\\"type of data provided (sales, ad spots, etc.)\\\\\", \\\\\"unique_fl\\\\\": true, \\\\\"default_value\\\\\": null, \\\\\"col_type\\\\\": null}}\", \"{\\\\\"name\\\\\": \\\\\"data_format\\\\\", \\\\\"type\\\\\": \\\\\"String\\\\\", \\\\\"nullable\\\\\": true, \\\\\"metadata\\\\\": {\\\\\"description\\\\\": \\\\\"format of the incoming data\\\\\", \\\\\"unique_fl\\\\\": false, \\\\\"default_value\\\\\": null, \\\\\"col_type\\\\\": null}}\"]}, \"ad_campaigns\": {\"purpose\": \"Tracks television ad campaigns run by companies\", \"fields\": [\"{\\\\\"name\\\\\": \\\\\"campaign_id\\\\\", \\\\\"type\\\\\": \\\\\"Integer\\\\\", \\\\\"nullable\\\\\": false, \\\\\"metadata\\\\\": {\\\\\"description\\\\\": \\\\\"unique ID for each campaign\\\\\", \\\\\"unique_fl\\\\\": true, \\\\\"default_value\\\\\": null, \\\\\"col_type\\\\\": null}}\", \"{\\\\\"name\\\\\": \\\\\"company_id\\\\\", \\\\\"type\\\\\": \\\\\"Integer\\\\\", \\\\\"nullable\\\\\": false, \\\\\"metadata\\\\\": {\\\\\"description\\\\\": \\\\\"Foreign key to companies table that identifies which company ran the television ad campaign.\\\\\", \\\\\"unique_fl\\\\\": false, \\\\\"default_value\\\\\": null, \\\\\"col_type\\\\\": null}}\", \"{\\\\\"name\\\\\": \\\\\"goals\\\\\", \\\\\"type\\\\\": \\\\\"String\\\\\", \\\\\"nullable\\\\\": true, \\\\\"metadata\\\\\": {\\\\\"description\\\\\": \\\\\"campaign objectives and KPIs\\\\\", \\\\\"unique_fl\\\\\": false, \\\\\"default_value\\\\\": null, \\\\\"col_type\\\\\": null}}\", \"{\\\\\"name\\\\\": \\\\\"end_date\\\\\", \\\\\"type\\\\\": \\\\\"Date\\\\\", \\\\\"nullable\\\\\": true, \\\\\"metadata\\\\\": {\\\\\"description\\\\\": \\\\\"end date of the campaign\\\\\", \\\\\"unique_fl\\\\\": false, \\\\\"default_value\\\\\": null, \\\\\"col_type\\\\\": null}}\", \"{\\\\\"name\\\\\": \\\\\"status\\\\\", \\\\\"type\\\\\": \\\\\"String\\\\\", \\\\\"nullable\\\\\": false, \\\\\"metadata\\\\\": {\\\\\"description\\\\\": \\\\\"current status of the campaign (active, completed, paused)\\\\\", \\\\\"unique_fl\\\\\": false, \\\\\"default_value\\\\\": \\\\\"active\\\\\", \\\\\"col_type\\\\\": null}}\", \"{\\\\\"name\\\\\": \\\\\"campaign_name\\\\\", \\\\\"type\\\\\": \\\\\"String\\\\\", \\\\\"nullable\\\\\": false, \\\\\"metadata\\\\\": {\\\\\"description\\\\\": \\\\\"name of the campaign\\\\\", \\\\\"unique_fl\\\\\": true, \\\\\"default_value\\\\\": null, \\\\\"col_type\\\\\": null}}\", \"{\\\\\"name\\\\\": \\\\\"start_date\\\\\", \\\\\"type\\\\\": \\\\\"Date\\\\\", \\\\\"nullable\\\\\": false, \\\\\"metadata\\\\\": {\\\\\"description\\\\\": \\\\\"start date of the campaign\\\\\", \\\\\"unique_fl\\\\\": false, \\\\\"default_value\\\\\": null, \\\\\"col_type\\\\\": null}}\", \"{\\\\\"name\\\\\": \\\\\"budget\\\\\", \\\\\"type\\\\\": \\\\\"Decimal\\\\\", \\\\\"nullable\\\\\": false, \\\\\"metadata\\\\\": {\\\\\"description\\\\\": \\\\\"total budget allocated for the campaign\\\\\", \\\\\"unique_fl\\\\\": false, \\\\\"default_value\\\\\": null, \\\\\"col_type\\\\\": null}}\", \"{\\\\\"name\\\\\": \\\\\"target_audience\\\\\", \\\\\"type\\\\\": \\\\\"JSON\\\\\", \\\\\"nullable\\\\\": true, \\\\\"metadata\\\\\": {\\\\\"description\\\\\": \\\\\"JSON object describing target demographics\\\\\", \\\\\"unique_fl\\\\\": false, \\\\\"default_value\\\\\": null, \\\\\"col_type\\\\\": null}}\", \"{\\\\\"name\\\\\": \\\\\"created_at\\\\\", \\\\\"type\\\\\": \\\\\"Timestamp\\\\\", \\\\\"nullable\\\\\": false, \\\\\"metadata\\\\\": {\\\\\"description\\\\\": \\\\\"timestamp when the record was created\\\\\", \\\\\"unique_fl\\\\\": false, \\\\\"default_value\\\\\": \\\\\"CURRENT_TIMESTAMP\\\\\", \\\\\"col_type\\\\\": null}}\", \"{\\\\\"name\\\\\": \\\\\"updated_at\\\\\", \\\\\"type\\\\\": \\\\\"Timestamp\\\\\", \\\\\"nullable\\\\\": false, \\\\\"metadata\\\\\": {\\\\\"description\\\\\": \\\\\"timestamp when the record was last updated\\\\\", \\\\\"unique_fl\\\\\": false, \\\\\"default_value\\\\\": \\\\\"CURRENT_TIMESTAMP\\\\\", \\\\\"col_type\\\\\": null}}\"]}, \"ad_creatives\": {\"purpose\": \"Stores details about the creative content of ads\", \"fields\": [\"{\\\\\"name\\\\\": \\\\\"content_url\\\\\", \\\\\"type\\\\\": \\\\\"String\\\\\", \\\\\"nullable\\\\\": true, \\\\\"metadata\\\\\": {\\\\\"description\\\\\": \\\\\"URL to the creative content\\\\\", \\\\\"unique_fl\\\\\": false, \\\\\"default_value\\\\\": null, \\\\\"col_type\\\\\": null}}\", \"{\\\\\"name\\\\\": \\\\\"creative_id\\\\\", \\\\\"type\\\\\": \\\\\"Integer\\\\\", \\\\\"nullable\\\\\": false, \\\\\"metadata\\\\\": {\\\\\"description\\\\\": \\\\\"unique ID for each creative\\\\\", \\\\\"unique_fl\\\\\": true, \\\\\"default_value\\\\\": null, \\\\\"col_type\\\\\": null}}\", \"{\\\\\"name\\\\\": \\\\\"campaign_id\\\\\", \\\\\"type\\\\\": \\\\\"Integer\\\\\", \\\\\"nullable\\\\\": false, \\\\\"metadata\\\\\": {\\\\\"description\\\\\": \\\\\"foreign key to ad_campaigns table\\\\\", \\\\\"unique_fl\\\\\": false, \\\\\"default_value\\\\\": null, \\\\\"col_type\\\\\": null}}\", \"{\\\\\"name\\\\\": \\\\\"duration_seconds\\\\\", \\\\\"type\\\\\": \\\\\"Integer\\\\\", \\\\\"nullable\\\\\": true, \\\\\"metadata\\\\\": {\\\\\"description\\\\\": \\\\\"length of the ad in seconds\\\\\", \\\\\"unique_fl\\\\\": false, \\\\\"default_value\\\\\": null, \\\\\"col_type\\\\\": null}}\", \"{\\\\\"name\\\\\": \\\\\"creative_name\\\\\", \\\\\"type\\\\\": \\\\\"String\\\\\", \\\\\"nullable\\\\\": false, \\\\\"metadata\\\\\": {\\\\\"description\\\\\": \\\\\"name of the creative\\\\\", \\\\\"unique_fl\\\\\": true, \\\\\"default_value\\\\\": null, \\\\\"col_type\\\\\": null}}\", \"{\\\\\"name\\\\\": \\\\\"format\\\\\", \\\\\"type\\\\\": \\\\\"String\\\\\", \\\\\"nullable\\\\\": true, \\\\\"metadata\\\\\": {\\\\\"description\\\\\": \\\\\"format of the ad (video, animation, etc.)\\\\\", \\\\\"unique_fl\\\\\": false, \\\\\"default_value\\\\\": null, \\\\\"col_type\\\\\": null}}\", \"{\\\\\"name\\\\\": \\\\\"created_at\\\\\", \\\\\"type\\\\\": \\\\\"Timestamp\\\\\", \\\\\"nullable\\\\\": false, \\\\\"metadata\\\\\": {\\\\\"description\\\\\": \\\\\"timestamp when the record was created\\\\\", \\\\\"unique_fl\\\\\": false, \\\\\"default_value\\\\\": null, \\\\\"col_type\\\\\": null}}\", \"{\\\\\"name\\\\\": \\\\\"updated_at\\\\\", \\\\\"type\\\\\": \\\\\"Timestamp\\\\\", \\\\\"nullable\\\\\": false, \\\\\"metadata\\\\\": {\\\\\"description\\\\\": \\\\\"timestamp when the record was last updated\\\\\", \\\\\"unique_fl\\\\\": false, \\\\\"default_value\\\\\": \\\\\"CURRENT_TIMESTAMP\\\\\", \\\\\"col_type\\\\\": null}}\", \"{\\\\\"name\\\\\": \\\\\"metadata\\\\\", \\\\\"type\\\\\": \\\\\"JSON\\\\\", \\\\\"nullable\\\\\": true, \\\\\"metadata\\\\\": {\\\\\"description\\\\\": \\\\\"JSON object with additional creative details for ads\\\\\", \\\\\"unique_fl\\\\\": false, \\\\\"default_value\\\\\": null, \\\\\"col_type\\\\\": null}}\"]}, \"sales_data\": {\"purpose\": \"Stores sales information for attribution analysis\", \"fields\": [\"{\\\\\"name\\\\\": \\\\\"customer_id\\\\\", \\\\\"type\\\\\": \\\\\"String\\\\\", \\\\\"nullable\\\\\": false, \\\\\"metadata\\\\\": {\\\\\"description\\\\\": \\\\\"anonymized customer identifier\\\\\", \\\\\"unique_fl\\\\\": true, \\\\\"default_value\\\\\": null, \\\\\"col_type\\\\\": null}}\", \"{\\\\\"name\\\\\": \\\\\"updated_at\\\\\", \\\\\"type\\\\\": \\\\\"Timestamp\\\\\", \\\\\"nullable\\\\\": true, \\\\\"metadata\\\\\": {\\\\\"description\\\\\": \\\\\"timestamp when the record was last updated\\\\\", \\\\\"unique_fl\\\\\": false, \\\\\"default_value\\\\\": null, \\\\\"col_type\\\\\": null}}\", \"{\\\\\"name\\\\\": \\\\\"sale_id\\\\\", \\\\\"type\\\\\": \\\\\"Integer\\\\\", \\\\\"nullable\\\\\": false, \\\\\"metadata\\\\\": {\\\\\"description\\\\\": \\\\\"unique ID for each sale record\\\\\", \\\\\"unique_fl\\\\\": true, \\\\\"default_value\\\\\": null, \\\\\"col_type\\\\\": null}}\", \"{\\\\\"name\\\\\": \\\\\"company_id\\\\\", \\\\\"type\\\\\": \\\\\"Integer\\\\\", \\\\\"nullable\\\\\": false, \\\\\"metadata\\\\\": {\\\\\"description\\\\\": \\\\\"foreign key to companies table\\\\\", \\\\\"unique_fl\\\\\": false, \\\\\"default_value\\\\\": null, \\\\\"col_type\\\\\": null}}\", \"{\\\\\"name\\\\\": \\\\\"units_sold\\\\\", \\\\\"type\\\\\": \\\\\"Integer\\\\\", \\\\\"nullable\\\\\": true, \\\\\"metadata\\\\\": {\\\\\"description\\\\\": \\\\\"number of units sold\\\\\", \\\\\"unique_fl\\\\\": false, \\\\\"default_value\\\\\": null, \\\\\"col_type\\\\\": null}}\", \"{\\\\\"name\\\\\": \\\\\"created_at\\\\\", \\\\\"type\\\\\": \\\\\"Timestamp\\\\\", \\\\\"nullable\\\\\": false, \\\\\"metadata\\\\\": {\\\\\"description\\\\\": \\\\\"timestamp when the record was created\\\\\", \\\\\"unique_fl\\\\\": false, \\\\\"default_value\\\\\": null, \\\\\"col_type\\\\\": null}}\", \"{\\\\\"name\\\\\": \\\\\"product_id\\\\\", \\\\\"type\\\\\": \\\\\"String\\\\\", \\\\\"nullable\\\\\": false, \\\\\"metadata\\\\\": {\\\\\"description\\\\\": \\\\\"identifier for the product sold\\\\\", \\\\\"unique_fl\\\\\": true, \\\\\"default_value\\\\\": null, \\\\\"col_type\\\\\": null}}\", \"{\\\\\"name\\\\\": \\\\\"location\\\\\", \\\\\"type\\\\\": \\\\\"String\\\\\", \\\\\"nullable\\\\\": true, \\\\\"metadata\\\\\": {\\\\\"description\\\\\": \\\\\"geographic location of the sale\\\\\", \\\\\"unique_fl\\\\\": false, \\\\\"default_value\\\\\": null, \\\\\"col_type\\\\\": null}}\", \"{\\\\\"name\\\\\": \\\\\"sale_datetime\\\\\", \\\\\"type\\\\\": \\\\\"Timestamp\\\\\", \\\\\"nullable\\\\\": false, \\\\\"metadata\\\\\": {\\\\\"description\\\\\": \\\\\"date and time of the sale\\\\\", \\\\\"unique_fl\\\\\": false, \\\\\"default_value\\\\\": null, \\\\\"col_type\\\\\": null}}\", \"{\\\\\"name\\\\\": \\\\\"amount\\\\\", \\\\\"type\\\\\": \\\\\"Decimal\\\\\", \\\\\"nullable\\\\\": false, \\\\\"metadata\\\\\": {\\\\\"description\\\\\": \\\\\"monetary value of the sale\\\\\", \\\\\"unique_fl\\\\\": false, \\\\\"default_value\\\\\": null, \\\\\"col_type\\\\\": null}}\", \"{\\\\\"name\\\\\": \\\\\"channel\\\\\", \\\\\"type\\\\\": \\\\\"String\\\\\", \\\\\"nullable\\\\\": false, \\\\\"metadata\\\\\": {\\\\\"description\\\\\": \\\\\"sales channel (online, in-store, etc.)\\\\\", \\\\\"unique_fl\\\\\": false, \\\\\"default_value\\\\\": null, \\\\\"col_type\\\\\": null}}\"]}, \"tv_networks\": {\"purpose\": \"Information about television networks where ads are aired\", \"fields\": [\"{\\\\\"name\\\\\": \\\\\"audience_demographics\\\\\", \\\\\"type\\\\\": \\\\\"JSON\\\\\", \\\\\"nullable\\\\\": true, \\\\\"metadata\\\\\": {\\\\\"description\\\\\": \\\\\"JSON object with viewer demographic information.\\\\\", \\\\\"unique_fl\\\\\": false, \\\\\"default_value\\\\\": null, \\\\\"col_type\\\\\": null}}\", \"{\\\\\"name\\\\\": \\\\\"reach\\\\\", \\\\\"type\\\\\": \\\\\"Integer\\\\\", \\\\\"nullable\\\\\": true, \\\\\"metadata\\\\\": {\\\\\"description\\\\\": \\\\\"estimated viewer reach\\\\\", \\\\\"unique_fl\\\\\": false, \\\\\"default_value\\\\\": null, \\\\\"col_type\\\\\": null}}\", \"{\\\\\"name\\\\\": \\\\\"network_id\\\\\", \\\\\"type\\\\\": \\\\\"Integer\\\\\", \\\\\"nullable\\\\\": false, \\\\\"metadata\\\\\": {\\\\\"description\\\\\": \\\\\"unique ID for each network\\\\\", \\\\\"unique_fl\\\\\": true, \\\\\"default_value\\\\\": null, \\\\\"col_type\\\\\": null}}\", \"{\\\\\"name\\\\\": \\\\\"updated_at\\\\\", \\\\\"type\\\\\": \\\\\"Timestamp\\\\\", \\\\\"nullable\\\\\": false, \\\\\"metadata\\\\\": {\\\\\"description\\\\\": \\\\\"timestamp when the record was last updated\\\\\", \\\\\"unique_fl\\\\\": false, \\\\\"default_value\\\\\": \\\\\"CURRENT_TIMESTAMP\\\\\", \\\\\"col_type\\\\\": null}}\", \"{\\\\\"name\\\\\": \\\\\"network_name\\\\\", \\\\\"type\\\\\": \\\\\"String\\\\\", \\\\\"nullable\\\\\": false, \\\\\"metadata\\\\\": {\\\\\"description\\\\\": \\\\\"name of the TV network\\\\\", \\\\\"unique_fl\\\\\": true, \\\\\"default_value\\\\\": null, \\\\\"col_type\\\\\": null}}\", \"{\\\\\"name\\\\\": \\\\\"network_type\\\\\", \\\\\"type\\\\\": \\\\\"String\\\\\", \\\\\"nullable\\\\\": false, \\\\\"metadata\\\\\": {\\\\\"description\\\\\": \\\\\"type of network (cable, broadcast, streaming)\\\\\", \\\\\"unique_fl\\\\\": false, \\\\\"default_value\\\\\": null, \\\\\"col_type\\\\\": null}}\", \"{\\\\\"name\\\\\": \\\\\"created_at\\\\\", \\\\\"type\\\\\": \\\\\"Timestamp\\\\\", \\\\\"nullable\\\\\": false, \\\\\"metadata\\\\\": {\\\\\"description\\\\\": \\\\\"timestamp when the record was created\\\\\", \\\\\"unique_fl\\\\\": false, \\\\\"default_value\\\\\": \\\\\"CURRENT_TIMESTAMP\\\\\", \\\\\"col_type\\\\\": null}}\"]}}'}}]\n"
     ]
    }
   ],
   "source": [
    "# batch_messages = kafka_engine.search_batch_topic(AILoggingTopics.AI_TASK_COMPLETED_TOPIC, search_value='9e7de1ad-c8c4-42af-b3f8-efe55c801b7e', search_key='task_id')\n",
    "batch_messages = kafka_engine.search_batch_topic(AILoggingTopics.AI_TASK_COMPLETED_TOPIC, search_value='008d1e3e-fde2-4425-9e6c-461a38b0ad19', search_key='task_id')\n",
    "print(\"=\"*30)\n",
    "print(f\"Completed Messages: {batch_messages}\")\n"
   ]
  },
  {
   "cell_type": "code",
   "execution_count": 43,
   "id": "dc7bfe49",
   "metadata": {},
   "outputs": [],
   "source": [
    "from kafka import KafkaConsumer\n",
    "from src.MetaFort.AILoggingTopics import AILoggingTopics\n",
    "\n",
    "kc = KafkaConsumer(\n",
    "                    AILoggingTopics.AI_TASK_COMPLETED_TOPIC,\n",
    "                    bootstrap_servers=['localhost:9092'],\n",
    "                    group_id=f'task-completed-early-12345',\n",
    "                    auto_offset_reset='earliest',)\n",
    "\n",
    "log_list = kc.poll(timeout_ms=1000)\n",
    "\n",
    "for topic_partition, messages in log_list.items():\n",
    "    print(f\"Topic: {topic_partition.topic}, Partition: {topic_partition.partition}\")\n",
    "    for message in messages:\n",
    "        print(f\"Message: {message.value.decode('utf-8')}\")\n",
    "        # Here you can add your logic to process the message"
   ]
  },
  {
   "cell_type": "code",
   "execution_count": 46,
   "id": "a5052e33",
   "metadata": {},
   "outputs": [
    {
     "name": "stdout",
     "output_type": "stream",
     "text": [
      "{}\n"
     ]
    }
   ],
   "source": [
    "print(log_list)"
   ]
  },
  {
   "cell_type": "code",
   "execution_count": 49,
   "id": "2a46df64",
   "metadata": {},
   "outputs": [
    {
     "name": "stdout",
     "output_type": "stream",
     "text": [
      "{}\n"
     ]
    }
   ],
   "source": [
    "log_list = kc.poll(timeout_ms=1000)\n",
    "\n",
    "for topic_partition, messages in log_list.items():\n",
    "    print(f\"Topic: {topic_partition.topic}, Partition: {topic_partition.partition}\")\n",
    "    for message in messages:\n",
    "        print(f\"Message: {message.value.decode('utf-8')}\")\n",
    "        # Here you can add your logic to process the message\n",
    "print(log_list)\n"
   ]
  },
  {
   "cell_type": "markdown",
   "id": "5b476531",
   "metadata": {},
   "source": [
    "## Examine Kafka Consumer Group IDs\n",
    "Look at the current committed offsets of each kafka consumer group_id"
   ]
  },
  {
   "cell_type": "code",
   "execution_count": 51,
   "id": "bc090720",
   "metadata": {},
   "outputs": [
    {
     "name": "stdout",
     "output_type": "stream",
     "text": [
      "\n",
      "Group: task-completed-ef19d41d-a503-42ff-9dcf-6920c21f6b78\n",
      "  Topic: ai_tasks_completed, Partition: 1, Offset: 139\n",
      "    end_offset: 139\n",
      "    consumer_position: 139\n",
      "    Lag: 0\n",
      "  Topic: ai_tasks_completed, Partition: 2, Offset: 129\n",
      "    end_offset: 129\n",
      "    consumer_position: 129\n",
      "    Lag: 0\n",
      "  Topic: ai_tasks_completed, Partition: 4, Offset: 154\n",
      "    end_offset: 154\n",
      "    consumer_position: 154\n",
      "    Lag: 0\n",
      "  Topic: ai_tasks_completed, Partition: 3, Offset: 127\n",
      "    end_offset: 127\n",
      "    consumer_position: 127\n",
      "    Lag: 0\n",
      "  Topic: ai_tasks_completed, Partition: 0, Offset: 126\n",
      "    end_offset: 126\n",
      "    consumer_position: 126\n",
      "    Lag: 0\n"
     ]
    }
   ],
   "source": [
    "group_id = 'task-completed-ef19d41d-a503-42ff-9dcf-6920c21f6b78'\n",
    "\n",
    "# Initialize the admin client\n",
    "admin_client = KafkaAdminClient(bootstrap_servers=['localhost:9092'])\n",
    "\n",
    "# Create a consumer to get end offsets\n",
    "consumer = KafkaConsumer(bootstrap_servers=['localhost:9092'])\n",
    "\n",
    "offsets = admin_client.list_consumer_group_offsets(group_id)\n",
    "    \n",
    "print(f\"\\nGroup: {group_id}\")\n",
    "for tp, offset_info in offsets.items():\n",
    "    print(f\"  Topic: {tp.topic}, Partition: {tp.partition}, Offset: {offset_info.offset}\")\n",
    "    \n",
    "    # Optional: Get lag by comparing with end offsets\n",
    "    consumer_position = offset_info.offset\n",
    "    \n",
    "    # Create a TopicPartition object\n",
    "    topic_partition = TopicPartition(tp.topic, tp.partition)\n",
    "    \n",
    "    # Get the end offset for this topic-partition using the consumer\n",
    "    consumer.assign([topic_partition])\n",
    "    end_offset = consumer.end_offsets([topic_partition])[topic_partition]\n",
    "    \n",
    "    # Calculate lag\n",
    "    lag = end_offset - consumer_position\n",
    "    print(f\"    end_offset: {end_offset}\")\n",
    "    print(f\"    consumer_position: {consumer_position}\")\n",
    "    print(f\"    Lag: {lag}\")"
   ]
  },
  {
   "cell_type": "code",
   "execution_count": 48,
   "id": "4d48728d",
   "metadata": {},
   "outputs": [
    {
     "name": "stdout",
     "output_type": "stream",
     "text": [
      "Available consumer groups: ['task-completed-early-12345', 'task-completed_early-1234', 'default', 'task-completed-1234', 'action-agent', 'column_sub']\n",
      "\n",
      "Group: task-completed-early-12345\n",
      "  Topic: ai_tasks_completed, Partition: 1, Offset: 0\n",
      "    end_offset: 64\n",
      "    consumer_position: 0\n",
      "    Lag: 64\n",
      "  Topic: ai_tasks_completed, Partition: 2, Offset: 0\n",
      "    end_offset: 62\n",
      "    consumer_position: 0\n",
      "    Lag: 62\n",
      "  Topic: ai_tasks_completed, Partition: 4, Offset: 0\n",
      "    end_offset: 70\n",
      "    consumer_position: 0\n",
      "    Lag: 70\n",
      "  Topic: ai_tasks_completed, Partition: 3, Offset: 0\n",
      "    end_offset: 62\n",
      "    consumer_position: 0\n",
      "    Lag: 62\n",
      "  Topic: ai_tasks_completed, Partition: 0, Offset: 0\n",
      "    end_offset: 63\n",
      "    consumer_position: 0\n",
      "    Lag: 63\n",
      "\n",
      "Group: task-completed_early-1234\n",
      "\n",
      "Group: default\n",
      "  Topic: ai_tasks_completed, Partition: 1, Offset: 64\n",
      "    end_offset: 64\n",
      "    consumer_position: 64\n",
      "    Lag: 0\n",
      "  Topic: ai_tasks_completed, Partition: 2, Offset: 62\n",
      "    end_offset: 62\n",
      "    consumer_position: 62\n",
      "    Lag: 0\n",
      "  Topic: ai_tasks_completed, Partition: 4, Offset: 70\n",
      "    end_offset: 70\n",
      "    consumer_position: 70\n",
      "    Lag: 0\n",
      "  Topic: ai_tasks_completed, Partition: 3, Offset: 62\n",
      "    end_offset: 62\n",
      "    consumer_position: 62\n",
      "    Lag: 0\n",
      "  Topic: ai_tasks_completed, Partition: 0, Offset: 63\n",
      "    end_offset: 63\n",
      "    consumer_position: 63\n",
      "    Lag: 0\n",
      "\n",
      "Group: task-completed-1234\n",
      "  Topic: ai_tasks_completed, Partition: 1, Offset: 64\n",
      "    end_offset: 64\n",
      "    consumer_position: 64\n",
      "    Lag: 0\n",
      "  Topic: ai_tasks_completed, Partition: 2, Offset: 62\n",
      "    end_offset: 62\n",
      "    consumer_position: 62\n",
      "    Lag: 0\n",
      "  Topic: ai_tasks_completed, Partition: 4, Offset: 70\n",
      "    end_offset: 70\n",
      "    consumer_position: 70\n",
      "    Lag: 0\n",
      "  Topic: ai_tasks_completed, Partition: 3, Offset: 62\n",
      "    end_offset: 62\n",
      "    consumer_position: 62\n",
      "    Lag: 0\n",
      "  Topic: ai_tasks_completed, Partition: 0, Offset: 63\n",
      "    end_offset: 63\n",
      "    consumer_position: 63\n",
      "    Lag: 0\n",
      "\n",
      "Group: action-agent\n",
      "  Topic: ai_tasks, Partition: 3, Offset: 76\n",
      "    end_offset: 76\n",
      "    consumer_position: 76\n",
      "    Lag: 0\n",
      "  Topic: ai_tasks, Partition: 2, Offset: 76\n",
      "    end_offset: 76\n",
      "    consumer_position: 76\n",
      "    Lag: 0\n",
      "  Topic: ai_tasks, Partition: 0, Offset: 68\n",
      "    end_offset: 68\n",
      "    consumer_position: 68\n",
      "    Lag: 0\n",
      "  Topic: ai_tasks, Partition: 4, Offset: 70\n",
      "    end_offset: 70\n",
      "    consumer_position: 70\n",
      "    Lag: 0\n",
      "  Topic: ai_tasks, Partition: 1, Offset: 64\n",
      "    end_offset: 64\n",
      "    consumer_position: 64\n",
      "    Lag: 0\n",
      "\n",
      "Group: column_sub\n",
      "  Topic: ai_tasks_completed, Partition: 1, Offset: 64\n",
      "    end_offset: 64\n",
      "    consumer_position: 64\n",
      "    Lag: 0\n",
      "  Topic: ai_tasks_completed, Partition: 2, Offset: 61\n",
      "    end_offset: 62\n",
      "    consumer_position: 61\n",
      "    Lag: 1\n",
      "  Topic: ai_tasks_completed, Partition: 4, Offset: 69\n",
      "    end_offset: 70\n",
      "    consumer_position: 69\n",
      "    Lag: 1\n",
      "  Topic: ai_tasks_completed, Partition: 3, Offset: 62\n",
      "    end_offset: 62\n",
      "    consumer_position: 62\n",
      "    Lag: 0\n",
      "  Topic: ai_tasks_completed, Partition: 0, Offset: 63\n",
      "    end_offset: 63\n",
      "    consumer_position: 63\n",
      "    Lag: 0\n"
     ]
    }
   ],
   "source": [
    "from kafka import KafkaAdminClient\n",
    "from kafka.admin import NewTopic\n",
    "from kafka import KafkaConsumer\n",
    "from kafka import TopicPartition\n",
    "\n",
    "# Initialize the admin client\n",
    "admin_client = KafkaAdminClient(bootstrap_servers=['localhost:9092'])\n",
    "\n",
    "# List all consumer groups\n",
    "consumer_groups = admin_client.list_consumer_groups()\n",
    "group_ids = [group[0] for group in consumer_groups]  # Extract group IDs from tuples\n",
    "print(f\"Available consumer groups: {group_ids}\")\n",
    "\n",
    "# Create a consumer to get end offsets\n",
    "consumer = KafkaConsumer(bootstrap_servers=['localhost:9092'])\n",
    "\n",
    "# Get offsets for each consumer group\n",
    "for group_id in group_ids:\n",
    "    # Get offsets for all topics this consumer group is consuming\n",
    "    offsets = admin_client.list_consumer_group_offsets(group_id)\n",
    "    \n",
    "    print(f\"\\nGroup: {group_id}\")\n",
    "    for tp, offset_info in offsets.items():\n",
    "        print(f\"  Topic: {tp.topic}, Partition: {tp.partition}, Offset: {offset_info.offset}\")\n",
    "        \n",
    "        # Optional: Get lag by comparing with end offsets\n",
    "        consumer_position = offset_info.offset\n",
    "        \n",
    "        # Create a TopicPartition object\n",
    "        topic_partition = TopicPartition(tp.topic, tp.partition)\n",
    "        \n",
    "        # Get the end offset for this topic-partition using the consumer\n",
    "        consumer.assign([topic_partition])\n",
    "        end_offset = consumer.end_offsets([topic_partition])[topic_partition]\n",
    "        \n",
    "        # Calculate lag\n",
    "        lag = end_offset - consumer_position\n",
    "        print(f\"    end_offset: {end_offset}\")\n",
    "        print(f\"    consumer_position: {consumer_position}\")\n",
    "        print(f\"    Lag: {lag}\")"
   ]
  },
  {
   "cell_type": "code",
   "execution_count": 20,
   "id": "d6aa818f",
   "metadata": {},
   "outputs": [
    {
     "name": "stdout",
     "output_type": "stream",
     "text": [
      "Topic 'ai_tasks_log' deleted successfully.\n"
     ]
    }
   ],
   "source": [
    "# Initialize the admin client\n",
    "admin_client = KafkaAdminClient(bootstrap_servers=['localhost:9092'])\n",
    "\n",
    "admin_client.delete_topics(['ai_tasks_completed'])\n",
    "print(\"Topic 'ai_tasks_log' deleted successfully.\")"
   ]
  },
  {
   "cell_type": "markdown",
   "id": "95042858",
   "metadata": {},
   "source": [
    "## Look at all topics"
   ]
  },
  {
   "cell_type": "code",
   "execution_count": 24,
   "id": "fb9239d9",
   "metadata": {},
   "outputs": [
    {
     "name": "stdout",
     "output_type": "stream",
     "text": [
      "Available consumer groups: [('action-agent', 'consumer'), ('column_sub', 'consumer')]\n",
      "Available topics: ['ai_tasks_completed', 'quickstart-events', 'ai_requests_log', 'ai_tasks_log', 'ai_tasks', 'many_tasks', '__consumer_offsets']\n",
      "{'error_code': 0, 'topic': 'ai_tasks_completed', 'is_internal': False, 'partitions': [{'error_code': 0, 'partition': 1, 'leader': 1, 'replicas': [1], 'isr': [1], 'offline_replicas': []}, {'error_code': 0, 'partition': 3, 'leader': 1, 'replicas': [1], 'isr': [1], 'offline_replicas': []}, {'error_code': 0, 'partition': 2, 'leader': 1, 'replicas': [1], 'isr': [1], 'offline_replicas': []}, {'error_code': 0, 'partition': 0, 'leader': 1, 'replicas': [1], 'isr': [1], 'offline_replicas': []}, {'error_code': 0, 'partition': 4, 'leader': 1, 'replicas': [1], 'isr': [1], 'offline_replicas': []}]}\n",
      "End offset for topic 'ai_tasks_completed': 4\n"
     ]
    }
   ],
   "source": [
    "from kafka import KafkaAdminClient\n",
    "from kafka.admin import NewTopic\n",
    "from kafka import KafkaConsumer\n",
    "from kafka import TopicPartition\n",
    "\n",
    "# Initialize the admin client\n",
    "admin_client = KafkaAdminClient(bootstrap_servers=['localhost:9092'])\n",
    "\n",
    "# List all consumer groups\n",
    "consumer_groups = admin_client.list_consumer_groups()\n",
    "print(f\"Available consumer groups: {consumer_groups}\")\n",
    "\n",
    "# List all topics\n",
    "topics = admin_client.list_topics()\n",
    "print(f\"Available topics: {topics}\")\n",
    "\n",
    "# Find the length of ai_tasks_completed topic\n",
    "\n",
    "topic_name = 'ai_tasks_completed'\n",
    "if topic_name in topics:\n",
    "    print(admin_client.describe_topics([topic_name])[0])\n",
    "    # max offset of this topic\n",
    "    topic_partition = TopicPartition(topic_name, 0)\n",
    "    consumer = KafkaConsumer(bootstrap_servers=['localhost:9092'])\n",
    "    consumer.assign([topic_partition])\n",
    "    end_offset = consumer.end_offsets([topic_partition])[topic_partition]\n",
    "    print(f\"End offset for topic '{topic_name}': {end_offset}\")"
   ]
  },
  {
   "cell_type": "code",
   "execution_count": 14,
   "id": "56e64282",
   "metadata": {},
   "outputs": [
    {
     "data": {
      "text/plain": [
       "CreateTopicsResponse_v3(throttle_time_ms=0, topic_errors=[(topic='many_tasks', error_code=0, error_message=None)])"
      ]
     },
     "execution_count": 14,
     "metadata": {},
     "output_type": "execute_result"
    }
   ],
   "source": [
    "from kafka.admin import KafkaAdminClient, NewTopic\n",
    "admin_client = KafkaAdminClient(bootstrap_servers=['localhost:9092'])\n",
    "\n",
    "new_topic = NewTopic(\n",
    "    name='many_tasks',\n",
    "    num_partitions=5,\n",
    "    replication_factor=1\n",
    ")\n",
    "admin_client.create_topics([new_topic])\n"
   ]
  },
  {
   "cell_type": "code",
   "execution_count": 22,
   "id": "5d4c4522",
   "metadata": {},
   "outputs": [
    {
     "name": "stdout",
     "output_type": "stream",
     "text": [
      "{'error_code': 0, 'topic': 'ai_tasks_completed', 'is_internal': False, 'partitions': [{'error_code': 0, 'partition': 1, 'leader': 1, 'replicas': [1], 'isr': [1], 'offline_replicas': []}, {'error_code': 0, 'partition': 3, 'leader': 1, 'replicas': [1], 'isr': [1], 'offline_replicas': []}, {'error_code': 0, 'partition': 2, 'leader': 1, 'replicas': [1], 'isr': [1], 'offline_replicas': []}, {'error_code': 0, 'partition': 0, 'leader': 1, 'replicas': [1], 'isr': [1], 'offline_replicas': []}, {'error_code': 0, 'partition': 4, 'leader': 1, 'replicas': [1], 'isr': [1], 'offline_replicas': []}]}\n",
      "Topic: ai_tasks_completed, Partitions: 5\n",
      "{'error_code': 0, 'topic': 'quickstart-events', 'is_internal': False, 'partitions': [{'error_code': 0, 'partition': 0, 'leader': 1, 'replicas': [1], 'isr': [1], 'offline_replicas': []}]}\n",
      "Topic: ai_tasks_completed, Partitions: 1\n",
      "{'error_code': 0, 'topic': 'ai_requests_log', 'is_internal': False, 'partitions': [{'error_code': 0, 'partition': 1, 'leader': 1, 'replicas': [1], 'isr': [1], 'offline_replicas': []}, {'error_code': 0, 'partition': 3, 'leader': 1, 'replicas': [1], 'isr': [1], 'offline_replicas': []}, {'error_code': 0, 'partition': 2, 'leader': 1, 'replicas': [1], 'isr': [1], 'offline_replicas': []}, {'error_code': 0, 'partition': 0, 'leader': 1, 'replicas': [1], 'isr': [1], 'offline_replicas': []}, {'error_code': 0, 'partition': 4, 'leader': 1, 'replicas': [1], 'isr': [1], 'offline_replicas': []}]}\n",
      "Topic: ai_tasks_completed, Partitions: 5\n",
      "{'error_code': 0, 'topic': 'ai_tasks_log', 'is_internal': False, 'partitions': [{'error_code': 0, 'partition': 1, 'leader': 1, 'replicas': [1], 'isr': [1], 'offline_replicas': []}, {'error_code': 0, 'partition': 3, 'leader': 1, 'replicas': [1], 'isr': [1], 'offline_replicas': []}, {'error_code': 0, 'partition': 2, 'leader': 1, 'replicas': [1], 'isr': [1], 'offline_replicas': []}, {'error_code': 0, 'partition': 0, 'leader': 1, 'replicas': [1], 'isr': [1], 'offline_replicas': []}, {'error_code': 0, 'partition': 4, 'leader': 1, 'replicas': [1], 'isr': [1], 'offline_replicas': []}]}\n",
      "Topic: ai_tasks_completed, Partitions: 5\n",
      "{'error_code': 0, 'topic': 'ai_tasks', 'is_internal': False, 'partitions': [{'error_code': 0, 'partition': 1, 'leader': 1, 'replicas': [1], 'isr': [1], 'offline_replicas': []}, {'error_code': 0, 'partition': 3, 'leader': 1, 'replicas': [1], 'isr': [1], 'offline_replicas': []}, {'error_code': 0, 'partition': 2, 'leader': 1, 'replicas': [1], 'isr': [1], 'offline_replicas': []}, {'error_code': 0, 'partition': 0, 'leader': 1, 'replicas': [1], 'isr': [1], 'offline_replicas': []}, {'error_code': 0, 'partition': 4, 'leader': 1, 'replicas': [1], 'isr': [1], 'offline_replicas': []}]}\n",
      "Topic: ai_tasks_completed, Partitions: 5\n",
      "{'error_code': 0, 'topic': 'many_tasks', 'is_internal': False, 'partitions': [{'error_code': 0, 'partition': 1, 'leader': 1, 'replicas': [1], 'isr': [1], 'offline_replicas': []}, {'error_code': 0, 'partition': 3, 'leader': 1, 'replicas': [1], 'isr': [1], 'offline_replicas': []}, {'error_code': 0, 'partition': 2, 'leader': 1, 'replicas': [1], 'isr': [1], 'offline_replicas': []}, {'error_code': 0, 'partition': 0, 'leader': 1, 'replicas': [1], 'isr': [1], 'offline_replicas': []}, {'error_code': 0, 'partition': 4, 'leader': 1, 'replicas': [1], 'isr': [1], 'offline_replicas': []}]}\n",
      "Topic: ai_tasks_completed, Partitions: 5\n",
      "{'error_code': 0, 'topic': '__consumer_offsets', 'is_internal': True, 'partitions': [{'error_code': 0, 'partition': 17, 'leader': 1, 'replicas': [1], 'isr': [1], 'offline_replicas': []}, {'error_code': 0, 'partition': 11, 'leader': 1, 'replicas': [1], 'isr': [1], 'offline_replicas': []}, {'error_code': 0, 'partition': 23, 'leader': 1, 'replicas': [1], 'isr': [1], 'offline_replicas': []}, {'error_code': 0, 'partition': 40, 'leader': 1, 'replicas': [1], 'isr': [1], 'offline_replicas': []}, {'error_code': 0, 'partition': 5, 'leader': 1, 'replicas': [1], 'isr': [1], 'offline_replicas': []}, {'error_code': 0, 'partition': 0, 'leader': 1, 'replicas': [1], 'isr': [1], 'offline_replicas': []}, {'error_code': 0, 'partition': 29, 'leader': 1, 'replicas': [1], 'isr': [1], 'offline_replicas': []}, {'error_code': 0, 'partition': 46, 'leader': 1, 'replicas': [1], 'isr': [1], 'offline_replicas': []}, {'error_code': 0, 'partition': 30, 'leader': 1, 'replicas': [1], 'isr': [1], 'offline_replicas': []}, {'error_code': 0, 'partition': 4, 'leader': 1, 'replicas': [1], 'isr': [1], 'offline_replicas': []}, {'error_code': 0, 'partition': 39, 'leader': 1, 'replicas': [1], 'isr': [1], 'offline_replicas': []}, {'error_code': 0, 'partition': 42, 'leader': 1, 'replicas': [1], 'isr': [1], 'offline_replicas': []}, {'error_code': 0, 'partition': 36, 'leader': 1, 'replicas': [1], 'isr': [1], 'offline_replicas': []}, {'error_code': 0, 'partition': 48, 'leader': 1, 'replicas': [1], 'isr': [1], 'offline_replicas': []}, {'error_code': 0, 'partition': 10, 'leader': 1, 'replicas': [1], 'isr': [1], 'offline_replicas': []}, {'error_code': 0, 'partition': 13, 'leader': 1, 'replicas': [1], 'isr': [1], 'offline_replicas': []}, {'error_code': 0, 'partition': 45, 'leader': 1, 'replicas': [1], 'isr': [1], 'offline_replicas': []}, {'error_code': 0, 'partition': 16, 'leader': 1, 'replicas': [1], 'isr': [1], 'offline_replicas': []}, {'error_code': 0, 'partition': 28, 'leader': 1, 'replicas': [1], 'isr': [1], 'offline_replicas': []}, {'error_code': 0, 'partition': 34, 'leader': 1, 'replicas': [1], 'isr': [1], 'offline_replicas': []}, {'error_code': 0, 'partition': 19, 'leader': 1, 'replicas': [1], 'isr': [1], 'offline_replicas': []}, {'error_code': 0, 'partition': 22, 'leader': 1, 'replicas': [1], 'isr': [1], 'offline_replicas': []}, {'error_code': 0, 'partition': 31, 'leader': 1, 'replicas': [1], 'isr': [1], 'offline_replicas': []}, {'error_code': 0, 'partition': 2, 'leader': 1, 'replicas': [1], 'isr': [1], 'offline_replicas': []}, {'error_code': 0, 'partition': 25, 'leader': 1, 'replicas': [1], 'isr': [1], 'offline_replicas': []}, {'error_code': 0, 'partition': 20, 'leader': 1, 'replicas': [1], 'isr': [1], 'offline_replicas': []}, {'error_code': 0, 'partition': 26, 'leader': 1, 'replicas': [1], 'isr': [1], 'offline_replicas': []}, {'error_code': 0, 'partition': 14, 'leader': 1, 'replicas': [1], 'isr': [1], 'offline_replicas': []}, {'error_code': 0, 'partition': 32, 'leader': 1, 'replicas': [1], 'isr': [1], 'offline_replicas': []}, {'error_code': 0, 'partition': 37, 'leader': 1, 'replicas': [1], 'isr': [1], 'offline_replicas': []}, {'error_code': 0, 'partition': 8, 'leader': 1, 'replicas': [1], 'isr': [1], 'offline_replicas': []}, {'error_code': 0, 'partition': 43, 'leader': 1, 'replicas': [1], 'isr': [1], 'offline_replicas': []}, {'error_code': 0, 'partition': 7, 'leader': 1, 'replicas': [1], 'isr': [1], 'offline_replicas': []}, {'error_code': 0, 'partition': 49, 'leader': 1, 'replicas': [1], 'isr': [1], 'offline_replicas': []}, {'error_code': 0, 'partition': 33, 'leader': 1, 'replicas': [1], 'isr': [1], 'offline_replicas': []}, {'error_code': 0, 'partition': 1, 'leader': 1, 'replicas': [1], 'isr': [1], 'offline_replicas': []}, {'error_code': 0, 'partition': 27, 'leader': 1, 'replicas': [1], 'isr': [1], 'offline_replicas': []}, {'error_code': 0, 'partition': 24, 'leader': 1, 'replicas': [1], 'isr': [1], 'offline_replicas': []}, {'error_code': 0, 'partition': 21, 'leader': 1, 'replicas': [1], 'isr': [1], 'offline_replicas': []}, {'error_code': 0, 'partition': 47, 'leader': 1, 'replicas': [1], 'isr': [1], 'offline_replicas': []}, {'error_code': 0, 'partition': 3, 'leader': 1, 'replicas': [1], 'isr': [1], 'offline_replicas': []}, {'error_code': 0, 'partition': 9, 'leader': 1, 'replicas': [1], 'isr': [1], 'offline_replicas': []}, {'error_code': 0, 'partition': 15, 'leader': 1, 'replicas': [1], 'isr': [1], 'offline_replicas': []}, {'error_code': 0, 'partition': 18, 'leader': 1, 'replicas': [1], 'isr': [1], 'offline_replicas': []}, {'error_code': 0, 'partition': 44, 'leader': 1, 'replicas': [1], 'isr': [1], 'offline_replicas': []}, {'error_code': 0, 'partition': 6, 'leader': 1, 'replicas': [1], 'isr': [1], 'offline_replicas': []}, {'error_code': 0, 'partition': 35, 'leader': 1, 'replicas': [1], 'isr': [1], 'offline_replicas': []}, {'error_code': 0, 'partition': 38, 'leader': 1, 'replicas': [1], 'isr': [1], 'offline_replicas': []}, {'error_code': 0, 'partition': 41, 'leader': 1, 'replicas': [1], 'isr': [1], 'offline_replicas': []}, {'error_code': 0, 'partition': 12, 'leader': 1, 'replicas': [1], 'isr': [1], 'offline_replicas': []}]}\n",
      "Topic: ai_tasks_completed, Partitions: 50\n"
     ]
    }
   ],
   "source": [
    "from kafka.admin import KafkaAdminClient, ConfigResource, ConfigResourceType\n",
    "from kafka import KafkaConsumer\n",
    "\n",
    "# Initialize the admin client\n",
    "admin_client = KafkaAdminClient(bootstrap_servers=['localhost:9092'])\n",
    "\n",
    "# Method 1: Get all topics and their partitions using describe_topics() \n",
    "topic_metadata = admin_client.describe_topics()\n",
    "for topic_info in topic_metadata:\n",
    "    print(topic_info)\n",
    "    partition_count = len(topic_info['partitions'])\n",
    "    print(f\"Topic: {topic_name}, Partitions: {partition_count}\")"
   ]
  }
 ],
 "metadata": {
  "kernelspec": {
   "display_name": "Kafka_Spark",
   "language": "python",
   "name": "python3"
  },
  "language_info": {
   "codemirror_mode": {
    "name": "ipython",
    "version": 3
   },
   "file_extension": ".py",
   "mimetype": "text/x-python",
   "name": "python",
   "nbconvert_exporter": "python",
   "pygments_lexer": "ipython3",
   "version": "3.11.10"
  }
 },
 "nbformat": 4,
 "nbformat_minor": 5
}
