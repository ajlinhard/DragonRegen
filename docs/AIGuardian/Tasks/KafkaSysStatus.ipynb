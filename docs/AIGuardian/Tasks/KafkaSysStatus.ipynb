{
 "cells": [
  {
   "cell_type": "code",
   "execution_count": 32,
   "id": "8567738a",
   "metadata": {},
   "outputs": [
    {
     "name": "stdout",
     "output_type": "stream",
     "text": [
      "Project Path: c:\\Users\\dalej\\Documents\\_Coding\\DragonRegen\n"
     ]
    }
   ],
   "source": [
    "import os\n",
    "import sys\n",
    "\n",
    "project_path = os.path.abspath(os.path.join(os.getcwd(),'..','..','..'))\n",
    "sys.path.append(project_path)\n",
    "print(f\"Project Path: {project_path}\")"
   ]
  },
  {
   "cell_type": "code",
   "execution_count": 43,
   "id": "dc7bfe49",
   "metadata": {},
   "outputs": [],
   "source": [
    "from kafka import KafkaConsumer\n",
    "from src.MetaFort.AILoggingTopics import AILoggingTopics\n",
    "\n",
    "kc = KafkaConsumer(\n",
    "                    AILoggingTopics.AI_TASK_COMPLETED_TOPIC,\n",
    "                    bootstrap_servers=['localhost:9092'],\n",
    "                    group_id=f'task-completed-early-12345',\n",
    "                    auto_offset_reset='earliest',)\n",
    "\n",
    "log_list = kc.poll(timeout_ms=1000)\n",
    "\n",
    "for topic_partition, messages in log_list.items():\n",
    "    print(f\"Topic: {topic_partition.topic}, Partition: {topic_partition.partition}\")\n",
    "    for message in messages:\n",
    "        print(f\"Message: {message.value.decode('utf-8')}\")\n",
    "        # Here you can add your logic to process the message"
   ]
  },
  {
   "cell_type": "code",
   "execution_count": 46,
   "id": "a5052e33",
   "metadata": {},
   "outputs": [
    {
     "name": "stdout",
     "output_type": "stream",
     "text": [
      "{}\n"
     ]
    }
   ],
   "source": [
    "print(log_list)"
   ]
  },
  {
   "cell_type": "code",
   "execution_count": 49,
   "id": "2a46df64",
   "metadata": {},
   "outputs": [
    {
     "name": "stdout",
     "output_type": "stream",
     "text": [
      "{}\n"
     ]
    }
   ],
   "source": [
    "log_list = kc.poll(timeout_ms=1000)\n",
    "\n",
    "for topic_partition, messages in log_list.items():\n",
    "    print(f\"Topic: {topic_partition.topic}, Partition: {topic_partition.partition}\")\n",
    "    for message in messages:\n",
    "        print(f\"Message: {message.value.decode('utf-8')}\")\n",
    "        # Here you can add your logic to process the message\n",
    "print(log_list)\n"
   ]
  },
  {
   "cell_type": "markdown",
   "id": "5b476531",
   "metadata": {},
   "source": [
    "## Examine Kafka Consumer Group IDs\n",
    "Look at the current committed offsets of each kafka consumer group_id"
   ]
  },
  {
   "cell_type": "code",
   "execution_count": 48,
   "id": "4d48728d",
   "metadata": {},
   "outputs": [
    {
     "name": "stdout",
     "output_type": "stream",
     "text": [
      "Available consumer groups: ['task-completed-early-12345', 'task-completed_early-1234', 'default', 'task-completed-1234', 'action-agent', 'column_sub']\n",
      "\n",
      "Group: task-completed-early-12345\n",
      "  Topic: ai_tasks_completed, Partition: 1, Offset: 0\n",
      "    end_offset: 64\n",
      "    consumer_position: 0\n",
      "    Lag: 64\n",
      "  Topic: ai_tasks_completed, Partition: 2, Offset: 0\n",
      "    end_offset: 62\n",
      "    consumer_position: 0\n",
      "    Lag: 62\n",
      "  Topic: ai_tasks_completed, Partition: 4, Offset: 0\n",
      "    end_offset: 70\n",
      "    consumer_position: 0\n",
      "    Lag: 70\n",
      "  Topic: ai_tasks_completed, Partition: 3, Offset: 0\n",
      "    end_offset: 62\n",
      "    consumer_position: 0\n",
      "    Lag: 62\n",
      "  Topic: ai_tasks_completed, Partition: 0, Offset: 0\n",
      "    end_offset: 63\n",
      "    consumer_position: 0\n",
      "    Lag: 63\n",
      "\n",
      "Group: task-completed_early-1234\n",
      "\n",
      "Group: default\n",
      "  Topic: ai_tasks_completed, Partition: 1, Offset: 64\n",
      "    end_offset: 64\n",
      "    consumer_position: 64\n",
      "    Lag: 0\n",
      "  Topic: ai_tasks_completed, Partition: 2, Offset: 62\n",
      "    end_offset: 62\n",
      "    consumer_position: 62\n",
      "    Lag: 0\n",
      "  Topic: ai_tasks_completed, Partition: 4, Offset: 70\n",
      "    end_offset: 70\n",
      "    consumer_position: 70\n",
      "    Lag: 0\n",
      "  Topic: ai_tasks_completed, Partition: 3, Offset: 62\n",
      "    end_offset: 62\n",
      "    consumer_position: 62\n",
      "    Lag: 0\n",
      "  Topic: ai_tasks_completed, Partition: 0, Offset: 63\n",
      "    end_offset: 63\n",
      "    consumer_position: 63\n",
      "    Lag: 0\n",
      "\n",
      "Group: task-completed-1234\n",
      "  Topic: ai_tasks_completed, Partition: 1, Offset: 64\n",
      "    end_offset: 64\n",
      "    consumer_position: 64\n",
      "    Lag: 0\n",
      "  Topic: ai_tasks_completed, Partition: 2, Offset: 62\n",
      "    end_offset: 62\n",
      "    consumer_position: 62\n",
      "    Lag: 0\n",
      "  Topic: ai_tasks_completed, Partition: 4, Offset: 70\n",
      "    end_offset: 70\n",
      "    consumer_position: 70\n",
      "    Lag: 0\n",
      "  Topic: ai_tasks_completed, Partition: 3, Offset: 62\n",
      "    end_offset: 62\n",
      "    consumer_position: 62\n",
      "    Lag: 0\n",
      "  Topic: ai_tasks_completed, Partition: 0, Offset: 63\n",
      "    end_offset: 63\n",
      "    consumer_position: 63\n",
      "    Lag: 0\n",
      "\n",
      "Group: action-agent\n",
      "  Topic: ai_tasks, Partition: 3, Offset: 76\n",
      "    end_offset: 76\n",
      "    consumer_position: 76\n",
      "    Lag: 0\n",
      "  Topic: ai_tasks, Partition: 2, Offset: 76\n",
      "    end_offset: 76\n",
      "    consumer_position: 76\n",
      "    Lag: 0\n",
      "  Topic: ai_tasks, Partition: 0, Offset: 68\n",
      "    end_offset: 68\n",
      "    consumer_position: 68\n",
      "    Lag: 0\n",
      "  Topic: ai_tasks, Partition: 4, Offset: 70\n",
      "    end_offset: 70\n",
      "    consumer_position: 70\n",
      "    Lag: 0\n",
      "  Topic: ai_tasks, Partition: 1, Offset: 64\n",
      "    end_offset: 64\n",
      "    consumer_position: 64\n",
      "    Lag: 0\n",
      "\n",
      "Group: column_sub\n",
      "  Topic: ai_tasks_completed, Partition: 1, Offset: 64\n",
      "    end_offset: 64\n",
      "    consumer_position: 64\n",
      "    Lag: 0\n",
      "  Topic: ai_tasks_completed, Partition: 2, Offset: 61\n",
      "    end_offset: 62\n",
      "    consumer_position: 61\n",
      "    Lag: 1\n",
      "  Topic: ai_tasks_completed, Partition: 4, Offset: 69\n",
      "    end_offset: 70\n",
      "    consumer_position: 69\n",
      "    Lag: 1\n",
      "  Topic: ai_tasks_completed, Partition: 3, Offset: 62\n",
      "    end_offset: 62\n",
      "    consumer_position: 62\n",
      "    Lag: 0\n",
      "  Topic: ai_tasks_completed, Partition: 0, Offset: 63\n",
      "    end_offset: 63\n",
      "    consumer_position: 63\n",
      "    Lag: 0\n"
     ]
    }
   ],
   "source": [
    "from kafka import KafkaAdminClient\n",
    "from kafka.admin import NewTopic\n",
    "from kafka import KafkaConsumer\n",
    "from kafka import TopicPartition\n",
    "\n",
    "# Initialize the admin client\n",
    "admin_client = KafkaAdminClient(bootstrap_servers=['localhost:9092'])\n",
    "\n",
    "# List all consumer groups\n",
    "consumer_groups = admin_client.list_consumer_groups()\n",
    "group_ids = [group[0] for group in consumer_groups]  # Extract group IDs from tuples\n",
    "print(f\"Available consumer groups: {group_ids}\")\n",
    "\n",
    "# Create a consumer to get end offsets\n",
    "consumer = KafkaConsumer(bootstrap_servers=['localhost:9092'])\n",
    "\n",
    "# Get offsets for each consumer group\n",
    "for group_id in group_ids:\n",
    "    # Get offsets for all topics this consumer group is consuming\n",
    "    offsets = admin_client.list_consumer_group_offsets(group_id)\n",
    "    \n",
    "    print(f\"\\nGroup: {group_id}\")\n",
    "    for tp, offset_info in offsets.items():\n",
    "        print(f\"  Topic: {tp.topic}, Partition: {tp.partition}, Offset: {offset_info.offset}\")\n",
    "        \n",
    "        # Optional: Get lag by comparing with end offsets\n",
    "        consumer_position = offset_info.offset\n",
    "        \n",
    "        # Create a TopicPartition object\n",
    "        topic_partition = TopicPartition(tp.topic, tp.partition)\n",
    "        \n",
    "        # Get the end offset for this topic-partition using the consumer\n",
    "        consumer.assign([topic_partition])\n",
    "        end_offset = consumer.end_offsets([topic_partition])[topic_partition]\n",
    "        \n",
    "        # Calculate lag\n",
    "        lag = end_offset - consumer_position\n",
    "        print(f\"    end_offset: {end_offset}\")\n",
    "        print(f\"    consumer_position: {consumer_position}\")\n",
    "        print(f\"    Lag: {lag}\")"
   ]
  },
  {
   "cell_type": "code",
   "execution_count": 20,
   "id": "d6aa818f",
   "metadata": {},
   "outputs": [
    {
     "name": "stdout",
     "output_type": "stream",
     "text": [
      "Topic 'ai_tasks_log' deleted successfully.\n"
     ]
    }
   ],
   "source": [
    "# Initialize the admin client\n",
    "admin_client = KafkaAdminClient(bootstrap_servers=['localhost:9092'])\n",
    "\n",
    "admin_client.delete_topics(['ai_tasks_completed'])\n",
    "print(\"Topic 'ai_tasks_log' deleted successfully.\")"
   ]
  },
  {
   "cell_type": "markdown",
   "id": "95042858",
   "metadata": {},
   "source": [
    "## Look at all topics"
   ]
  },
  {
   "cell_type": "code",
   "execution_count": 24,
   "id": "fb9239d9",
   "metadata": {},
   "outputs": [
    {
     "name": "stdout",
     "output_type": "stream",
     "text": [
      "Available consumer groups: [('action-agent', 'consumer'), ('column_sub', 'consumer')]\n",
      "Available topics: ['ai_tasks_completed', 'quickstart-events', 'ai_requests_log', 'ai_tasks_log', 'ai_tasks', 'many_tasks', '__consumer_offsets']\n",
      "{'error_code': 0, 'topic': 'ai_tasks_completed', 'is_internal': False, 'partitions': [{'error_code': 0, 'partition': 1, 'leader': 1, 'replicas': [1], 'isr': [1], 'offline_replicas': []}, {'error_code': 0, 'partition': 3, 'leader': 1, 'replicas': [1], 'isr': [1], 'offline_replicas': []}, {'error_code': 0, 'partition': 2, 'leader': 1, 'replicas': [1], 'isr': [1], 'offline_replicas': []}, {'error_code': 0, 'partition': 0, 'leader': 1, 'replicas': [1], 'isr': [1], 'offline_replicas': []}, {'error_code': 0, 'partition': 4, 'leader': 1, 'replicas': [1], 'isr': [1], 'offline_replicas': []}]}\n",
      "End offset for topic 'ai_tasks_completed': 4\n"
     ]
    }
   ],
   "source": [
    "from kafka import KafkaAdminClient\n",
    "from kafka.admin import NewTopic\n",
    "from kafka import KafkaConsumer\n",
    "from kafka import TopicPartition\n",
    "\n",
    "# Initialize the admin client\n",
    "admin_client = KafkaAdminClient(bootstrap_servers=['localhost:9092'])\n",
    "\n",
    "# List all consumer groups\n",
    "consumer_groups = admin_client.list_consumer_groups()\n",
    "print(f\"Available consumer groups: {consumer_groups}\")\n",
    "\n",
    "# List all topics\n",
    "topics = admin_client.list_topics()\n",
    "print(f\"Available topics: {topics}\")\n",
    "\n",
    "# Find the length of ai_tasks_completed topic\n",
    "\n",
    "topic_name = 'ai_tasks_completed'\n",
    "if topic_name in topics:\n",
    "    print(admin_client.describe_topics([topic_name])[0])\n",
    "    # max offset of this topic\n",
    "    topic_partition = TopicPartition(topic_name, 0)\n",
    "    consumer = KafkaConsumer(bootstrap_servers=['localhost:9092'])\n",
    "    consumer.assign([topic_partition])\n",
    "    end_offset = consumer.end_offsets([topic_partition])[topic_partition]\n",
    "    print(f\"End offset for topic '{topic_name}': {end_offset}\")"
   ]
  },
  {
   "cell_type": "code",
   "execution_count": 14,
   "id": "56e64282",
   "metadata": {},
   "outputs": [
    {
     "data": {
      "text/plain": [
       "CreateTopicsResponse_v3(throttle_time_ms=0, topic_errors=[(topic='many_tasks', error_code=0, error_message=None)])"
      ]
     },
     "execution_count": 14,
     "metadata": {},
     "output_type": "execute_result"
    }
   ],
   "source": [
    "from kafka.admin import KafkaAdminClient, NewTopic\n",
    "admin_client = KafkaAdminClient(bootstrap_servers=['localhost:9092'])\n",
    "\n",
    "new_topic = NewTopic(\n",
    "    name='many_tasks',\n",
    "    num_partitions=5,\n",
    "    replication_factor=1\n",
    ")\n",
    "admin_client.create_topics([new_topic])\n"
   ]
  },
  {
   "cell_type": "code",
   "execution_count": 22,
   "id": "5d4c4522",
   "metadata": {},
   "outputs": [
    {
     "name": "stdout",
     "output_type": "stream",
     "text": [
      "{'error_code': 0, 'topic': 'ai_tasks_completed', 'is_internal': False, 'partitions': [{'error_code': 0, 'partition': 1, 'leader': 1, 'replicas': [1], 'isr': [1], 'offline_replicas': []}, {'error_code': 0, 'partition': 3, 'leader': 1, 'replicas': [1], 'isr': [1], 'offline_replicas': []}, {'error_code': 0, 'partition': 2, 'leader': 1, 'replicas': [1], 'isr': [1], 'offline_replicas': []}, {'error_code': 0, 'partition': 0, 'leader': 1, 'replicas': [1], 'isr': [1], 'offline_replicas': []}, {'error_code': 0, 'partition': 4, 'leader': 1, 'replicas': [1], 'isr': [1], 'offline_replicas': []}]}\n",
      "Topic: ai_tasks_completed, Partitions: 5\n",
      "{'error_code': 0, 'topic': 'quickstart-events', 'is_internal': False, 'partitions': [{'error_code': 0, 'partition': 0, 'leader': 1, 'replicas': [1], 'isr': [1], 'offline_replicas': []}]}\n",
      "Topic: ai_tasks_completed, Partitions: 1\n",
      "{'error_code': 0, 'topic': 'ai_requests_log', 'is_internal': False, 'partitions': [{'error_code': 0, 'partition': 1, 'leader': 1, 'replicas': [1], 'isr': [1], 'offline_replicas': []}, {'error_code': 0, 'partition': 3, 'leader': 1, 'replicas': [1], 'isr': [1], 'offline_replicas': []}, {'error_code': 0, 'partition': 2, 'leader': 1, 'replicas': [1], 'isr': [1], 'offline_replicas': []}, {'error_code': 0, 'partition': 0, 'leader': 1, 'replicas': [1], 'isr': [1], 'offline_replicas': []}, {'error_code': 0, 'partition': 4, 'leader': 1, 'replicas': [1], 'isr': [1], 'offline_replicas': []}]}\n",
      "Topic: ai_tasks_completed, Partitions: 5\n",
      "{'error_code': 0, 'topic': 'ai_tasks_log', 'is_internal': False, 'partitions': [{'error_code': 0, 'partition': 1, 'leader': 1, 'replicas': [1], 'isr': [1], 'offline_replicas': []}, {'error_code': 0, 'partition': 3, 'leader': 1, 'replicas': [1], 'isr': [1], 'offline_replicas': []}, {'error_code': 0, 'partition': 2, 'leader': 1, 'replicas': [1], 'isr': [1], 'offline_replicas': []}, {'error_code': 0, 'partition': 0, 'leader': 1, 'replicas': [1], 'isr': [1], 'offline_replicas': []}, {'error_code': 0, 'partition': 4, 'leader': 1, 'replicas': [1], 'isr': [1], 'offline_replicas': []}]}\n",
      "Topic: ai_tasks_completed, Partitions: 5\n",
      "{'error_code': 0, 'topic': 'ai_tasks', 'is_internal': False, 'partitions': [{'error_code': 0, 'partition': 1, 'leader': 1, 'replicas': [1], 'isr': [1], 'offline_replicas': []}, {'error_code': 0, 'partition': 3, 'leader': 1, 'replicas': [1], 'isr': [1], 'offline_replicas': []}, {'error_code': 0, 'partition': 2, 'leader': 1, 'replicas': [1], 'isr': [1], 'offline_replicas': []}, {'error_code': 0, 'partition': 0, 'leader': 1, 'replicas': [1], 'isr': [1], 'offline_replicas': []}, {'error_code': 0, 'partition': 4, 'leader': 1, 'replicas': [1], 'isr': [1], 'offline_replicas': []}]}\n",
      "Topic: ai_tasks_completed, Partitions: 5\n",
      "{'error_code': 0, 'topic': 'many_tasks', 'is_internal': False, 'partitions': [{'error_code': 0, 'partition': 1, 'leader': 1, 'replicas': [1], 'isr': [1], 'offline_replicas': []}, {'error_code': 0, 'partition': 3, 'leader': 1, 'replicas': [1], 'isr': [1], 'offline_replicas': []}, {'error_code': 0, 'partition': 2, 'leader': 1, 'replicas': [1], 'isr': [1], 'offline_replicas': []}, {'error_code': 0, 'partition': 0, 'leader': 1, 'replicas': [1], 'isr': [1], 'offline_replicas': []}, {'error_code': 0, 'partition': 4, 'leader': 1, 'replicas': [1], 'isr': [1], 'offline_replicas': []}]}\n",
      "Topic: ai_tasks_completed, Partitions: 5\n",
      "{'error_code': 0, 'topic': '__consumer_offsets', 'is_internal': True, 'partitions': [{'error_code': 0, 'partition': 17, 'leader': 1, 'replicas': [1], 'isr': [1], 'offline_replicas': []}, {'error_code': 0, 'partition': 11, 'leader': 1, 'replicas': [1], 'isr': [1], 'offline_replicas': []}, {'error_code': 0, 'partition': 23, 'leader': 1, 'replicas': [1], 'isr': [1], 'offline_replicas': []}, {'error_code': 0, 'partition': 40, 'leader': 1, 'replicas': [1], 'isr': [1], 'offline_replicas': []}, {'error_code': 0, 'partition': 5, 'leader': 1, 'replicas': [1], 'isr': [1], 'offline_replicas': []}, {'error_code': 0, 'partition': 0, 'leader': 1, 'replicas': [1], 'isr': [1], 'offline_replicas': []}, {'error_code': 0, 'partition': 29, 'leader': 1, 'replicas': [1], 'isr': [1], 'offline_replicas': []}, {'error_code': 0, 'partition': 46, 'leader': 1, 'replicas': [1], 'isr': [1], 'offline_replicas': []}, {'error_code': 0, 'partition': 30, 'leader': 1, 'replicas': [1], 'isr': [1], 'offline_replicas': []}, {'error_code': 0, 'partition': 4, 'leader': 1, 'replicas': [1], 'isr': [1], 'offline_replicas': []}, {'error_code': 0, 'partition': 39, 'leader': 1, 'replicas': [1], 'isr': [1], 'offline_replicas': []}, {'error_code': 0, 'partition': 42, 'leader': 1, 'replicas': [1], 'isr': [1], 'offline_replicas': []}, {'error_code': 0, 'partition': 36, 'leader': 1, 'replicas': [1], 'isr': [1], 'offline_replicas': []}, {'error_code': 0, 'partition': 48, 'leader': 1, 'replicas': [1], 'isr': [1], 'offline_replicas': []}, {'error_code': 0, 'partition': 10, 'leader': 1, 'replicas': [1], 'isr': [1], 'offline_replicas': []}, {'error_code': 0, 'partition': 13, 'leader': 1, 'replicas': [1], 'isr': [1], 'offline_replicas': []}, {'error_code': 0, 'partition': 45, 'leader': 1, 'replicas': [1], 'isr': [1], 'offline_replicas': []}, {'error_code': 0, 'partition': 16, 'leader': 1, 'replicas': [1], 'isr': [1], 'offline_replicas': []}, {'error_code': 0, 'partition': 28, 'leader': 1, 'replicas': [1], 'isr': [1], 'offline_replicas': []}, {'error_code': 0, 'partition': 34, 'leader': 1, 'replicas': [1], 'isr': [1], 'offline_replicas': []}, {'error_code': 0, 'partition': 19, 'leader': 1, 'replicas': [1], 'isr': [1], 'offline_replicas': []}, {'error_code': 0, 'partition': 22, 'leader': 1, 'replicas': [1], 'isr': [1], 'offline_replicas': []}, {'error_code': 0, 'partition': 31, 'leader': 1, 'replicas': [1], 'isr': [1], 'offline_replicas': []}, {'error_code': 0, 'partition': 2, 'leader': 1, 'replicas': [1], 'isr': [1], 'offline_replicas': []}, {'error_code': 0, 'partition': 25, 'leader': 1, 'replicas': [1], 'isr': [1], 'offline_replicas': []}, {'error_code': 0, 'partition': 20, 'leader': 1, 'replicas': [1], 'isr': [1], 'offline_replicas': []}, {'error_code': 0, 'partition': 26, 'leader': 1, 'replicas': [1], 'isr': [1], 'offline_replicas': []}, {'error_code': 0, 'partition': 14, 'leader': 1, 'replicas': [1], 'isr': [1], 'offline_replicas': []}, {'error_code': 0, 'partition': 32, 'leader': 1, 'replicas': [1], 'isr': [1], 'offline_replicas': []}, {'error_code': 0, 'partition': 37, 'leader': 1, 'replicas': [1], 'isr': [1], 'offline_replicas': []}, {'error_code': 0, 'partition': 8, 'leader': 1, 'replicas': [1], 'isr': [1], 'offline_replicas': []}, {'error_code': 0, 'partition': 43, 'leader': 1, 'replicas': [1], 'isr': [1], 'offline_replicas': []}, {'error_code': 0, 'partition': 7, 'leader': 1, 'replicas': [1], 'isr': [1], 'offline_replicas': []}, {'error_code': 0, 'partition': 49, 'leader': 1, 'replicas': [1], 'isr': [1], 'offline_replicas': []}, {'error_code': 0, 'partition': 33, 'leader': 1, 'replicas': [1], 'isr': [1], 'offline_replicas': []}, {'error_code': 0, 'partition': 1, 'leader': 1, 'replicas': [1], 'isr': [1], 'offline_replicas': []}, {'error_code': 0, 'partition': 27, 'leader': 1, 'replicas': [1], 'isr': [1], 'offline_replicas': []}, {'error_code': 0, 'partition': 24, 'leader': 1, 'replicas': [1], 'isr': [1], 'offline_replicas': []}, {'error_code': 0, 'partition': 21, 'leader': 1, 'replicas': [1], 'isr': [1], 'offline_replicas': []}, {'error_code': 0, 'partition': 47, 'leader': 1, 'replicas': [1], 'isr': [1], 'offline_replicas': []}, {'error_code': 0, 'partition': 3, 'leader': 1, 'replicas': [1], 'isr': [1], 'offline_replicas': []}, {'error_code': 0, 'partition': 9, 'leader': 1, 'replicas': [1], 'isr': [1], 'offline_replicas': []}, {'error_code': 0, 'partition': 15, 'leader': 1, 'replicas': [1], 'isr': [1], 'offline_replicas': []}, {'error_code': 0, 'partition': 18, 'leader': 1, 'replicas': [1], 'isr': [1], 'offline_replicas': []}, {'error_code': 0, 'partition': 44, 'leader': 1, 'replicas': [1], 'isr': [1], 'offline_replicas': []}, {'error_code': 0, 'partition': 6, 'leader': 1, 'replicas': [1], 'isr': [1], 'offline_replicas': []}, {'error_code': 0, 'partition': 35, 'leader': 1, 'replicas': [1], 'isr': [1], 'offline_replicas': []}, {'error_code': 0, 'partition': 38, 'leader': 1, 'replicas': [1], 'isr': [1], 'offline_replicas': []}, {'error_code': 0, 'partition': 41, 'leader': 1, 'replicas': [1], 'isr': [1], 'offline_replicas': []}, {'error_code': 0, 'partition': 12, 'leader': 1, 'replicas': [1], 'isr': [1], 'offline_replicas': []}]}\n",
      "Topic: ai_tasks_completed, Partitions: 50\n"
     ]
    }
   ],
   "source": [
    "from kafka.admin import KafkaAdminClient, ConfigResource, ConfigResourceType\n",
    "from kafka import KafkaConsumer\n",
    "\n",
    "# Initialize the admin client\n",
    "admin_client = KafkaAdminClient(bootstrap_servers=['localhost:9092'])\n",
    "\n",
    "# Method 1: Get all topics and their partitions using describe_topics() \n",
    "topic_metadata = admin_client.describe_topics()\n",
    "for topic_info in topic_metadata:\n",
    "    print(topic_info)\n",
    "    partition_count = len(topic_info['partitions'])\n",
    "    print(f\"Topic: {topic_name}, Partitions: {partition_count}\")"
   ]
  }
 ],
 "metadata": {
  "kernelspec": {
   "display_name": "Kafka_Spark",
   "language": "python",
   "name": "python3"
  },
  "language_info": {
   "codemirror_mode": {
    "name": "ipython",
    "version": 3
   },
   "file_extension": ".py",
   "mimetype": "text/x-python",
   "name": "python",
   "nbconvert_exporter": "python",
   "pygments_lexer": "ipython3",
   "version": "3.11.10"
  }
 },
 "nbformat": 4,
 "nbformat_minor": 5
}
