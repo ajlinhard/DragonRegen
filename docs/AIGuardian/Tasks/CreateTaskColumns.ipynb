{
 "cells": [
  {
   "cell_type": "code",
   "execution_count": 1,
   "id": "9af77b63",
   "metadata": {},
   "outputs": [
    {
     "name": "stdout",
     "output_type": "stream",
     "text": [
      "Project path: c:\\Users\\dalej\\Documents\\_Coding\\DragonRegen\n"
     ]
    }
   ],
   "source": [
    "import os\n",
    "import sys\n",
    "import json\n",
    "from anthropic import Anthropic, AnthropicError\n",
    "\n",
    "notebook_path = os.getcwd()\n",
    "project_path = os.path.abspath(os.path.join(notebook_path, '..','..','..'))\n",
    "print(f\"Project path: {project_path}\")\n",
    "# Add the project path to sys.path\n",
    "sys.path.append(project_path)"
   ]
  },
  {
   "cell_type": "markdown",
   "id": "913da3be",
   "metadata": {},
   "source": [
    "### Data Column Type"
   ]
  },
  {
   "cell_type": "code",
   "execution_count": null,
   "id": "c8fb3564",
   "metadata": {},
   "outputs": [
    {
     "name": "stdout",
     "output_type": "stream",
     "text": [
      "<src.AIGuardian.Tasks.DataColumnType.DataColumnType object at 0x00000224D1C3B990>\n"
     ]
    }
   ],
   "source": [
    "from src.AIGuardian.Tasks.DataColumnType import DataColumnType\n",
    "\n",
    "# Inputs\n",
    "action_parameters = {\n",
    "                \"table_name\": 'members',\n",
    "                \"purpose\": \"To track all the information about members of the gym.\",\n",
    "                \"column_name\": 'membership',\n",
    "                \"description\": 'The kind of membership the member has.',\n",
    "            }\n",
    "\n",
    "test_col_type = DataColumnType(input_params=action_parameters)\n",
    "print(test_col_type)"
   ]
  },
  {
   "cell_type": "markdown",
   "id": "7bd2575a",
   "metadata": {},
   "source": [
    "### Data Column Refiner"
   ]
  },
  {
   "cell_type": "code",
   "execution_count": null,
   "id": "e172a058",
   "metadata": {},
   "outputs": [
    {
     "name": "stdout",
     "output_type": "stream",
     "text": [
      "<src.AIGuardian.Tasks.DataColumnRefiner.DataColumnRefiner object at 0x0000012B8DB8BE10>\n"
     ]
    }
   ],
   "source": [
    "from src.AIGuardian.Tasks.DataColumnRefiner import DataColumnRefiner\n",
    "from src.AIGuardian.Tasks.Waiters.WaitArtifact import WaitArtifact\n",
    "\n",
    "# Inputs\n",
    "action_parameters = {\n",
    "                # \"table_name\": 'members',\n",
    "                \"purpose\": \"To track all the information about members of the gym.\",\n",
    "                \"column_name\": 'membership',\n",
    "                \"description\": 'The kind of membership the member has.',\n",
    "            }\n",
    "\n",
    "test_col_refiner = DataColumnRefiner(input_params=action_parameters)\n",
    "test_col_refiner.waiting_list.append(WaitArtifact(condition=(test_col_type.task_id, 'Column Type'), callback=test_col_refiner.receive_artifact))\n",
    "\n",
    "# test_task.db_engine = KafkaEngine.default_builder()\n",
    "print(test_col_refiner)"
   ]
  },
  {
   "cell_type": "code",
   "execution_count": null,
   "id": "8a28d8e5",
   "metadata": {},
   "outputs": [
    {
     "data": {
      "text/plain": [
       "{'task_id': '77c9e112-62d3-4255-878b-613c7fe1ec47',\n",
       " 'task_name': 'DataColumnType',\n",
       " 'task_version': '0.0.1',\n",
       " 'parent_task_id': None,\n",
       " 'group_task_id': '77c9e112-62d3-4255-878b-613c7fe1ec47',\n",
       " 'description': 'The base Task class. This should be inherited by all Task classes.',\n",
       " 'sequence_number': 0,\n",
       " 'created_dt': '2025-05-15T13:35:12.659291',\n",
       " 'updated_dt': '2025-05-15T13:35:12.659291',\n",
       " 'input_artifacts': '{\"table_name\": \"members\", \"purpose\": \"To track all the information about members of the gym.\", \"column_name\": \"membership\", \"description\": \"The kind of membership the member has.\"}'}"
      ]
     },
     "execution_count": 3,
     "metadata": {},
     "output_type": "execute_result"
    }
   ],
   "source": [
    "from AIGuardian.Tasks.KafkaAgentManager import KafkaAgentManager\n",
    "\n",
    "ka = KafkaAgentManager()\n",
    "# Do the refiner first, so the Kafka Agent Manager is guaranteed pick up the completed column type task\n",
    "ka.submit_task(test_col_refiner)\n",
    "ka.submit_task(test_col_type)"
   ]
  }
 ],
 "metadata": {
  "kernelspec": {
   "display_name": "Kafka_Spark",
   "language": "python",
   "name": "python3"
  },
  "language_info": {
   "codemirror_mode": {
    "name": "ipython",
    "version": 3
   },
   "file_extension": ".py",
   "mimetype": "text/x-python",
   "name": "python",
   "nbconvert_exporter": "python",
   "pygments_lexer": "ipython3",
   "version": "3.11.10"
  }
 },
 "nbformat": 4,
 "nbformat_minor": 5
}
