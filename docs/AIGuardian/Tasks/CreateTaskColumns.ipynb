{
 "cells": [
  {
   "cell_type": "code",
   "execution_count": 1,
   "id": "9af77b63",
   "metadata": {},
   "outputs": [
    {
     "name": "stdout",
     "output_type": "stream",
     "text": [
      "Project path: c:\\Users\\dalej\\Documents\\_Coding\\DragonRegen\n"
     ]
    }
   ],
   "source": [
    "import os\n",
    "import sys\n",
    "import json\n",
    "from anthropic import Anthropic, AnthropicError\n",
    "\n",
    "notebook_path = os.getcwd()\n",
    "project_path = os.path.abspath(os.path.join(notebook_path, '..','..','..'))\n",
    "print(f\"Project path: {project_path}\")\n",
    "# Add the project path to sys.path\n",
    "sys.path.append(project_path)"
   ]
  },
  {
   "cell_type": "markdown",
   "id": "913da3be",
   "metadata": {},
   "source": [
    "### Data Column Type"
   ]
  },
  {
   "cell_type": "code",
   "execution_count": 2,
   "id": "c8fb3564",
   "metadata": {},
   "outputs": [
    {
     "name": "stdout",
     "output_type": "stream",
     "text": [
      "<src.AIGuardian.Tasks.DataColumnType.DataColumnType object at 0x0000012B8AD7A410>\n"
     ]
    }
   ],
   "source": [
    "from src.AIGuardian.Tasks.DataColumnType import DataColumnType\n",
    "from src.MetaFort.SysLogs.KafkaEngine import KafkaEngine\n",
    "\n",
    "# Inputs\n",
    "action_parameters = {\n",
    "                \"table_name\": 'members',\n",
    "                \"purpose\": \"To track all the information about members of the gym.\",\n",
    "                \"column_name\": 'membership',\n",
    "                \"description\": 'The kind of membership the member has.',\n",
    "            }\n",
    "\n",
    "test_type_action = DataColumnType(input_params=action_parameters)\n",
    "test_type_action.db_engine = KafkaEngine.default_builder()\n",
    "print(test_type_action)"
   ]
  },
  {
   "cell_type": "code",
   "execution_count": 3,
   "id": "8a28d8e5",
   "metadata": {},
   "outputs": [
    {
     "data": {
      "text/plain": [
       "{'task_id': 136058658848764322081540275259036020310,\n",
       " 'task_name': 'DataColumnType',\n",
       " 'task_version': '0.0.1',\n",
       " 'parent_task_id': None,\n",
       " 'group_task_id': None,\n",
       " 'description': 'The base Task class. This should be inherited by all Task classes.',\n",
       " 'sequence_number': 0,\n",
       " 'created_dt': '2025-05-14T15:06:23.457195',\n",
       " 'updated_dt': '2025-05-14T15:06:23.457195',\n",
       " 'input_artifacts': '{\"table_name\": \"members\", \"purpose\": \"To track all the information about members of the gym.\", \"column_name\": \"membership\", \"description\": \"The kind of membership the member has.\"}'}"
      ]
     },
     "execution_count": 3,
     "metadata": {},
     "output_type": "execute_result"
    }
   ],
   "source": [
    "test_type_action.submit_task()"
   ]
  },
  {
   "cell_type": "code",
   "execution_count": 4,
   "id": "112c4573",
   "metadata": {},
   "outputs": [
    {
     "name": "stdout",
     "output_type": "stream",
     "text": [
      "create_params: {'max_tokens': 10000, 'temperature': 0.1, 'stop_sequences': ['</JSON_Template>'], 'model': 'claude-3-7-sonnet-20250219', 'messages': [{'role': 'user', 'content': 'Please take the following <column_information> to choose what type of column a column most likely is.\\n<column_information>\\nTable Purpose: To track all the information about members of the gym.\\nColumn Info: \"membership\": \"The kind of membership the member has.\"\\n</column_information>\\n\\nChoose one column_type from this list <choices> below, structure as column_type: description of what qualifies a column as that type.\\n<choices>\\nColBasic: A back stop column for your basic data types with no other identifying attributes.\\nStringBasic: This is a basic string column generator that can be used to generate a column of strings with a specified length and format. It is not intended for free text or complex string generation.\\nCategorical: a column that represents a category or type, often with a limited set of values.\\nStringFirstName: A column that stores the first name of a person.\\nStringLastName: A column that stores the Last name of a person.\\nUnique_Identifier: A unique identifier for each record, typically a primary key.\\nCity: A column that stores the name of a city.\\nEmail: A column that stores email addresses, often used for contact information.\\nInteger: A column that stores whole numbers, often used for counts or identifiers.\\nDate: A column that stores date values, typically representing a specific point in time.\\nBoolean: A column that stores true/false values, often used for flags or binary states.\\nText: A column that stores free-form text or descriptions.\\nNumeric: A column that stores decimal or floating-point numbers, often used for measurements or financial data.\\n</choices>\\nRespond in JSON format like this:\\n{\\n    \"choice\": \"selected_option\",\\n    \"reason\": \"brief explanation\"\\n}\\n\\n<Examples>\\nExample 1:\\n<column_information>\\nTable Purpose: Stores information about gym members.\\nColumn Info: \"member_name\": \"The first name of the gym member.\"\\n</column_information>\\nOutput:\\n<JSON_Template>\\n{\\n    \"choice\": \"First_Name\",\\n    \"reason\": \"This represents the first name of a person, which is a common attribute in member records.\"\\n}\\n</JSON_Template>\\n\\nExample 2:\\n<column_information>\\nTable Purpose: Stores information about gym members.\\nColumn Info: \"subscription\": \"The type of subscription the member has.\"\\n</column_information>\\nOutput:\\n<JSON_Template>\\n{{\\n    \"choice\": \"Categorical\",\\n    \"reason\": \"There is a finite number of options for memberships at a gym.\"\\n}}\\n</JSON_Template>\\n</Examples>'}, {'role': 'assistant', 'content': '<JSON_Template>\\n{'}]}\n",
      "Message(id='msg_015JFkXStbxvYj2yG9HLxnwb', content=[TextBlock(citations=None, text='\\n    \"choice\": \"Categorical\",\\n    \"reason\": \"The \\'membership\\' column represents the kind of membership a gym member has, which would be a limited set of predefined options (like \\'Basic\\', \\'Premium\\', \\'Gold\\', etc.) rather than free-form text. This is a classic example of a categorical variable with a finite number of possible values.\"\\n}\\n', type='text')], model='claude-3-7-sonnet-20250219', role='assistant', stop_reason='stop_sequence', stop_sequence='</JSON_Template>', type='message', usage=Usage(cache_creation_input_tokens=0, cache_read_input_tokens=0, input_tokens=603, output_tokens=89))\n"
     ]
    }
   ],
   "source": [
    "await test_type_action.run(user_prompt=\"\")\n",
    "print(test_type_action.response)"
   ]
  },
  {
   "cell_type": "code",
   "execution_count": 6,
   "id": "cf8ab962",
   "metadata": {},
   "outputs": [
    {
     "name": "stdout",
     "output_type": "stream",
     "text": [
      "{'reason': \"The 'membership' column represents the kind of membership a gym member has, which would be a limited set of predefined options (like 'Basic', 'Premium', 'Gold', etc.) rather than free-form text. This is a classic example of a categorical variable with a finite number of possible values.\", 'col_type': 'Categorical'}\n"
     ]
    }
   ],
   "source": [
    "print(test_type_action.output_params)"
   ]
  },
  {
   "cell_type": "markdown",
   "id": "7bd2575a",
   "metadata": {},
   "source": [
    "### Data Column Refiner"
   ]
  },
  {
   "cell_type": "code",
   "execution_count": 7,
   "id": "e172a058",
   "metadata": {},
   "outputs": [
    {
     "name": "stdout",
     "output_type": "stream",
     "text": [
      "<src.AIGuardian.Tasks.DataColumnRefiner.DataColumnRefiner object at 0x0000012B8DB8BE10>\n"
     ]
    }
   ],
   "source": [
    "from src.AIGuardian.Tasks.DataColumnRefiner import DataColumnRefiner\n",
    "\n",
    "# Inputs\n",
    "action_parameters = {\n",
    "                \"table_name\": 'members',\n",
    "                \"purpose\": \"To track all the information about members of the gym.\",\n",
    "                \"column_name\": 'membership',\n",
    "                \"description\": 'The kind of membership the member has.',\n",
    "            }\n",
    "\n",
    "test_task = DataColumnRefiner(input_params=action_parameters, parent_task=test_type_action)\n",
    "# test_task.db_engine = KafkaEngine.default_builder()\n",
    "print(test_task)"
   ]
  },
  {
   "cell_type": "code",
   "execution_count": 8,
   "id": "ddbe6a52",
   "metadata": {},
   "outputs": [
    {
     "data": {
      "text/plain": [
       "{'task_id': 104404014328354376757570259899498965908,\n",
       " 'task_name': 'DataColumnRefiner',\n",
       " 'task_version': '0.0.1',\n",
       " 'parent_task_id': 136058658848764322081540275259036020310,\n",
       " 'group_task_id': 136058658848764322081540275259036020310,\n",
       " 'description': 'The base Task class. This should be inherited by all Task classes.',\n",
       " 'sequence_number': 1,\n",
       " 'created_dt': '2025-05-14T15:06:40.750806',\n",
       " 'updated_dt': '2025-05-14T15:06:40.750806',\n",
       " 'input_artifacts': '{\"table_name\": \"members\", \"purpose\": \"To track all the information about members of the gym.\", \"column_name\": \"membership\", \"description\": \"The kind of membership the member has.\", \"reason\": \"The \\'membership\\' column represents the kind of membership a gym member has, which would be a limited set of predefined options (like \\'Basic\\', \\'Premium\\', \\'Gold\\', etc.) rather than free-form text. This is a classic example of a categorical variable with a finite number of possible values.\", \"col_type\": \"Categorical\"}'}"
      ]
     },
     "execution_count": 8,
     "metadata": {},
     "output_type": "execute_result"
    }
   ],
   "source": [
    "test_task.submit_task()"
   ]
  },
  {
   "cell_type": "code",
   "execution_count": 9,
   "id": "e5d7e4ac",
   "metadata": {},
   "outputs": [
    {
     "name": "stdout",
     "output_type": "stream",
     "text": [
      "create_params: {'max_tokens': 10000, 'temperature': 0.1, 'stop_sequences': ['</JSON_Template>'], 'model': 'claude-3-7-sonnet-20250219', 'messages': [{'role': 'user', 'content': 'Please take the following <column_information> to fill in JSON values and only use keys in \"metadata\" from <JSON_Template>.\\n        <column_information>\\n        Table Purpose: To track all the information about members of the gym.\\n        Column Info: \"membership\": \"The kind of membership the member has.\"\\n        </column_information>\\n        Please provide the response in a JSON format like the <JSON_Template> below. If the JSON value has (Optional) in the value you may or may not included.\\n        There are examples below at <Examples>.\\n        <JSON_Template>\\n        {\"name\": \"example_column\", \"type\": \"Integer\", \"nullable\": true, \"metadata\": {\"description\": \"Place the description of the column here. Add detail if current description is vague.\", \"unique_fl\": \"Choose True or False\", \"default_value\": \"(Optional) The default value for the column.\", \"column_values\": \"List of possible values for the column.\", \"column_values_ratio\": \"(Optional) List of ratios for the possible values. Must be same length as column_values.\"}}\\n        </JSON_Template>\\n\\n        <Examples>\\n        Example 1:\\n        Purpose: \"This table is used to store user information.\"\\n        Column Info: \"user_id\": \"unique ID representing each user.\"\\n        Output:\\n        <JSON_Template>\\n        {\"name\": \"account_code\", \"type\": \"Integer\", \"nullable\": False, \\n            \"metadata\": {\"description\": \"unique ID representing each user.\", \\n            \"unique_fl\": True,\\n            \"default_value\": None,\\n            \"column_values\": [1, 5, 20, 100]\\n            \"column_values_ratio\": [0.5, 0.1, 0.2, 0.2]\\n        }}\\n        </JSON_Template>\\n        </Examples>'}, {'role': 'assistant', 'content': '<JSON_Template>\\n{'}]}\n",
      "Message(id='msg_01K2jYxZ2C6gRfspgwmZKKew', content=[TextBlock(citations=None, text='\\n  \"name\": \"membership\",\\n  \"type\": \"String\",\\n  \"nullable\": false,\\n  \"metadata\": {\\n    \"description\": \"The kind of membership the member has. Indicates the membership tier or plan that determines access privileges and pricing for the gym member.\",\\n    \"unique_fl\": \"False\",\\n    \"column_values\": [\"Basic\", \"Standard\", \"Premium\", \"Family\", \"Student\", \"Senior\", \"Corporate\"]\\n  }\\n}\\n', type='text')], model='claude-3-7-sonnet-20250219', role='assistant', stop_reason='stop_sequence', stop_sequence='</JSON_Template>', type='message', usage=Usage(cache_creation_input_tokens=0, cache_read_input_tokens=0, input_tokens=436, output_tokens=110))\n"
     ]
    }
   ],
   "source": [
    "await test_task.run(user_prompt=\"\")\n",
    "print(test_task.response)\n"
   ]
  },
  {
   "cell_type": "code",
   "execution_count": 14,
   "id": "dc07432d",
   "metadata": {},
   "outputs": [
    {
     "name": "stdout",
     "output_type": "stream",
     "text": [
      "\n",
      "  \"name\": \"membership\",\n",
      "  \"type\": \"String\",\n",
      "  \"nullable\": false,\n",
      "  \"metadata\": {\n",
      "    \"description\": \"The kind of membership the member has. Indicates the membership tier or plan that determines access privileges and pricing for the gym member.\",\n",
      "    \"unique_fl\": \"False\",\n",
      "    \"column_values\": [\"Basic\", \"Standard\", \"Premium\", \"Family\", \"Student\", \"Senior\", \"Corporate\"]\n",
      "  }\n",
      "}\n",
      "\n"
     ]
    }
   ],
   "source": [
    "print(test_task.response.content[0].text)\n"
   ]
  }
 ],
 "metadata": {
  "kernelspec": {
   "display_name": "Kafka_Spark",
   "language": "python",
   "name": "python3"
  },
  "language_info": {
   "codemirror_mode": {
    "name": "ipython",
    "version": 3
   },
   "file_extension": ".py",
   "mimetype": "text/x-python",
   "name": "python",
   "nbconvert_exporter": "python",
   "pygments_lexer": "ipython3",
   "version": "3.11.10"
  }
 },
 "nbformat": 4,
 "nbformat_minor": 5
}
