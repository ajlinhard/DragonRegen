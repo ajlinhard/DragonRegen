{
 "cells": [
  {
   "cell_type": "code",
   "execution_count": 1,
   "id": "8567738a",
   "metadata": {},
   "outputs": [
    {
     "name": "stdout",
     "output_type": "stream",
     "text": [
      "Project Path: c:\\Users\\dalej\\Documents\\_Coding\\DragonRegen\n"
     ]
    }
   ],
   "source": [
    "import os\n",
    "import sys\n",
    "\n",
    "project_path = os.path.abspath(os.path.join(os.getcwd(),'..','..','..'))\n",
    "sys.path.append(project_path)\n",
    "print(f\"Project Path: {project_path}\")"
   ]
  },
  {
   "cell_type": "code",
   "execution_count": 6,
   "id": "5110dabe",
   "metadata": {},
   "outputs": [
    {
     "name": "stdout",
     "output_type": "stream",
     "text": [
      "Agent Loop Count: 0 and last consumed time: 2025-05-23 16:19:50.249871\n",
      "Agent Loop Count: 1 and last consumed time: 2025-05-23 16:19:50.249871\n",
      "Agent Loop Count: 2 and last consumed time: 2025-05-23 16:19:50.249871\n",
      "Agent Loop Count: 3 and last consumed time: 2025-05-23 16:19:50.249871\n",
      "Agent Loop Count: 4 and last consumed time: 2025-05-23 16:19:50.249871\n",
      "Agent Loop Count: 5 and last consumed time: 2025-05-23 16:19:50.249871\n",
      "Agent Loop Count: 6 and last consumed time: 2025-05-23 16:19:50.249871\n",
      "Agent Loop Count: 7 and last consumed time: 2025-05-23 16:19:50.249871\n",
      "Agent Loop Count: 8 and last consumed time: 2025-05-23 16:19:50.249871\n",
      "Agent Loop Count: 9 and last consumed time: 2025-05-23 16:19:50.249871\n",
      "Agent Loop Count: 10 and last consumed time: 2025-05-23 16:19:50.249871\n",
      "Agent Loop Count: 11 and last consumed time: 2025-05-23 16:19:50.249871\n",
      "End of processing\n"
     ]
    }
   ],
   "source": [
    "from src.AIGuardian.Tasks.KafkaAgent import KafkaAgent\n",
    "\n",
    "agent = KafkaAgent(end_processing=20)\n",
    "agent.receive_messages()"
   ]
  },
  {
   "cell_type": "code",
   "execution_count": 4,
   "id": "07b46625",
   "metadata": {},
   "outputs": [
    {
     "name": "stdout",
     "output_type": "stream",
     "text": [
      "[]\n"
     ]
    }
   ],
   "source": [
    "print(agent.waiting_tasks)"
   ]
  },
  {
   "cell_type": "markdown",
   "id": "6eb94111",
   "metadata": {},
   "source": [
    "---\n",
    "## Debug the Agent not fully waiting"
   ]
  },
  {
   "cell_type": "code",
   "execution_count": 6,
   "id": "a316f387",
   "metadata": {},
   "outputs": [
    {
     "ename": "IndexError",
     "evalue": "list index out of range",
     "output_type": "error",
     "traceback": [
      "\u001b[1;31m---------------------------------------------------------------------------\u001b[0m",
      "\u001b[1;31mIndexError\u001b[0m                                Traceback (most recent call last)",
      "Cell \u001b[1;32mIn[6], line 2\u001b[0m\n\u001b[0;32m      1\u001b[0m \u001b[38;5;28;01mfrom\u001b[39;00m \u001b[38;5;21;01msrc\u001b[39;00m\u001b[38;5;21;01m.\u001b[39;00m\u001b[38;5;21;01mMetaFort\u001b[39;00m\u001b[38;5;21;01m.\u001b[39;00m\u001b[38;5;21;01mAILoggingTopics\u001b[39;00m \u001b[38;5;28;01mimport\u001b[39;00m AILoggingTopics\n\u001b[1;32m----> 2\u001b[0m \u001b[38;5;28mprint\u001b[39m(\u001b[38;5;28mtype\u001b[39m(agent\u001b[38;5;241m.\u001b[39mwaiting_tasks[\u001b[38;5;241m0\u001b[39m]))\n\u001b[0;32m      3\u001b[0m \u001b[38;5;28mprint\u001b[39m(agent\u001b[38;5;241m.\u001b[39mwaiting_tasks[\u001b[38;5;241m0\u001b[39m]\u001b[38;5;241m.\u001b[39mchild_task)\n\u001b[0;32m      4\u001b[0m \u001b[38;5;28mprint\u001b[39m(agent\u001b[38;5;241m.\u001b[39mdb_engine\u001b[38;5;241m.\u001b[39mconsumers[AILoggingTopics\u001b[38;5;241m.\u001b[39mAI_TASK_COMPLETED_TOPIC]\u001b[38;5;241m.\u001b[39mconfig[\u001b[38;5;124m'\u001b[39m\u001b[38;5;124mgroup_id\u001b[39m\u001b[38;5;124m'\u001b[39m])\n",
      "\u001b[1;31mIndexError\u001b[0m: list index out of range"
     ]
    }
   ],
   "source": [
    "from src.MetaFort.AILoggingTopics import AILoggingTopics\n",
    "print(type(agent.waiting_tasks[0]))\n",
    "print(agent.waiting_tasks[0].child_task)\n",
    "print(agent.db_engine.consumers[AILoggingTopics.AI_TASK_COMPLETED_TOPIC].config['group_id'])\n",
    "print(agent.waiting_tasks[0].is_waiting())\n"
   ]
  },
  {
   "cell_type": "code",
   "execution_count": null,
   "id": "dc72f19e",
   "metadata": {},
   "outputs": [
    {
     "name": "stdout",
     "output_type": "stream",
     "text": [
      "[<src.AIGuardian.Tasks.ColumnRefiner.ColumnRefiner object at 0x000001A65607A910>, <src.AIGuardian.Tasks.ColumnRefiner.ColumnRefiner object at 0x000001A65809CD90>]\n",
      "[<src.AIGuardian.Tasks.DataColumnType.DataColumnType object at 0x000001A6546FF190>, <src.AIGuardian.Tasks.DataColumnRefiner.DataColumnRefiner object at 0x000001A6544F0250>, <src.AIGuardian.Tasks.DataColumnType.DataColumnType object at 0x000001A655EBE550>, <src.AIGuardian.Tasks.DataColumnType.DataColumnType object at 0x000001A655F772D0>, <src.AIGuardian.Tasks.DataColumnRefiner.DataColumnRefiner object at 0x000001A655FC8A10>, <src.AIGuardian.Tasks.DataColumnType.DataColumnType object at 0x000001A655EBDF90>, <src.AIGuardian.Tasks.DataColumnType.DataColumnType object at 0x000001A655FC8E10>, <src.AIGuardian.Tasks.DataColumnRefiner.DataColumnRefiner object at 0x000001A655FD94D0>, <src.AIGuardian.Tasks.DataColumnRefiner.DataColumnRefiner object at 0x000001A655FC8850>, <src.AIGuardian.Tasks.DataColumnRefiner.DataColumnRefiner object at 0x000001A655FD8B50>, <src.AIGuardian.Tasks.DataColumnType.DataColumnType object at 0x000001A655FF0CD0>, <src.AIGuardian.Tasks.DataColumnRefiner.DataColumnRefiner object at 0x000001A655FD9010>, <src.AIGuardian.Tasks.DataColumnType.DataColumnType object at 0x000001A655F9C750>, <src.AIGuardian.Tasks.DataColumnType.DataColumnType object at 0x000001A655F9E110>, <src.AIGuardian.Tasks.DataColumnType.DataColumnType object at 0x000001A655F87AD0>, <src.AIGuardian.Tasks.DataColumnRefiner.DataColumnRefiner object at 0x000001A655F861D0>, <src.AIGuardian.Tasks.DataColumnType.DataColumnType object at 0x000001A656015D50>, <src.AIGuardian.Tasks.DataColumnType.DataColumnType object at 0x000001A655F9CE10>, <src.AIGuardian.Tasks.DataColumnRefiner.DataColumnRefiner object at 0x000001A656016150>, <src.AIGuardian.Tasks.DataColumnType.DataColumnType object at 0x000001A65600B110>, <src.AIGuardian.Tasks.ColumnRefiner.ColumnRefiner object at 0x000001A65600B090>, <src.AIGuardian.Tasks.ColumnRefiner.ColumnRefiner object at 0x000001A655FF8510>, <src.AIGuardian.Tasks.DataColumnType.DataColumnType object at 0x000001A656042B50>, <src.AIGuardian.Tasks.DataColumnRefiner.DataColumnRefiner object at 0x000001A655B1F810>, <src.AIGuardian.Tasks.DataColumnType.DataColumnType object at 0x000001A656042FD0>, <src.AIGuardian.Tasks.DataColumnType.DataColumnType object at 0x000001A65603A550>, <src.AIGuardian.Tasks.DataColumnType.DataColumnType object at 0x000001A656042990>, <src.AIGuardian.Tasks.DataColumnType.DataColumnType object at 0x000001A656057AD0>, <src.AIGuardian.Tasks.DataColumnRefiner.DataColumnRefiner object at 0x000001A65603A010>, <src.AIGuardian.Tasks.ColumnRefiner.ColumnRefiner object at 0x000001A6560570D0>, <src.AIGuardian.Tasks.DataColumnRefiner.DataColumnRefiner object at 0x000001A656056F10>, <src.AIGuardian.Tasks.DataColumnRefiner.DataColumnRefiner object at 0x000001A65603B1D0>, <src.AIGuardian.Tasks.DataColumnType.DataColumnType object at 0x000001A656057050>, <src.AIGuardian.Tasks.DataColumnRefiner.DataColumnRefiner object at 0x000001A65607A590>, <src.AIGuardian.Tasks.DataColumnType.DataColumnType object at 0x000001A656093A90>, <src.AIGuardian.Tasks.ColumnRefiner.ColumnRefiner object at 0x000001A65607A910>, <src.AIGuardian.Tasks.DataColumnRefiner.DataColumnRefiner object at 0x000001A656093ED0>, <src.AIGuardian.Tasks.DataColumnType.DataColumnType object at 0x000001A6560902D0>, <src.AIGuardian.Tasks.DataColumnType.DataColumnType object at 0x000001A6560935D0>, <src.AIGuardian.Tasks.DataColumnRefiner.DataColumnRefiner object at 0x000001A6560A7910>, <src.AIGuardian.Tasks.DataColumnRefiner.DataColumnRefiner object at 0x000001A6560A75D0>, <src.AIGuardian.Tasks.DataColumnRefiner.DataColumnRefiner object at 0x000001A656062F10>, <src.AIGuardian.Tasks.DataColumnRefiner.DataColumnRefiner object at 0x000001A65604F1D0>, <src.AIGuardian.Tasks.DataColumnType.DataColumnType object at 0x000001A65807A310>, <src.AIGuardian.Tasks.DataColumnType.DataColumnType object at 0x000001A6560A7790>, <src.AIGuardian.Tasks.DataColumnType.DataColumnType object at 0x000001A65807A6D0>, <src.AIGuardian.Tasks.ColumnRefiner.ColumnRefiner object at 0x000001A655B1F9D0>, <src.AIGuardian.Tasks.ColumnRefiner.ColumnRefiner object at 0x000001A655B4AAD0>, <src.AIGuardian.Tasks.DataColumnType.DataColumnType object at 0x000001A65808FD10>, <src.AIGuardian.Tasks.DataColumnType.DataColumnType object at 0x000001A65808FE50>, <src.AIGuardian.Tasks.ColumnRefiner.ColumnRefiner object at 0x000001A65809CD90>, <src.AIGuardian.Tasks.DataColumnType.DataColumnType object at 0x000001A65809DA90>, <src.AIGuardian.Tasks.DataColumnRefiner.DataColumnRefiner object at 0x000001A65808EA10>, <src.AIGuardian.Tasks.DataColumnRefiner.DataColumnRefiner object at 0x000001A658078690>, <src.AIGuardian.Tasks.DataColumnType.DataColumnType object at 0x000001A6580B0690>, <src.AIGuardian.Tasks.DataColumnRefiner.DataColumnRefiner object at 0x000001A6580A3E10>, <src.AIGuardian.Tasks.DataColumnRefiner.DataColumnRefiner object at 0x000001A6580931D0>, <src.AIGuardian.Tasks.DataColumnRefiner.DataColumnRefiner object at 0x000001A658093F10>, <src.AIGuardian.Tasks.DataColumnType.DataColumnType object at 0x000001A6580ADF50>, <src.AIGuardian.Tasks.DataColumnType.DataColumnType object at 0x000001A658091C90>, <src.AIGuardian.Tasks.DataColumnType.DataColumnType object at 0x000001A6580DD950>, <src.AIGuardian.Tasks.DataColumnType.DataColumnType object at 0x000001A65601D790>, <src.AIGuardian.Tasks.DataColumnRefiner.DataColumnRefiner object at 0x000001A6580DD690>, <src.AIGuardian.Tasks.DataColumnRefiner.DataColumnRefiner object at 0x000001A6580C3490>, <src.AIGuardian.Tasks.DataColumnRefiner.DataColumnRefiner object at 0x000001A65810A910>, <src.AIGuardian.Tasks.DataColumnType.DataColumnType object at 0x000001A65810BDD0>, <src.AIGuardian.Tasks.DataColumnType.DataColumnType object at 0x000001A65810C3D0>, <src.AIGuardian.Tasks.DataColumnRefiner.DataColumnRefiner object at 0x000001A65810AAD0>, <src.AIGuardian.Tasks.DataColumnRefiner.DataColumnRefiner object at 0x000001A65810AA50>, <src.AIGuardian.Tasks.DataColumnRefiner.DataColumnRefiner object at 0x000001A658125610>, <src.AIGuardian.Tasks.DataColumnRefiner.DataColumnRefiner object at 0x000001A658090150>, <src.AIGuardian.Tasks.DataColumnRefiner.DataColumnRefiner object at 0x000001A658090B50>, <src.AIGuardian.Tasks.DataColumnRefiner.DataColumnRefiner object at 0x000001A658129810>, <src.AIGuardian.Tasks.DataColumnType.DataColumnType object at 0x000001A658110710>, <src.AIGuardian.Tasks.DataColumnRefiner.DataColumnRefiner object at 0x000001A6580DC3D0>, <src.AIGuardian.Tasks.DataColumnType.DataColumnType object at 0x000001A65814F6D0>, <src.AIGuardian.Tasks.DataColumnType.DataColumnType object at 0x000001A65814F750>, <src.AIGuardian.Tasks.DataColumnType.DataColumnType object at 0x000001A65814D290>, <src.AIGuardian.Tasks.DataColumnRefiner.DataColumnRefiner object at 0x000001A65814CCD0>, <src.AIGuardian.Tasks.DataColumnRefiner.DataColumnRefiner object at 0x000001A658090D90>, <src.AIGuardian.Tasks.DataColumnType.DataColumnType object at 0x000001A65814F550>, <src.AIGuardian.Tasks.DataColumnType.DataColumnType object at 0x000001A65A103C10>, <src.AIGuardian.Tasks.DataColumnType.DataColumnType object at 0x000001A658155D10>, <src.AIGuardian.Tasks.DataColumnRefiner.DataColumnRefiner object at 0x000001A65A100B10>, <src.AIGuardian.Tasks.DataColumnType.DataColumnType object at 0x000001A65A124690>, <src.AIGuardian.Tasks.DataColumnRefiner.DataColumnRefiner object at 0x000001A658154790>, <src.AIGuardian.Tasks.DataColumnRefiner.DataColumnRefiner object at 0x000001A65814F410>, <src.AIGuardian.Tasks.DataColumnType.DataColumnType object at 0x000001A65A100490>, <src.AIGuardian.Tasks.DataColumnType.DataColumnType object at 0x000001A65A14C510>, <src.AIGuardian.Tasks.DataColumnRefiner.DataColumnRefiner object at 0x000001A658155DD0>, <src.AIGuardian.Tasks.DataColumnRefiner.DataColumnRefiner object at 0x000001A65A142D90>, <src.AIGuardian.Tasks.DataColumnRefiner.DataColumnRefiner object at 0x000001A65A142290>, <src.AIGuardian.Tasks.DataColumnType.DataColumnType object at 0x000001A65A143B90>, <src.AIGuardian.Tasks.DataColumnType.DataColumnType object at 0x000001A65A142910>, <src.AIGuardian.Tasks.DataColumnType.DataColumnType object at 0x000001A65A171690>, <src.AIGuardian.Tasks.DataColumnType.DataColumnType object at 0x000001A65A141A10>, <src.AIGuardian.Tasks.DataColumnType.DataColumnType object at 0x000001A65A15BCD0>, <src.AIGuardian.Tasks.DataColumnType.DataColumnType object at 0x000001A65A15B4D0>, <src.AIGuardian.Tasks.DataColumnRefiner.DataColumnRefiner object at 0x000001A65A141C50>, <src.AIGuardian.Tasks.DataColumnRefiner.DataColumnRefiner object at 0x000001A655F69B90>, <src.AIGuardian.Tasks.DataColumnRefiner.DataColumnRefiner object at 0x000001A658129D50>, <src.AIGuardian.Tasks.DataColumnRefiner.DataColumnRefiner object at 0x000001A65A100C50>, <src.AIGuardian.Tasks.DataColumnRefiner.DataColumnRefiner object at 0x000001A65A192B10>]\n",
      "[<src.AIGuardian.Tasks.DataColumnType.DataColumnType object at 0x000001A6546FF190>, <src.AIGuardian.Tasks.DataColumnRefiner.DataColumnRefiner object at 0x000001A6544F0250>, <src.AIGuardian.Tasks.DataColumnType.DataColumnType object at 0x000001A655EBE550>, <src.AIGuardian.Tasks.DataColumnType.DataColumnType object at 0x000001A655F772D0>, <src.AIGuardian.Tasks.DataColumnRefiner.DataColumnRefiner object at 0x000001A655FC8A10>, <src.AIGuardian.Tasks.DataColumnType.DataColumnType object at 0x000001A655EBDF90>, <src.AIGuardian.Tasks.DataColumnType.DataColumnType object at 0x000001A655FC8E10>, <src.AIGuardian.Tasks.DataColumnRefiner.DataColumnRefiner object at 0x000001A655FD94D0>, <src.AIGuardian.Tasks.DataColumnRefiner.DataColumnRefiner object at 0x000001A655FC8850>, <src.AIGuardian.Tasks.DataColumnRefiner.DataColumnRefiner object at 0x000001A655FD8B50>, <src.AIGuardian.Tasks.DataColumnType.DataColumnType object at 0x000001A655FF0CD0>, <src.AIGuardian.Tasks.DataColumnRefiner.DataColumnRefiner object at 0x000001A655FD9010>, <src.AIGuardian.Tasks.DataColumnType.DataColumnType object at 0x000001A655F9C750>, <src.AIGuardian.Tasks.DataColumnType.DataColumnType object at 0x000001A655F9E110>, <src.AIGuardian.Tasks.DataColumnType.DataColumnType object at 0x000001A655F87AD0>, <src.AIGuardian.Tasks.DataColumnRefiner.DataColumnRefiner object at 0x000001A655F861D0>, <src.AIGuardian.Tasks.DataColumnType.DataColumnType object at 0x000001A656015D50>, <src.AIGuardian.Tasks.DataColumnType.DataColumnType object at 0x000001A655F9CE10>, <src.AIGuardian.Tasks.DataColumnRefiner.DataColumnRefiner object at 0x000001A656016150>, <src.AIGuardian.Tasks.DataColumnType.DataColumnType object at 0x000001A65600B110>, <src.AIGuardian.Tasks.ColumnRefiner.ColumnRefiner object at 0x000001A65600B090>, <src.AIGuardian.Tasks.ColumnRefiner.ColumnRefiner object at 0x000001A655FF8510>, <src.AIGuardian.Tasks.DataColumnType.DataColumnType object at 0x000001A656042B50>, <src.AIGuardian.Tasks.DataColumnRefiner.DataColumnRefiner object at 0x000001A655B1F810>, <src.AIGuardian.Tasks.DataColumnType.DataColumnType object at 0x000001A656042FD0>, <src.AIGuardian.Tasks.DataColumnType.DataColumnType object at 0x000001A65603A550>, <src.AIGuardian.Tasks.DataColumnType.DataColumnType object at 0x000001A656042990>, <src.AIGuardian.Tasks.DataColumnType.DataColumnType object at 0x000001A656057AD0>, <src.AIGuardian.Tasks.DataColumnRefiner.DataColumnRefiner object at 0x000001A65603A010>, <src.AIGuardian.Tasks.ColumnRefiner.ColumnRefiner object at 0x000001A6560570D0>, <src.AIGuardian.Tasks.DataColumnRefiner.DataColumnRefiner object at 0x000001A656056F10>, <src.AIGuardian.Tasks.DataColumnRefiner.DataColumnRefiner object at 0x000001A65603B1D0>, <src.AIGuardian.Tasks.DataColumnType.DataColumnType object at 0x000001A656057050>, <src.AIGuardian.Tasks.DataColumnRefiner.DataColumnRefiner object at 0x000001A65607A590>, <src.AIGuardian.Tasks.DataColumnType.DataColumnType object at 0x000001A656093A90>, <src.AIGuardian.Tasks.ColumnRefiner.ColumnRefiner object at 0x000001A65607A910>, <src.AIGuardian.Tasks.DataColumnRefiner.DataColumnRefiner object at 0x000001A656093ED0>, <src.AIGuardian.Tasks.DataColumnType.DataColumnType object at 0x000001A6560902D0>, <src.AIGuardian.Tasks.DataColumnType.DataColumnType object at 0x000001A6560935D0>, <src.AIGuardian.Tasks.DataColumnRefiner.DataColumnRefiner object at 0x000001A6560A7910>, <src.AIGuardian.Tasks.DataColumnRefiner.DataColumnRefiner object at 0x000001A6560A75D0>, <src.AIGuardian.Tasks.DataColumnRefiner.DataColumnRefiner object at 0x000001A656062F10>, <src.AIGuardian.Tasks.DataColumnRefiner.DataColumnRefiner object at 0x000001A65604F1D0>, <src.AIGuardian.Tasks.DataColumnType.DataColumnType object at 0x000001A65807A310>, <src.AIGuardian.Tasks.DataColumnType.DataColumnType object at 0x000001A6560A7790>, <src.AIGuardian.Tasks.DataColumnType.DataColumnType object at 0x000001A65807A6D0>, <src.AIGuardian.Tasks.ColumnRefiner.ColumnRefiner object at 0x000001A655B1F9D0>, <src.AIGuardian.Tasks.ColumnRefiner.ColumnRefiner object at 0x000001A655B4AAD0>, <src.AIGuardian.Tasks.DataColumnType.DataColumnType object at 0x000001A65808FD10>, <src.AIGuardian.Tasks.DataColumnType.DataColumnType object at 0x000001A65808FE50>, <src.AIGuardian.Tasks.ColumnRefiner.ColumnRefiner object at 0x000001A65809CD90>, <src.AIGuardian.Tasks.DataColumnType.DataColumnType object at 0x000001A65809DA90>, <src.AIGuardian.Tasks.DataColumnRefiner.DataColumnRefiner object at 0x000001A65808EA10>, <src.AIGuardian.Tasks.DataColumnRefiner.DataColumnRefiner object at 0x000001A658078690>, <src.AIGuardian.Tasks.DataColumnType.DataColumnType object at 0x000001A6580B0690>, <src.AIGuardian.Tasks.DataColumnRefiner.DataColumnRefiner object at 0x000001A6580A3E10>, <src.AIGuardian.Tasks.DataColumnRefiner.DataColumnRefiner object at 0x000001A6580931D0>, <src.AIGuardian.Tasks.DataColumnRefiner.DataColumnRefiner object at 0x000001A658093F10>, <src.AIGuardian.Tasks.DataColumnType.DataColumnType object at 0x000001A6580ADF50>, <src.AIGuardian.Tasks.DataColumnType.DataColumnType object at 0x000001A658091C90>, <src.AIGuardian.Tasks.DataColumnType.DataColumnType object at 0x000001A6580DD950>, <src.AIGuardian.Tasks.DataColumnType.DataColumnType object at 0x000001A65601D790>, <src.AIGuardian.Tasks.DataColumnRefiner.DataColumnRefiner object at 0x000001A6580DD690>, <src.AIGuardian.Tasks.DataColumnRefiner.DataColumnRefiner object at 0x000001A6580C3490>, <src.AIGuardian.Tasks.DataColumnRefiner.DataColumnRefiner object at 0x000001A65810A910>, <src.AIGuardian.Tasks.DataColumnType.DataColumnType object at 0x000001A65810BDD0>, <src.AIGuardian.Tasks.DataColumnType.DataColumnType object at 0x000001A65810C3D0>, <src.AIGuardian.Tasks.DataColumnRefiner.DataColumnRefiner object at 0x000001A65810AAD0>, <src.AIGuardian.Tasks.DataColumnRefiner.DataColumnRefiner object at 0x000001A65810AA50>, <src.AIGuardian.Tasks.DataColumnRefiner.DataColumnRefiner object at 0x000001A658125610>, <src.AIGuardian.Tasks.DataColumnRefiner.DataColumnRefiner object at 0x000001A658090150>, <src.AIGuardian.Tasks.DataColumnRefiner.DataColumnRefiner object at 0x000001A658090B50>, <src.AIGuardian.Tasks.DataColumnRefiner.DataColumnRefiner object at 0x000001A658129810>, <src.AIGuardian.Tasks.DataColumnType.DataColumnType object at 0x000001A658110710>, <src.AIGuardian.Tasks.DataColumnRefiner.DataColumnRefiner object at 0x000001A6580DC3D0>, <src.AIGuardian.Tasks.DataColumnType.DataColumnType object at 0x000001A65814F6D0>, <src.AIGuardian.Tasks.DataColumnType.DataColumnType object at 0x000001A65814F750>, <src.AIGuardian.Tasks.DataColumnType.DataColumnType object at 0x000001A65814D290>, <src.AIGuardian.Tasks.DataColumnRefiner.DataColumnRefiner object at 0x000001A65814CCD0>, <src.AIGuardian.Tasks.DataColumnRefiner.DataColumnRefiner object at 0x000001A658090D90>, <src.AIGuardian.Tasks.DataColumnType.DataColumnType object at 0x000001A65814F550>, <src.AIGuardian.Tasks.DataColumnType.DataColumnType object at 0x000001A65A103C10>, <src.AIGuardian.Tasks.DataColumnType.DataColumnType object at 0x000001A658155D10>, <src.AIGuardian.Tasks.DataColumnRefiner.DataColumnRefiner object at 0x000001A65A100B10>, <src.AIGuardian.Tasks.DataColumnType.DataColumnType object at 0x000001A65A124690>, <src.AIGuardian.Tasks.DataColumnRefiner.DataColumnRefiner object at 0x000001A658154790>, <src.AIGuardian.Tasks.DataColumnRefiner.DataColumnRefiner object at 0x000001A65814F410>, <src.AIGuardian.Tasks.DataColumnType.DataColumnType object at 0x000001A65A100490>, <src.AIGuardian.Tasks.DataColumnType.DataColumnType object at 0x000001A65A14C510>, <src.AIGuardian.Tasks.DataColumnRefiner.DataColumnRefiner object at 0x000001A658155DD0>, <src.AIGuardian.Tasks.DataColumnRefiner.DataColumnRefiner object at 0x000001A65A142D90>, <src.AIGuardian.Tasks.DataColumnRefiner.DataColumnRefiner object at 0x000001A65A142290>, <src.AIGuardian.Tasks.DataColumnType.DataColumnType object at 0x000001A65A143B90>, <src.AIGuardian.Tasks.DataColumnType.DataColumnType object at 0x000001A65A142910>, <src.AIGuardian.Tasks.DataColumnType.DataColumnType object at 0x000001A65A171690>, <src.AIGuardian.Tasks.DataColumnType.DataColumnType object at 0x000001A65A141A10>, <src.AIGuardian.Tasks.DataColumnType.DataColumnType object at 0x000001A65A15BCD0>, <src.AIGuardian.Tasks.DataColumnType.DataColumnType object at 0x000001A65A15B4D0>, <src.AIGuardian.Tasks.DataColumnRefiner.DataColumnRefiner object at 0x000001A65A141C50>, <src.AIGuardian.Tasks.DataColumnRefiner.DataColumnRefiner object at 0x000001A655F69B90>, <src.AIGuardian.Tasks.DataColumnRefiner.DataColumnRefiner object at 0x000001A658129D50>, <src.AIGuardian.Tasks.DataColumnRefiner.DataColumnRefiner object at 0x000001A65A100C50>, <src.AIGuardian.Tasks.DataColumnRefiner.DataColumnRefiner object at 0x000001A65A192B10>]\n",
      "[<src.AIGuardian.Tasks.DataColumnType.DataColumnType object at 0x000001A6546FF190>, <src.AIGuardian.Tasks.DataColumnRefiner.DataColumnRefiner object at 0x000001A6544F0250>, <src.AIGuardian.Tasks.DataColumnType.DataColumnType object at 0x000001A655EBE550>, <src.AIGuardian.Tasks.DataColumnType.DataColumnType object at 0x000001A655F772D0>, <src.AIGuardian.Tasks.DataColumnRefiner.DataColumnRefiner object at 0x000001A655FC8A10>, <src.AIGuardian.Tasks.DataColumnType.DataColumnType object at 0x000001A655EBDF90>, <src.AIGuardian.Tasks.DataColumnType.DataColumnType object at 0x000001A655FC8E10>, <src.AIGuardian.Tasks.DataColumnRefiner.DataColumnRefiner object at 0x000001A655FD94D0>, <src.AIGuardian.Tasks.DataColumnRefiner.DataColumnRefiner object at 0x000001A655FC8850>, <src.AIGuardian.Tasks.DataColumnRefiner.DataColumnRefiner object at 0x000001A655FD8B50>, <src.AIGuardian.Tasks.DataColumnType.DataColumnType object at 0x000001A655FF0CD0>, <src.AIGuardian.Tasks.DataColumnRefiner.DataColumnRefiner object at 0x000001A655FD9010>, <src.AIGuardian.Tasks.DataColumnType.DataColumnType object at 0x000001A655F9C750>, <src.AIGuardian.Tasks.DataColumnType.DataColumnType object at 0x000001A655F9E110>, <src.AIGuardian.Tasks.DataColumnType.DataColumnType object at 0x000001A655F87AD0>, <src.AIGuardian.Tasks.DataColumnRefiner.DataColumnRefiner object at 0x000001A655F861D0>, <src.AIGuardian.Tasks.DataColumnType.DataColumnType object at 0x000001A656015D50>, <src.AIGuardian.Tasks.DataColumnType.DataColumnType object at 0x000001A655F9CE10>, <src.AIGuardian.Tasks.DataColumnRefiner.DataColumnRefiner object at 0x000001A656016150>, <src.AIGuardian.Tasks.DataColumnType.DataColumnType object at 0x000001A65600B110>, <src.AIGuardian.Tasks.DataColumnType.DataColumnType object at 0x000001A656042B50>, <src.AIGuardian.Tasks.DataColumnRefiner.DataColumnRefiner object at 0x000001A655B1F810>, <src.AIGuardian.Tasks.DataColumnType.DataColumnType object at 0x000001A656042FD0>, <src.AIGuardian.Tasks.DataColumnType.DataColumnType object at 0x000001A65603A550>, <src.AIGuardian.Tasks.DataColumnType.DataColumnType object at 0x000001A656042990>, <src.AIGuardian.Tasks.DataColumnType.DataColumnType object at 0x000001A656057AD0>, <src.AIGuardian.Tasks.DataColumnRefiner.DataColumnRefiner object at 0x000001A65603A010>, <src.AIGuardian.Tasks.DataColumnRefiner.DataColumnRefiner object at 0x000001A656056F10>, <src.AIGuardian.Tasks.DataColumnRefiner.DataColumnRefiner object at 0x000001A65603B1D0>, <src.AIGuardian.Tasks.DataColumnType.DataColumnType object at 0x000001A656057050>, <src.AIGuardian.Tasks.DataColumnRefiner.DataColumnRefiner object at 0x000001A65607A590>, <src.AIGuardian.Tasks.DataColumnType.DataColumnType object at 0x000001A656093A90>, <src.AIGuardian.Tasks.DataColumnRefiner.DataColumnRefiner object at 0x000001A656093ED0>, <src.AIGuardian.Tasks.DataColumnType.DataColumnType object at 0x000001A6560902D0>, <src.AIGuardian.Tasks.DataColumnType.DataColumnType object at 0x000001A6560935D0>, <src.AIGuardian.Tasks.DataColumnRefiner.DataColumnRefiner object at 0x000001A6560A7910>, <src.AIGuardian.Tasks.DataColumnRefiner.DataColumnRefiner object at 0x000001A6560A75D0>, <src.AIGuardian.Tasks.DataColumnRefiner.DataColumnRefiner object at 0x000001A656062F10>, <src.AIGuardian.Tasks.DataColumnRefiner.DataColumnRefiner object at 0x000001A65604F1D0>, <src.AIGuardian.Tasks.DataColumnType.DataColumnType object at 0x000001A65807A310>, <src.AIGuardian.Tasks.DataColumnType.DataColumnType object at 0x000001A6560A7790>, <src.AIGuardian.Tasks.DataColumnType.DataColumnType object at 0x000001A65807A6D0>, <src.AIGuardian.Tasks.DataColumnType.DataColumnType object at 0x000001A65808FD10>, <src.AIGuardian.Tasks.DataColumnType.DataColumnType object at 0x000001A65808FE50>, <src.AIGuardian.Tasks.DataColumnType.DataColumnType object at 0x000001A65809DA90>, <src.AIGuardian.Tasks.DataColumnRefiner.DataColumnRefiner object at 0x000001A65808EA10>, <src.AIGuardian.Tasks.DataColumnRefiner.DataColumnRefiner object at 0x000001A658078690>, <src.AIGuardian.Tasks.DataColumnType.DataColumnType object at 0x000001A6580B0690>, <src.AIGuardian.Tasks.DataColumnRefiner.DataColumnRefiner object at 0x000001A6580A3E10>, <src.AIGuardian.Tasks.DataColumnRefiner.DataColumnRefiner object at 0x000001A6580931D0>, <src.AIGuardian.Tasks.DataColumnRefiner.DataColumnRefiner object at 0x000001A658093F10>, <src.AIGuardian.Tasks.DataColumnType.DataColumnType object at 0x000001A6580ADF50>, <src.AIGuardian.Tasks.DataColumnType.DataColumnType object at 0x000001A658091C90>, <src.AIGuardian.Tasks.DataColumnType.DataColumnType object at 0x000001A6580DD950>, <src.AIGuardian.Tasks.DataColumnType.DataColumnType object at 0x000001A65601D790>, <src.AIGuardian.Tasks.DataColumnRefiner.DataColumnRefiner object at 0x000001A6580DD690>, <src.AIGuardian.Tasks.DataColumnRefiner.DataColumnRefiner object at 0x000001A6580C3490>, <src.AIGuardian.Tasks.DataColumnRefiner.DataColumnRefiner object at 0x000001A65810A910>, <src.AIGuardian.Tasks.DataColumnType.DataColumnType object at 0x000001A65810BDD0>, <src.AIGuardian.Tasks.DataColumnType.DataColumnType object at 0x000001A65810C3D0>, <src.AIGuardian.Tasks.DataColumnRefiner.DataColumnRefiner object at 0x000001A65810AAD0>, <src.AIGuardian.Tasks.DataColumnRefiner.DataColumnRefiner object at 0x000001A65810AA50>, <src.AIGuardian.Tasks.DataColumnRefiner.DataColumnRefiner object at 0x000001A658125610>, <src.AIGuardian.Tasks.DataColumnRefiner.DataColumnRefiner object at 0x000001A658090150>, <src.AIGuardian.Tasks.DataColumnRefiner.DataColumnRefiner object at 0x000001A658090B50>, <src.AIGuardian.Tasks.DataColumnRefiner.DataColumnRefiner object at 0x000001A658129810>, <src.AIGuardian.Tasks.DataColumnType.DataColumnType object at 0x000001A658110710>, <src.AIGuardian.Tasks.DataColumnRefiner.DataColumnRefiner object at 0x000001A6580DC3D0>, <src.AIGuardian.Tasks.DataColumnType.DataColumnType object at 0x000001A65814F6D0>, <src.AIGuardian.Tasks.DataColumnType.DataColumnType object at 0x000001A65814F750>, <src.AIGuardian.Tasks.DataColumnType.DataColumnType object at 0x000001A65814D290>, <src.AIGuardian.Tasks.DataColumnRefiner.DataColumnRefiner object at 0x000001A65814CCD0>, <src.AIGuardian.Tasks.DataColumnRefiner.DataColumnRefiner object at 0x000001A658090D90>, <src.AIGuardian.Tasks.DataColumnType.DataColumnType object at 0x000001A65814F550>, <src.AIGuardian.Tasks.DataColumnType.DataColumnType object at 0x000001A65A103C10>, <src.AIGuardian.Tasks.DataColumnType.DataColumnType object at 0x000001A658155D10>, <src.AIGuardian.Tasks.DataColumnRefiner.DataColumnRefiner object at 0x000001A65A100B10>, <src.AIGuardian.Tasks.DataColumnType.DataColumnType object at 0x000001A65A124690>, <src.AIGuardian.Tasks.DataColumnRefiner.DataColumnRefiner object at 0x000001A658154790>, <src.AIGuardian.Tasks.DataColumnRefiner.DataColumnRefiner object at 0x000001A65814F410>, <src.AIGuardian.Tasks.ColumnRefiner.ColumnRefiner object at 0x000001A65600B090>, <src.AIGuardian.Tasks.DataColumnType.DataColumnType object at 0x000001A65A100490>, <src.AIGuardian.Tasks.DataColumnType.DataColumnType object at 0x000001A65A14C510>, <src.AIGuardian.Tasks.DataColumnRefiner.DataColumnRefiner object at 0x000001A658155DD0>, <src.AIGuardian.Tasks.ColumnRefiner.ColumnRefiner object at 0x000001A6560570D0>, <src.AIGuardian.Tasks.DataColumnRefiner.DataColumnRefiner object at 0x000001A65A142D90>, <src.AIGuardian.Tasks.DataColumnRefiner.DataColumnRefiner object at 0x000001A65A142290>, <src.AIGuardian.Tasks.DataColumnType.DataColumnType object at 0x000001A65A143B90>, <src.AIGuardian.Tasks.ColumnRefiner.ColumnRefiner object at 0x000001A655B1F9D0>, <src.AIGuardian.Tasks.DataColumnType.DataColumnType object at 0x000001A65A142910>, <src.AIGuardian.Tasks.DataColumnType.DataColumnType object at 0x000001A65A171690>, <src.AIGuardian.Tasks.DataColumnType.DataColumnType object at 0x000001A65A141A10>, <src.AIGuardian.Tasks.DataColumnType.DataColumnType object at 0x000001A65A15BCD0>, <src.AIGuardian.Tasks.DataColumnType.DataColumnType object at 0x000001A65A15B4D0>, <src.AIGuardian.Tasks.DataColumnRefiner.DataColumnRefiner object at 0x000001A65A141C50>, <src.AIGuardian.Tasks.DataColumnRefiner.DataColumnRefiner object at 0x000001A655F69B90>, <src.AIGuardian.Tasks.DataColumnRefiner.DataColumnRefiner object at 0x000001A658129D50>, <src.AIGuardian.Tasks.DataColumnRefiner.DataColumnRefiner object at 0x000001A65A100C50>, <src.AIGuardian.Tasks.ColumnRefiner.ColumnRefiner object at 0x000001A655B4AAD0>, <src.AIGuardian.Tasks.DataColumnRefiner.DataColumnRefiner object at 0x000001A65A192B10>]\n",
      "['18bb9466-0377-4a24-b174-2a2ed11ee974', 'afa1e9cc-0060-4178-a219-a4dd1b6d0b40', 'f0792199-3571-4fb9-8a70-15c285dba7e6', '372735ec-7d68-425a-806b-313886912cc5', 'dca389e7-33f9-46d8-8a0c-d5f92072b718', 'b9a4ff90-9961-42c5-be69-82898e447655', '04f81cf9-b121-4bf3-a197-22ebf6020739', '591c5924-5ef5-4578-8c44-f65f7d7336c8', '9a86850c-8080-4388-bd00-246fcd365cab', '6f1ec65c-71f9-4ad6-a103-09cb018610cc', 'd7b5c3e3-81e3-440f-8b77-03b1ff1b6617', '34bcb98d-f9a9-4e50-8efe-7c0a835fc3d9', '6c613c0d-eae4-4411-a2dc-ad8e794eb31e', 'db6f43c7-7b8f-42d2-bce8-d1db243c57fb', 'b356a921-3db6-4a18-8e68-b1226db1e9d3', 'd5c377a1-4840-474c-b97c-9d5e4d5f8710', 'a8d67a50-3299-471b-9384-476401cbf86e', '6a0539ca-dbf8-43f5-a3bf-7cfc40645045', '09d83726-d01d-49e3-911a-2e7f837e1e89', '9c669ac7-5e48-4f94-872e-19413d1ad39b', 'aaa89b33-6e5a-4a1c-80f9-40c8c0f3eb14', '23138e8f-0c4b-4d4a-9d38-5a75248287fd', '6ee14855-bd00-476d-87eb-8d040cdba3c4', '44d6a0eb-449b-408c-a992-cbe8b95c151d', 'd6bae60f-65c4-459a-9e53-e0bfc303318c', 'ea94d016-ca4b-47da-8007-dd18fd44fd2b', '6f82fe7c-a4dc-42fe-be8c-4b253e90f305', 'ac797d46-f2b0-4584-84d0-92d9aaa5443e', 'b7ef05a0-ae46-47ea-af87-362c171634a3', 'c6cd1372-063c-4e78-8d46-cecab2d21031', '798e15f1-1fab-40df-a092-459514f1cb44', '4eb9ac4e-1d17-4650-bc7f-40b3a69d4164', 'acdc02c6-fbda-4870-9262-08eaa93a6fb8', '06165a65-31cc-46e1-8381-e8e55a478ec5', '28a9a657-0a59-4614-a812-dd54063d9935', '9c892089-7fe8-4614-b70d-1a57a2bb9434', '207f93a8-aa11-4677-bb3a-6fbbf5940b4b', '066484b7-ccbb-4d31-a4d5-b0f92628fe79', 'b6c8fe98-c939-4cb7-b1a2-760aa0b77d60', '23184e18-1414-4379-b208-b46efebf7d02', 'bd8ab7f7-fc66-46c0-9bbf-12b9bf604893', '947654ee-c8af-4ba7-9168-d924c2fdfffd', 'fe195c27-9b44-492b-a33b-b6573ab19cd5', '049ce88f-0c3d-411f-afe8-d7e8e092e7f3', 'fc42e7f3-1a7c-4df8-ae89-379f0b8acd16', '2162f8d5-9f9a-4a61-aee8-e05d2361c5bd', '7465da08-2650-4b04-b6d1-ceb30b3cd118', '6257f8a7-d5de-466b-91d1-9664331bfc43', '6cd83c58-869e-495c-bb70-6ebd2fc0ae92', '341ff302-01ba-4062-b2ee-f28050174644', 'a9970a53-a949-4d9a-9b6c-8044d37cd4b9', '9561f365-b569-4dcc-87f6-42a972f61ae7', 'abc6dd55-e201-4a76-bc31-5487bf027913', 'baf3f566-5148-49a7-9740-bd93362dffce', '4b165283-d211-4219-9b1d-281ea69738d9', '68704d1a-8ec0-426b-beed-a70dd533bf40', '4ce3d004-c5d8-4300-8d1f-6b7c8b090b47', 'b0a13407-f46b-4087-a717-6d6372ef30ad', '9d12fc44-deca-4907-a103-03079aaf2303', '2917c451-9656-48ce-9bfa-2fba56fbdf49', '9fde298a-1b33-4798-946b-f7db0c9f1020', '16909440-66de-40af-af15-6102d01e2e68', '4756b010-fb5a-4b64-a950-62dd14049ab2', '2ff2e776-e238-4949-b7fe-ccdfadb4412a', '5d29ca07-ab49-4689-af78-fb173da87095', '61e5221b-ad74-44d9-af15-0660b57d66e6', '98caa588-f860-4827-8e7c-0f6dea235068', '72d013e7-1d9d-4d86-9828-ea712413285a', 'e45757e2-f8e7-4d36-bfce-7b5b9c6672ae', '345e4851-c1dd-4607-bf6a-a18fa2877eab', 'e57ec331-20cc-4d63-9882-eeaecd719316', '2c2ab446-d403-4559-ae21-37d314009c76', '1f203748-d760-460d-a372-a40753bb5e13', '08ac1b20-5251-4c5d-99bb-6a6cc3e67c02', '14dc3d78-a54c-416e-a4d8-e592dad97247', 'b31c278a-41f0-4391-b1ac-fc0925867e55', '077e4b94-386b-455d-83be-b676da249162', 'fd0a4d87-a0dd-4562-96d0-b540ff468beb', 'ef052ef3-5934-4204-8b5c-1bb2583a6500', 'a93f9390-e43f-4586-8abd-4ae4046d74d6', 'cb926e1d-cb53-47b6-94c4-96815a7d3198', 'aec9b8b3-d647-4da0-9968-39015ae70f3d', 'c83472c3-7935-4b26-9006-3d6d61932f99', '6a7b2601-d206-4b47-83cb-ed09f8bbe4a8', '2bc33800-de89-4d07-91a8-4c6822f455e8', '226efa57-80e3-48aa-af12-8bdf6e961585', 'b2b2e593-f80b-478e-8e97-b514b26ce0cf', '31b3ecc6-9e97-460c-be5c-1b950890eae2', '28ea8e66-a650-4521-841a-c4297df4e7cc', '9f108cfa-99ee-467a-b572-e79223edb333', 'c1f3faec-dce1-4ef4-ac1e-fe5b3f95fe44', 'b35da878-f2dd-42e3-b07f-c59df89e71db', '7813b7e0-eb67-4eae-8e58-38904558ba80', '0bfdac16-73f9-41ee-ab98-d3f84682628c', '79424638-d9d1-463e-9ce8-0249e22c4e72', '7afc23c6-9ef0-4917-843d-a7c52f2b6619', 'b577355e-3135-4267-81aa-fcf39cdd669b', '8d1d97c4-8979-418c-ada7-be3fbe41f400', 'd1dca9e1-c57b-4c61-acbc-8c167b4feade', 'e586fd05-16dd-4ad1-a775-3d5ad089c463', 'cd71ff4b-98be-4c59-904e-9cfa1f9e49e2', '86451e6c-5cb9-4c14-989a-6bf58d9aaa24', '116ada54-1e14-40e0-b3a8-89181825d61d', 'bee41276-6a89-4603-87e2-6de784b0718d', '84c57a3f-17d2-4d2b-857e-e7a008efdb8c', 'cddfdeba-0665-4d78-8772-d4191846579d', '1271a0d7-bdfa-4a1b-8a9d-f22cc6a7f3c7', '8fd6dc95-3540-4708-90f4-773e50e03f85', '657ced38-6cec-4c9b-9aa8-2b36b84c8f68', 'd9aea933-38af-43d7-a9dc-d698bf207f1b', '4ef36cbf-ba6d-42c8-84bc-58b566c25f42', 'e52f9631-1edd-4912-8298-b7bf09fd2559', '4dc62037-a1bf-4017-99ca-4c6d8115a692', 'eba5cdaf-af3b-4a27-bcba-b9aa096f55a3', 'ba73eddd-0f36-4a1f-9b51-bf152868aad8', '06ca9b20-20e6-445b-b003-d527447c1835', 'd2de6ffe-ad41-498f-9709-8b580dc6c176', '4eb63f0f-0901-4e57-a69d-419d970c03e1', '23ba0ea9-1208-459b-8b9d-c0df0944eb62', '40fce9ef-d483-4029-8033-39108bed490a', 'df7bcc72-f0bf-49e0-ac89-707fb44fcdfe']\n",
      "{'bee41276-6a89-4603-87e2-6de784b0718d': ['18bb9466-0377-4a24-b174-2a2ed11ee974', 'afa1e9cc-0060-4178-a219-a4dd1b6d0b40', 'f0792199-3571-4fb9-8a70-15c285dba7e6', '372735ec-7d68-425a-806b-313886912cc5', 'dca389e7-33f9-46d8-8a0c-d5f92072b718', 'b9a4ff90-9961-42c5-be69-82898e447655', '04f81cf9-b121-4bf3-a197-22ebf6020739', '591c5924-5ef5-4578-8c44-f65f7d7336c8', '9a86850c-8080-4388-bd00-246fcd365cab', '6f1ec65c-71f9-4ad6-a103-09cb018610cc', 'd7b5c3e3-81e3-440f-8b77-03b1ff1b6617', '34bcb98d-f9a9-4e50-8efe-7c0a835fc3d9', '6c613c0d-eae4-4411-a2dc-ad8e794eb31e', 'db6f43c7-7b8f-42d2-bce8-d1db243c57fb', 'b356a921-3db6-4a18-8e68-b1226db1e9d3', 'd5c377a1-4840-474c-b97c-9d5e4d5f8710', 'a8d67a50-3299-471b-9384-476401cbf86e', '6a0539ca-dbf8-43f5-a3bf-7cfc40645045', '09d83726-d01d-49e3-911a-2e7f837e1e89', '9c669ac7-5e48-4f94-872e-19413d1ad39b', 'aaa89b33-6e5a-4a1c-80f9-40c8c0f3eb14', '23138e8f-0c4b-4d4a-9d38-5a75248287fd', '6ee14855-bd00-476d-87eb-8d040cdba3c4', '44d6a0eb-449b-408c-a992-cbe8b95c151d', 'd6bae60f-65c4-459a-9e53-e0bfc303318c', 'ea94d016-ca4b-47da-8007-dd18fd44fd2b', '6f82fe7c-a4dc-42fe-be8c-4b253e90f305', 'ac797d46-f2b0-4584-84d0-92d9aaa5443e', 'b7ef05a0-ae46-47ea-af87-362c171634a3', 'c6cd1372-063c-4e78-8d46-cecab2d21031', '798e15f1-1fab-40df-a092-459514f1cb44', '4eb9ac4e-1d17-4650-bc7f-40b3a69d4164', 'acdc02c6-fbda-4870-9262-08eaa93a6fb8', '06165a65-31cc-46e1-8381-e8e55a478ec5', '28a9a657-0a59-4614-a812-dd54063d9935', '9c892089-7fe8-4614-b70d-1a57a2bb9434', '207f93a8-aa11-4677-bb3a-6fbbf5940b4b', '066484b7-ccbb-4d31-a4d5-b0f92628fe79', 'b6c8fe98-c939-4cb7-b1a2-760aa0b77d60', '23184e18-1414-4379-b208-b46efebf7d02', 'bd8ab7f7-fc66-46c0-9bbf-12b9bf604893', '947654ee-c8af-4ba7-9168-d924c2fdfffd', 'fe195c27-9b44-492b-a33b-b6573ab19cd5', '049ce88f-0c3d-411f-afe8-d7e8e092e7f3', 'fc42e7f3-1a7c-4df8-ae89-379f0b8acd16', '2162f8d5-9f9a-4a61-aee8-e05d2361c5bd', '7465da08-2650-4b04-b6d1-ceb30b3cd118', '6257f8a7-d5de-466b-91d1-9664331bfc43', '6cd83c58-869e-495c-bb70-6ebd2fc0ae92', '341ff302-01ba-4062-b2ee-f28050174644', 'a9970a53-a949-4d9a-9b6c-8044d37cd4b9', '9561f365-b569-4dcc-87f6-42a972f61ae7', 'abc6dd55-e201-4a76-bc31-5487bf027913', 'baf3f566-5148-49a7-9740-bd93362dffce', '4b165283-d211-4219-9b1d-281ea69738d9', '68704d1a-8ec0-426b-beed-a70dd533bf40', '4ce3d004-c5d8-4300-8d1f-6b7c8b090b47', 'b0a13407-f46b-4087-a717-6d6372ef30ad', '9d12fc44-deca-4907-a103-03079aaf2303', '2917c451-9656-48ce-9bfa-2fba56fbdf49', '9fde298a-1b33-4798-946b-f7db0c9f1020', '16909440-66de-40af-af15-6102d01e2e68', '4756b010-fb5a-4b64-a950-62dd14049ab2', '2ff2e776-e238-4949-b7fe-ccdfadb4412a', '5d29ca07-ab49-4689-af78-fb173da87095', '61e5221b-ad74-44d9-af15-0660b57d66e6', '98caa588-f860-4827-8e7c-0f6dea235068', '72d013e7-1d9d-4d86-9828-ea712413285a', 'e45757e2-f8e7-4d36-bfce-7b5b9c6672ae', '345e4851-c1dd-4607-bf6a-a18fa2877eab', 'e57ec331-20cc-4d63-9882-eeaecd719316', '2c2ab446-d403-4559-ae21-37d314009c76', '1f203748-d760-460d-a372-a40753bb5e13', '08ac1b20-5251-4c5d-99bb-6a6cc3e67c02', '14dc3d78-a54c-416e-a4d8-e592dad97247', 'b31c278a-41f0-4391-b1ac-fc0925867e55', '077e4b94-386b-455d-83be-b676da249162', 'fd0a4d87-a0dd-4562-96d0-b540ff468beb', 'ef052ef3-5934-4204-8b5c-1bb2583a6500', 'a93f9390-e43f-4586-8abd-4ae4046d74d6', 'cb926e1d-cb53-47b6-94c4-96815a7d3198', 'aec9b8b3-d647-4da0-9968-39015ae70f3d', 'c83472c3-7935-4b26-9006-3d6d61932f99', '6a7b2601-d206-4b47-83cb-ed09f8bbe4a8', '2bc33800-de89-4d07-91a8-4c6822f455e8', '226efa57-80e3-48aa-af12-8bdf6e961585', 'b2b2e593-f80b-478e-8e97-b514b26ce0cf', '31b3ecc6-9e97-460c-be5c-1b950890eae2', '28ea8e66-a650-4521-841a-c4297df4e7cc', '9f108cfa-99ee-467a-b572-e79223edb333', 'c1f3faec-dce1-4ef4-ac1e-fe5b3f95fe44', 'b35da878-f2dd-42e3-b07f-c59df89e71db', '7813b7e0-eb67-4eae-8e58-38904558ba80', '0bfdac16-73f9-41ee-ab98-d3f84682628c', '79424638-d9d1-463e-9ce8-0249e22c4e72', '7afc23c6-9ef0-4917-843d-a7c52f2b6619', 'b577355e-3135-4267-81aa-fcf39cdd669b', '8d1d97c4-8979-418c-ada7-be3fbe41f400', 'd1dca9e1-c57b-4c61-acbc-8c167b4feade', 'e586fd05-16dd-4ad1-a775-3d5ad089c463', 'cd71ff4b-98be-4c59-904e-9cfa1f9e49e2'], 'b0822840-c340-4254-92a6-849cdc888ba4': ['18bb9466-0377-4a24-b174-2a2ed11ee974', 'afa1e9cc-0060-4178-a219-a4dd1b6d0b40', 'f0792199-3571-4fb9-8a70-15c285dba7e6', '372735ec-7d68-425a-806b-313886912cc5', 'dca389e7-33f9-46d8-8a0c-d5f92072b718', 'b9a4ff90-9961-42c5-be69-82898e447655', '04f81cf9-b121-4bf3-a197-22ebf6020739', '591c5924-5ef5-4578-8c44-f65f7d7336c8', '9a86850c-8080-4388-bd00-246fcd365cab', '6f1ec65c-71f9-4ad6-a103-09cb018610cc', 'd7b5c3e3-81e3-440f-8b77-03b1ff1b6617', '34bcb98d-f9a9-4e50-8efe-7c0a835fc3d9', '6c613c0d-eae4-4411-a2dc-ad8e794eb31e', 'db6f43c7-7b8f-42d2-bce8-d1db243c57fb', 'b356a921-3db6-4a18-8e68-b1226db1e9d3', 'd5c377a1-4840-474c-b97c-9d5e4d5f8710', 'a8d67a50-3299-471b-9384-476401cbf86e', '6a0539ca-dbf8-43f5-a3bf-7cfc40645045', '09d83726-d01d-49e3-911a-2e7f837e1e89', '9c669ac7-5e48-4f94-872e-19413d1ad39b', 'aaa89b33-6e5a-4a1c-80f9-40c8c0f3eb14', '23138e8f-0c4b-4d4a-9d38-5a75248287fd', '6ee14855-bd00-476d-87eb-8d040cdba3c4', '44d6a0eb-449b-408c-a992-cbe8b95c151d', 'd6bae60f-65c4-459a-9e53-e0bfc303318c', 'ea94d016-ca4b-47da-8007-dd18fd44fd2b', '6f82fe7c-a4dc-42fe-be8c-4b253e90f305', 'ac797d46-f2b0-4584-84d0-92d9aaa5443e', 'b7ef05a0-ae46-47ea-af87-362c171634a3', 'c6cd1372-063c-4e78-8d46-cecab2d21031', '798e15f1-1fab-40df-a092-459514f1cb44', '4eb9ac4e-1d17-4650-bc7f-40b3a69d4164', 'acdc02c6-fbda-4870-9262-08eaa93a6fb8', '06165a65-31cc-46e1-8381-e8e55a478ec5', '28a9a657-0a59-4614-a812-dd54063d9935', '9c892089-7fe8-4614-b70d-1a57a2bb9434', '207f93a8-aa11-4677-bb3a-6fbbf5940b4b', '066484b7-ccbb-4d31-a4d5-b0f92628fe79', 'b6c8fe98-c939-4cb7-b1a2-760aa0b77d60', '23184e18-1414-4379-b208-b46efebf7d02', 'bd8ab7f7-fc66-46c0-9bbf-12b9bf604893', '947654ee-c8af-4ba7-9168-d924c2fdfffd', 'fe195c27-9b44-492b-a33b-b6573ab19cd5', '049ce88f-0c3d-411f-afe8-d7e8e092e7f3', 'fc42e7f3-1a7c-4df8-ae89-379f0b8acd16', '2162f8d5-9f9a-4a61-aee8-e05d2361c5bd', '7465da08-2650-4b04-b6d1-ceb30b3cd118', '6257f8a7-d5de-466b-91d1-9664331bfc43', '6cd83c58-869e-495c-bb70-6ebd2fc0ae92', '341ff302-01ba-4062-b2ee-f28050174644', 'a9970a53-a949-4d9a-9b6c-8044d37cd4b9', '9561f365-b569-4dcc-87f6-42a972f61ae7', 'abc6dd55-e201-4a76-bc31-5487bf027913', 'baf3f566-5148-49a7-9740-bd93362dffce', '4b165283-d211-4219-9b1d-281ea69738d9', '68704d1a-8ec0-426b-beed-a70dd533bf40', '4ce3d004-c5d8-4300-8d1f-6b7c8b090b47', 'b0a13407-f46b-4087-a717-6d6372ef30ad', '9d12fc44-deca-4907-a103-03079aaf2303', '2917c451-9656-48ce-9bfa-2fba56fbdf49', '9fde298a-1b33-4798-946b-f7db0c9f1020', '16909440-66de-40af-af15-6102d01e2e68', '4756b010-fb5a-4b64-a950-62dd14049ab2', '2ff2e776-e238-4949-b7fe-ccdfadb4412a', '5d29ca07-ab49-4689-af78-fb173da87095', '61e5221b-ad74-44d9-af15-0660b57d66e6', '98caa588-f860-4827-8e7c-0f6dea235068', '72d013e7-1d9d-4d86-9828-ea712413285a', 'e45757e2-f8e7-4d36-bfce-7b5b9c6672ae', '345e4851-c1dd-4607-bf6a-a18fa2877eab', 'e57ec331-20cc-4d63-9882-eeaecd719316', '2c2ab446-d403-4559-ae21-37d314009c76', '1f203748-d760-460d-a372-a40753bb5e13', '08ac1b20-5251-4c5d-99bb-6a6cc3e67c02', '14dc3d78-a54c-416e-a4d8-e592dad97247', 'b31c278a-41f0-4391-b1ac-fc0925867e55', '077e4b94-386b-455d-83be-b676da249162', 'fd0a4d87-a0dd-4562-96d0-b540ff468beb', 'ef052ef3-5934-4204-8b5c-1bb2583a6500', 'a93f9390-e43f-4586-8abd-4ae4046d74d6', 'cb926e1d-cb53-47b6-94c4-96815a7d3198', 'aec9b8b3-d647-4da0-9968-39015ae70f3d', 'c83472c3-7935-4b26-9006-3d6d61932f99', '6a7b2601-d206-4b47-83cb-ed09f8bbe4a8', '2bc33800-de89-4d07-91a8-4c6822f455e8', '226efa57-80e3-48aa-af12-8bdf6e961585', 'b2b2e593-f80b-478e-8e97-b514b26ce0cf', '31b3ecc6-9e97-460c-be5c-1b950890eae2', '28ea8e66-a650-4521-841a-c4297df4e7cc', '9f108cfa-99ee-467a-b572-e79223edb333', 'c1f3faec-dce1-4ef4-ac1e-fe5b3f95fe44', 'b35da878-f2dd-42e3-b07f-c59df89e71db', '7813b7e0-eb67-4eae-8e58-38904558ba80', '0bfdac16-73f9-41ee-ab98-d3f84682628c', '79424638-d9d1-463e-9ce8-0249e22c4e72', '7afc23c6-9ef0-4917-843d-a7c52f2b6619', 'b577355e-3135-4267-81aa-fcf39cdd669b', '8d1d97c4-8979-418c-ada7-be3fbe41f400', '86451e6c-5cb9-4c14-989a-6bf58d9aaa24', '116ada54-1e14-40e0-b3a8-89181825d61d', 'bee41276-6a89-4603-87e2-6de784b0718d', '84c57a3f-17d2-4d2b-857e-e7a008efdb8c', 'cddfdeba-0665-4d78-8772-d4191846579d', '1271a0d7-bdfa-4a1b-8a9d-f22cc6a7f3c7', '8fd6dc95-3540-4708-90f4-773e50e03f85', '657ced38-6cec-4c9b-9aa8-2b36b84c8f68', 'd9aea933-38af-43d7-a9dc-d698bf207f1b', '4ef36cbf-ba6d-42c8-84bc-58b566c25f42', 'e52f9631-1edd-4912-8298-b7bf09fd2559', '4dc62037-a1bf-4017-99ca-4c6d8115a692', 'eba5cdaf-af3b-4a27-bcba-b9aa096f55a3', 'ba73eddd-0f36-4a1f-9b51-bf152868aad8', '06ca9b20-20e6-445b-b003-d527447c1835', 'd2de6ffe-ad41-498f-9709-8b580dc6c176', '4eb63f0f-0901-4e57-a69d-419d970c03e1', '23ba0ea9-1208-459b-8b9d-c0df0944eb62', '40fce9ef-d483-4029-8033-39108bed490a', 'df7bcc72-f0bf-49e0-ac89-707fb44fcdfe'], 'cddfdeba-0665-4d78-8772-d4191846579d': ['6f1ec65c-71f9-4ad6-a103-09cb018610cc', 'd7b5c3e3-81e3-440f-8b77-03b1ff1b6617', '34bcb98d-f9a9-4e50-8efe-7c0a835fc3d9', '6c613c0d-eae4-4411-a2dc-ad8e794eb31e', 'db6f43c7-7b8f-42d2-bce8-d1db243c57fb', 'b356a921-3db6-4a18-8e68-b1226db1e9d3', 'd5c377a1-4840-474c-b97c-9d5e4d5f8710', 'a8d67a50-3299-471b-9384-476401cbf86e', '6a0539ca-dbf8-43f5-a3bf-7cfc40645045', '09d83726-d01d-49e3-911a-2e7f837e1e89', '9c669ac7-5e48-4f94-872e-19413d1ad39b', 'aaa89b33-6e5a-4a1c-80f9-40c8c0f3eb14', '23138e8f-0c4b-4d4a-9d38-5a75248287fd', '6ee14855-bd00-476d-87eb-8d040cdba3c4', '44d6a0eb-449b-408c-a992-cbe8b95c151d', 'd6bae60f-65c4-459a-9e53-e0bfc303318c', 'ea94d016-ca4b-47da-8007-dd18fd44fd2b', '6f82fe7c-a4dc-42fe-be8c-4b253e90f305', 'ac797d46-f2b0-4584-84d0-92d9aaa5443e', 'b7ef05a0-ae46-47ea-af87-362c171634a3', 'c6cd1372-063c-4e78-8d46-cecab2d21031', '798e15f1-1fab-40df-a092-459514f1cb44', '4eb9ac4e-1d17-4650-bc7f-40b3a69d4164', 'acdc02c6-fbda-4870-9262-08eaa93a6fb8', '06165a65-31cc-46e1-8381-e8e55a478ec5', '28a9a657-0a59-4614-a812-dd54063d9935', '9c892089-7fe8-4614-b70d-1a57a2bb9434', '207f93a8-aa11-4677-bb3a-6fbbf5940b4b', '066484b7-ccbb-4d31-a4d5-b0f92628fe79', 'b6c8fe98-c939-4cb7-b1a2-760aa0b77d60', '23184e18-1414-4379-b208-b46efebf7d02', 'bd8ab7f7-fc66-46c0-9bbf-12b9bf604893', '947654ee-c8af-4ba7-9168-d924c2fdfffd', 'fe195c27-9b44-492b-a33b-b6573ab19cd5', '049ce88f-0c3d-411f-afe8-d7e8e092e7f3', 'fc42e7f3-1a7c-4df8-ae89-379f0b8acd16', '2162f8d5-9f9a-4a61-aee8-e05d2361c5bd', '7465da08-2650-4b04-b6d1-ceb30b3cd118', '6257f8a7-d5de-466b-91d1-9664331bfc43', '6cd83c58-869e-495c-bb70-6ebd2fc0ae92', '341ff302-01ba-4062-b2ee-f28050174644', 'a9970a53-a949-4d9a-9b6c-8044d37cd4b9', '9561f365-b569-4dcc-87f6-42a972f61ae7', 'abc6dd55-e201-4a76-bc31-5487bf027913', 'baf3f566-5148-49a7-9740-bd93362dffce', '4b165283-d211-4219-9b1d-281ea69738d9', '68704d1a-8ec0-426b-beed-a70dd533bf40', '4ce3d004-c5d8-4300-8d1f-6b7c8b090b47', 'b0a13407-f46b-4087-a717-6d6372ef30ad', '9d12fc44-deca-4907-a103-03079aaf2303', '2917c451-9656-48ce-9bfa-2fba56fbdf49', '9fde298a-1b33-4798-946b-f7db0c9f1020', '16909440-66de-40af-af15-6102d01e2e68', '4756b010-fb5a-4b64-a950-62dd14049ab2', '2ff2e776-e238-4949-b7fe-ccdfadb4412a', '5d29ca07-ab49-4689-af78-fb173da87095', '61e5221b-ad74-44d9-af15-0660b57d66e6', '98caa588-f860-4827-8e7c-0f6dea235068', '72d013e7-1d9d-4d86-9828-ea712413285a', 'e45757e2-f8e7-4d36-bfce-7b5b9c6672ae', '345e4851-c1dd-4607-bf6a-a18fa2877eab', 'e57ec331-20cc-4d63-9882-eeaecd719316', '2c2ab446-d403-4559-ae21-37d314009c76', '1f203748-d760-460d-a372-a40753bb5e13', '08ac1b20-5251-4c5d-99bb-6a6cc3e67c02', '14dc3d78-a54c-416e-a4d8-e592dad97247', 'b31c278a-41f0-4391-b1ac-fc0925867e55', '077e4b94-386b-455d-83be-b676da249162', 'fd0a4d87-a0dd-4562-96d0-b540ff468beb', 'ef052ef3-5934-4204-8b5c-1bb2583a6500', 'a93f9390-e43f-4586-8abd-4ae4046d74d6', 'cb926e1d-cb53-47b6-94c4-96815a7d3198', 'aec9b8b3-d647-4da0-9968-39015ae70f3d', 'c83472c3-7935-4b26-9006-3d6d61932f99', '6a7b2601-d206-4b47-83cb-ed09f8bbe4a8', '2bc33800-de89-4d07-91a8-4c6822f455e8', '226efa57-80e3-48aa-af12-8bdf6e961585', 'b2b2e593-f80b-478e-8e97-b514b26ce0cf', '31b3ecc6-9e97-460c-be5c-1b950890eae2', '28ea8e66-a650-4521-841a-c4297df4e7cc', '9f108cfa-99ee-467a-b572-e79223edb333', 'c1f3faec-dce1-4ef4-ac1e-fe5b3f95fe44', 'b35da878-f2dd-42e3-b07f-c59df89e71db', '7813b7e0-eb67-4eae-8e58-38904558ba80', '0bfdac16-73f9-41ee-ab98-d3f84682628c', '79424638-d9d1-463e-9ce8-0249e22c4e72', '7afc23c6-9ef0-4917-843d-a7c52f2b6619', 'b577355e-3135-4267-81aa-fcf39cdd669b', '8d1d97c4-8979-418c-ada7-be3fbe41f400', 'd1dca9e1-c57b-4c61-acbc-8c167b4feade', 'e586fd05-16dd-4ad1-a775-3d5ad089c463', 'cd71ff4b-98be-4c59-904e-9cfa1f9e49e2', '86451e6c-5cb9-4c14-989a-6bf58d9aaa24', '116ada54-1e14-40e0-b3a8-89181825d61d', 'bee41276-6a89-4603-87e2-6de784b0718d', '84c57a3f-17d2-4d2b-857e-e7a008efdb8c'], '18880711-6e9c-4dea-a0fa-9ec8aaca1936': ['aaa89b33-6e5a-4a1c-80f9-40c8c0f3eb14', '23138e8f-0c4b-4d4a-9d38-5a75248287fd', '6ee14855-bd00-476d-87eb-8d040cdba3c4', '44d6a0eb-449b-408c-a992-cbe8b95c151d', 'd6bae60f-65c4-459a-9e53-e0bfc303318c', 'ea94d016-ca4b-47da-8007-dd18fd44fd2b', '6f82fe7c-a4dc-42fe-be8c-4b253e90f305', 'ac797d46-f2b0-4584-84d0-92d9aaa5443e', 'b7ef05a0-ae46-47ea-af87-362c171634a3', 'c6cd1372-063c-4e78-8d46-cecab2d21031', '798e15f1-1fab-40df-a092-459514f1cb44', '4eb9ac4e-1d17-4650-bc7f-40b3a69d4164', 'acdc02c6-fbda-4870-9262-08eaa93a6fb8', '06165a65-31cc-46e1-8381-e8e55a478ec5', '28a9a657-0a59-4614-a812-dd54063d9935', '9c892089-7fe8-4614-b70d-1a57a2bb9434', '207f93a8-aa11-4677-bb3a-6fbbf5940b4b', '066484b7-ccbb-4d31-a4d5-b0f92628fe79', 'b6c8fe98-c939-4cb7-b1a2-760aa0b77d60', '23184e18-1414-4379-b208-b46efebf7d02', 'bd8ab7f7-fc66-46c0-9bbf-12b9bf604893', '947654ee-c8af-4ba7-9168-d924c2fdfffd', 'fe195c27-9b44-492b-a33b-b6573ab19cd5', '049ce88f-0c3d-411f-afe8-d7e8e092e7f3', 'fc42e7f3-1a7c-4df8-ae89-379f0b8acd16', '2162f8d5-9f9a-4a61-aee8-e05d2361c5bd', '7465da08-2650-4b04-b6d1-ceb30b3cd118', '6257f8a7-d5de-466b-91d1-9664331bfc43', '6cd83c58-869e-495c-bb70-6ebd2fc0ae92', '341ff302-01ba-4062-b2ee-f28050174644', 'a9970a53-a949-4d9a-9b6c-8044d37cd4b9', '9561f365-b569-4dcc-87f6-42a972f61ae7', 'abc6dd55-e201-4a76-bc31-5487bf027913', 'baf3f566-5148-49a7-9740-bd93362dffce', '4b165283-d211-4219-9b1d-281ea69738d9', '68704d1a-8ec0-426b-beed-a70dd533bf40', '4ce3d004-c5d8-4300-8d1f-6b7c8b090b47', 'b0a13407-f46b-4087-a717-6d6372ef30ad', '9d12fc44-deca-4907-a103-03079aaf2303', '2917c451-9656-48ce-9bfa-2fba56fbdf49', '9fde298a-1b33-4798-946b-f7db0c9f1020', '16909440-66de-40af-af15-6102d01e2e68', '4756b010-fb5a-4b64-a950-62dd14049ab2', '2ff2e776-e238-4949-b7fe-ccdfadb4412a', '5d29ca07-ab49-4689-af78-fb173da87095', '61e5221b-ad74-44d9-af15-0660b57d66e6', '98caa588-f860-4827-8e7c-0f6dea235068', '72d013e7-1d9d-4d86-9828-ea712413285a', 'e45757e2-f8e7-4d36-bfce-7b5b9c6672ae', '345e4851-c1dd-4607-bf6a-a18fa2877eab', 'e57ec331-20cc-4d63-9882-eeaecd719316', '2c2ab446-d403-4559-ae21-37d314009c76', '1f203748-d760-460d-a372-a40753bb5e13', '08ac1b20-5251-4c5d-99bb-6a6cc3e67c02', '14dc3d78-a54c-416e-a4d8-e592dad97247', 'b31c278a-41f0-4391-b1ac-fc0925867e55', '077e4b94-386b-455d-83be-b676da249162', 'fd0a4d87-a0dd-4562-96d0-b540ff468beb', 'ef052ef3-5934-4204-8b5c-1bb2583a6500', 'a93f9390-e43f-4586-8abd-4ae4046d74d6', 'cb926e1d-cb53-47b6-94c4-96815a7d3198', 'aec9b8b3-d647-4da0-9968-39015ae70f3d', 'c83472c3-7935-4b26-9006-3d6d61932f99', '6a7b2601-d206-4b47-83cb-ed09f8bbe4a8', '2bc33800-de89-4d07-91a8-4c6822f455e8', '226efa57-80e3-48aa-af12-8bdf6e961585', 'b2b2e593-f80b-478e-8e97-b514b26ce0cf', '31b3ecc6-9e97-460c-be5c-1b950890eae2', '28ea8e66-a650-4521-841a-c4297df4e7cc', '9f108cfa-99ee-467a-b572-e79223edb333', 'c1f3faec-dce1-4ef4-ac1e-fe5b3f95fe44', 'b35da878-f2dd-42e3-b07f-c59df89e71db', '7813b7e0-eb67-4eae-8e58-38904558ba80', '0bfdac16-73f9-41ee-ab98-d3f84682628c', '79424638-d9d1-463e-9ce8-0249e22c4e72', '7afc23c6-9ef0-4917-843d-a7c52f2b6619', 'b577355e-3135-4267-81aa-fcf39cdd669b', '8d1d97c4-8979-418c-ada7-be3fbe41f400', 'd1dca9e1-c57b-4c61-acbc-8c167b4feade', 'e586fd05-16dd-4ad1-a775-3d5ad089c463', 'cd71ff4b-98be-4c59-904e-9cfa1f9e49e2', 'cddfdeba-0665-4d78-8772-d4191846579d', '1271a0d7-bdfa-4a1b-8a9d-f22cc6a7f3c7', '8fd6dc95-3540-4708-90f4-773e50e03f85', '657ced38-6cec-4c9b-9aa8-2b36b84c8f68', 'd9aea933-38af-43d7-a9dc-d698bf207f1b', '4ef36cbf-ba6d-42c8-84bc-58b566c25f42', 'e52f9631-1edd-4912-8298-b7bf09fd2559', '4dc62037-a1bf-4017-99ca-4c6d8115a692', 'eba5cdaf-af3b-4a27-bcba-b9aa096f55a3', 'ba73eddd-0f36-4a1f-9b51-bf152868aad8', '06ca9b20-20e6-445b-b003-d527447c1835', 'd2de6ffe-ad41-498f-9709-8b580dc6c176', '4eb63f0f-0901-4e57-a69d-419d970c03e1', '23ba0ea9-1208-459b-8b9d-c0df0944eb62', '40fce9ef-d483-4029-8033-39108bed490a', 'df7bcc72-f0bf-49e0-ac89-707fb44fcdfe'], 'e52f9631-1edd-4912-8298-b7bf09fd2559': ['fe195c27-9b44-492b-a33b-b6573ab19cd5', '049ce88f-0c3d-411f-afe8-d7e8e092e7f3', 'fc42e7f3-1a7c-4df8-ae89-379f0b8acd16', '2162f8d5-9f9a-4a61-aee8-e05d2361c5bd', '7465da08-2650-4b04-b6d1-ceb30b3cd118', '6257f8a7-d5de-466b-91d1-9664331bfc43', '6cd83c58-869e-495c-bb70-6ebd2fc0ae92', '341ff302-01ba-4062-b2ee-f28050174644', 'a9970a53-a949-4d9a-9b6c-8044d37cd4b9', '9561f365-b569-4dcc-87f6-42a972f61ae7', 'abc6dd55-e201-4a76-bc31-5487bf027913', 'baf3f566-5148-49a7-9740-bd93362dffce', '4b165283-d211-4219-9b1d-281ea69738d9', '68704d1a-8ec0-426b-beed-a70dd533bf40', '4ce3d004-c5d8-4300-8d1f-6b7c8b090b47', 'b0a13407-f46b-4087-a717-6d6372ef30ad', '9d12fc44-deca-4907-a103-03079aaf2303', '2917c451-9656-48ce-9bfa-2fba56fbdf49', '9fde298a-1b33-4798-946b-f7db0c9f1020', '16909440-66de-40af-af15-6102d01e2e68', '4756b010-fb5a-4b64-a950-62dd14049ab2', '2ff2e776-e238-4949-b7fe-ccdfadb4412a', '5d29ca07-ab49-4689-af78-fb173da87095', '61e5221b-ad74-44d9-af15-0660b57d66e6', '98caa588-f860-4827-8e7c-0f6dea235068', '72d013e7-1d9d-4d86-9828-ea712413285a', 'e45757e2-f8e7-4d36-bfce-7b5b9c6672ae', '345e4851-c1dd-4607-bf6a-a18fa2877eab', 'e57ec331-20cc-4d63-9882-eeaecd719316', '2c2ab446-d403-4559-ae21-37d314009c76', '1f203748-d760-460d-a372-a40753bb5e13', '08ac1b20-5251-4c5d-99bb-6a6cc3e67c02', '14dc3d78-a54c-416e-a4d8-e592dad97247', 'b31c278a-41f0-4391-b1ac-fc0925867e55', '077e4b94-386b-455d-83be-b676da249162', 'fd0a4d87-a0dd-4562-96d0-b540ff468beb', 'ef052ef3-5934-4204-8b5c-1bb2583a6500', 'a93f9390-e43f-4586-8abd-4ae4046d74d6', 'cb926e1d-cb53-47b6-94c4-96815a7d3198', 'aec9b8b3-d647-4da0-9968-39015ae70f3d', 'c83472c3-7935-4b26-9006-3d6d61932f99', '6a7b2601-d206-4b47-83cb-ed09f8bbe4a8', '2bc33800-de89-4d07-91a8-4c6822f455e8', '226efa57-80e3-48aa-af12-8bdf6e961585', 'b2b2e593-f80b-478e-8e97-b514b26ce0cf', '31b3ecc6-9e97-460c-be5c-1b950890eae2', '28ea8e66-a650-4521-841a-c4297df4e7cc', '9f108cfa-99ee-467a-b572-e79223edb333', 'c1f3faec-dce1-4ef4-ac1e-fe5b3f95fe44', 'b35da878-f2dd-42e3-b07f-c59df89e71db', '7813b7e0-eb67-4eae-8e58-38904558ba80', '0bfdac16-73f9-41ee-ab98-d3f84682628c', '79424638-d9d1-463e-9ce8-0249e22c4e72', '7afc23c6-9ef0-4917-843d-a7c52f2b6619', 'b577355e-3135-4267-81aa-fcf39cdd669b', '8d1d97c4-8979-418c-ada7-be3fbe41f400', 'd1dca9e1-c57b-4c61-acbc-8c167b4feade', 'e586fd05-16dd-4ad1-a775-3d5ad089c463', 'cd71ff4b-98be-4c59-904e-9cfa1f9e49e2', '86451e6c-5cb9-4c14-989a-6bf58d9aaa24', '116ada54-1e14-40e0-b3a8-89181825d61d', 'bee41276-6a89-4603-87e2-6de784b0718d', '84c57a3f-17d2-4d2b-857e-e7a008efdb8c', 'cddfdeba-0665-4d78-8772-d4191846579d', '1271a0d7-bdfa-4a1b-8a9d-f22cc6a7f3c7', '8fd6dc95-3540-4708-90f4-773e50e03f85', '657ced38-6cec-4c9b-9aa8-2b36b84c8f68'], '40fce9ef-d483-4029-8033-39108bed490a': ['fe195c27-9b44-492b-a33b-b6573ab19cd5', '049ce88f-0c3d-411f-afe8-d7e8e092e7f3', 'fc42e7f3-1a7c-4df8-ae89-379f0b8acd16', '2162f8d5-9f9a-4a61-aee8-e05d2361c5bd', '7465da08-2650-4b04-b6d1-ceb30b3cd118', '6257f8a7-d5de-466b-91d1-9664331bfc43', '6cd83c58-869e-495c-bb70-6ebd2fc0ae92', '341ff302-01ba-4062-b2ee-f28050174644', 'a9970a53-a949-4d9a-9b6c-8044d37cd4b9', '9561f365-b569-4dcc-87f6-42a972f61ae7', 'abc6dd55-e201-4a76-bc31-5487bf027913', 'baf3f566-5148-49a7-9740-bd93362dffce', '4b165283-d211-4219-9b1d-281ea69738d9', '68704d1a-8ec0-426b-beed-a70dd533bf40', '4ce3d004-c5d8-4300-8d1f-6b7c8b090b47', 'b0a13407-f46b-4087-a717-6d6372ef30ad', '9d12fc44-deca-4907-a103-03079aaf2303', '2917c451-9656-48ce-9bfa-2fba56fbdf49', '9fde298a-1b33-4798-946b-f7db0c9f1020', '16909440-66de-40af-af15-6102d01e2e68', '4756b010-fb5a-4b64-a950-62dd14049ab2', '2ff2e776-e238-4949-b7fe-ccdfadb4412a', '5d29ca07-ab49-4689-af78-fb173da87095', '61e5221b-ad74-44d9-af15-0660b57d66e6', '98caa588-f860-4827-8e7c-0f6dea235068', '72d013e7-1d9d-4d86-9828-ea712413285a', 'e45757e2-f8e7-4d36-bfce-7b5b9c6672ae', '345e4851-c1dd-4607-bf6a-a18fa2877eab', 'e57ec331-20cc-4d63-9882-eeaecd719316', '2c2ab446-d403-4559-ae21-37d314009c76', '1f203748-d760-460d-a372-a40753bb5e13', '08ac1b20-5251-4c5d-99bb-6a6cc3e67c02', '14dc3d78-a54c-416e-a4d8-e592dad97247', 'b31c278a-41f0-4391-b1ac-fc0925867e55', '077e4b94-386b-455d-83be-b676da249162', 'fd0a4d87-a0dd-4562-96d0-b540ff468beb', 'ef052ef3-5934-4204-8b5c-1bb2583a6500', 'a93f9390-e43f-4586-8abd-4ae4046d74d6', 'cb926e1d-cb53-47b6-94c4-96815a7d3198', 'aec9b8b3-d647-4da0-9968-39015ae70f3d', 'c83472c3-7935-4b26-9006-3d6d61932f99', '6a7b2601-d206-4b47-83cb-ed09f8bbe4a8', '2bc33800-de89-4d07-91a8-4c6822f455e8', '226efa57-80e3-48aa-af12-8bdf6e961585', 'b2b2e593-f80b-478e-8e97-b514b26ce0cf', '31b3ecc6-9e97-460c-be5c-1b950890eae2', '28ea8e66-a650-4521-841a-c4297df4e7cc', '9f108cfa-99ee-467a-b572-e79223edb333', 'c1f3faec-dce1-4ef4-ac1e-fe5b3f95fe44', 'b35da878-f2dd-42e3-b07f-c59df89e71db', '7813b7e0-eb67-4eae-8e58-38904558ba80', '0bfdac16-73f9-41ee-ab98-d3f84682628c', '79424638-d9d1-463e-9ce8-0249e22c4e72', '7afc23c6-9ef0-4917-843d-a7c52f2b6619', 'b577355e-3135-4267-81aa-fcf39cdd669b', '8d1d97c4-8979-418c-ada7-be3fbe41f400', 'd1dca9e1-c57b-4c61-acbc-8c167b4feade', 'e586fd05-16dd-4ad1-a775-3d5ad089c463', 'cd71ff4b-98be-4c59-904e-9cfa1f9e49e2', '86451e6c-5cb9-4c14-989a-6bf58d9aaa24', '116ada54-1e14-40e0-b3a8-89181825d61d', 'bee41276-6a89-4603-87e2-6de784b0718d', '84c57a3f-17d2-4d2b-857e-e7a008efdb8c', 'd9aea933-38af-43d7-a9dc-d698bf207f1b', '4ef36cbf-ba6d-42c8-84bc-58b566c25f42', 'e52f9631-1edd-4912-8298-b7bf09fd2559', '4dc62037-a1bf-4017-99ca-4c6d8115a692', 'eba5cdaf-af3b-4a27-bcba-b9aa096f55a3', 'ba73eddd-0f36-4a1f-9b51-bf152868aad8', '06ca9b20-20e6-445b-b003-d527447c1835', 'd2de6ffe-ad41-498f-9709-8b580dc6c176', '4eb63f0f-0901-4e57-a69d-419d970c03e1', '23ba0ea9-1208-459b-8b9d-c0df0944eb62'], '8a50c495-b8ea-4cf9-8fd1-df7964f30fcf': ['2162f8d5-9f9a-4a61-aee8-e05d2361c5bd', '7465da08-2650-4b04-b6d1-ceb30b3cd118', '6257f8a7-d5de-466b-91d1-9664331bfc43', '6cd83c58-869e-495c-bb70-6ebd2fc0ae92', '341ff302-01ba-4062-b2ee-f28050174644', 'a9970a53-a949-4d9a-9b6c-8044d37cd4b9', '9561f365-b569-4dcc-87f6-42a972f61ae7', 'abc6dd55-e201-4a76-bc31-5487bf027913', 'baf3f566-5148-49a7-9740-bd93362dffce', '4b165283-d211-4219-9b1d-281ea69738d9', '68704d1a-8ec0-426b-beed-a70dd533bf40', '4ce3d004-c5d8-4300-8d1f-6b7c8b090b47', 'b0a13407-f46b-4087-a717-6d6372ef30ad', '9d12fc44-deca-4907-a103-03079aaf2303', '2917c451-9656-48ce-9bfa-2fba56fbdf49', '9fde298a-1b33-4798-946b-f7db0c9f1020', '16909440-66de-40af-af15-6102d01e2e68', '4756b010-fb5a-4b64-a950-62dd14049ab2', '2ff2e776-e238-4949-b7fe-ccdfadb4412a', '5d29ca07-ab49-4689-af78-fb173da87095', '61e5221b-ad74-44d9-af15-0660b57d66e6', '98caa588-f860-4827-8e7c-0f6dea235068', '72d013e7-1d9d-4d86-9828-ea712413285a', 'e45757e2-f8e7-4d36-bfce-7b5b9c6672ae', '345e4851-c1dd-4607-bf6a-a18fa2877eab', 'e57ec331-20cc-4d63-9882-eeaecd719316', '2c2ab446-d403-4559-ae21-37d314009c76', '1f203748-d760-460d-a372-a40753bb5e13', '08ac1b20-5251-4c5d-99bb-6a6cc3e67c02', '14dc3d78-a54c-416e-a4d8-e592dad97247', 'b31c278a-41f0-4391-b1ac-fc0925867e55', '077e4b94-386b-455d-83be-b676da249162', 'fd0a4d87-a0dd-4562-96d0-b540ff468beb', 'ef052ef3-5934-4204-8b5c-1bb2583a6500', 'a93f9390-e43f-4586-8abd-4ae4046d74d6', 'cb926e1d-cb53-47b6-94c4-96815a7d3198', 'aec9b8b3-d647-4da0-9968-39015ae70f3d', 'c83472c3-7935-4b26-9006-3d6d61932f99', '6a7b2601-d206-4b47-83cb-ed09f8bbe4a8', '2bc33800-de89-4d07-91a8-4c6822f455e8', '226efa57-80e3-48aa-af12-8bdf6e961585', 'b2b2e593-f80b-478e-8e97-b514b26ce0cf', '31b3ecc6-9e97-460c-be5c-1b950890eae2', '28ea8e66-a650-4521-841a-c4297df4e7cc', '9f108cfa-99ee-467a-b572-e79223edb333', 'c1f3faec-dce1-4ef4-ac1e-fe5b3f95fe44', 'b35da878-f2dd-42e3-b07f-c59df89e71db', '7813b7e0-eb67-4eae-8e58-38904558ba80', '0bfdac16-73f9-41ee-ab98-d3f84682628c', '79424638-d9d1-463e-9ce8-0249e22c4e72', '7afc23c6-9ef0-4917-843d-a7c52f2b6619', 'b577355e-3135-4267-81aa-fcf39cdd669b', '8d1d97c4-8979-418c-ada7-be3fbe41f400', 'd1dca9e1-c57b-4c61-acbc-8c167b4feade', 'e586fd05-16dd-4ad1-a775-3d5ad089c463', 'cd71ff4b-98be-4c59-904e-9cfa1f9e49e2', '86451e6c-5cb9-4c14-989a-6bf58d9aaa24', '116ada54-1e14-40e0-b3a8-89181825d61d', 'bee41276-6a89-4603-87e2-6de784b0718d', '84c57a3f-17d2-4d2b-857e-e7a008efdb8c', 'cddfdeba-0665-4d78-8772-d4191846579d', '1271a0d7-bdfa-4a1b-8a9d-f22cc6a7f3c7', '8fd6dc95-3540-4708-90f4-773e50e03f85', '657ced38-6cec-4c9b-9aa8-2b36b84c8f68', 'd9aea933-38af-43d7-a9dc-d698bf207f1b', '4ef36cbf-ba6d-42c8-84bc-58b566c25f42', 'e52f9631-1edd-4912-8298-b7bf09fd2559', '4dc62037-a1bf-4017-99ca-4c6d8115a692', 'eba5cdaf-af3b-4a27-bcba-b9aa096f55a3', 'ba73eddd-0f36-4a1f-9b51-bf152868aad8', '06ca9b20-20e6-445b-b003-d527447c1835', '40fce9ef-d483-4029-8033-39108bed490a', 'df7bcc72-f0bf-49e0-ac89-707fb44fcdfe']}\n"
     ]
    }
   ],
   "source": [
    "print(agent.waiting_tasks)\n",
    "print(agent.received_tasks)\n",
    "print(agent.processed_tasks)\n",
    "print(agent.completed_tasks)\n",
    "print(agent.completed_tasks_received)\n",
    "print(agent.completed_tasks_received_d1)"
   ]
  },
  {
   "cell_type": "markdown",
   "id": "aad68f21",
   "metadata": {},
   "source": [
    "---\n",
    "Looking into issues with kafka missing waits"
   ]
  },
  {
   "cell_type": "code",
   "execution_count": null,
   "id": "47aa4fa9",
   "metadata": {},
   "outputs": [
    {
     "name": "stdout",
     "output_type": "stream",
     "text": [
      "2\n",
      "2\n"
     ]
    }
   ],
   "source": [
    "ls_waiting_tasks = []\n",
    "ls_waiting_tasks_child = {}\n",
    "for item in agent.waiting_tasks:\n",
    "    if item.is_waiting():\n",
    "        ls_waiting_tasks.append(item.task_id)\n",
    "        ls_waiting_tasks_child[item.task_id] = item.child_task\n",
    "print(len(ls_waiting_tasks))\n",
    "print(len(ls_waiting_tasks_child))\n"
   ]
  },
  {
   "cell_type": "code",
   "execution_count": null,
   "id": "ea3fa032",
   "metadata": {},
   "outputs": [
    {
     "name": "stdout",
     "output_type": "stream",
     "text": [
      "103\n"
     ]
    }
   ],
   "source": [
    "ls_received_tasks = []\n",
    "for item in agent.received_tasks:\n",
    "    ls_received_tasks.append(item.task_id)\n",
    "print(len(ls_received_tasks))"
   ]
  },
  {
   "cell_type": "code",
   "execution_count": null,
   "id": "b1a85a79",
   "metadata": {},
   "outputs": [
    {
     "name": "stdout",
     "output_type": "stream",
     "text": [
      "103\n"
     ]
    }
   ],
   "source": [
    "ls_processed_tasks = []\n",
    "for item in agent.processed_tasks:\n",
    "    ls_processed_tasks.append(item.task_id)\n",
    "print(len(ls_processed_tasks))"
   ]
  },
  {
   "cell_type": "code",
   "execution_count": null,
   "id": "c92774ef",
   "metadata": {},
   "outputs": [
    {
     "name": "stdout",
     "output_type": "stream",
     "text": [
      "100\n"
     ]
    }
   ],
   "source": [
    "ls_completed_tasks = []\n",
    "for item in agent.completed_tasks:\n",
    "    ls_completed_tasks.append(item.task_id)\n",
    "print(len(ls_completed_tasks))"
   ]
  },
  {
   "cell_type": "markdown",
   "id": "c5945411",
   "metadata": {},
   "source": [
    "## Investigate with searchs"
   ]
  },
  {
   "cell_type": "code",
   "execution_count": null,
   "id": "fddb8f83",
   "metadata": {},
   "outputs": [
    {
     "name": "stdout",
     "output_type": "stream",
     "text": [
      "{'18880711-6e9c-4dea-a0fa-9ec8aaca1936': ['116ada54-1e14-40e0-b3a8-89181825d61d'], '8a50c495-b8ea-4cf9-8fd1-df7964f30fcf': ['23ba0ea9-1208-459b-8b9d-c0df0944eb62']}\n",
      "2025-05-22 12:19:22.044846\n"
     ]
    }
   ],
   "source": [
    "print(ls_waiting_tasks_child)\n",
    "print(agent.start_time)\n"
   ]
  },
  {
   "cell_type": "code",
   "execution_count": null,
   "id": "b17f48c5",
   "metadata": {},
   "outputs": [
    {
     "name": "stdout",
     "output_type": "stream",
     "text": [
      "processed tasks\n",
      "received tasks\n",
      "Task is in completed tasks\n",
      "Task is in received completed tasks\n"
     ]
    }
   ],
   "source": [
    "# search_task_id = '18880711-6e9c-4dea-a0fa-9ec8aaca1936'\n",
    "search_task_id = '116ada54-1e14-40e0-b3a8-89181825d61d'\n",
    "if search_task_id in ls_processed_tasks:\n",
    "    print(\"processed tasks\")\n",
    "if search_task_id in ls_received_tasks:\n",
    "    print(\"received tasks\")\n",
    "if search_task_id in ls_completed_tasks:\n",
    "    print(\"Task is in completed tasks\")\n",
    "if search_task_id in agent.completed_tasks_received:\n",
    "    print(\"Task is in received completed tasks\")"
   ]
  },
  {
   "cell_type": "code",
   "execution_count": null,
   "id": "15bad6a0",
   "metadata": {},
   "outputs": [
    {
     "name": "stdout",
     "output_type": "stream",
     "text": [
      "['aaa89b33-6e5a-4a1c-80f9-40c8c0f3eb14', '23138e8f-0c4b-4d4a-9d38-5a75248287fd', '6ee14855-bd00-476d-87eb-8d040cdba3c4', '44d6a0eb-449b-408c-a992-cbe8b95c151d', 'd6bae60f-65c4-459a-9e53-e0bfc303318c', 'ea94d016-ca4b-47da-8007-dd18fd44fd2b', '6f82fe7c-a4dc-42fe-be8c-4b253e90f305', 'ac797d46-f2b0-4584-84d0-92d9aaa5443e', 'b7ef05a0-ae46-47ea-af87-362c171634a3', 'c6cd1372-063c-4e78-8d46-cecab2d21031', '798e15f1-1fab-40df-a092-459514f1cb44', '4eb9ac4e-1d17-4650-bc7f-40b3a69d4164', 'acdc02c6-fbda-4870-9262-08eaa93a6fb8', '06165a65-31cc-46e1-8381-e8e55a478ec5', '28a9a657-0a59-4614-a812-dd54063d9935', '9c892089-7fe8-4614-b70d-1a57a2bb9434', '207f93a8-aa11-4677-bb3a-6fbbf5940b4b', '066484b7-ccbb-4d31-a4d5-b0f92628fe79', 'b6c8fe98-c939-4cb7-b1a2-760aa0b77d60', '23184e18-1414-4379-b208-b46efebf7d02', 'bd8ab7f7-fc66-46c0-9bbf-12b9bf604893', '947654ee-c8af-4ba7-9168-d924c2fdfffd', 'fe195c27-9b44-492b-a33b-b6573ab19cd5', '049ce88f-0c3d-411f-afe8-d7e8e092e7f3', 'fc42e7f3-1a7c-4df8-ae89-379f0b8acd16', '2162f8d5-9f9a-4a61-aee8-e05d2361c5bd', '7465da08-2650-4b04-b6d1-ceb30b3cd118', '6257f8a7-d5de-466b-91d1-9664331bfc43', '6cd83c58-869e-495c-bb70-6ebd2fc0ae92', '341ff302-01ba-4062-b2ee-f28050174644', 'a9970a53-a949-4d9a-9b6c-8044d37cd4b9', '9561f365-b569-4dcc-87f6-42a972f61ae7', 'abc6dd55-e201-4a76-bc31-5487bf027913', 'baf3f566-5148-49a7-9740-bd93362dffce', '4b165283-d211-4219-9b1d-281ea69738d9', '68704d1a-8ec0-426b-beed-a70dd533bf40', '4ce3d004-c5d8-4300-8d1f-6b7c8b090b47', 'b0a13407-f46b-4087-a717-6d6372ef30ad', '9d12fc44-deca-4907-a103-03079aaf2303', '2917c451-9656-48ce-9bfa-2fba56fbdf49', '9fde298a-1b33-4798-946b-f7db0c9f1020', '16909440-66de-40af-af15-6102d01e2e68', '4756b010-fb5a-4b64-a950-62dd14049ab2', '2ff2e776-e238-4949-b7fe-ccdfadb4412a', '5d29ca07-ab49-4689-af78-fb173da87095', '61e5221b-ad74-44d9-af15-0660b57d66e6', '98caa588-f860-4827-8e7c-0f6dea235068', '72d013e7-1d9d-4d86-9828-ea712413285a', 'e45757e2-f8e7-4d36-bfce-7b5b9c6672ae', '345e4851-c1dd-4607-bf6a-a18fa2877eab', 'e57ec331-20cc-4d63-9882-eeaecd719316', '2c2ab446-d403-4559-ae21-37d314009c76', '1f203748-d760-460d-a372-a40753bb5e13', '08ac1b20-5251-4c5d-99bb-6a6cc3e67c02', '14dc3d78-a54c-416e-a4d8-e592dad97247', 'b31c278a-41f0-4391-b1ac-fc0925867e55', '077e4b94-386b-455d-83be-b676da249162', 'fd0a4d87-a0dd-4562-96d0-b540ff468beb', 'ef052ef3-5934-4204-8b5c-1bb2583a6500', 'a93f9390-e43f-4586-8abd-4ae4046d74d6', 'cb926e1d-cb53-47b6-94c4-96815a7d3198', 'aec9b8b3-d647-4da0-9968-39015ae70f3d', 'c83472c3-7935-4b26-9006-3d6d61932f99', '6a7b2601-d206-4b47-83cb-ed09f8bbe4a8', '2bc33800-de89-4d07-91a8-4c6822f455e8', '226efa57-80e3-48aa-af12-8bdf6e961585', 'b2b2e593-f80b-478e-8e97-b514b26ce0cf', '31b3ecc6-9e97-460c-be5c-1b950890eae2', '28ea8e66-a650-4521-841a-c4297df4e7cc', '9f108cfa-99ee-467a-b572-e79223edb333', 'c1f3faec-dce1-4ef4-ac1e-fe5b3f95fe44', 'b35da878-f2dd-42e3-b07f-c59df89e71db', '7813b7e0-eb67-4eae-8e58-38904558ba80', '0bfdac16-73f9-41ee-ab98-d3f84682628c', '79424638-d9d1-463e-9ce8-0249e22c4e72', '7afc23c6-9ef0-4917-843d-a7c52f2b6619', 'b577355e-3135-4267-81aa-fcf39cdd669b', '8d1d97c4-8979-418c-ada7-be3fbe41f400', 'd1dca9e1-c57b-4c61-acbc-8c167b4feade', 'e586fd05-16dd-4ad1-a775-3d5ad089c463', 'cd71ff4b-98be-4c59-904e-9cfa1f9e49e2', 'cddfdeba-0665-4d78-8772-d4191846579d', '1271a0d7-bdfa-4a1b-8a9d-f22cc6a7f3c7', '8fd6dc95-3540-4708-90f4-773e50e03f85', '657ced38-6cec-4c9b-9aa8-2b36b84c8f68', 'd9aea933-38af-43d7-a9dc-d698bf207f1b', '4ef36cbf-ba6d-42c8-84bc-58b566c25f42', 'e52f9631-1edd-4912-8298-b7bf09fd2559', '4dc62037-a1bf-4017-99ca-4c6d8115a692', 'eba5cdaf-af3b-4a27-bcba-b9aa096f55a3', 'ba73eddd-0f36-4a1f-9b51-bf152868aad8', '06ca9b20-20e6-445b-b003-d527447c1835', 'd2de6ffe-ad41-498f-9709-8b580dc6c176', '4eb63f0f-0901-4e57-a69d-419d970c03e1', '23ba0ea9-1208-459b-8b9d-c0df0944eb62', '40fce9ef-d483-4029-8033-39108bed490a', 'df7bcc72-f0bf-49e0-ac89-707fb44fcdfe']\n"
     ]
    }
   ],
   "source": [
    "print(agent.completed_tasks_received_d1['18880711-6e9c-4dea-a0fa-9ec8aaca1936'])\n",
    "if search_task_id in agent.completed_tasks_received_d1['18880711-6e9c-4dea-a0fa-9ec8aaca1936']:\n",
    "    print(\"Task is in completed tasks received d1\")"
   ]
  },
  {
   "cell_type": "code",
   "execution_count": null,
   "id": "07e08d46",
   "metadata": {},
   "outputs": [
    {
     "name": "stdout",
     "output_type": "stream",
     "text": [
      "18880711-6e9c-4dea-a0fa-9ec8aaca1936\n",
      "['aaa89b33-6e5a-4a1c-80f9-40c8c0f3eb14', '23138e8f-0c4b-4d4a-9d38-5a75248287fd', '6ee14855-bd00-476d-87eb-8d040cdba3c4', '44d6a0eb-449b-408c-a992-cbe8b95c151d', 'd6bae60f-65c4-459a-9e53-e0bfc303318c', 'ea94d016-ca4b-47da-8007-dd18fd44fd2b', '6f82fe7c-a4dc-42fe-be8c-4b253e90f305', 'ac797d46-f2b0-4584-84d0-92d9aaa5443e', 'b7ef05a0-ae46-47ea-af87-362c171634a3', 'c6cd1372-063c-4e78-8d46-cecab2d21031', '798e15f1-1fab-40df-a092-459514f1cb44', '4eb9ac4e-1d17-4650-bc7f-40b3a69d4164', 'acdc02c6-fbda-4870-9262-08eaa93a6fb8', '06165a65-31cc-46e1-8381-e8e55a478ec5', '28a9a657-0a59-4614-a812-dd54063d9935', '9c892089-7fe8-4614-b70d-1a57a2bb9434', '207f93a8-aa11-4677-bb3a-6fbbf5940b4b', '066484b7-ccbb-4d31-a4d5-b0f92628fe79', 'b6c8fe98-c939-4cb7-b1a2-760aa0b77d60', '23184e18-1414-4379-b208-b46efebf7d02', 'bd8ab7f7-fc66-46c0-9bbf-12b9bf604893', '947654ee-c8af-4ba7-9168-d924c2fdfffd', 'fe195c27-9b44-492b-a33b-b6573ab19cd5', '049ce88f-0c3d-411f-afe8-d7e8e092e7f3', 'fc42e7f3-1a7c-4df8-ae89-379f0b8acd16', '2162f8d5-9f9a-4a61-aee8-e05d2361c5bd', '7465da08-2650-4b04-b6d1-ceb30b3cd118', '6257f8a7-d5de-466b-91d1-9664331bfc43', '6cd83c58-869e-495c-bb70-6ebd2fc0ae92', '341ff302-01ba-4062-b2ee-f28050174644', 'a9970a53-a949-4d9a-9b6c-8044d37cd4b9', '9561f365-b569-4dcc-87f6-42a972f61ae7', 'abc6dd55-e201-4a76-bc31-5487bf027913', 'baf3f566-5148-49a7-9740-bd93362dffce', '4b165283-d211-4219-9b1d-281ea69738d9', '68704d1a-8ec0-426b-beed-a70dd533bf40', '4ce3d004-c5d8-4300-8d1f-6b7c8b090b47', 'b0a13407-f46b-4087-a717-6d6372ef30ad', '9d12fc44-deca-4907-a103-03079aaf2303', '2917c451-9656-48ce-9bfa-2fba56fbdf49', '9fde298a-1b33-4798-946b-f7db0c9f1020', '16909440-66de-40af-af15-6102d01e2e68', '4756b010-fb5a-4b64-a950-62dd14049ab2', '2ff2e776-e238-4949-b7fe-ccdfadb4412a', '5d29ca07-ab49-4689-af78-fb173da87095', '61e5221b-ad74-44d9-af15-0660b57d66e6', '98caa588-f860-4827-8e7c-0f6dea235068', '72d013e7-1d9d-4d86-9828-ea712413285a', 'e45757e2-f8e7-4d36-bfce-7b5b9c6672ae', '345e4851-c1dd-4607-bf6a-a18fa2877eab', 'e57ec331-20cc-4d63-9882-eeaecd719316', '2c2ab446-d403-4559-ae21-37d314009c76', '1f203748-d760-460d-a372-a40753bb5e13', '08ac1b20-5251-4c5d-99bb-6a6cc3e67c02', '14dc3d78-a54c-416e-a4d8-e592dad97247', 'b31c278a-41f0-4391-b1ac-fc0925867e55', '077e4b94-386b-455d-83be-b676da249162', 'fd0a4d87-a0dd-4562-96d0-b540ff468beb', 'ef052ef3-5934-4204-8b5c-1bb2583a6500', 'a93f9390-e43f-4586-8abd-4ae4046d74d6', 'cb926e1d-cb53-47b6-94c4-96815a7d3198', 'aec9b8b3-d647-4da0-9968-39015ae70f3d', 'c83472c3-7935-4b26-9006-3d6d61932f99', '6a7b2601-d206-4b47-83cb-ed09f8bbe4a8', '2bc33800-de89-4d07-91a8-4c6822f455e8', '226efa57-80e3-48aa-af12-8bdf6e961585', 'b2b2e593-f80b-478e-8e97-b514b26ce0cf', '31b3ecc6-9e97-460c-be5c-1b950890eae2', '28ea8e66-a650-4521-841a-c4297df4e7cc', '9f108cfa-99ee-467a-b572-e79223edb333', 'c1f3faec-dce1-4ef4-ac1e-fe5b3f95fe44', 'b35da878-f2dd-42e3-b07f-c59df89e71db', '7813b7e0-eb67-4eae-8e58-38904558ba80', '0bfdac16-73f9-41ee-ab98-d3f84682628c', '79424638-d9d1-463e-9ce8-0249e22c4e72', '7afc23c6-9ef0-4917-843d-a7c52f2b6619', 'b577355e-3135-4267-81aa-fcf39cdd669b', '8d1d97c4-8979-418c-ada7-be3fbe41f400', 'd1dca9e1-c57b-4c61-acbc-8c167b4feade', 'e586fd05-16dd-4ad1-a775-3d5ad089c463', 'cd71ff4b-98be-4c59-904e-9cfa1f9e49e2', 'cddfdeba-0665-4d78-8772-d4191846579d', '1271a0d7-bdfa-4a1b-8a9d-f22cc6a7f3c7', '8fd6dc95-3540-4708-90f4-773e50e03f85', '657ced38-6cec-4c9b-9aa8-2b36b84c8f68', 'd9aea933-38af-43d7-a9dc-d698bf207f1b', '4ef36cbf-ba6d-42c8-84bc-58b566c25f42', 'e52f9631-1edd-4912-8298-b7bf09fd2559', '4dc62037-a1bf-4017-99ca-4c6d8115a692', 'eba5cdaf-af3b-4a27-bcba-b9aa096f55a3', 'ba73eddd-0f36-4a1f-9b51-bf152868aad8', '06ca9b20-20e6-445b-b003-d527447c1835', 'd2de6ffe-ad41-498f-9709-8b580dc6c176', '4eb63f0f-0901-4e57-a69d-419d970c03e1', '23ba0ea9-1208-459b-8b9d-c0df0944eb62', '40fce9ef-d483-4029-8033-39108bed490a', 'df7bcc72-f0bf-49e0-ac89-707fb44fcdfe']\n",
      "['b6c8fe98-c939-4cb7-b1a2-760aa0b77d60', 'fe195c27-9b44-492b-a33b-b6573ab19cd5', 'fc42e7f3-1a7c-4df8-ae89-379f0b8acd16', '7465da08-2650-4b04-b6d1-ceb30b3cd118', '6a7b2601-d206-4b47-83cb-ed09f8bbe4a8', '28ea8e66-a650-4521-841a-c4297df4e7cc', '9f108cfa-99ee-467a-b572-e79223edb333']\n"
     ]
    }
   ],
   "source": [
    "print(agent.waiting_tasks[0].task_id)\n",
    "# print(agent.waiting_tasks[0].processed_comp_tasks)\n",
    "# print(agent.waiting_tasks[0].removed_comp_tasks)\n",
    "if search_task_id in agent.waiting_tasks[0].processed_comp_tasks:\n",
    "    print(\"Boom processsed!\")\n",
    "if search_task_id in agent.waiting_tasks[0].removed_comp_tasks:\n",
    "    print(\"Boom!\")"
   ]
  },
  {
   "cell_type": "code",
   "execution_count": null,
   "id": "f8ac7337",
   "metadata": {},
   "outputs": [
    {
     "name": "stdout",
     "output_type": "stream",
     "text": [
      "==> Reviewing waiting tasks\n",
      "==> Reviewing task b0822840-c340-4254-92a6-849cdc888ba4\n",
      "=====> Reviewing child task d1dca9e1-c57b-4c61-acbc-8c167b4feade\n",
      "Searching topic 'ai_tasks_completed' for value: d1dca9e1-c57b-4c61-acbc-8c167b4feade\n",
      "This will timeout after 60 seconds if no more messages are available.\n",
      "Processing 360 messages from partition TopicPartition(topic='ai_tasks_completed', partition=1)\n",
      "Processing 323 messages from partition TopicPartition(topic='ai_tasks_completed', partition=2)\n",
      "Processing 331 messages from partition TopicPartition(topic='ai_tasks_completed', partition=4)\n",
      "Processing 330 messages from partition TopicPartition(topic='ai_tasks_completed', partition=3)\n",
      "Processing 309 messages from partition TopicPartition(topic='ai_tasks_completed', partition=0)\n",
      "Found match at offset 304 in partition 0\n"
     ]
    },
    {
     "name": "stdout",
     "output_type": "stream",
     "text": [
      "Search completed in 1.16 seconds.\n",
      "Processed 1653 messages, found 1 matches.\n",
      "=====> Found message for child task d1dca9e1-c57b-4c61-acbc-8c167b4feade\n",
      "BOOM!!!\n",
      "==> Reviewing task 8a50c495-b8ea-4cf9-8fd1-df7964f30fcf\n",
      "=====> Reviewing child task 4eb63f0f-0901-4e57-a69d-419d970c03e1\n",
      "Searching topic 'ai_tasks_completed' for value: 4eb63f0f-0901-4e57-a69d-419d970c03e1\n",
      "This will timeout after 60 seconds if no more messages are available.\n",
      "Processing 360 messages from partition TopicPartition(topic='ai_tasks_completed', partition=1)\n",
      "Processing 309 messages from partition TopicPartition(topic='ai_tasks_completed', partition=0)\n",
      "Processing 331 messages from partition TopicPartition(topic='ai_tasks_completed', partition=4)\n",
      "Processed 1000 messages in 0.13 seconds...\n",
      "Processed 1000 messages in 0.13 seconds...\n",
      "Processed 1000 messages in 0.13 seconds...\n",
      "Processed 1000 messages in 0.13 seconds...\n",
      "Processed 1000 messages in 0.13 seconds...\n",
      "Processed 1000 messages in 0.13 seconds...\n",
      "Processed 1000 messages in 0.13 seconds...\n",
      "Processed 1000 messages in 0.13 seconds...\n",
      "Processed 1000 messages in 0.13 seconds...\n",
      "Processed 1000 messages in 0.13 seconds...\n",
      "Processed 1000 messages in 0.13 seconds...\n",
      "Processed 1000 messages in 0.13 seconds...\n",
      "Processed 1000 messages in 0.13 seconds...\n",
      "Processed 1000 messages in 0.13 seconds...\n",
      "Processed 1000 messages in 0.13 seconds...\n",
      "Processed 1000 messages in 0.13 seconds...\n",
      "Processed 1000 messages in 0.13 seconds...\n",
      "Processed 1000 messages in 0.13 seconds...\n",
      "Processed 1000 messages in 0.13 seconds...\n",
      "Processed 1000 messages in 0.13 seconds...\n",
      "Processed 1000 messages in 0.13 seconds...\n",
      "Processed 1000 messages in 0.13 seconds...\n",
      "Processed 1000 messages in 0.13 seconds...\n",
      "Processed 1000 messages in 0.13 seconds...\n",
      "Processed 1000 messages in 0.13 seconds...\n",
      "Processed 1000 messages in 0.13 seconds...\n",
      "Processed 1000 messages in 0.13 seconds...\n",
      "Processed 1000 messages in 0.13 seconds...\n",
      "Processed 1000 messages in 0.13 seconds...\n",
      "Processed 1000 messages in 0.13 seconds...\n",
      "Processed 1000 messages in 0.13 seconds...\n",
      "Processed 1000 messages in 0.13 seconds...\n",
      "Processed 1000 messages in 0.13 seconds...\n",
      "Processed 1000 messages in 0.13 seconds...\n",
      "Processed 1000 messages in 0.13 seconds...\n",
      "Processed 1000 messages in 0.13 seconds...\n",
      "Processed 1000 messages in 0.13 seconds...\n",
      "Processed 1000 messages in 0.13 seconds...\n",
      "Processed 1000 messages in 0.13 seconds...\n",
      "Processed 1000 messages in 0.13 seconds...\n",
      "Processed 1000 messages in 0.13 seconds...\n",
      "Processed 1000 messages in 0.13 seconds...\n",
      "Processed 1000 messages in 0.13 seconds...\n",
      "Processed 1000 messages in 0.13 seconds...\n",
      "Processed 1000 messages in 0.13 seconds...\n",
      "Processed 1000 messages in 0.13 seconds...\n",
      "Processed 1000 messages in 0.13 seconds...\n",
      "Processed 1000 messages in 0.13 seconds...\n",
      "Processed 1000 messages in 0.13 seconds...\n",
      "Processed 1000 messages in 0.13 seconds...\n",
      "Processed 1000 messages in 0.13 seconds...\n",
      "Processed 1000 messages in 0.13 seconds...\n",
      "Processed 1000 messages in 0.13 seconds...\n",
      "Processed 1000 messages in 0.13 seconds...\n",
      "Processed 1000 messages in 0.13 seconds...\n",
      "Processed 1000 messages in 0.13 seconds...\n",
      "Processed 1000 messages in 0.13 seconds...\n",
      "Processed 1000 messages in 0.13 seconds...\n",
      "Processed 1000 messages in 0.13 seconds...\n",
      "Processed 1000 messages in 0.13 seconds...\n",
      "Processed 1000 messages in 0.13 seconds...\n",
      "Processed 1000 messages in 0.13 seconds...\n",
      "Processed 1000 messages in 0.13 seconds...\n",
      "Processed 1000 messages in 0.13 seconds...\n",
      "Processed 1000 messages in 0.13 seconds...\n",
      "Processed 1000 messages in 0.13 seconds...\n",
      "Processed 1000 messages in 0.13 seconds...\n",
      "Processed 1000 messages in 0.13 seconds...\n",
      "Processed 1000 messages in 0.13 seconds...\n",
      "Processed 1000 messages in 0.13 seconds...\n",
      "Processed 1000 messages in 0.13 seconds...\n",
      "Processed 1000 messages in 0.13 seconds...\n",
      "Processed 1000 messages in 0.13 seconds...\n",
      "Processed 1000 messages in 0.13 seconds...\n",
      "Processed 1000 messages in 0.13 seconds...\n",
      "Processed 1000 messages in 0.13 seconds...\n",
      "Processed 1000 messages in 0.13 seconds...\n",
      "Processed 1000 messages in 0.13 seconds...\n",
      "Processed 1000 messages in 0.13 seconds...\n",
      "Processed 1000 messages in 0.13 seconds...\n",
      "Processed 1000 messages in 0.13 seconds...\n",
      "Processed 1000 messages in 0.13 seconds...\n",
      "Processed 1000 messages in 0.13 seconds...\n",
      "Processed 1000 messages in 0.13 seconds...\n",
      "Processed 1000 messages in 0.13 seconds...\n",
      "Processed 1000 messages in 0.13 seconds...\n",
      "Processed 1000 messages in 0.13 seconds...\n",
      "Processed 1000 messages in 0.13 seconds...\n",
      "Processed 1000 messages in 0.13 seconds...\n",
      "Processed 1000 messages in 0.13 seconds...\n",
      "Processed 1000 messages in 0.13 seconds...\n",
      "Processed 1000 messages in 0.13 seconds...\n",
      "Processed 1000 messages in 0.13 seconds...\n",
      "Processed 1000 messages in 0.13 seconds...\n",
      "Processed 1000 messages in 0.13 seconds...\n",
      "Processed 1000 messages in 0.13 seconds...\n",
      "Processed 1000 messages in 0.13 seconds...\n",
      "Processed 1000 messages in 0.13 seconds...\n",
      "Processed 1000 messages in 0.13 seconds...\n",
      "Processed 1000 messages in 0.13 seconds...\n",
      "Processed 1000 messages in 0.13 seconds...\n",
      "Processed 1000 messages in 0.13 seconds...\n",
      "Processed 1000 messages in 0.13 seconds...\n",
      "Processed 1000 messages in 0.13 seconds...\n",
      "Processed 1000 messages in 0.13 seconds...\n",
      "Processed 1000 messages in 0.13 seconds...\n",
      "Processed 1000 messages in 0.13 seconds...\n",
      "Processed 1000 messages in 0.13 seconds...\n",
      "Processed 1000 messages in 0.13 seconds...\n",
      "Processed 1000 messages in 0.13 seconds...\n",
      "Processed 1000 messages in 0.13 seconds...\n",
      "Processed 1000 messages in 0.13 seconds...\n",
      "Processed 1000 messages in 0.13 seconds...\n",
      "Processed 1000 messages in 0.13 seconds...\n",
      "Processed 1000 messages in 0.13 seconds...\n",
      "Processed 1000 messages in 0.13 seconds...\n",
      "Processed 1000 messages in 0.13 seconds...\n",
      "Processed 1000 messages in 0.13 seconds...\n",
      "Processed 1000 messages in 0.13 seconds...\n",
      "Processed 1000 messages in 0.13 seconds...\n",
      "Processed 1000 messages in 0.13 seconds...\n",
      "Processed 1000 messages in 0.13 seconds...\n",
      "Processed 1000 messages in 0.13 seconds...\n",
      "Processed 1000 messages in 0.13 seconds...\n",
      "Processed 1000 messages in 0.13 seconds...\n",
      "Processed 1000 messages in 0.13 seconds...\n",
      "Processed 1000 messages in 0.13 seconds...\n",
      "Processed 1000 messages in 0.13 seconds...\n",
      "Processed 1000 messages in 0.13 seconds...\n",
      "Processed 1000 messages in 0.13 seconds...\n",
      "Processed 1000 messages in 0.13 seconds...\n",
      "Processed 1000 messages in 0.13 seconds...\n",
      "Processed 1000 messages in 0.13 seconds...\n",
      "Processed 1000 messages in 0.13 seconds...\n",
      "Processed 1000 messages in 0.13 seconds...\n",
      "Processed 1000 messages in 0.13 seconds...\n",
      "Processed 1000 messages in 0.13 seconds...\n",
      "Processed 1000 messages in 0.13 seconds...\n",
      "Processed 1000 messages in 0.13 seconds...\n",
      "Processed 1000 messages in 0.13 seconds...\n",
      "Processed 1000 messages in 0.13 seconds...\n",
      "Processed 1000 messages in 0.13 seconds...\n",
      "Processed 1000 messages in 0.13 seconds...\n",
      "Processed 1000 messages in 0.13 seconds...\n",
      "Processed 1000 messages in 0.13 seconds...\n",
      "Processed 1000 messages in 0.13 seconds...\n",
      "Processed 1000 messages in 0.13 seconds...\n",
      "Processed 1000 messages in 0.13 seconds...\n",
      "Processed 1000 messages in 0.13 seconds...\n",
      "Processed 1000 messages in 0.13 seconds...\n",
      "Processed 1000 messages in 0.13 seconds...\n",
      "Processed 1000 messages in 0.13 seconds...\n",
      "Processed 1000 messages in 0.13 seconds...\n",
      "Processed 1000 messages in 0.13 seconds...\n",
      "Processed 1000 messages in 0.13 seconds...\n",
      "Processed 1000 messages in 0.13 seconds...\n",
      "Processed 1000 messages in 0.13 seconds...\n",
      "Processed 1000 messages in 0.13 seconds...\n",
      "Processed 1000 messages in 0.13 seconds...\n",
      "Processed 1000 messages in 0.13 seconds...\n",
      "Processed 1000 messages in 0.13 seconds...\n",
      "Processed 1000 messages in 0.13 seconds...\n",
      "Processed 1000 messages in 0.13 seconds...\n",
      "Processed 1000 messages in 0.13 seconds...\n",
      "Processed 1000 messages in 0.13 seconds...\n",
      "Processed 1000 messages in 0.13 seconds...\n",
      "Processed 1000 messages in 0.13 seconds...\n",
      "Processed 1000 messages in 0.13 seconds...\n",
      "Processed 1000 messages in 0.13 seconds...\n",
      "Processed 1000 messages in 0.13 seconds...\n",
      "Processed 1000 messages in 0.13 seconds...\n",
      "Processed 1000 messages in 0.13 seconds...\n",
      "Processed 1000 messages in 0.13 seconds...\n",
      "Processed 1000 messages in 0.13 seconds...\n",
      "Processed 1000 messages in 0.13 seconds...\n",
      "Processed 1000 messages in 0.13 seconds...\n",
      "Processed 1000 messages in 0.13 seconds...\n",
      "Processed 1000 messages in 0.13 seconds...\n",
      "Processed 1000 messages in 0.13 seconds...\n",
      "Processed 1000 messages in 0.13 seconds...\n",
      "Processed 1000 messages in 0.13 seconds...\n",
      "Processed 1000 messages in 0.13 seconds...\n",
      "Processed 1000 messages in 0.13 seconds...\n",
      "Processed 1000 messages in 0.13 seconds...\n",
      "Processed 1000 messages in 0.13 seconds...\n",
      "Processed 1000 messages in 0.13 seconds...\n",
      "Processed 1000 messages in 0.13 seconds...\n",
      "Processed 1000 messages in 0.13 seconds...\n",
      "Processed 1000 messages in 0.13 seconds...\n",
      "Processed 1000 messages in 0.13 seconds...\n",
      "Processed 1000 messages in 0.13 seconds...\n",
      "Processed 1000 messages in 0.13 seconds...\n",
      "Processed 1000 messages in 0.13 seconds...\n",
      "Processed 1000 messages in 0.13 seconds...\n",
      "Processed 1000 messages in 0.13 seconds...\n",
      "Processed 1000 messages in 0.13 seconds...\n",
      "Processed 1000 messages in 0.13 seconds...\n",
      "Processed 1000 messages in 0.13 seconds...\n",
      "Processed 1000 messages in 0.13 seconds...\n",
      "Processed 1000 messages in 0.13 seconds...\n",
      "Processed 1000 messages in 0.13 seconds...\n",
      "Processed 1000 messages in 0.13 seconds...\n",
      "Processed 1000 messages in 0.13 seconds...\n",
      "Processed 1000 messages in 0.13 seconds...\n",
      "Processed 1000 messages in 0.13 seconds...\n",
      "Processed 1000 messages in 0.13 seconds...\n",
      "Processed 1000 messages in 0.13 seconds...\n",
      "Processed 1000 messages in 0.13 seconds...\n",
      "Processed 1000 messages in 0.13 seconds...\n",
      "Processed 1000 messages in 0.13 seconds...\n",
      "Processed 1000 messages in 0.13 seconds...\n",
      "Processed 1000 messages in 0.13 seconds...\n",
      "Processed 1000 messages in 0.13 seconds...\n",
      "Processed 1000 messages in 0.13 seconds...\n",
      "Processed 1000 messages in 0.13 seconds...\n",
      "Processed 1000 messages in 0.13 seconds...\n",
      "Processed 1000 messages in 0.13 seconds...\n",
      "Processed 1000 messages in 0.13 seconds...\n",
      "Processed 1000 messages in 0.13 seconds...\n",
      "Processed 1000 messages in 0.13 seconds...\n",
      "Processed 1000 messages in 0.13 seconds...\n",
      "Processed 1000 messages in 0.13 seconds...\n",
      "Processed 1000 messages in 0.13 seconds...\n",
      "Processed 1000 messages in 0.13 seconds...\n",
      "Processed 1000 messages in 0.13 seconds...\n",
      "Processed 1000 messages in 0.13 seconds...\n",
      "Processed 1000 messages in 0.13 seconds...\n",
      "Processed 1000 messages in 0.13 seconds...\n",
      "Processed 1000 messages in 0.13 seconds...\n",
      "Processed 1000 messages in 0.13 seconds...\n",
      "Processed 1000 messages in 0.13 seconds...\n",
      "Processed 1000 messages in 0.13 seconds...\n",
      "Processed 1000 messages in 0.13 seconds...\n",
      "Processed 1000 messages in 0.13 seconds...\n",
      "Processed 1000 messages in 0.13 seconds...\n",
      "Processed 1000 messages in 0.13 seconds...\n",
      "Processed 1000 messages in 0.13 seconds...\n",
      "Processed 1000 messages in 0.13 seconds...\n",
      "Processed 1000 messages in 0.13 seconds...\n",
      "Processed 1000 messages in 0.13 seconds...\n",
      "Processed 1000 messages in 0.13 seconds...\n",
      "Processed 1000 messages in 0.13 seconds...\n",
      "Processed 1000 messages in 0.13 seconds...\n",
      "Processed 1000 messages in 0.13 seconds...\n",
      "Processed 1000 messages in 0.13 seconds...\n",
      "Processed 1000 messages in 0.13 seconds...\n",
      "Processed 1000 messages in 0.13 seconds...\n",
      "Processed 1000 messages in 0.13 seconds...\n",
      "Processed 1000 messages in 0.13 seconds...\n",
      "Processed 1000 messages in 0.13 seconds...\n",
      "Processed 1000 messages in 0.13 seconds...\n",
      "Processed 1000 messages in 0.13 seconds...\n",
      "Processed 1000 messages in 0.13 seconds...\n",
      "Processed 1000 messages in 0.13 seconds...\n",
      "Processed 1000 messages in 0.13 seconds...\n",
      "Processed 1000 messages in 0.13 seconds...\n",
      "Processed 1000 messages in 0.13 seconds...\n",
      "Processed 1000 messages in 0.13 seconds...\n",
      "Processed 1000 messages in 0.13 seconds...\n",
      "Processed 1000 messages in 0.13 seconds...\n",
      "Processed 1000 messages in 0.13 seconds...\n",
      "Processed 1000 messages in 0.13 seconds...\n",
      "Processed 1000 messages in 0.13 seconds...\n",
      "Processed 1000 messages in 0.13 seconds...\n",
      "Processed 1000 messages in 0.13 seconds...\n",
      "Processed 1000 messages in 0.13 seconds...\n",
      "Processed 1000 messages in 0.13 seconds...\n",
      "Processed 1000 messages in 0.13 seconds...\n",
      "Processed 1000 messages in 0.13 seconds...\n",
      "Processed 1000 messages in 0.13 seconds...\n",
      "Processed 1000 messages in 0.13 seconds...\n",
      "Processed 1000 messages in 0.13 seconds...\n",
      "Processed 1000 messages in 0.13 seconds...\n",
      "Processed 1000 messages in 0.13 seconds...\n",
      "Processed 1000 messages in 0.13 seconds...\n",
      "Processed 1000 messages in 0.13 seconds...\n",
      "Processed 1000 messages in 0.13 seconds...\n",
      "Processed 1000 messages in 0.13 seconds...\n",
      "Processed 1000 messages in 0.13 seconds...\n",
      "Processed 1000 messages in 0.13 seconds...\n",
      "Processed 1000 messages in 0.13 seconds...\n",
      "Processed 1000 messages in 0.13 seconds...\n",
      "Processed 1000 messages in 0.13 seconds...\n",
      "Processed 1000 messages in 0.13 seconds...\n",
      "Processed 1000 messages in 0.13 seconds...\n",
      "Processed 1000 messages in 0.13 seconds...\n",
      "Processed 1000 messages in 0.13 seconds...\n",
      "Processed 1000 messages in 0.13 seconds...\n",
      "Processed 1000 messages in 0.13 seconds...\n",
      "Processed 1000 messages in 0.13 seconds...\n",
      "Processed 1000 messages in 0.13 seconds...\n",
      "Processed 1000 messages in 0.13 seconds...\n",
      "Processed 1000 messages in 0.13 seconds...\n",
      "Processed 1000 messages in 0.13 seconds...\n",
      "Processed 1000 messages in 0.13 seconds...\n",
      "Processed 1000 messages in 0.13 seconds...\n",
      "Processed 1000 messages in 0.13 seconds...\n",
      "Processed 1000 messages in 0.13 seconds...\n",
      "Processed 1000 messages in 0.13 seconds...\n",
      "Processed 1000 messages in 0.13 seconds...\n",
      "Processed 1000 messages in 0.13 seconds...\n",
      "Processed 1000 messages in 0.13 seconds...\n",
      "Processed 1000 messages in 0.13 seconds...\n",
      "Processed 1000 messages in 0.13 seconds...\n",
      "Processed 1000 messages in 0.13 seconds...\n",
      "Processed 1000 messages in 0.13 seconds...\n",
      "Processed 1000 messages in 0.13 seconds...\n",
      "Processed 1000 messages in 0.13 seconds...\n",
      "Processed 1000 messages in 0.13 seconds...\n",
      "Processed 1000 messages in 0.13 seconds...\n",
      "Processed 1000 messages in 0.13 seconds...\n",
      "Processed 1000 messages in 0.13 seconds...\n",
      "Processed 1000 messages in 0.13 seconds...\n",
      "Processed 1000 messages in 0.13 seconds...\n",
      "Processed 1000 messages in 0.13 seconds...\n",
      "Processed 1000 messages in 0.13 seconds...\n",
      "Processed 1000 messages in 0.13 seconds...\n",
      "Processed 1000 messages in 0.13 seconds...\n",
      "Processed 1000 messages in 0.13 seconds...\n",
      "Processed 1000 messages in 0.13 seconds...\n",
      "Processed 1000 messages in 0.13 seconds...\n",
      "Processed 1000 messages in 0.13 seconds...\n",
      "Processed 1000 messages in 0.13 seconds...\n",
      "Processed 1000 messages in 0.13 seconds...\n",
      "Processed 1000 messages in 0.13 seconds...\n",
      "Processed 1000 messages in 0.13 seconds...\n",
      "Processed 1000 messages in 0.13 seconds...\n",
      "Processed 1000 messages in 0.13 seconds...\n",
      "Processed 1000 messages in 0.13 seconds...\n",
      "Processed 1000 messages in 0.13 seconds...\n",
      "Processed 1000 messages in 0.13 seconds...\n",
      "Processing 323 messages from partition TopicPartition(topic='ai_tasks_completed', partition=2)\n",
      "Found match at offset 322 in partition 2\n",
      "Processing 330 messages from partition TopicPartition(topic='ai_tasks_completed', partition=3)\n",
      "Search completed in 1.14 seconds.\n",
      "Processed 1653 messages, found 1 matches.\n",
      "=====> Found message for child task 4eb63f0f-0901-4e57-a69d-419d970c03e1\n"
     ]
    }
   ],
   "source": [
    "from src.MetaFort.SysLogs.KafkaEngine import KafkaEngine\n",
    "kafka_engine = KafkaEngine('localhost:9092')\n",
    "\n",
    "print(\"==> Reviewing waiting tasks\")\n",
    "for task in agent.waiting_tasks:\n",
    "    print(f\"==> Reviewing task {task.task_id}\")\n",
    "    for child_task in task.child_task:\n",
    "        print(f\"=====> Reviewing child task {child_task}\")\n",
    "        found_msg = kafka_engine.search_batch_topic(AILoggingTopics.AI_TASK_COMPLETED_TOPIC, search_value=child_task, search_key='task_id')\n",
    "        if found_msg:\n",
    "            print(f\"=====> Found message for child task {child_task}\")\n",
    "            task.child_task.remove(child_task)\n",
    "    if not task.is_waiting():\n",
    "        print('BOOM!!!')\n",
    "        agent.waiting_tasks.remove(task)"
   ]
  }
 ],
 "metadata": {
  "kernelspec": {
   "display_name": "Kafka_Spark",
   "language": "python",
   "name": "python3"
  },
  "language_info": {
   "codemirror_mode": {
    "name": "ipython",
    "version": 3
   },
   "file_extension": ".py",
   "mimetype": "text/x-python",
   "name": "python",
   "nbconvert_exporter": "python",
   "pygments_lexer": "ipython3",
   "version": "3.11.10"
  }
 },
 "nbformat": 4,
 "nbformat_minor": 5
}
