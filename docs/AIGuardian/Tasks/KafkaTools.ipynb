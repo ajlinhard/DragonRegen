{
 "cells": [
  {
   "cell_type": "code",
   "execution_count": 1,
   "id": "4e21232c",
   "metadata": {},
   "outputs": [
    {
     "name": "stdout",
     "output_type": "stream",
     "text": [
      "Project Path: c:\\Users\\dalej\\Documents\\_Coding\\DragonRegen\n"
     ]
    }
   ],
   "source": [
    "import os\n",
    "import sys\n",
    "\n",
    "project_path = os.path.abspath(os.path.join(os.getcwd(),'..','..','..'))\n",
    "sys.path.append(project_path)\n",
    "print(f\"Project Path: {project_path}\")"
   ]
  },
  {
   "cell_type": "code",
   "execution_count": 2,
   "id": "c527f804",
   "metadata": {},
   "outputs": [],
   "source": [
    "from src.MetaFort.SysLogs.KafkaEngine import KafkaEngine\n",
    "from src.MetaFort.AILoggingTopics import AILoggingTopics\n",
    "\n",
    "kafka_engine = KafkaEngine('localhost:9092')\n"
   ]
  },
  {
   "cell_type": "markdown",
   "id": "acf5b17c",
   "metadata": {},
   "source": [
    "---\n",
    "## Basic Kafka Consumer Iterator\n",
    "This is a slow approach but works."
   ]
  },
  {
   "cell_type": "code",
   "execution_count": 11,
   "id": "77cabb50",
   "metadata": {},
   "outputs": [
    {
     "name": "stdout",
     "output_type": "stream",
     "text": [
      "Searching topic 'ai_tasks_completed' for value: 25422725-fe42-4c2a-bd32-810bd69a30b0\n",
      "This will timeout after 60 seconds if no more messages are available.\n",
      "Search completed in 60.16 seconds.\n",
      "Processed 675 messages, found 0 matches.\n"
     ]
    }
   ],
   "source": [
    "matching_messages = kafka_engine.search_kafka_topic(AILoggingTopics.AI_TASK_COMPLETED_TOPIC, search_value='25422725-fe42-4c2a-bd32-810bd69a30b0', search_key='task_id')"
   ]
  },
  {
   "cell_type": "code",
   "execution_count": 5,
   "id": "ebcb190e",
   "metadata": {},
   "outputs": [
    {
     "name": "stdout",
     "output_type": "stream",
     "text": [
      "Matching Messages: [{'topic': 'ai_tasks_completed', 'partition': 3, 'offset': 0, 'timestamp': 1747764625718, 'key': None, 'value': {'task_id': '2e03d980-4988-4e75-a6e8-39848fd34862', 'task_name': 'DataColumnRefiner', 'group_task_id': '1f6b661a-0af4-48f9-80c1-29c1f981aba6', 'insert_dt': '2025-05-20T14:10:25.718348', 'output_artifacts': '{\"name\": \"user_id\", \"type\": \"Integer\", \"nullable\": false, \"metadata\": {\"description\": \"unique ID, primary key for user identification\", \"unique_fl\": true, \"default_value\": null, \"col_type\": null}}'}}]\n"
     ]
    }
   ],
   "source": [
    "print(f\"Matching Messages: {matching_messages}\")"
   ]
  },
  {
   "cell_type": "markdown",
   "id": "0937dd04",
   "metadata": {},
   "source": [
    "---\n",
    "## Batch Processing Search\n",
    "This is a faster approach than the for loop iterator."
   ]
  },
  {
   "cell_type": "code",
   "execution_count": 21,
   "id": "fe3adeb9",
   "metadata": {},
   "outputs": [
    {
     "name": "stdout",
     "output_type": "stream",
     "text": [
      "Searching topic 'ai_tasks_completed' for value: 98c90e2b-9fe7-4d77-a502-fbd884215758\n",
      "This will timeout after 60 seconds if no more messages are available.\n",
      "Processing 156 messages from partition TopicPartition(topic='ai_tasks_completed', partition=2)\n",
      "Processing 164 messages from partition TopicPartition(topic='ai_tasks_completed', partition=1)\n",
      "Processing 165 messages from partition TopicPartition(topic='ai_tasks_completed', partition=3)\n",
      "Found match at offset 133 in partition 3\n",
      "Processing 184 messages from partition TopicPartition(topic='ai_tasks_completed', partition=4)\n",
      "Processing 149 messages from partition TopicPartition(topic='ai_tasks_completed', partition=0)\n",
      "Search completed in 1.14 seconds.\n",
      "Processed 818 messages, found 1 matches.\n",
      "==============================\n",
      "Completed Messages: [{'topic': 'ai_tasks_completed', 'partition': 3, 'offset': 133, 'timestamp': 1747876914143, 'key': None, 'value': {'task_id': '98c90e2b-9fe7-4d77-a502-fbd884215758', 'task_name': 'DataColumnRefiner', 'group_task_id': '7ed334d5-e6a2-4a17-bca9-6ff153de8584', 'insert_dt': '2025-05-21T21:21:54.143051', 'output_artifacts': '{\"name\": \"driver_id\", \"type\": \"Integer\", \"nullable\": false, \"metadata\": {\"description\": \"foreign key to drivers table\", \"unique_fl\": false, \"default_value\": null, \"col_type\": null}}'}}]\n"
     ]
    }
   ],
   "source": [
    "# batch_messages = kafka_engine.search_batch_topic(AILoggingTopics.AI_TASK_COMPLETED_TOPIC, search_value='9e7de1ad-c8c4-42af-b3f8-efe55c801b7e', search_key='task_id')\n",
    "batch_messages = kafka_engine.search_batch_topic(AILoggingTopics.AI_TASK_COMPLETED_TOPIC, search_value='98c90e2b-9fe7-4d77-a502-fbd884215758', search_key='task_id')\n",
    "print(\"=\"*30)\n",
    "print(f\"Completed Messages: {batch_messages}\")\n"
   ]
  },
  {
   "cell_type": "code",
   "execution_count": null,
   "id": "60956f12",
   "metadata": {},
   "outputs": [
    {
     "name": "stdout",
     "output_type": "stream",
     "text": [
      "Searching topic 'ai_tasks' for value: 25422725-fe42-4c2a-bd32-810bd69a30b0\n",
      "This will timeout after 60 seconds if no more messages are available.\n",
      "Processing 148 messages from partition TopicPartition(topic='ai_tasks', partition=2)\n",
      "Processing 140 messages from partition TopicPartition(topic='ai_tasks', partition=0)\n",
      "Processing 134 messages from partition TopicPartition(topic='ai_tasks', partition=4)\n",
      "Found match at offset 96 in partition 4\n",
      "Processing 154 messages from partition TopicPartition(topic='ai_tasks', partition=3)\n",
      "Processing 135 messages from partition TopicPartition(topic='ai_tasks', partition=1)\n",
      "Search completed in 1.14 seconds.\n",
      "Processed 711 messages, found 1 matches.\n",
      "==============================\n",
      "Bach Messages: [{'topic': 'ai_tasks', 'partition': 4, 'offset': 96, 'timestamp': 1747873548702, 'key': None, 'value': {'task_id': '25422725-fe42-4c2a-bd32-810bd69a30b0', 'task_name': 'ColumnRefiner', 'task_version': '0.0.1', 'parent_task_id': 'bf8c8420-b638-4e4b-94c4-60839c6f5a7c', 'group_task_id': 'acd8429b-70a9-4230-bbcc-ad3bd5045a58', 'description': 'The base Task class. This should be inherited by all Task classes.', 'sequence_number': 2, 'created_dt': '2025-05-21T20:25:48.702828', 'updated_dt': '2025-05-21T20:25:48.702828', 'input_artifacts': '{\"table_name\": \"vehicles\", \"purpose\": \"Stores information about vehicles to be insured\", \"fields\": {\"vehicle_id\": \"unique ID, primary key for vehicle identification\", \"customer_id\": \"foreign key referencing customers table\", \"make\": \"manufacturer of the vehicle\", \"model\": \"model name of the vehicle\", \"year\": \"year the vehicle was manufactured\", \"vin\": \"vehicle identification number\", \"primary_use\": \"how the vehicle is primarily used (commute, pleasure, business)\", \"annual_mileage\": \"estimated annual mileage driven\", \"ownership_status\": \"whether vehicle is owned, financed, or leased\", \"created_at\": \"timestamp when vehicle record was created\", \"updated_at\": \"timestamp when vehicle record was last updated\"}, \"user_prompt\": null}'}}]\n"
     ]
    }
   ],
   "source": [
    "# batch_messages = kafka_engine.search_batch_topic(AILoggingTopics.AI_TASK_COMPLETED_TOPIC, search_value='9e7de1ad-c8c4-42af-b3f8-efe55c801b7e', search_key='task_id')\n",
    "batch_messages = kafka_engine.search_batch_topic(AILoggingTopics.AI_TASK_TOPIC, search_value='fbbd1f2b-be4f-48ed-b1fe-9ac999116cd5', search_key='task_id')\n",
    "print(\"=\"*30)\n",
    "print(f\"Bach Messages: {batch_messages}\")"
   ]
  }
 ],
 "metadata": {
  "kernelspec": {
   "display_name": "Kafka_Spark",
   "language": "python",
   "name": "python3"
  },
  "language_info": {
   "codemirror_mode": {
    "name": "ipython",
    "version": 3
   },
   "file_extension": ".py",
   "mimetype": "text/x-python",
   "name": "python",
   "nbconvert_exporter": "python",
   "pygments_lexer": "ipython3",
   "version": "3.11.10"
  }
 },
 "nbformat": 4,
 "nbformat_minor": 5
}
