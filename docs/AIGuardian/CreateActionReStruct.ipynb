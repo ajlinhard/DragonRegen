{
 "cells": [
  {
   "cell_type": "code",
   "execution_count": 1,
   "id": "9af77b63",
   "metadata": {},
   "outputs": [
    {
     "name": "stdout",
     "output_type": "stream",
     "text": [
      "Project path: c:\\Users\\dalej\\Documents\\_Coding\\DragonRegen\n"
     ]
    }
   ],
   "source": [
    "import os\n",
    "import sys\n",
    "from anthropic import Anthropic, AnthropicError\n",
    "\n",
    "notebook_path = os.getcwd()\n",
    "project_path = os.path.abspath(os.path.join(notebook_path, '..','..'))\n",
    "print(f\"Project path: {project_path}\")\n",
    "# Add the project path to sys.path\n",
    "sys.path.append(project_path)"
   ]
  },
  {
   "cell_type": "code",
   "execution_count": 2,
   "id": "e172a058",
   "metadata": {},
   "outputs": [
    {
     "name": "stdout",
     "output_type": "stream",
     "text": [
      "<src.AIGuardian.ActionsFrame.ActionSayHello.ActionSayHello object at 0x000001206C2752E0>\n",
      "None\n"
     ]
    }
   ],
   "source": [
    "from src.AIGuardian.ActionsFrame.ActionSayHello import ActionSayHello\n",
    "\n",
    "start_action = ActionSayHello()\n",
    "print(start_action)\n",
    "print(start_action.action_id)"
   ]
  },
  {
   "cell_type": "code",
   "execution_count": 3,
   "id": "e5d7e4ac",
   "metadata": {},
   "outputs": [
    {
     "name": "stdout",
     "output_type": "stream",
     "text": [
      "create_params: {'model': 'claude-3-haiku-20240307', 'max_tokens': 200, 'temperature': 0.1, 'stop_sequences': ['</JSON_Template>'], 'messages': [{'role': 'user', 'content': 'Hello there, I am Andrew!'}]}\n"
     ]
    }
   ],
   "source": [
    "prompt = \"\"\"Hello there, I am Andrew!\"\"\"\n",
    "start_action.run(prompt)"
   ]
  },
  {
   "cell_type": "code",
   "execution_count": 4,
   "id": "94312240",
   "metadata": {},
   "outputs": [
    {
     "name": "stdout",
     "output_type": "stream",
     "text": [
      "Message(id='msg_01XX1GVXMeTaBcLWhfNhj68A', content=[TextBlock(citations=None, text=\"It's nice to meet you, Andrew! I'm an AI assistant created by Anthropic. I'm here to help with any questions or tasks you might have. Please let me know if there's anything I can assist you with.\", type='text')], model='claude-3-haiku-20240307', role='assistant', stop_reason='end_turn', stop_sequence=None, type='message', usage=Usage(cache_creation_input_tokens=0, cache_read_input_tokens=0, input_tokens=14, output_tokens=51))\n"
     ]
    }
   ],
   "source": [
    "print(start_action.response)"
   ]
  }
 ],
 "metadata": {
  "kernelspec": {
   "display_name": "PySpark",
   "language": "python",
   "name": "python3"
  },
  "language_info": {
   "codemirror_mode": {
    "name": "ipython",
    "version": 3
   },
   "file_extension": ".py",
   "mimetype": "text/x-python",
   "name": "python",
   "nbconvert_exporter": "python",
   "pygments_lexer": "ipython3",
   "version": "3.8.0"
  }
 },
 "nbformat": 4,
 "nbformat_minor": 5
}
