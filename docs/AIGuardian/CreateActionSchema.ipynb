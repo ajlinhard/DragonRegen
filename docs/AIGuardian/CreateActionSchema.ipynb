{
 "cells": [
  {
   "cell_type": "code",
   "execution_count": 1,
   "id": "9af77b63",
   "metadata": {},
   "outputs": [
    {
     "name": "stdout",
     "output_type": "stream",
     "text": [
      "Project path: c:\\Users\\dalej\\Documents\\_Coding\\DragonRegen\n"
     ]
    }
   ],
   "source": [
    "import os\n",
    "import sys\n",
    "from anthropic import Anthropic, AnthropicError\n",
    "\n",
    "notebook_path = os.getcwd()\n",
    "project_path = os.path.abspath(os.path.join(notebook_path, '..','..'))\n",
    "print(f\"Project path: {project_path}\")\n",
    "# Add the project path to sys.path\n",
    "sys.path.append(project_path)"
   ]
  },
  {
   "cell_type": "code",
   "execution_count": 2,
   "id": "e172a058",
   "metadata": {},
   "outputs": [
    {
     "name": "stdout",
     "output_type": "stream",
     "text": [
      "<src.AIGuardian.ActionsFrame.DataColumnRefiner.DataColumnRefiner object at 0x00000232D78383A0>\n"
     ]
    }
   ],
   "source": [
    "from src.AIGuardian.ActionsFrame.DataColumnRefiner import DataColumnRefiner\n",
    "\n",
    "# Inputs\n",
    "action_parameters = {\n",
    "                \"table_name\": 'members',\n",
    "                \"purpose\": \"To track all the information about members of the gym.\",\n",
    "                \"column_name\": 'membership',\n",
    "                \"description\": 'The kind of membership the member has.',\n",
    "            }\n",
    "\n",
    "test_action = DataColumnRefiner(input_params=action_parameters)\n",
    "print(test_action)"
   ]
  },
  {
   "cell_type": "code",
   "execution_count": 3,
   "id": "e5d7e4ac",
   "metadata": {},
   "outputs": [
    {
     "name": "stdout",
     "output_type": "stream",
     "text": [
      "create_params: {'max_tokens': 10000, 'temperature': 0.1, 'stop_sequences': ['</JSON_Template>'], 'model': 'claude-3-7-sonnet-20250219', 'messages': [{'role': 'user', 'content': 'Please take the following <column_information> to fill in JSON values and add additional metadata for the column.\\n        <column_information>\\n        Table Purpose: To track all the information about members of the gym.\\n        Column Info: \"membership\": \"The kind of membership the member has.\"\\n        </column_information>\\n        Please provide the response in a JSON format like the <JSON_Template> below. There are examples below at <Examples>.\\n        <JSON_Template>\\n        {\"name\": \"example_column\", \"type\": \"Integer\", \"nullable\": true, \"metadata\": {\"description\": \"Place the description of the column here.\", \"unique_fl\": true, \"default_value\": null}}\\n        </JSON_Template>\\n\\n        <Examples>\\n        Example 1:\\n        Purpose: \"This table is used to store user information.\"\\n        Column Info: \"user_id\": \"unique ID representing each user.\"\\n        Output:\\n        <JSON_Template>\\n        {\"name\": \"user_id\", \"type\": \"Integer\", \"nullable\": False, \\n            \"metadata\": {\"description\": \"unique ID representing each user.\", \\n            \"unique_fl\": True,\\n            \"default_value\": None}}\\n        </JSON_Template>\\n        </Examples>'}, {'role': 'assistant', 'content': '<JSON_Template>\\n{'}]}\n"
     ]
    }
   ],
   "source": [
    "test_action.run(user_prompt=\"\")"
   ]
  },
  {
   "cell_type": "code",
   "execution_count": 5,
   "id": "94312240",
   "metadata": {},
   "outputs": [
    {
     "name": "stdout",
     "output_type": "stream",
     "text": [
      "Message(id='msg_01YDq8i8diSFfpcgQP36n2Ut', content=[TextBlock(citations=None, text='\\n  \"name\": \"membership\",\\n  \"type\": \"String\",\\n  \"nullable\": false,\\n  \"metadata\": {\\n    \"description\": \"The kind of membership the member has.\",\\n    \"unique_fl\": false,\\n    \"default_value\": null,\\n    \"possible_values\": [\"Basic\", \"Premium\", \"Gold\", \"Platinum\", \"Family\", \"Student\", \"Senior\"],\\n    \"category\": \"Membership Information\",\\n    \"validation_rules\": \"Must be one of the predefined membership types\"\\n  }\\n}\\n', type='text')], model='claude-3-7-sonnet-20250219', role='assistant', stop_reason='stop_sequence', stop_sequence='</JSON_Template>', type='message', usage=Usage(cache_creation_input_tokens=0, cache_read_input_tokens=0, input_tokens=295, output_tokens=129))\n"
     ]
    }
   ],
   "source": [
    "print(test_action.response)"
   ]
  },
  {
   "cell_type": "markdown",
   "id": "c8c20e3a",
   "metadata": {},
   "source": [
    "## Test Data Struct"
   ]
  },
  {
   "cell_type": "code",
   "execution_count": null,
   "id": "e0807ae6",
   "metadata": {},
   "outputs": [
    {
     "name": "stdout",
     "output_type": "stream",
     "text": [
      "SQL: INSERT INTO ai_actions_log (action_name, action_version, parent_action_id, group_action_id, description, sequence_number, created_dt, updated_dt, status, metadata) \n",
      "        OUTPUT INSERTED.action_id\n",
      "        VALUES (?, ?, ?, ?, ?, ?, ?, ?, ?, ?)\n",
      "        \n",
      "create_params: {'max_tokens': 10000, 'temperature': 0.1, 'stop_sequences': ['</JSON_Template>'], 'model': 'claude-3-7-sonnet-20250219', 'messages': [{'role': 'user', 'content': 'Please take the following <business_requirements> and create the table list and schema for the the request.\\n        <business_requirements>\\n        Create a data structure for a gym membership system.\\n        </business_requirements>\\n        Please provide the response in a JSON format like the <JSON_Template> below:\\n        <JSON_Template>\\n        {\"table_name_1\": {\\n            \"purpose\": \"short description of tables usage in the architecture\",\\n            \"fields\":{\"column_name_1\": \"unique ID, short description of column\",\\n            , \"column_name_2\": \"short description of column\"\\n            , \"column_name_3\": \"short description of column\"\\n            }},\\n        \"table_name_2\": {\\n            \"purpose\": \"short description of tables usage in the architecture\",\\n            \"fields\":\\n            {\"column_name_1\": \"unique ID, short description of column\",\\n            , \"column_name_2\": \"short description of column\"\\n            , \"column_name_3\": \"short description of column\"\\n            , \"column_name_4\": \"short description of column\"\\n            }}\\n        }\\n        </JSON_Template>\\n        '}, {'role': 'assistant', 'content': '<JSON_Template>\\n{'}]}\n",
      "SQL: INSERT INTO ai_requests_log (action_id, insert_dt, status, ai_service, model, request_parameters, user_prompt, engineered_prompt, api_request_id, raw_response, parsed_results, response_metadate, input_tokens, output_tokens, request_timestamp, response_timestamp, duration_ms, error_code, error_message, error_timestamp, retry_cnt, RAG_Embeding_Model, RAG_IDs, RAG_Versions, metadata) \n",
      "        \n",
      "        VALUES (?, ?, ?, ?, ?, ?, ?, ?, ?, ?, ?, ?, ?, ?, ?, ?, ?, ?, ?, ?, ?, ?, ?, ?, ?)\n",
      "        \n",
      "Message(id='msg_01Ap7bGjoYtXomiDko8vvVPr', content=[TextBlock(citations=None, text='\\n  \"members\": {\\n    \"purpose\": \"Stores information about gym members\",\\n    \"fields\": {\\n      \"member_id\": \"unique ID, primary key for member identification\",\\n      \"first_name\": \"member\\'s first name\",\\n      \"last_name\": \"member\\'s last name\",\\n      \"email\": \"member\\'s email address for communication\",\\n      \"phone\": \"member\\'s contact phone number\",\\n      \"address\": \"member\\'s physical address\",\\n      \"date_of_birth\": \"member\\'s date of birth for age verification\",\\n      \"join_date\": \"date when the member joined the gym\",\\n      \"emergency_contact_name\": \"name of emergency contact person\",\\n      \"emergency_contact_phone\": \"phone number of emergency contact\"\\n    }\\n  },\\n  \"membership_plans\": {\\n    \"purpose\": \"Defines different membership plan options\",\\n    \"fields\": {\\n      \"plan_id\": \"unique ID, primary key for plan identification\",\\n      \"plan_name\": \"name of the membership plan\",\\n      \"description\": \"detailed description of the plan\",\\n      \"duration_months\": \"duration of the plan in months\",\\n      \"price\": \"cost of the membership plan\",\\n      \"features\": \"list of features included in the plan\",\\n      \"is_active\": \"boolean indicating if the plan is currently offered\"\\n    }\\n  },\\n  \"member_subscriptions\": {\\n    \"purpose\": \"Tracks active subscriptions for each member\",\\n    \"fields\": {\\n      \"subscription_id\": \"unique ID, primary key for subscription\",\\n      \"member_id\": \"foreign key referencing members table\",\\n      \"plan_id\": \"foreign key referencing membership_plans table\",\\n      \"start_date\": \"date when the subscription begins\",\\n      \"end_date\": \"date when the subscription expires\",\\n      \"payment_status\": \"current status of payment (paid, pending, overdue)\",\\n      \"auto_renew\": \"boolean indicating if subscription should automatically renew\",\\n      \"is_active\": \"boolean indicating if subscription is currently active\"\\n    }\\n  },\\n  \"payments\": {\\n    \"purpose\": \"Records all payment transactions\",\\n    \"fields\": {\\n      \"payment_id\": \"unique ID, primary key for payment transaction\",\\n      \"subscription_id\": \"foreign key referencing member_subscriptions table\",\\n      \"amount\": \"payment amount\",\\n      \"payment_date\": \"date when payment was made\",\\n      \"payment_method\": \"method used for payment (credit card, cash, etc.)\",\\n      \"transaction_reference\": \"reference number for the transaction\",\\n      \"status\": \"status of the payment (successful, failed, refunded)\"\\n    }\\n  },\\n  \"check_ins\": {\\n    \"purpose\": \"Tracks member visits to the gym\",\\n    \"fields\": {\\n      \"check_in_id\": \"unique ID, primary key for check-in record\",\\n      \"member_id\": \"foreign key referencing members table\",\\n      \"check_in_time\": \"timestamp when member checked in\",\\n      \"check_out_time\": \"timestamp when member checked out (optional)\",\\n      \"location_id\": \"foreign key referencing gym_locations if multiple locations exist\"\\n    }\\n  },\\n  \"gym_classes\": {\\n    \"purpose\": \"Information about fitness classes offered\",\\n    \"fields\": {\\n      \"class_id\": \"unique ID, primary key for class\",\\n      \"class_name\": \"name of the fitness class\",\\n      \"description\": \"detailed description of the class\",\\n      \"instructor_id\": \"foreign key referencing staff table for the instructor\",\\n      \"capacity\": \"maximum number of participants allowed\",\\n      \"duration_minutes\": \"length of class in minutes\",\\n      \"difficulty_level\": \"indicates class difficulty (beginner, intermediate, advanced)\"\\n    }\\n  },\\n  \"class_schedule\": {\\n    \"purpose\": \"Schedule of when classes are offered\",\\n    \"fields\": {\\n      \"schedule_id\": \"unique ID, primary key for schedule entry\",\\n      \"class_id\": \"foreign key referencing gym_classes table\",\\n      \"start_time\": \"date and time when class starts\",\\n      \"end_time\": \"date and time when class ends\",\\n      \"room_id\": \"foreign key referencing rooms table if applicable\",\\n      \"is_recurring\": \"boolean indicating if class recurs weekly\",\\n      \"recurrence_pattern\": \"pattern of recurrence if applicable\"\\n    }\\n  },\\n  \"class_bookings\": {\\n    \"purpose\": \"Tracks member registrations for classes\",\\n    \"fields\": {\\n      \"booking_id\": \"unique ID, primary key for booking\",\\n      \"member_id\": \"foreign key referencing members table\",\\n      \"schedule_id\": \"foreign key referencing class_schedule table\",\\n      \"booking_date\": \"date when booking was made\",\\n      \"attendance_status\": \"tracks if member attended (attended, no-show, cancelled)\",\\n      \"cancellation_date\": \"date when booking was cancelled if applicable\"\\n    }\\n  },\\n  \"staff\": {\\n    \"purpose\": \"Information about gym employees\",\\n    \"fields\": {\\n      \"staff_id\": \"unique ID, primary key for staff member\",\\n      \"first_name\": \"staff member\\'s first name\",\\n      \"last_name\": \"staff member\\'s last name\",\\n      \"email\": \"staff member\\'s email address\",\\n      \"phone\": \"staff member\\'s contact phone number\",\\n      \"position\": \"job title or position\",\\n      \"hire_date\": \"date when staff member was hired\",\\n      \"certifications\": \"list of fitness certifications held\",\\n      \"is_active\": \"boolean indicating if staff member is currently employed\"\\n    }\\n  },\\n  \"equipment\": {\\n    \"purpose\": \"Inventory of gym equipment\",\\n    \"fields\": {\\n      \"equipment_id\": \"unique ID, primary key for equipment item\",\\n      \"name\": \"name of the equipment\",\\n      \"description\": \"detailed description of the equipment\",\\n      \"purchase_date\": \"date when equipment was purchased\",\\n      \"cost\": \"purchase cost of the equipment\",\\n      \"maintenance_schedule\": \"frequency of required maintenance\",\\n      \"last_maintenance_date\": \"date of last maintenance performed\",\\n      \"status\": \"current status (active, under repair, retired)\"\\n    }\\n  }\\n}\\n', type='text')], model='claude-3-7-sonnet-20250219', role='assistant', stop_reason='stop_sequence', stop_sequence='</JSON_Template>', type='message', usage=Usage(cache_creation_input_tokens=0, cache_read_input_tokens=0, input_tokens=280, output_tokens=1464))\n"
     ]
    }
   ],
   "source": [
    "# from src.AIGuardian.ActionsFrame.DataStructCreate import DataStructCreate\n",
    "\n",
    "# datastruct_action = DataStructCreate()\n",
    "# prompt = \"\"\"Create a data structure for a gym membership system.\"\"\"\n",
    "# datastruct_action.run(prompt)\n",
    "# print(datastruct_action.response)"
   ]
  }
 ],
 "metadata": {
  "kernelspec": {
   "display_name": "PySpark",
   "language": "python",
   "name": "python3"
  },
  "language_info": {
   "codemirror_mode": {
    "name": "ipython",
    "version": 3
   },
   "file_extension": ".py",
   "mimetype": "text/x-python",
   "name": "python",
   "nbconvert_exporter": "python",
   "pygments_lexer": "ipython3",
   "version": "3.8.0"
  }
 },
 "nbformat": 4,
 "nbformat_minor": 5
}
