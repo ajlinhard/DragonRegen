{
 "cells": [
  {
   "cell_type": "code",
   "execution_count": 1,
   "id": "9af77b63",
   "metadata": {},
   "outputs": [
    {
     "name": "stdout",
     "output_type": "stream",
     "text": [
      "Project path: c:\\Users\\dalej\\Documents\\_Coding\\DragonRegen\n"
     ]
    }
   ],
   "source": [
    "import os\n",
    "import sys\n",
    "\n",
    "notebook_path = os.getcwd()\n",
    "project_path = os.path.abspath(os.path.join(notebook_path, '..','..'))\n",
    "print(f\"Project path: {project_path}\")\n",
    "# Add the project path to sys.path\n",
    "sys.path.append(project_path)"
   ]
  },
  {
   "cell_type": "code",
   "execution_count": 2,
   "id": "51025355",
   "metadata": {},
   "outputs": [
    {
     "name": "stdout",
     "output_type": "stream",
     "text": [
      "Connected to the database.\n"
     ]
    }
   ],
   "source": [
    "from src.MetaFort.SysLogs.DatabaseEngine import DatabaseEngine\n",
    "from src.DataCreator.SchemaGenerators.SchemaMSSQL import SchemaMSSQL\n",
    "\n",
    "# create database engine object and connection\n",
    "driver = \"ODBC Driver 17 for SQL Server\"\n",
    "server = 'localhost\\\\SQLEXPRESS' \n",
    "# server = \"Andrew=PC\\\\SQLEXPRESS\"\n",
    "database = \"MetaFort\"\n",
    "conn_str = (\n",
    "    f\"DRIVER={driver};\"\n",
    "    f\"SERVER={server};\"\n",
    "    f\"DATABASE={database};\"\n",
    "    f\"Trusted_Connection=yes;\"\n",
    ")\n",
    "db_engine = DatabaseEngine(conn_str)\n",
    "db_engine.connect()\n",
    "print(\"Connected to the database.\")"
   ]
  },
  {
   "cell_type": "code",
   "execution_count": 3,
   "id": "e172a058",
   "metadata": {},
   "outputs": [],
   "source": [
    "from src.AIGuardian.Actions.ActionEngine import ActionEngine\n",
    "from src.AIGuardian.Actions.DataStructCreate import DataStructCreate\n",
    "\n",
    "start_action = DataStructCreate()\n",
    "action_engine = ActionEngine(start_action, db_engine)"
   ]
  },
  {
   "cell_type": "code",
   "execution_count": 4,
   "id": "322c0245",
   "metadata": {},
   "outputs": [],
   "source": [
    "# import datetime\n",
    "# from pprint import pprint\n",
    "# from src.MetaFort.AILoggingTables import AILoggingTables\n",
    "\n",
    "# table = AILoggingTables.AI_ACTION_LOG_TABLE\n",
    "# data_row = {\"action_name\": start_action.name,\n",
    "#     \"action_version\": start_action.action_version,\n",
    "#     \"parent_action_id\": start_action.parent_action.action_id if start_action.parent_action else None,\n",
    "#     \"group_action_id\": start_action.group_action_id,\n",
    "#     \"description\": start_action.description,\n",
    "#     \"sequence_number\": start_action.sequence,\n",
    "#     \"created_dt\": datetime.datetime.now(),\n",
    "#     \"updated_dt\": datetime.datetime.now(),\n",
    "#     \"status\": start_action.status,\n",
    "#     \"metadata\": start_action.parameters,\n",
    "# }\n",
    "# pprint(data_row)\n",
    "# # Insert the action log into the database\n",
    "# action_id = db_engine.insert(table=table, data=data_row, output_data=['action_id', 'action_name'])"
   ]
  },
  {
   "cell_type": "code",
   "execution_count": 5,
   "id": "e5d7e4ac",
   "metadata": {},
   "outputs": [
    {
     "name": "stdout",
     "output_type": "stream",
     "text": [
      "SQL: INSERT INTO ai_actions_log (action_name, action_version, parent_action_id, group_action_id, description, sequence_number, created_dt, updated_dt, status, metadata) \n",
      "        OUTPUT INSERTED.action_id\n",
      "        VALUES (?, ?, ?, ?, ?, ?, ?, ?, ?, ?)\n",
      "        \n",
      "create_params: {'max_tokens': 10000, 'temperature': 0.1, 'stop_sequences': ['</JSON_Template>'], 'model': 'claude-3-7-sonnet-20250219', 'messages': [{'role': 'user', 'content': 'Please take the following <business_requirements> and create the table list and schema for the the request.\\n        <business_requirements>\\n        Create a set of tables for a simple e-commerce application.\\n        </business_requirements>\\n        Please provide the response in a JSON format like the <JSON_Template> below:\\n        <JSON_Template>\\n        {\"table_name_1\": {\\n            \"purpose\": \"short description of tables usage in the architecture\",\\n            \"columns\":{\"column_name_1\": \"unique ID, short description of column\",\\n            , \"column_name_2\": \"short description of column\"\\n            , \"column_name_3\": \"short description of column\"\\n            }},\\n        \"table_name_2\": {\\n            \"purpose\": \"short description of tables usage in the architecture\",\\n            \"columns\":\\n            {\"column_name_1\": \"unique ID, short description of column\",\\n            , \"column_name_2\": \"short description of column\"\\n            , \"column_name_3\": \"short description of column\"\\n            , \"column_name_4\": \"short description of column\"\\n            }}\\n        }\\n        </JSON_Template>\\n        '}, {'role': 'assistant', 'content': '<JSON_Template>\\n{'}]}\n"
     ]
    },
    {
     "name": "stdout",
     "output_type": "stream",
     "text": [
      "SQL: INSERT INTO ai_requests_log (action_id, insert_dt, status, ai_service, model, request_parameters, user_prompt, engineered_prompt, api_request_id, raw_response, parsed_results, response_metadate, input_tokens, output_tokens, request_timestamp, response_timestamp, duration_ms, error_code, error_message, error_timestamp, retry_cnt, RAG_Embeding_Model, RAG_IDs, RAG_Versions, metadata) \n",
      "        \n",
      "        VALUES (?, ?, ?, ?, ?, ?, ?, ?, ?, ?, ?, ?, ?, ?, ?, ?, ?, ?, ?, ?, ?, ?, ?, ?, ?)\n",
      "        \n"
     ]
    }
   ],
   "source": [
    "prompt = \"\"\"Create a set of tables for a simple e-commerce application.\"\"\"\n",
    "action_engine.run(prompt)"
   ]
  },
  {
   "cell_type": "code",
   "execution_count": 8,
   "id": "94312240",
   "metadata": {},
   "outputs": [
    {
     "name": "stdout",
     "output_type": "stream",
     "text": [
      "Message(id='msg_01Q4AewezJ3F5MaPz7Qj8QaM', content=[TextBlock(citations=None, text='\\n  \"users\": {\\n    \"purpose\": \"Stores information about registered users/customers\",\\n    \"columns\": {\\n      \"user_id\": \"unique ID, primary key for user identification\",\\n      \"username\": \"unique username for login\",\\n      \"email\": \"unique email address for user contact\",\\n      \"password_hash\": \"securely stored password hash\",\\n      \"first_name\": \"user\\'s first name\",\\n      \"last_name\": \"user\\'s last name\",\\n      \"phone_number\": \"contact phone number\",\\n      \"created_at\": \"timestamp when user account was created\",\\n      \"updated_at\": \"timestamp when user account was last updated\"\\n    }\\n  },\\n  \"addresses\": {\\n    \"purpose\": \"Stores shipping and billing addresses for users\",\\n    \"columns\": {\\n      \"address_id\": \"unique ID, primary key for address identification\",\\n      \"user_id\": \"foreign key referencing users table\",\\n      \"address_type\": \"type of address (shipping/billing)\",\\n      \"street_address\": \"street name and number\",\\n      \"city\": \"city name\",\\n      \"state\": \"state or province\",\\n      \"postal_code\": \"zip or postal code\",\\n      \"country\": \"country name\",\\n      \"is_default\": \"boolean indicating if this is the default address for the user\"\\n    }\\n  },\\n  \"products\": {\\n    \"purpose\": \"Stores product information available for sale\",\\n    \"columns\": {\\n      \"product_id\": \"unique ID, primary key for product identification\",\\n      \"name\": \"product name\",\\n      \"description\": \"detailed product description\",\\n      \"price\": \"current product price\",\\n      \"category_id\": \"foreign key referencing categories table\",\\n      \"inventory_count\": \"current available inventory\",\\n      \"image_url\": \"URL to product image\",\\n      \"created_at\": \"timestamp when product was added\",\\n      \"updated_at\": \"timestamp when product was last updated\"\\n    }\\n  },\\n  \"categories\": {\\n    \"purpose\": \"Stores product categories for organization\",\\n    \"columns\": {\\n      \"category_id\": \"unique ID, primary key for category identification\",\\n      \"name\": \"category name\",\\n      \"description\": \"category description\",\\n      \"parent_category_id\": \"self-referencing foreign key for hierarchical categories\"\\n    }\\n  },\\n  \"orders\": {\\n    \"purpose\": \"Stores customer orders\",\\n    \"columns\": {\\n      \"order_id\": \"unique ID, primary key for order identification\",\\n      \"user_id\": \"foreign key referencing users table\",\\n      \"order_date\": \"date and time when order was placed\",\\n      \"total_amount\": \"total order amount\",\\n      \"shipping_address_id\": \"foreign key referencing addresses table\",\\n      \"billing_address_id\": \"foreign key referencing addresses table\",\\n      \"status\": \"current order status (pending, shipped, delivered, etc.)\",\\n      \"payment_method\": \"method used for payment\"\\n    }\\n  },\\n  \"order_items\": {\\n    \"purpose\": \"Stores individual items within an order\",\\n    \"columns\": {\\n      \"order_item_id\": \"unique ID, primary key for order item identification\",\\n      \"order_id\": \"foreign key referencing orders table\",\\n      \"product_id\": \"foreign key referencing products table\",\\n      \"quantity\": \"quantity of product ordered\",\\n      \"unit_price\": \"price of product at time of purchase\",\\n      \"subtotal\": \"total price for this line item (quantity * unit_price)\"\\n    }\\n  },\\n  \"payments\": {\\n    \"purpose\": \"Stores payment information for orders\",\\n    \"columns\": {\\n      \"payment_id\": \"unique ID, primary key for payment identification\",\\n      \"order_id\": \"foreign key referencing orders table\",\\n      \"payment_date\": \"date and time of payment\",\\n      \"payment_method\": \"method of payment (credit card, PayPal, etc.)\",\\n      \"amount\": \"payment amount\",\\n      \"status\": \"payment status (pending, completed, failed, etc.)\",\\n      \"transaction_id\": \"external payment processor transaction ID\"\\n    }\\n  },\\n  \"cart_items\": {\\n    \"purpose\": \"Stores items in user shopping carts\",\\n    \"columns\": {\\n      \"cart_item_id\": \"unique ID, primary key for cart item identification\",\\n      \"user_id\": \"foreign key referencing users table\",\\n      \"product_id\": \"foreign key referencing products table\",\\n      \"quantity\": \"quantity of product in cart\",\\n      \"added_at\": \"timestamp when item was added to cart\"\\n    }\\n  },\\n  \"reviews\": {\\n    \"purpose\": \"Stores product reviews from users\",\\n    \"columns\": {\\n      \"review_id\": \"unique ID, primary key for review identification\",\\n      \"product_id\": \"foreign key referencing products table\",\\n      \"user_id\": \"foreign key referencing users table\",\\n      \"rating\": \"numerical rating (e.g., 1-5 stars)\",\\n      \"comment\": \"text review content\",\\n      \"created_at\": \"timestamp when review was created\"\\n    }\\n  }\\n}\\n', type='text')], model='claude-3-7-sonnet-20250219', role='assistant', stop_reason='stop_sequence', stop_sequence='</JSON_Template>', type='message', usage=Usage(cache_creation_input_tokens=0, cache_read_input_tokens=0, input_tokens=283, output_tokens=1215))\n",
      "{\"users\": {\n",
      "    \"purpose\": \"Stores information about registered users/customers\",\n",
      "    \"columns\": {\n",
      " \n"
     ]
    }
   ],
   "source": [
    "print(start_action.response)\n",
    "print(start_action.text_response[0:100])"
   ]
  },
  {
   "cell_type": "code",
   "execution_count": 9,
   "id": "355a23e4",
   "metadata": {},
   "outputs": [
    {
     "name": "stdout",
     "output_type": "stream",
     "text": [
      "Table Count: 9\n"
     ]
    }
   ],
   "source": [
    "import json\n",
    "\n",
    "output_json = json.loads(start_action.text_response)\n",
    "print(f\"Table Count: {len(output_json)}\")"
   ]
  }
 ],
 "metadata": {
  "kernelspec": {
   "display_name": "PySpark",
   "language": "python",
   "name": "python3"
  },
  "language_info": {
   "codemirror_mode": {
    "name": "ipython",
    "version": 3
   },
   "file_extension": ".py",
   "mimetype": "text/x-python",
   "name": "python",
   "nbconvert_exporter": "python",
   "pygments_lexer": "ipython3",
   "version": "3.8.0"
  }
 },
 "nbformat": 4,
 "nbformat_minor": 5
}
