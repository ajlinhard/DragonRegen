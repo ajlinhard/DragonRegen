{
 "cells": [
  {
   "cell_type": "code",
   "execution_count": 1,
   "id": "9af77b63",
   "metadata": {},
   "outputs": [
    {
     "name": "stdout",
     "output_type": "stream",
     "text": [
      "Project path: c:\\Users\\dalej\\Documents\\_Coding\\DragonRegen\n"
     ]
    }
   ],
   "source": [
    "import os\n",
    "import sys\n",
    "\n",
    "notebook_path = os.getcwd()\n",
    "project_path = os.path.abspath(os.path.join(notebook_path, '..','..'))\n",
    "print(f\"Project path: {project_path}\")\n",
    "# Add the project path to sys.path\n",
    "sys.path.append(project_path)"
   ]
  },
  {
   "cell_type": "code",
   "execution_count": 2,
   "id": "51025355",
   "metadata": {},
   "outputs": [
    {
     "name": "stdout",
     "output_type": "stream",
     "text": [
      "Connected to the database.\n"
     ]
    }
   ],
   "source": [
    "from src.MetaFort.SysLogs.DatabaseEngine import DatabaseEngine\n",
    "from src.DataCreator.SchemaGenerators.SchemaMSSQL import SchemaMSSQL\n",
    "\n",
    "# create database engine object and connection\n",
    "driver = \"ODBC Driver 17 for SQL Server\"\n",
    "server = 'localhost\\\\SQLEXPRESS' \n",
    "# server = \"Andrew=PC\\\\SQLEXPRESS\"\n",
    "database = \"MetaFort\"\n",
    "conn_str = (\n",
    "    f\"DRIVER={driver};\"\n",
    "    f\"SERVER={server};\"\n",
    "    f\"DATABASE={database};\"\n",
    "    f\"Trusted_Connection=yes;\"\n",
    ")\n",
    "db_engine = DatabaseEngine(conn_str)\n",
    "db_engine.connect()\n",
    "print(\"Connected to the database.\")"
   ]
  },
  {
   "cell_type": "code",
   "execution_count": 3,
   "id": "e172a058",
   "metadata": {},
   "outputs": [],
   "source": [
    "from src.AIGuardian.Actions.ActionEngine import ActionEngine\n",
    "from src.AIGuardian.Actions.DataStructCreate import DataStructCreate\n",
    "\n",
    "start_action = DataStructCreate()\n",
    "action_engine = ActionEngine(start_action, db_engine)"
   ]
  },
  {
   "cell_type": "code",
   "execution_count": 4,
   "id": "322c0245",
   "metadata": {},
   "outputs": [
    {
     "name": "stdout",
     "output_type": "stream",
     "text": [
      "{'action_name': 'DataStructCreate',\n",
      " 'action_version': '0.0.1',\n",
      " 'created_dt': datetime.datetime(2025, 5, 1, 16, 17, 54, 348373),\n",
      " 'description': 'The base action class. This should be inherited by all action '\n",
      "                'classes.',\n",
      " 'group_action_id': None,\n",
      " 'metadata': None,\n",
      " 'parent_action_id': None,\n",
      " 'sequence_number': 0,\n",
      " 'status': 'INITIALIZED',\n",
      " 'updated_dt': datetime.datetime(2025, 5, 1, 16, 17, 54, 348373)}\n"
     ]
    },
    {
     "ename": "Error",
     "evalue": "Error inserting data: No results.  Previous SQL was not a query.",
     "output_type": "error",
     "traceback": [
      "\u001b[1;31m---------------------------------------------------------------------------\u001b[0m",
      "\u001b[1;31mProgrammingError\u001b[0m                          Traceback (most recent call last)",
      "File \u001b[1;32mc:\\Users\\dalej\\Documents\\_Coding\\DragonRegen\\src\\MetaFort\\SysLogs\\DatabaseEngine.py:217\u001b[0m, in \u001b[0;36mDatabaseEngine.insert\u001b[1;34m(self, table, data, output_data)\u001b[0m\n\u001b[0;32m    215\u001b[0m \u001b[38;5;28;01mtry\u001b[39;00m:\n\u001b[0;32m    216\u001b[0m     \u001b[38;5;66;03m# self.cursor.execute(sql, tuple(data.values()))\u001b[39;00m\n\u001b[1;32m--> 217\u001b[0m     \u001b[38;5;28;43mself\u001b[39;49m\u001b[38;5;241;43m.\u001b[39;49m\u001b[43mexecute_w_logging\u001b[49m\u001b[43m(\u001b[49m\u001b[43msql\u001b[49m\u001b[43m,\u001b[49m\u001b[43m \u001b[49m\u001b[38;5;28;43mtuple\u001b[39;49m\u001b[43m(\u001b[49m\u001b[43mdata\u001b[49m\u001b[38;5;241;43m.\u001b[39;49m\u001b[43mvalues\u001b[49m\u001b[43m(\u001b[49m\u001b[43m)\u001b[49m\u001b[43m)\u001b[49m\u001b[43m,\u001b[49m\u001b[43m \u001b[49m\u001b[43mfetch_row_count\u001b[49m\u001b[38;5;241;43m=\u001b[39;49m\u001b[38;5;241;43m1\u001b[39;49m\u001b[43m)\u001b[49m\n\u001b[0;32m    218\u001b[0m     \u001b[38;5;28mself\u001b[39m\u001b[38;5;241m.\u001b[39mcommit()\n",
      "File \u001b[1;32mc:\\Users\\dalej\\Documents\\_Coding\\DragonRegen\\src\\MetaFort\\SysLogs\\DatabaseEngine.py:154\u001b[0m, in \u001b[0;36mDatabaseEngine.execute_w_logging\u001b[1;34m(self, sql, params, fetch_row_count)\u001b[0m\n\u001b[0;32m    153\u001b[0m     stop_time \u001b[38;5;241m=\u001b[39m datetime\u001b[38;5;241m.\u001b[39mdatetime\u001b[38;5;241m.\u001b[39mnow()\n\u001b[1;32m--> 154\u001b[0m     \u001b[38;5;28;01mraise\u001b[39;00m e\n\u001b[0;32m    155\u001b[0m \u001b[38;5;28;01mfinally\u001b[39;00m:\n",
      "File \u001b[1;32mc:\\Users\\dalej\\Documents\\_Coding\\DragonRegen\\src\\MetaFort\\SysLogs\\DatabaseEngine.py:142\u001b[0m, in \u001b[0;36mDatabaseEngine.execute_w_logging\u001b[1;34m(self, sql, params, fetch_row_count)\u001b[0m\n\u001b[0;32m    141\u001b[0m \u001b[38;5;28;01mif\u001b[39;00m fetch_row_count \u001b[38;5;129;01mis\u001b[39;00m \u001b[38;5;129;01mnot\u001b[39;00m \u001b[38;5;28;01mNone\u001b[39;00m:\n\u001b[1;32m--> 142\u001b[0m     rows \u001b[38;5;241m=\u001b[39m \u001b[38;5;28;43mself\u001b[39;49m\u001b[38;5;241;43m.\u001b[39;49m\u001b[43mcursor\u001b[49m\u001b[38;5;241;43m.\u001b[39;49m\u001b[43mfetchmany\u001b[49m\u001b[43m(\u001b[49m\u001b[43mfetch_row_count\u001b[49m\u001b[43m)\u001b[49m\n\u001b[0;32m    143\u001b[0m     stats[\u001b[38;5;124m'\u001b[39m\u001b[38;5;124mstatus\u001b[39m\u001b[38;5;124m'\u001b[39m] \u001b[38;5;241m=\u001b[39m \u001b[38;5;124m\"\u001b[39m\u001b[38;5;124mSUCCESS\u001b[39m\u001b[38;5;124m\"\u001b[39m\n",
      "\u001b[1;31mProgrammingError\u001b[0m: No results.  Previous SQL was not a query.",
      "\nDuring handling of the above exception, another exception occurred:\n",
      "\u001b[1;31mError\u001b[0m                                     Traceback (most recent call last)",
      "Cell \u001b[1;32mIn[4], line 19\u001b[0m\n\u001b[0;32m     17\u001b[0m pprint(data_row)\n\u001b[0;32m     18\u001b[0m \u001b[38;5;66;03m# Insert the action log into the database\u001b[39;00m\n\u001b[1;32m---> 19\u001b[0m action_id \u001b[38;5;241m=\u001b[39m \u001b[43mdb_engine\u001b[49m\u001b[38;5;241;43m.\u001b[39;49m\u001b[43minsert\u001b[49m\u001b[43m(\u001b[49m\u001b[43mtable\u001b[49m\u001b[38;5;241;43m=\u001b[39;49m\u001b[43mtable\u001b[49m\u001b[43m,\u001b[49m\u001b[43m \u001b[49m\u001b[43mdata\u001b[49m\u001b[38;5;241;43m=\u001b[39;49m\u001b[43mdata_row\u001b[49m\u001b[43m)\u001b[49m\n",
      "File \u001b[1;32mc:\\Users\\dalej\\Documents\\_Coding\\DragonRegen\\src\\MetaFort\\SysLogs\\DatabaseEngine.py:226\u001b[0m, in \u001b[0;36mDatabaseEngine.insert\u001b[1;34m(self, table, data, output_data)\u001b[0m\n\u001b[0;32m    224\u001b[0m \u001b[38;5;28;01mexcept\u001b[39;00m pyodbc\u001b[38;5;241m.\u001b[39mError \u001b[38;5;28;01mas\u001b[39;00m e:\n\u001b[0;32m    225\u001b[0m     \u001b[38;5;28mself\u001b[39m\u001b[38;5;241m.\u001b[39mrollback()\n\u001b[1;32m--> 226\u001b[0m     \u001b[38;5;28;01mraise\u001b[39;00m pyodbc\u001b[38;5;241m.\u001b[39mError(\u001b[38;5;124mf\u001b[39m\u001b[38;5;124m\"\u001b[39m\u001b[38;5;124mError inserting data: \u001b[39m\u001b[38;5;132;01m{\u001b[39;00me\u001b[38;5;132;01m}\u001b[39;00m\u001b[38;5;124m\"\u001b[39m)\n",
      "\u001b[1;31mError\u001b[0m: Error inserting data: No results.  Previous SQL was not a query."
     ]
    }
   ],
   "source": [
    "import datetime\n",
    "from pprint import pprint\n",
    "from src.MetaFort.AILoggingTables import AILoggingTables\n",
    "\n",
    "table = AILoggingTables.AI_ACTION_LOG_TABLE\n",
    "data_row = {\"action_name\": start_action.name,\n",
    "    \"action_version\": start_action.action_version,\n",
    "    \"parent_action_id\": start_action.parent_action.action_id if start_action.parent_action else None,\n",
    "    \"group_action_id\": start_action.group_action_id,\n",
    "    \"description\": start_action.description,\n",
    "    \"sequence_number\": start_action.sequence,\n",
    "    \"created_dt\": datetime.datetime.now(),\n",
    "    \"updated_dt\": datetime.datetime.now(),\n",
    "    \"status\": start_action.status,\n",
    "    \"metadata\": start_action.parameters,\n",
    "}\n",
    "pprint(data_row)\n",
    "# Insert the action log into the database\n",
    "action_id = db_engine.insert(table=table, data=data_row)"
   ]
  },
  {
   "cell_type": "code",
   "execution_count": 4,
   "id": "e5d7e4ac",
   "metadata": {},
   "outputs": [
    {
     "name": "stdout",
     "output_type": "stream",
     "text": [
      "Error inserting data: No results.  Previous SQL was not a query.\n",
      "kwargs: {'max_tokens': 2000, 'temperature': 0.1, 'stop_sequences': ['}'], 'pref_model_type': 'COMPLEX', 'ai_tools': [<function SchemaMSSQL.create_table at 0x00000263D8948AF0>], 'model': 'claude-3-sonnet-latest'}\n"
     ]
    },
    {
     "ename": "TypeError",
     "evalue": "Missing required arguments; Expected either ('max_tokens', 'messages' and 'model') or ('max_tokens', 'messages', 'model' and 'stream') arguments to be given",
     "output_type": "error",
     "traceback": [
      "\u001b[1;31m---------------------------------------------------------------------------\u001b[0m",
      "\u001b[1;31mTypeError\u001b[0m                                 Traceback (most recent call last)",
      "Cell \u001b[1;32mIn[4], line 2\u001b[0m\n\u001b[0;32m      1\u001b[0m prompt \u001b[38;5;241m=\u001b[39m \u001b[38;5;124m\"\"\"\u001b[39m\u001b[38;5;124mCreate a set of tables for a simple e-commerce application.\u001b[39m\u001b[38;5;124m\"\"\"\u001b[39m\n\u001b[1;32m----> 2\u001b[0m \u001b[43maction_engine\u001b[49m\u001b[38;5;241;43m.\u001b[39;49m\u001b[43mrun\u001b[49m\u001b[43m(\u001b[49m\u001b[43mprompt\u001b[49m\u001b[43m)\u001b[49m\n",
      "File \u001b[1;32mc:\\Users\\dalej\\Documents\\_Coding\\DragonRegen\\src\\AIGuardian\\Actions\\ActionEngine.py:71\u001b[0m, in \u001b[0;36mActionEngine.run\u001b[1;34m(self, user_prompt)\u001b[0m\n\u001b[0;32m     62\u001b[0m prompt \u001b[38;5;241m=\u001b[39m \u001b[38;5;28mself\u001b[39m\u001b[38;5;241m.\u001b[39maction\u001b[38;5;241m.\u001b[39mengineer_prompt(user_prompt)\n\u001b[0;32m     64\u001b[0m \u001b[38;5;66;03m# TODO: add a post-engineer prompt step to extract parameters\u001b[39;00m\n\u001b[0;32m     65\u001b[0m \u001b[38;5;66;03m# TODO: add an option to generate a think step-by-step option.\u001b[39;00m\n\u001b[0;32m     66\u001b[0m \n\u001b[1;32m   (...)\u001b[0m\n\u001b[0;32m     69\u001b[0m \u001b[38;5;66;03m# 2. Then use the validate_output method in the action class.\u001b[39;00m\n\u001b[0;32m     70\u001b[0m \u001b[38;5;66;03m# 3. If the output is valid, then log the action to the database.\u001b[39;00m\n\u001b[1;32m---> 71\u001b[0m result \u001b[38;5;241m=\u001b[39m \u001b[38;5;28;43mself\u001b[39;49m\u001b[38;5;241;43m.\u001b[39;49m\u001b[43mgenerate_action\u001b[49m\u001b[43m(\u001b[49m\u001b[43m)\u001b[49m\n\u001b[0;32m     73\u001b[0m \u001b[38;5;66;03m# Complete Action\u001b[39;00m\n\u001b[0;32m     74\u001b[0m \u001b[38;5;28mself\u001b[39m\u001b[38;5;241m.\u001b[39maction\u001b[38;5;241m.\u001b[39mcomplete_action()\n",
      "File \u001b[1;32mc:\\Users\\dalej\\Documents\\_Coding\\DragonRegen\\src\\AIGuardian\\Actions\\ActionEngine.py:99\u001b[0m, in \u001b[0;36mActionEngine.generate_action\u001b[1;34m(self, retry_cnt, **kwargs)\u001b[0m\n\u001b[0;32m     97\u001b[0m request_timestamp \u001b[38;5;241m=\u001b[39m datetime\u001b[38;5;241m.\u001b[39mdatetime\u001b[38;5;241m.\u001b[39mnow()\n\u001b[0;32m     98\u001b[0m \u001b[38;5;28mprint\u001b[39m(\u001b[38;5;124mf\u001b[39m\u001b[38;5;124m\"\u001b[39m\u001b[38;5;124mkwargs: \u001b[39m\u001b[38;5;132;01m{\u001b[39;00mkwargs\u001b[38;5;132;01m}\u001b[39;00m\u001b[38;5;124m\"\u001b[39m)\n\u001b[1;32m---> 99\u001b[0m message \u001b[38;5;241m=\u001b[39m \u001b[38;5;28;43mself\u001b[39;49m\u001b[38;5;241;43m.\u001b[39;49m\u001b[43mai_client\u001b[49m\u001b[38;5;241;43m.\u001b[39;49m\u001b[43mmessages\u001b[49m\u001b[38;5;241;43m.\u001b[39;49m\u001b[43mcreate\u001b[49m\u001b[43m(\u001b[49m\u001b[38;5;241;43m*\u001b[39;49m\u001b[38;5;241;43m*\u001b[39;49m\u001b[43mkwargs\u001b[49m\u001b[43m)\u001b[49m\n\u001b[0;32m    100\u001b[0m response_timestamp \u001b[38;5;241m=\u001b[39m datetime\u001b[38;5;241m.\u001b[39mdatetime\u001b[38;5;241m.\u001b[39mnow()\n\u001b[0;32m    101\u001b[0m \u001b[38;5;66;03m# Hygiene the output of the action\u001b[39;00m\n",
      "File \u001b[1;32mf:\\Python\\envs\\PySpark\\lib\\site-packages\\anthropic\\_utils\\_utils.py:274\u001b[0m, in \u001b[0;36mrequired_args.<locals>.inner.<locals>.wrapper\u001b[1;34m(*args, **kwargs)\u001b[0m\n\u001b[0;32m    272\u001b[0m         \u001b[38;5;28;01melse\u001b[39;00m:\n\u001b[0;32m    273\u001b[0m             msg \u001b[38;5;241m=\u001b[39m \u001b[38;5;124mf\u001b[39m\u001b[38;5;124m\"\u001b[39m\u001b[38;5;124mMissing required argument: \u001b[39m\u001b[38;5;132;01m{\u001b[39;00mquote(missing[\u001b[38;5;241m0\u001b[39m])\u001b[38;5;132;01m}\u001b[39;00m\u001b[38;5;124m\"\u001b[39m\n\u001b[1;32m--> 274\u001b[0m     \u001b[38;5;28;01mraise\u001b[39;00m \u001b[38;5;167;01mTypeError\u001b[39;00m(msg)\n\u001b[0;32m    275\u001b[0m \u001b[38;5;28;01mreturn\u001b[39;00m func(\u001b[38;5;241m*\u001b[39margs, \u001b[38;5;241m*\u001b[39m\u001b[38;5;241m*\u001b[39mkwargs)\n",
      "\u001b[1;31mTypeError\u001b[0m: Missing required arguments; Expected either ('max_tokens', 'messages' and 'model') or ('max_tokens', 'messages', 'model' and 'stream') arguments to be given"
     ]
    }
   ],
   "source": [
    "prompt = \"\"\"Create a set of tables for a simple e-commerce application.\"\"\"\n",
    "action_engine.run(prompt)"
   ]
  }
 ],
 "metadata": {
  "kernelspec": {
   "display_name": "PySpark",
   "language": "python",
   "name": "python3"
  },
  "language_info": {
   "codemirror_mode": {
    "name": "ipython",
    "version": 3
   },
   "file_extension": ".py",
   "mimetype": "text/x-python",
   "name": "python",
   "nbconvert_exporter": "python",
   "pygments_lexer": "ipython3",
   "version": "3.8.0"
  }
 },
 "nbformat": 4,
 "nbformat_minor": 5
}
