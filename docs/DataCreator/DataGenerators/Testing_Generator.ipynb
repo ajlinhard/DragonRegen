{
 "cells": [
  {
   "cell_type": "code",
   "execution_count": 1,
   "metadata": {},
   "outputs": [
    {
     "name": "stdout",
     "output_type": "stream",
     "text": [
      "c:\\Users\\dalej\\Documents\\DragonRegen\n"
     ]
    }
   ],
   "source": [
    "import os\n",
    "import sys\n",
    "\n",
    "notebook_dir = os.getcwd()\n",
    "project_root = os.path.abspath(os.path.join(notebook_dir, \"..\"))\n",
    "print(project_root)\n",
    "sys.path.insert(0, project_root)\n",
    "\n",
    "from src.DataCreator.DataSets.DataSetGenStandard import DataSetGenStandard\n",
    "from pyspark.sql import SparkSession\n",
    "from pyspark.sql.types import *\n",
    "\n",
    "spark = SparkSession.builder \\\n",
    "    .appName(\"Test Data Set Generation\") \\\n",
    "    .enableHiveSupport() \\\n",
    "    .master(\"local[*]\") \\\n",
    "    .getOrCreate()\n"
   ]
  },
  {
   "cell_type": "code",
   "execution_count": null,
   "metadata": {},
   "outputs": [
    {
     "name": "stdout",
     "output_type": "stream",
     "text": [
      "c:\\Users\\dalej\\Documents\\DragonRegen\\gitData\\SSA_FirstNames_Stats\n"
     ]
    }
   ],
   "source": [
    "from src.DataCreator.ConfigSys import ConfigSys\n",
    "\n",
    "s_file_path = os.path.abspath(os.path.join(ConfigSys().data_path(),\"SSA_FirstNames_Stats\"))\n",
    "print(s_file_path)\n",
    "df_first_names = spark.read.parquet(s_file_path+r'/*.parquet')\n",
    "df_first_names.show(10)"
   ]
  },
  {
   "cell_type": "code",
   "execution_count": null,
   "metadata": {},
   "outputs": [
    {
     "name": "stdout",
     "output_type": "stream",
     "text": [
      "999999999999.74\n",
      "1.8506404294809374e-08\n"
     ]
    }
   ],
   "source": [
    "dec = 0.99999999999974\n",
    "print(dec * 1_000_000_000_000)\\\n",
    "\n",
    "print(5/270_176_741.0)"
   ]
  },
  {
   "cell_type": "markdown",
   "metadata": {},
   "source": [
    "# Test Base Generation"
   ]
  },
  {
   "cell_type": "code",
   "execution_count": 2,
   "metadata": {},
   "outputs": [
    {
     "name": "stdout",
     "output_type": "stream",
     "text": [
      "==> Column Name:id\n",
      "no meta\n",
      "Checking subclass: Categorical and requirements: None\n",
      "Data Type: IntegerType()\n",
      "Checking subclass: StringBasic and requirements: None\n",
      "Checking subclass: ColBasic and requirements: <class 'src.DataCreator.ColGenerators.ColBasic.ColBasic'>\n",
      "==> Column Name:age\n",
      "no meta\n",
      "Checking subclass: Categorical and requirements: None\n",
      "Data Type: IntegerType()\n",
      "Checking subclass: StringBasic and requirements: None\n",
      "Checking subclass: ColBasic and requirements: <class 'src.DataCreator.ColGenerators.ColBasic.ColBasic'>\n",
      "==> Column Name:city\n",
      "no meta\n",
      "Checking subclass: Categorical and requirements: None\n",
      "Checking subclass: StringBasic and requirements: <class 'src.DataCreator.ColGenerators.StringBasic.StringBasic'>\n",
      "==> Column Name:gender\n",
      "Checking subclass: Categorical and requirements: <class 'src.DataCreator.ColGenerators.Categorical.Categorical'>\n",
      "Generating Rows: 100, with Columns: 4\n",
      "<class 'pyspark.sql.dataframe.DataFrame'>\n",
      "+---+---+--------------------+------+\n",
      "|id |age|city                |gender|\n",
      "+---+---+--------------------+------+\n",
      "|19 |43 |W                   |M     |\n",
      "|80 |45 |PNhv53BBqQ          |F     |\n",
      "|7  |72 |KucztHpGe8XVO9      |F     |\n",
      "|16 |36 |LgnMWu9HPdDeV46     |M     |\n",
      "|5  |75 |GDPhUdGOQ5          |M     |\n",
      "|2  |69 |f8ErMIrNlP0         |F     |\n",
      "|9  |49 |NQiFJ0PlM6          |M     |\n",
      "|38 |55 |WtZwtMcoNp9OE       |F     |\n",
      "|47 |48 |VMSv                |M     |\n",
      "|39 |20 |ecoZlo7IN3gc        |M     |\n",
      "|57 |5  |fLAJKINj1Bf2        |F     |\n",
      "|64 |61 |TQ                  |F     |\n",
      "|71 |100|pCG                 |F     |\n",
      "|80 |43 |Gu                  |M     |\n",
      "|17 |39 |mdtiGj              |M     |\n",
      "|6  |44 |GKovcxxSW2e77seozH  |M     |\n",
      "|53 |34 |BjEMNGdkKVMYJ       |F     |\n",
      "|72 |7  |b                   |M     |\n",
      "|62 |9  |0GhGRmI0K           |M     |\n",
      "|80 |84 |huBw0BH2Eod         |M     |\n",
      "|25 |41 |7x1xBCMqlY32x       |M     |\n",
      "|45 |74 |kUQQ                |M     |\n",
      "|29 |83 |AdtOG7A47z          |M     |\n",
      "|53 |21 |yaZGDnRJyMhXkhPQ    |F     |\n",
      "|13 |99 |NurI8Gp7XVZDNi      |F     |\n",
      "|36 |40 |IyhrKtmAoO          |F     |\n",
      "|28 |24 |xsUKjvbLDGdkMWDqngj |F     |\n",
      "|2  |88 |gd8b5BypXuwqg1fJXWW |F     |\n",
      "|53 |10 |MUgsbWZAzX3P        |M     |\n",
      "|57 |34 |D0KAlly             |F     |\n",
      "|85 |76 |NAXVKYObGRz4VN9dq   |M     |\n",
      "|76 |20 |ekSYNZ4geS2         |M     |\n",
      "|93 |26 |hb7nu               |M     |\n",
      "|60 |24 |TolClMgWliKmIVh1t   |M     |\n",
      "|29 |71 |MMc97INiwLmMW6d     |F     |\n",
      "|12 |96 |Qi6cZBZYU9oNco      |F     |\n",
      "|64 |74 |eg1E2rH3lmCEXycpME  |F     |\n",
      "|49 |84 |Iub1N               |F     |\n",
      "|54 |53 |zZcTbrkG7iuGdMI     |M     |\n",
      "|50 |40 |Vg0Ixc3             |M     |\n",
      "|95 |80 |oTqBnuyv            |M     |\n",
      "|58 |52 |0j                  |M     |\n",
      "|54 |100|LpsYzOm3gQtpr5      |F     |\n",
      "|64 |100|p2FRmEpmOJcN4       |M     |\n",
      "|2  |78 |kdYyZ7u             |M     |\n",
      "|69 |79 |zPph5I              |F     |\n",
      "|11 |2  |nSKfzZYhvoaF8o9UEydO|M     |\n",
      "|87 |60 |MCQNGkx5x33PEobim   |M     |\n",
      "|37 |61 |VPjFR               |M     |\n",
      "|24 |18 |1XlkuUUMWL7         |F     |\n",
      "+---+---+--------------------+------+\n",
      "only showing top 50 rows\n",
      "\n"
     ]
    }
   ],
   "source": [
    "# Create a DataSetGenStandard object\n",
    "testSchema = StructType([\n",
    "    StructField(\"id\", IntegerType(), True),\n",
    "    StructField(\"age\", IntegerType(), True),\n",
    "    StructField(\"city\", StringType(), True),\n",
    "    # StructField(\"gender\", StringType(), True, metadata={'column_value': ['M', 'F']}),\n",
    "    StructField(\"gender\", StringType(), True, {'column_values': ['M', 'F'], 'column_values_ratio': [0.5, 0.5]}),\n",
    "    # StructField(\"transaction_date\", DateType(), True),\n",
    "])\n",
    "\n",
    "data_gen = DataSetGenStandard(spark, testSchema, 100)\n",
    "# Generate the DataFrame\n",
    "# TODO: So things are a list some are DataFrames (First and Last Name)\n",
    "# TODO: maybe have the generator detect or see and attribute that is labeled as DataFrame/appended to the schema\n",
    "df = data_gen.generate_data()\n",
    "print(type(df))\n",
    "df.show(50, truncate=False)"
   ]
  },
  {
   "cell_type": "code",
   "execution_count": 6,
   "metadata": {},
   "outputs": [
    {
     "name": "stdout",
     "output_type": "stream",
     "text": [
      "==> Column Name:id\n",
      "Data Type: IntegerType()\n",
      "Checking subclass: StringBasic and requirements: None\n",
      "Checking subclass: ColBasic and requirements: <class 'DataCreator.ColGenerators.ColBasic.ColBasic'>\n",
      "==> Column Name:first_name\n",
      "Checking subclass: StringBasic and requirements: <class 'DataCreator.ColGenerators.StringFirstName.StringFirstName'>\n",
      "==> Column Name:last_name\n",
      "Checking subclass: StringBasic and requirements: <class 'DataCreator.ColGenerators.StringLastName.StringLastName'>\n",
      "==> Column Name:age\n",
      "Data Type: IntegerType()\n",
      "Checking subclass: StringBasic and requirements: None\n",
      "Checking subclass: ColBasic and requirements: <class 'DataCreator.ColGenerators.ColBasic.ColBasic'>\n",
      "==> Column Name:city\n",
      "Checking subclass: StringBasic and requirements: <class 'DataCreator.ColGenerators.StringBasic.StringBasic'>\n",
      "==> Column Name:gender\n",
      "Checking subclass: StringBasic and requirements: <class 'DataCreator.ColGenerators.StringBasic.StringBasic'>\n",
      "Generating Rows: 100, with Columns: 6\n",
      "<class 'pyspark.sql.dataframe.DataFrame'>\n",
      "+---+----------+-----------+---+--------------------+--------------------+\n",
      "|id |first_name|last_name  |age|city                |gender              |\n",
      "+---+----------+-----------+---+--------------------+--------------------+\n",
      "|88 |Marinus   |OTHER      |79 |e1                  |q8FL                |\n",
      "|33 |Marinus   |OTHER      |12 |ONOdG6FyqCMy        |YsGd8PujslmVA       |\n",
      "|97 |Marinus   |DERING     |85 |1CSnBoYlLuttN2N     |Fbm4W0w2            |\n",
      "|50 |Marinus   |OWENS      |21 |JHzcDqXhU3iNJEHXJzQ |o                   |\n",
      "|64 |Marinus   |BURTON     |82 |jTmsbtK             |bDyMHXRfCmTD5d9     |\n",
      "|35 |Marinus   |MARSHALL   |41 |5r                  |p7ZegdUj            |\n",
      "|33 |Marinus   |RAPHAEL    |82 |016k                |99qTJKZ2b           |\n",
      "|93 |Marinus   |ARCE       |9  |m51doeSQRugRL1ED4   |sWa8POqBP9pcn2      |\n",
      "|13 |Marinus   |OTHER      |43 |G1FApJmd1           |x                   |\n",
      "|78 |Marinus   |OTHER      |29 |ATKGyDQZ6N8Sj59     |MtJWZp4vi           |\n",
      "|77 |Marinus   |LIN        |3  |gyCoJoxZgmtGx8QMC   |mqduS4divkh         |\n",
      "|95 |Marinus   |MURRAY     |39 |xVai                |TuXwTKaRsna5        |\n",
      "|12 |Marinus   |OTHER      |99 |Usjk4               |2MB                 |\n",
      "|54 |Marinus   |BRITT      |74 |1NCbEBKjXJjmQmx1jVn |I3uW                |\n",
      "|40 |Marinus   |JORDAN     |37 |z02obfPCmxt         |z                   |\n",
      "|63 |Marinus   |MARTINES   |28 |19vbtItcHJYJmwL     |AanpKsb77LNO        |\n",
      "|63 |Marinus   |BONGIORNO  |94 |0gdp9GEb6L          |YJeAZAuT1rk0D9ne    |\n",
      "|16 |Marinus   |JEFFREYS   |38 |bJJZBXnS7U9         |hy                  |\n",
      "|25 |Marinus   |LOWE       |34 |R259ynPDQD          |cKZy6f7j0cG2QTnV89s |\n",
      "|100|Marinus   |ANDREWS    |51 |DpGMKKYxDcPhOhJSo   |FUgNRSiVC           |\n",
      "|87 |Marinus   |ROBBINS    |12 |PY                  |0pfSPS9FqR1VoDeR1Df |\n",
      "|5  |Marinus   |AREDONDO   |35 |Rj1gPHNr            |DoxZf0LQ31WPHsYA84  |\n",
      "|18 |Marinus   |CLAYPOOL   |45 |GSO                 |i6WZ                |\n",
      "|36 |Marinus   |GREENWALD  |43 |5                   |FHAYCCkXvivIe4PH    |\n",
      "|62 |Marinus   |SNAPP      |64 |IjItf25             |pE5AmWDema1MF9EZCeC |\n",
      "|99 |Marinus   |CARTER     |32 |Mh3Z2vZrIJX4la9S    |cr                  |\n",
      "|70 |Marinus   |AYERS      |41 |QqYWfpCQfKwN6cn7QATD|9m                  |\n",
      "|59 |Marinus   |WARREN     |19 |C                   |xhdXpc5BJzT86S      |\n",
      "|61 |Marinus   |KLEIN      |41 |EUNJSSxBmqnN4oMLLJ  |dY6FX9mH0WcCXZoT    |\n",
      "|77 |Marinus   |CARROLL    |44 |M                   |N                   |\n",
      "|9  |Marinus   |MCDUFFIE   |52 |MQtYy7M4zPx3dEVK    |XiwTpRIFcm8jougeH1  |\n",
      "|52 |Marinus   |LAM        |19 |VlZvdS              |jxF4nInwlT4Ya2UyaG  |\n",
      "|98 |Marinus   |WU         |18 |VJ0IiGxpIxC1Nd3     |4hNiZAK2cVfMo       |\n",
      "|88 |Marinus   |KERR       |99 |GQ2uA1rV4           |rr                  |\n",
      "|39 |Marinus   |RINALDI    |54 |rW1VoLjjhY          |PTq                 |\n",
      "|46 |Marinus   |GLORIA     |35 |i                   |J1CRZsjWcCPuQn      |\n",
      "|46 |Marinus   |HALL       |76 |VTzgr               |8McJFkW             |\n",
      "|65 |Marinus   |LOPEZ      |30 |bWFOb3RLEMdmIB4S2UB |olZuJ               |\n",
      "|15 |Marinus   |COHEN      |18 |v9tSYpLHdl1buwuHR5V |9nZNK               |\n",
      "|55 |Marinus   |WILSON     |20 |bQdPmZzYwhfDzJmx    |PwQ                 |\n",
      "|97 |Marinus   |GARINGER   |67 |TPGq                |YBTbC1VJs5ZL        |\n",
      "|74 |Marinus   |BAIN       |15 |Owyz                |9oesZXcSZG          |\n",
      "|32 |Marinus   |DONOVAN    |39 |SWjRK0VKv6X3        |1T4S4NLjws          |\n",
      "|52 |Marinus   |OTHER      |49 |tXXh0XN93A          |O                   |\n",
      "|94 |Marinus   |POOLE      |97 |AyXAKj              |pDB98Fhma2aWFGVQcgA8|\n",
      "|29 |Marinus   |MACHON     |3  |Wj                  |CTM                 |\n",
      "|88 |Marinus   |OTHER      |27 |esKjuAWXgzjN        |SF8I4gm2jw          |\n",
      "|9  |Marinus   |CASTELLANOS|33 |l3                  |0hN0s24Ez           |\n",
      "|11 |Marinus   |PORTILLO   |18 |zWBZn2v3di7w6yWbC6  |ApfK2D              |\n",
      "|48 |Marinus   |MARKS      |94 |JrFn62mBx2PQ6Vv9    |8OkT                |\n",
      "+---+----------+-----------+---+--------------------+--------------------+\n",
      "only showing top 50 rows\n",
      "\n"
     ]
    }
   ],
   "source": [
    "# Create a DataSetGenStandard object\n",
    "testSchema = StructType([\n",
    "    StructField(\"id\", IntegerType(), True),\n",
    "    StructField(\"first_name\", StringType(), True, {\"ColType\": \"FirstName\"}),\n",
    "    StructField(\"last_name\", StringType(), True, {\"ColType\": \"LastName\"}),\n",
    "    StructField(\"age\", IntegerType(), True),\n",
    "    StructField(\"city\", StringType(), True),\n",
    "    # StructField(\"gender\", StringType(), True, metadata={'column_value': ['M', 'F']}),\n",
    "    StructField(\"gender\", StringType(), True, {'column_value': ['M', 'F'], 'value_ratio': [0.5, 0.5]}),\n",
    "    # StructField(\"transaction_date\", DateType(), True),\n",
    "])\n",
    "\n",
    "data_gen = DataSetGenStandard(spark, testSchema, 100)\n",
    "# Generate the DataFrame\n",
    "# TODO: So things are a list some are DataFrames (First and Last Name)\n",
    "# TODO: maybe have the generator detect or see and attribute that is labeled as DataFrame/appended to the schema\n",
    "df = data_gen.generate_data()\n",
    "print(type(df))\n",
    "df.show(50, truncate=False)"
   ]
  },
  {
   "cell_type": "code",
   "execution_count": 4,
   "metadata": {},
   "outputs": [
    {
     "data": {
      "text/plain": [
       "100"
      ]
     },
     "execution_count": 4,
     "metadata": {},
     "output_type": "execute_result"
    }
   ],
   "source": [
    "df.count()"
   ]
  },
  {
   "cell_type": "markdown",
   "metadata": {},
   "source": [
    "# Test All major data types"
   ]
  },
  {
   "cell_type": "code",
   "execution_count": 4,
   "metadata": {},
   "outputs": [
    {
     "name": "stdout",
     "output_type": "stream",
     "text": [
      "Generating Rows: 1755, with Columns: 8\n",
      "The DataFrame count is: 1755\n",
      "+---+--------------------+---+------------------+---------+----------------+-------------------+-------------------+\n",
      "|id |name                |age|city              |salary   |transaction_date|insert_datetime    |update_datetime    |\n",
      "+---+--------------------+---+------------------+---------+----------------+-------------------+-------------------+\n",
      "|64 |ina4fwtlApEGhdXa    |75 |eq2wQrFMoGX8NZ6HTv|64.64829 |2023-11-21      |2022-08-03 19:45:21|2023-03-16 23:52:15|\n",
      "|30 |IHz                 |30 |11Vzj             |87.80684 |2021-02-24      |2022-06-04 19:33:58|2023-09-03 01:57:53|\n",
      "|46 |PKYz                |41 |RJUWm             |80.58904 |2022-01-18      |2023-07-04 22:06:36|2023-01-15 12:45:09|\n",
      "|51 |0briSy9UtY          |36 |XGapB3cuS9B       |24.221617|2021-03-25      |2022-03-13 10:41:58|2021-09-13 05:51:24|\n",
      "|10 |JmOaEQKTizvaxNy     |82 |I7Df9Jx73KhuxQS   |77.777504|2020-08-14      |2020-01-07 16:41:48|2020-01-30 07:54:23|\n",
      "|72 |eE4fs4PDdlr         |71 |XSo4kBN           |54.169518|2022-05-31      |2021-01-24 18:38:41|2023-03-02 13:35:24|\n",
      "|69 |M7i                 |28 |DutcSFrEH21FmHoB  |66.37854 |2022-07-21      |2022-03-27 09:41:47|2020-01-10 14:55:49|\n",
      "|18 |6IXlGANBfT4NVWzKTHRz|73 |8I9acB1rfnbI      |47.144905|2023-04-02      |2022-07-17 11:46:30|2023-05-06 13:06:06|\n",
      "|55 |7Qyorss6HtCduUM     |49 |rG4viC            |92.70449 |2023-09-19      |2023-03-10 19:19:30|2022-11-19 05:05:47|\n",
      "|55 |pqbW4Kdil           |58 |bXuRvlbf          |62.022358|2021-02-18      |2022-10-17 21:25:44|2021-07-01 08:51:35|\n",
      "+---+--------------------+---+------------------+---------+----------------+-------------------+-------------------+\n",
      "only showing top 10 rows\n",
      "\n"
     ]
    }
   ],
   "source": [
    "# Create a DataSetGenStandard object\n",
    "testSchema = StructType([\n",
    "    StructField(\"id\", IntegerType(), True),\n",
    "    StructField(\"name\", StringType(), True),\n",
    "    StructField(\"age\", IntegerType(), True),\n",
    "    StructField(\"city\", StringType(), True),\n",
    "    StructField(\"salary\", FloatType(), True),\n",
    "    StructField(\"transaction_date\", DateType(), True),\n",
    "    StructField(\"insert_datetime\", TimestampNTZType(), True),\n",
    "    StructField(\"update_datetime\", TimestampNTZType(), True),\n",
    "])\n",
    "\n",
    "data_gen_all_types = DataSetGenStandard(spark, testSchema, 1755)\n",
    "# Generate the DataFrame\n",
    "df_all_types = data_gen_all_types.generate_data()\n",
    "print('The DataFrame count is:', end=' ')\n",
    "print(df_all_types.count())\n",
    "df_all_types.show(10, truncate=False)"
   ]
  },
  {
   "cell_type": "code",
   "execution_count": 14,
   "metadata": {},
   "outputs": [
    {
     "name": "stdout",
     "output_type": "stream",
     "text": [
      "[('id', 'int'), ('name', 'string'), ('age', 'int'), ('city', 'string'), ('salary', 'float'), ('transaction_date', 'date'), ('insert_datetime', 'timestamp_ntz'), ('update_datetime', 'timestamp_ntz')]\n",
      "('id', 'int')\n",
      "<class 'list'>\n",
      "<class 'tuple'>\n"
     ]
    }
   ],
   "source": [
    "print(df_all_types.dtypes)\n",
    "print(df_all_types.dtypes[0])\n",
    "print(type(df_all_types.dtypes))\n",
    "print(type(df_all_types.dtypes[0]))\n"
   ]
  },
  {
   "cell_type": "markdown",
   "metadata": {},
   "source": [
    "# Test Replication Class Method"
   ]
  },
  {
   "cell_type": "code",
   "execution_count": 8,
   "metadata": {},
   "outputs": [
    {
     "name": "stdout",
     "output_type": "stream",
     "text": [
      "<class 'DataCreator.DataSets.DataSetGenStandard.DataSetGenStandard'>\n",
      "<class 'pyspark.sql.types.StructType'>\n",
      "StructType([StructField('id', IntegerType(), True), StructField('name', StringType(), True), StructField('age', IntegerType(), True), StructField('city', StringType(), True), StructField('salary', FloatType(), True), StructField('transaction_date', DateType(), True), StructField('insert_datetime', TimestampNTZType(), True), StructField('update_datetime', TimestampNTZType(), True)])\n"
     ]
    }
   ],
   "source": [
    "ds_replicate = DataSetGenStandard.replicate_data(spark, df_all_types)\n",
    "print(type(ds_replicate))\n",
    "print(type(ds_replicate.schema))\n",
    "print(ds_replicate.schema)"
   ]
  },
  {
   "cell_type": "code",
   "execution_count": 9,
   "metadata": {},
   "outputs": [
    {
     "name": "stdout",
     "output_type": "stream",
     "text": [
      "Generating Rows: 1000, with Columns: 8\n",
      "+---+------------------+---+------------------+---------+----------------+-------------------+-------------------+\n",
      "|id |name              |age|city              |salary   |transaction_date|insert_datetime    |update_datetime    |\n",
      "+---+------------------+---+------------------+---------+----------------+-------------------+-------------------+\n",
      "|33 |p7Bt11olw0        |96 |uApwxdUGersC1m    |61.674034|2020-12-28      |2020-08-01 02:56:09|2021-04-22 21:49:30|\n",
      "|70 |oBeo7fwuu         |6  |TXE17             |26.416477|2022-06-09      |2021-05-16 21:19:23|2022-11-02 02:24:04|\n",
      "|17 |FzXhamsqv8RXS     |59 |bVdgKpgxTMfivJWTuT|62.96358 |2023-05-23      |2023-02-05 15:46:37|2023-06-21 14:46:52|\n",
      "|92 |zzIJyXDDF9gGWBgicx|16 |EDdMMnR           |33.541084|2021-04-01      |2023-08-30 04:12:37|2023-02-24 13:08:22|\n",
      "|20 |MoZYfxEp2JRUvwEAB |91 |0xJeIul           |31.65818 |2023-04-21      |2021-01-16 17:52:41|2021-09-14 23:47:12|\n",
      "|65 |PYz6tLNJHsimvoqpg |62 |eWc               |67.09343 |2022-07-24      |2021-01-30 04:02:36|2022-09-17 18:16:35|\n",
      "|30 |gAGc              |74 |sPqvm             |81.74553 |2023-01-27      |2022-08-23 06:54:46|2020-12-09 11:19:01|\n",
      "|84 |UoouAHE9NNEffeD   |29 |HHhvc             |16.42443 |2021-06-20      |2020-09-11 08:00:38|2022-02-20 16:38:49|\n",
      "|4  |Nc7T              |79 |Zm7K2PS           |86.663795|2023-07-21      |2023-08-15 23:09:30|2023-07-10 12:12:53|\n",
      "|56 |QR                |42 |NGF6pdSjpyyyB     |73.73573 |2021-05-10      |2023-10-12 23:23:01|2021-04-14 13:51:28|\n",
      "+---+------------------+---+------------------+---------+----------------+-------------------+-------------------+\n",
      "only showing top 10 rows\n",
      "\n"
     ]
    }
   ],
   "source": [
    "df_rep = ds_replicate.generate_data()\n",
    "df_rep.show(10, truncate=False)"
   ]
  }
 ],
 "metadata": {
  "kernelspec": {
   "display_name": "PySpark",
   "language": "python",
   "name": "python3"
  },
  "language_info": {
   "codemirror_mode": {
    "name": "ipython",
    "version": 3
   },
   "file_extension": ".py",
   "mimetype": "text/x-python",
   "name": "python",
   "nbconvert_exporter": "python",
   "pygments_lexer": "ipython3",
   "version": "3.8.0"
  }
 },
 "nbformat": 4,
 "nbformat_minor": 2
}
