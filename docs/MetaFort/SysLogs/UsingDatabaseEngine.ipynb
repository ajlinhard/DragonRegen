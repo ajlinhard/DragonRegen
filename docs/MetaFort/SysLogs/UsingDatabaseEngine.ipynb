{
 "cells": [
  {
   "cell_type": "code",
   "execution_count": 1,
   "id": "5170e2b9",
   "metadata": {},
   "outputs": [
    {
     "name": "stdout",
     "output_type": "stream",
     "text": [
      "Project path: c:\\Users\\dalej\\Documents\\DragonRegen\n"
     ]
    }
   ],
   "source": [
    "import os\n",
    "import sys\n",
    "\n",
    "notebook_path = os.getcwd()\n",
    "project_path = os.path.abspath(os.path.join(notebook_path, \"..\", \"..\", \"..\"))\n",
    "print(f\"Project path: {project_path}\")\n",
    "# Add the project path to the system path\n",
    "sys.path.insert(0, project_path)"
   ]
  },
  {
   "cell_type": "code",
   "execution_count": 2,
   "id": "e6df2579",
   "metadata": {},
   "outputs": [
    {
     "name": "stdout",
     "output_type": "stream",
     "text": [
      "Connected to the database.\n"
     ]
    }
   ],
   "source": [
    "from src.MetaFort.SysLogs.DatabaseEngine import DatabaseEngine\n",
    "from src.DataCreator.SchemaGenerators.SchemaMSSQL import SchemaMSSQL\n",
    "\n",
    "# create database engine object and connection\n",
    "driver = \"ODBC Driver 17 for SQL Server\"\n",
    "server = 'localhost\\\\SQLEXPRESS01' \n",
    "# server = \"Andrew=PC\\\\SQLEXPRESS\"\n",
    "database = \"MetaFort\"\n",
    "conn_str = (\n",
    "    f\"DRIVER={driver};\"\n",
    "    f\"SERVER={server};\"\n",
    "    f\"DATABASE={database};\"\n",
    "    f\"Trusted_Connection=yes;\"\n",
    ")\n",
    "db_engine = DatabaseEngine(conn_str)\n",
    "db_engine.connect()\n",
    "print(\"Connected to the database.\")"
   ]
  },
  {
   "cell_type": "markdown",
   "id": "96e26e3e",
   "metadata": {},
   "source": [
    "### Schema Generation Sys Table Setup"
   ]
  },
  {
   "cell_type": "code",
   "execution_count": 3,
   "id": "2c6fe00d",
   "metadata": {},
   "outputs": [
    {
     "name": "stdout",
     "output_type": "stream",
     "text": [
      "{'dyn_sql_execution_log': '    [execution_id] INT NOT NULL IDENTITY(1,1),\\n    [sql_command] NVARCHAR(MAX) NOT NULL,\\n    [sql_params] NVARCHAR(MAX) NOT NULL,\\n    [start_time] NVARCHAR(MAX) NOT NULL,\\n    [stop_time] NVARCHAR(MAX) NOT NULL,\\n    [status] NVARCHAR(MAX) NOT NULL,\\n    [user_name] NVARCHAR(MAX) NOT NULL,\\n    [process_id] NVARCHAR(MAX) NOT NULL,\\n    [process_login_time] DATETIME2 NOT NULL,\\n    [error_message] NVARCHAR(MAX) NULL,\\n    [error_timestamp] NVARCHAR(MAX) NULL,\\n    [metadata] NVARCHAR(MAX) NULL'}\n"
     ]
    }
   ],
   "source": [
    "# Initialize logging table for dynamic sql executions\n",
    "s_sql_col = SchemaMSSQL.generate_schema_sql(DatabaseEngine.d_log_tables)\n",
    "print(s_sql_col)"
   ]
  },
  {
   "cell_type": "code",
   "execution_count": 4,
   "id": "a9ced1db",
   "metadata": {},
   "outputs": [
    {
     "name": "stdout",
     "output_type": "stream",
     "text": [
      "Created table for dynamic sql executions\n"
     ]
    }
   ],
   "source": [
    "# execute with logging using the database engine\n",
    "db_engine.create_table('dyn_sql_execution_log', s_sql_col['dyn_sql_execution_log'])\n",
    "print(\"Created table for dynamic sql executions\")"
   ]
  },
  {
   "cell_type": "markdown",
   "id": "951be583",
   "metadata": {},
   "source": [
    "# Create the AI Logging Tables"
   ]
  },
  {
   "cell_type": "code",
   "execution_count": 5,
   "id": "2700f01a",
   "metadata": {},
   "outputs": [
    {
     "name": "stdout",
     "output_type": "stream",
     "text": [
      "{'ai_actions_log': '    [action_id] INT NOT NULL IDENTITY(1,1),\\n'\n",
      "                   '    [action_name] NVARCHAR(MAX) NOT NULL,\\n'\n",
      "                   '    [action_version] NVARCHAR(MAX) NOT NULL,\\n'\n",
      "                   '    [parent_action_id] INT NULL,\\n'\n",
      "                   '    [group_action_id] INT NULL,\\n'\n",
      "                   '    [description] NVARCHAR(MAX) NULL,\\n'\n",
      "                   '    [sequence_number] INT NOT NULL,\\n'\n",
      "                   '    [created_dt] DATETIME2 NOT NULL,\\n'\n",
      "                   '    [updated_dt] DATETIME2 NOT NULL,\\n'\n",
      "                   '    [step_name] NVARCHAR(MAX) NOT NULL,\\n'\n",
      "                   '    [step_status] NVARCHAR(MAX) NOT NULL,\\n'\n",
      "                   '    [error_code] NVARCHAR(MAX) NULL,\\n'\n",
      "                   '    [error_message] NVARCHAR(MAX) NULL,\\n'\n",
      "                   '    [error_timestamp] DATETIME2 NULL,\\n'\n",
      "                   '    [metadata] NVARCHAR(MAX) NULL',\n",
      " 'ai_metrics_log': '    [metric_id] INT NOT NULL IDENTITY(1,1),\\n'\n",
      "                   '    [action_id] INT NULL,\\n'\n",
      "                   '    [request_id] INT NULL,\\n'\n",
      "                   '    [metric_type] NVARCHAR(MAX) NOT NULL,\\n'\n",
      "                   '    [metric_name] NVARCHAR(MAX) NOT NULL,\\n'\n",
      "                   '    [value] FLOAT NOT NULL,\\n'\n",
      "                   '    [unit] NVARCHAR(MAX) NULL,\\n'\n",
      "                   '    [timestamp] DATETIME2 NOT NULL,\\n'\n",
      "                   '    [dimensions] NVARCHAR(MAX) NULL',\n",
      " 'ai_requests_log': '    [request_id] INT NOT NULL IDENTITY(1,1),\\n'\n",
      "                    '    [action_id] INT NOT NULL,\\n'\n",
      "                    '    [insert_dt] DATETIME2 NOT NULL,\\n'\n",
      "                    '    [status] NVARCHAR(MAX) NULL,\\n'\n",
      "                    '    [ai_service] NVARCHAR(MAX) NOT NULL,\\n'\n",
      "                    '    [model] NVARCHAR(MAX) NOT NULL,\\n'\n",
      "                    '    [request_parameters] NVARCHAR(MAX) NULL,\\n'\n",
      "                    '    [user_prompt] NVARCHAR(MAX) NULL,\\n'\n",
      "                    '    [engineered_prompt] NVARCHAR(MAX) NULL,\\n'\n",
      "                    '    [api_request_id] NVARCHAR(MAX) NULL,\\n'\n",
      "                    '    [raw_response] NVARCHAR(MAX) NULL,\\n'\n",
      "                    '    [parsed_results] NVARCHAR(MAX) NULL,\\n'\n",
      "                    '    [response_metadate] NVARCHAR(MAX) NULL,\\n'\n",
      "                    '    [input_tokens] INT NULL,\\n'\n",
      "                    '    [output_tokens] INT NULL,\\n'\n",
      "                    '    [request_timestamp] DATETIME2 NULL,\\n'\n",
      "                    '    [response_timestamp] DATETIME2 NULL,\\n'\n",
      "                    '    [duration_ms] INT NULL,\\n'\n",
      "                    '    [error_code] NVARCHAR(MAX) NULL,\\n'\n",
      "                    '    [error_message] NVARCHAR(MAX) NULL,\\n'\n",
      "                    '    [error_timestamp] DATETIME2 NULL,\\n'\n",
      "                    '    [retry_cnt] INT NULL,\\n'\n",
      "                    '    [RAG_Embeding_Model] NVARCHAR(MAX) NULL,\\n'\n",
      "                    '    [RAG_IDs] NVARCHAR(MAX) NULL,\\n'\n",
      "                    '    [RAG_Versions] NVARCHAR(MAX) NULL,\\n'\n",
      "                    '    [metadata] NVARCHAR(MAX) NULL'}\n"
     ]
    }
   ],
   "source": [
    "from src.MetaFort.AILoggingTables import AILoggingTables\n",
    "from pprint import pprint\n",
    "\n",
    "s_sql_col = SchemaMSSQL.generate_schema_sql(AILoggingTables.d_system_tables)\n",
    "pprint(s_sql_col)\n"
   ]
  },
  {
   "cell_type": "code",
   "execution_count": 6,
   "id": "66488133",
   "metadata": {},
   "outputs": [
    {
     "name": "stdout",
     "output_type": "stream",
     "text": [
      "===> Creating table ai_actions_log with schema: \n",
      "    [action_id] INT NOT NULL IDENTITY(1,1),\n",
      "    [action_name] NVARCHAR(MAX) NOT NULL,\n",
      "    [action_version] NVARCHAR(MAX) NOT NULL,\n",
      "    [parent_action_id] INT NULL,\n",
      "    [group_action_id] INT NULL,\n",
      "    [description] NVARCHAR(MAX) NULL,\n",
      "    [sequence_number] INT NOT NULL,\n",
      "    [created_dt] DATETIME2 NOT NULL,\n",
      "    [updated_dt] DATETIME2 NOT NULL,\n",
      "    [step_name] NVARCHAR(MAX) NOT NULL,\n",
      "    [step_status] NVARCHAR(MAX) NOT NULL,\n",
      "    [error_code] NVARCHAR(MAX) NULL,\n",
      "    [error_message] NVARCHAR(MAX) NULL,\n",
      "    [error_timestamp] DATETIME2 NULL,\n",
      "    [metadata] NVARCHAR(MAX) NULL\n",
      "===> Creating table ai_requests_log with schema: \n",
      "    [request_id] INT NOT NULL IDENTITY(1,1),\n",
      "    [action_id] INT NOT NULL,\n",
      "    [insert_dt] DATETIME2 NOT NULL,\n",
      "    [status] NVARCHAR(MAX) NULL,\n",
      "    [ai_service] NVARCHAR(MAX) NOT NULL,\n",
      "    [model] NVARCHAR(MAX) NOT NULL,\n",
      "    [request_parameters] NVARCHAR(MAX) NULL,\n",
      "    [user_prompt] NVARCHAR(MAX) NULL,\n",
      "    [engineered_prompt] NVARCHAR(MAX) NULL,\n",
      "    [api_request_id] NVARCHAR(MAX) NULL,\n",
      "    [raw_response] NVARCHAR(MAX) NULL,\n",
      "    [parsed_results] NVARCHAR(MAX) NULL,\n",
      "    [response_metadate] NVARCHAR(MAX) NULL,\n",
      "    [input_tokens] INT NULL,\n",
      "    [output_tokens] INT NULL,\n",
      "    [request_timestamp] DATETIME2 NULL,\n",
      "    [response_timestamp] DATETIME2 NULL,\n",
      "    [duration_ms] INT NULL,\n",
      "    [error_code] NVARCHAR(MAX) NULL,\n",
      "    [error_message] NVARCHAR(MAX) NULL,\n",
      "    [error_timestamp] DATETIME2 NULL,\n",
      "    [retry_cnt] INT NULL,\n",
      "    [RAG_Embeding_Model] NVARCHAR(MAX) NULL,\n",
      "    [RAG_IDs] NVARCHAR(MAX) NULL,\n",
      "    [RAG_Versions] NVARCHAR(MAX) NULL,\n",
      "    [metadata] NVARCHAR(MAX) NULL\n",
      "===> Creating table ai_metrics_log with schema: \n",
      "    [metric_id] INT NOT NULL IDENTITY(1,1),\n",
      "    [action_id] INT NULL,\n",
      "    [request_id] INT NULL,\n",
      "    [metric_type] NVARCHAR(MAX) NOT NULL,\n",
      "    [metric_name] NVARCHAR(MAX) NOT NULL,\n",
      "    [value] FLOAT NOT NULL,\n",
      "    [unit] NVARCHAR(MAX) NULL,\n",
      "    [timestamp] DATETIME2 NOT NULL,\n",
      "    [dimensions] NVARCHAR(MAX) NULL\n"
     ]
    }
   ],
   "source": [
    "# execute with logging using the database engine\n",
    "for table_name, table_schema in s_sql_col.items():\n",
    "    print(f\"===> Creating table {table_name} with schema: \\n{table_schema}\")\n",
    "    db_engine.create_table(table_name, table_schema)"
   ]
  },
  {
   "cell_type": "code",
   "execution_count": 7,
   "id": "243af10e",
   "metadata": {},
   "outputs": [],
   "source": [
    "db_engine.commit()"
   ]
  }
 ],
 "metadata": {
  "kernelspec": {
   "display_name": "PySpark",
   "language": "python",
   "name": "python3"
  },
  "language_info": {
   "codemirror_mode": {
    "name": "ipython",
    "version": 3
   },
   "file_extension": ".py",
   "mimetype": "text/x-python",
   "name": "python",
   "nbconvert_exporter": "python",
   "pygments_lexer": "ipython3",
   "version": "3.11.0"
  }
 },
 "nbformat": 4,
 "nbformat_minor": 5
}
