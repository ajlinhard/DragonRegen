{
 "cells": [
  {
   "cell_type": "code",
   "execution_count": 1,
   "id": "5170e2b9",
   "metadata": {},
   "outputs": [
    {
     "name": "stdout",
     "output_type": "stream",
     "text": [
      "Project path: c:\\Users\\dalej\\Documents\\_Coding\\DragonRegen\n"
     ]
    }
   ],
   "source": [
    "import os\n",
    "import sys\n",
    "\n",
    "notebook_path = os.getcwd()\n",
    "project_path = os.path.abspath(os.path.join(notebook_path, \"..\", \"..\", \"..\"))\n",
    "print(f\"Project path: {project_path}\")\n",
    "# Add the project path to the system path\n",
    "sys.path.insert(0, project_path)"
   ]
  },
  {
   "cell_type": "code",
   "execution_count": 2,
   "id": "e6df2579",
   "metadata": {},
   "outputs": [
    {
     "name": "stdout",
     "output_type": "stream",
     "text": [
      "Connected to the database.\n"
     ]
    }
   ],
   "source": [
    "from src.MetaFort.SysLogs.DatabaseEngine import DatabaseEngine\n",
    "from src.DataCreator.SchemaGenerators.SchemaMSSQL import SchemaMSSQL\n",
    "\n",
    "# create database engine object and connection\n",
    "driver = \"ODBC Driver 17 for SQL Server\"\n",
    "server = 'localhost\\\\SQLEXPRESS' \n",
    "# server = \"Andrew=PC\\\\SQLEXPRESS\"\n",
    "database = \"MetaFort\"\n",
    "conn_str = (\n",
    "    f\"DRIVER={driver};\"\n",
    "    f\"SERVER={server};\"\n",
    "    f\"DATABASE={database};\"\n",
    "    f\"Trusted_Connection=yes;\"\n",
    ")\n",
    "db_engine = DatabaseEngine(conn_str)\n",
    "db_engine.connect()\n",
    "print(\"Connected to the database.\")"
   ]
  },
  {
   "cell_type": "code",
   "execution_count": 3,
   "id": "2c6fe00d",
   "metadata": {},
   "outputs": [
    {
     "name": "stdout",
     "output_type": "stream",
     "text": [
      "{'dyn_sql_execution_log': '    [execution_id] INT NOT NULL IDENTITY(1,1),\\n    [sql_command] NVARCHAR(MAX) NOT NULL,\\n    [sql_params] NVARCHAR(MAX) NOT NULL,\\n    [start_time] NVARCHAR(MAX) NOT NULL,\\n    [stop_time] NVARCHAR(MAX) NOT NULL,\\n    [status] NVARCHAR(MAX) NOT NULL,\\n    [user_name] NVARCHAR(MAX) NOT NULL,\\n    [process_id] NVARCHAR(MAX) NOT NULL,\\n    [process_login_time] DATETIME2 NOT NULL,\\n    [error_message] NVARCHAR(MAX) NULL,\\n    [error_timestamp] NVARCHAR(MAX) NULL,\\n    [metadata] NVARCHAR(MAX) NULL'}\n"
     ]
    }
   ],
   "source": [
    "# Initialize logging table for dynamic sql executions\n",
    "s_sql_col = SchemaMSSQL.generate_schema_sql(DatabaseEngine.d_log_tables)\n",
    "print(s_sql_col)"
   ]
  },
  {
   "cell_type": "code",
   "execution_count": 4,
   "id": "a9ced1db",
   "metadata": {},
   "outputs": [
    {
     "name": "stdout",
     "output_type": "stream",
     "text": [
      "Created table for dynamic sql executions\n"
     ]
    }
   ],
   "source": [
    "# execute with logging using the database engine\n",
    "db_engine.create_table('dyn_sql_execution_log', s_sql_col['dyn_sql_execution_log'])\n",
    "print(\"Created table for dynamic sql executions\")"
   ]
  }
 ],
 "metadata": {
  "kernelspec": {
   "display_name": "PySpark",
   "language": "python",
   "name": "python3"
  },
  "language_info": {
   "codemirror_mode": {
    "name": "ipython",
    "version": 3
   },
   "file_extension": ".py",
   "mimetype": "text/x-python",
   "name": "python",
   "nbconvert_exporter": "python",
   "pygments_lexer": "ipython3",
   "version": "3.8.0"
  }
 },
 "nbformat": 4,
 "nbformat_minor": 5
}
