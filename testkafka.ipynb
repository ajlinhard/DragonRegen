{
 "cells": [
  {
   "cell_type": "code",
   "execution_count": 1,
   "metadata": {},
   "outputs": [],
   "source": [
    "import uuid\n",
    "from datetime import datetime\n",
    "\n",
    "def get_data():\n",
    "    import requests\n",
    "\n",
    "    res = requests.get(\"https://randomuser.me/api/\")\n",
    "    res = res.json()\n",
    "    res = res['results'][0]\n",
    "\n",
    "    return res\n",
    "    # print(json.dumps(res, indent=3))\n",
    "\n",
    "def format_data(res):\n",
    "    data = {}\n",
    "    location = res['location']\n",
    "    data['id'] = uuid.uuid4().int\n",
    "    data['first_name'] = res['name']['first']\n",
    "    data['last_name'] = res['name']['last']\n",
    "    data['gender'] = res['gender']\n",
    "    data['address'] = f\"{str(location['street']['number'])} {location['street']['name']}, \" \\\n",
    "                      f\"{location['city']}, {location['state']}, {location['country']}\"\n",
    "    data['post_code'] = location['postcode']\n",
    "    data['email'] = res['email']\n",
    "    data['username'] = res['login']['username']\n",
    "    data['dob'] = res['dob']['date']\n",
    "    data['registered_date'] = res['registered']['date']\n",
    "    data['phone'] = res['phone']\n",
    "    data['picture'] = res['picture']['medium']\n",
    "    return data\n"
   ]
  },
  {
   "cell_type": "code",
   "execution_count": 2,
   "metadata": {},
   "outputs": [
    {
     "name": "stdout",
     "output_type": "stream",
     "text": [
      "{'id': 247817924588245923341384306894570166991, 'first_name': 'Ida', 'last_name': 'Nguyen', 'gender': 'female', 'address': '8085 Pockrus Page Rd, Roseville, California, United States', 'post_code': 36146, 'email': 'ida.nguyen@example.com', 'username': 'redlion718', 'dob': '1982-08-07T00:02:02.743Z', 'registered_date': '2009-05-16T23:40:21.802Z', 'phone': '(477) 278-5931', 'picture': 'https://randomuser.me/api/portraits/med/women/10.jpg'}\n"
     ]
    }
   ],
   "source": [
    "import json\n",
    "from kafka import KafkaProducer\n",
    "import time\n",
    "import logging\n",
    "\n",
    "# producer = KafkaProducer(bootstrap_servers=['broker:29092'], max_block_ms=5000)\n",
    "producer = KafkaProducer(bootstrap_servers=['localhost:9092'], max_block_ms=5000)\n",
    "curr_time = time.time()\n",
    "\n",
    "try:\n",
    "    res = get_data()\n",
    "    res = format_data(res)\n",
    "    print(res)\n",
    "\n",
    "    producer.send('users_created', json.dumps(res).encode('utf-8'))\n",
    "except Exception as e:\n",
    "        logging.error(f'An error occured: {e}')"
   ]
  }
 ],
 "metadata": {
  "kernelspec": {
   "display_name": "Kafka_Spark",
   "language": "python",
   "name": "python3"
  },
  "language_info": {
   "codemirror_mode": {
    "name": "ipython",
    "version": 3
   },
   "file_extension": ".py",
   "mimetype": "text/x-python",
   "name": "python",
   "nbconvert_exporter": "python",
   "pygments_lexer": "ipython3",
   "version": "3.11.10"
  }
 },
 "nbformat": 4,
 "nbformat_minor": 2
}
