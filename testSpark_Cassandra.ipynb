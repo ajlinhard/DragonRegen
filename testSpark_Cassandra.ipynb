{
 "cells": [
  {
   "cell_type": "code",
   "execution_count": null,
   "metadata": {},
   "outputs": [],
   "source": [
    "import logging\n",
    "\n",
    "from cassandra.cluster import Cluster\n",
    "from pyspark.sql import SparkSession\n",
    "from pyspark.sql.functions import from_json, col\n",
    "from pyspark.sql.types import StructType, StructField, StringType\n",
    "\n",
    "s_conn = None\n",
    "s_conn = SparkSession.builder \\\n",
    "    .appName('SparkDataStreaming') \\\n",
    "    .config('spark.jars.packages', \"com.datastax.spark:spark-cassandra-connector_2.12:3.4.1,\"\n",
    "                                    \"org.apache.spark:spark-sql-kafka-0-10_2.12:3.4.1\") \\\n",
    "    .config('spark.cassandra.connection.host', 'localhost') \\\n",
    "    .getOrCreate()\n",
    "\n",
    "s_conn.sparkContext.setLogLevel(\"ERROR\")"
   ]
  },
  {
   "cell_type": "code",
   "execution_count": 2,
   "metadata": {},
   "outputs": [
    {
     "name": "stdout",
     "output_type": "stream",
     "text": [
      "<pyspark.sql.session.SparkSession object at 0x000001907F353B10>\n"
     ]
    }
   ],
   "source": [
    "print(s_conn)\n",
    "spark_conn = s_conn"
   ]
  },
  {
   "cell_type": "code",
   "execution_count": 3,
   "metadata": {},
   "outputs": [],
   "source": [
    "spark_df = spark_conn.readStream \\\n",
    "    .format('kafka') \\\n",
    "    .option('kafka.bootstrap.servers', 'localhost:9092') \\\n",
    "    .option('subscribe', 'users_created') \\\n",
    "    .option('startingOffsets', 'earliest') \\\n",
    "    .load()\n",
    "\n",
    "# print(spark_df)"
   ]
  },
  {
   "cell_type": "code",
   "execution_count": 4,
   "metadata": {},
   "outputs": [
    {
     "name": "stdout",
     "output_type": "stream",
     "text": [
      "DataFrame[id: string, first_name: string, last_name: string, gender: string, address: string, post_code: string, email: string, username: string, registered_date: string, phone: string, picture: string]\n"
     ]
    }
   ],
   "source": [
    "schema = StructType([\n",
    "    StructField(\"id\", StringType(), False),\n",
    "    StructField(\"first_name\", StringType(), False),\n",
    "    StructField(\"last_name\", StringType(), False),\n",
    "    StructField(\"gender\", StringType(), False),\n",
    "    StructField(\"address\", StringType(), False),\n",
    "    StructField(\"post_code\", StringType(), False),\n",
    "    StructField(\"email\", StringType(), False),\n",
    "    StructField(\"username\", StringType(), False),\n",
    "    StructField(\"registered_date\", StringType(), False),\n",
    "    StructField(\"phone\", StringType(), False),\n",
    "    StructField(\"picture\", StringType(), False)\n",
    "])\n",
    "\n",
    "sel = spark_df.selectExpr(\"CAST(value AS STRING)\") \\\n",
    "    .select(from_json(col('value'), schema).alias('data')).select(\"data.*\")\n",
    "print(sel)"
   ]
  },
  {
   "cell_type": "code",
   "execution_count": 5,
   "metadata": {},
   "outputs": [],
   "source": [
    "try:\n",
    "    # connecting to the cassandra cluster\n",
    "    cluster = Cluster(['localhost'])\n",
    "\n",
    "    cas_session = cluster.connect()\n",
    "except Exception as e:\n",
    "    logging.error(f\"Could not create cassandra connection due to {e}\")"
   ]
  },
  {
   "cell_type": "code",
   "execution_count": 6,
   "metadata": {},
   "outputs": [
    {
     "name": "stdout",
     "output_type": "stream",
     "text": [
      "Keyspace created successfully!\n"
     ]
    }
   ],
   "source": [
    "cas_session.execute(\"\"\"\n",
    "    CREATE KEYSPACE IF NOT EXISTS spark_streams\n",
    "    WITH replication = {'class': 'SimpleStrategy', 'replication_factor': '1'};\n",
    "\"\"\")\n",
    "\n",
    "print(\"Keyspace created successfully!\")"
   ]
  },
  {
   "cell_type": "code",
   "execution_count": 9,
   "metadata": {},
   "outputs": [
    {
     "name": "stdout",
     "output_type": "stream",
     "text": [
      "Table created successfully!\n"
     ]
    }
   ],
   "source": [
    "cas_session.execute(\"\"\"\n",
    "    CREATE TABLE IF NOT EXISTS spark_streams.created_users2 (\n",
    "        id TEXT PRIMARY KEY,\n",
    "        first_name TEXT,\n",
    "        last_name TEXT,\n",
    "        gender TEXT,\n",
    "        address TEXT,\n",
    "        post_code TEXT,\n",
    "        email TEXT,\n",
    "        username TEXT,\n",
    "        registered_date TEXT,\n",
    "        phone TEXT,\n",
    "        picture TEXT);\n",
    "\"\"\")\n",
    "\n",
    "print(\"Table created successfully!\")"
   ]
  },
  {
   "cell_type": "code",
   "execution_count": null,
   "metadata": {},
   "outputs": [],
   "source": [
    "streaming_query = (sel.writeStream.format(\"org.apache.spark.sql.cassandra\")\n",
    "                               .option('checkpointLocation', '/tmp/checkpoint')\n",
    "                               .option('keyspace', 'spark_streams')\n",
    "                               .option('table', 'created_users2')\n",
    "                               .start())\n",
    "\n",
    "streaming_query.awaitTermination()"
   ]
  }
 ],
 "metadata": {
  "kernelspec": {
   "display_name": "Kafka_Spark",
   "language": "python",
   "name": "python3"
  },
  "language_info": {
   "codemirror_mode": {
    "name": "ipython",
    "version": 3
   },
   "file_extension": ".py",
   "mimetype": "text/x-python",
   "name": "python",
   "nbconvert_exporter": "python",
   "pygments_lexer": "ipython3",
   "version": "3.11.10"
  }
 },
 "nbformat": 4,
 "nbformat_minor": 2
}
